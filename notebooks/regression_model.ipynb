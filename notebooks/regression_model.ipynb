{
 "cells": [
  {
   "cell_type": "markdown",
   "id": "ee3b3be3",
   "metadata": {},
   "source": [
    "## Modelling\n",
    "\n",
    "This note book explains the different steps in the machine learning model.For the trigger model we used a Regression model. First the model is trained on the full dataset to obtain the optimal features followed by hyper parameter tunning and model performance estimate using Nested Cross Validation.\n",
    "\n",
    "* Nested Cross Validation for\n",
    "    * Feature selection \n",
    "    * hyper parameter tunning \n",
    "* Performance metrics\n",
    "* Baseline Models\n",
    " \n",
    "### Regression \n",
    "At the end of this section we will obtain  the optimal Regression models and the performance estimates. Two models are implemented: Random Forest, XGBoost.First, the model is trained on the full dataset to obtain the optimal features followed by a model that obtains the performance estimate using Nested Cross Validation."
   ]
  },
  {
   "cell_type": "code",
   "execution_count": 20,
   "id": "549be22b",
   "metadata": {},
   "outputs": [
    {
     "name": "stdout",
     "output_type": "stream",
     "text": [
      "The autoreload extension is already loaded. To reload it, use:\n",
      "  %reload_ext autoreload\n"
     ]
    }
   ],
   "source": [
    "%load_ext autoreload\n",
    "%autoreload 2\n",
    "\n",
    "import numpy as np\n",
    "import random\n",
    "from imblearn.over_sampling import SMOTE\n",
    "from imblearn.pipeline import Pipeline\n",
    "from sklearn.model_selection import StratifiedKFold, GridSearchCV\n",
    "from sklearn.metrics import f1_score, precision_score, recall_score\n",
    "from xgboost import XGBClassifier\n",
    "import os\n",
    "from sklearn.feature_selection import RFECV\n",
    "import pandas as pd\n",
    "from sklearn.model_selection import (\n",
    "    GridSearchCV,\n",
    "    RandomizedSearchCV,\n",
    "    StratifiedKFold,\n",
    "    KFold,\n",
    ")\n",
    "from sklearn.metrics import f1_score, mean_squared_error, mean_absolute_error\n",
    "import numpy as np\n",
    "from numpy.lib.function_base import average\n",
    "import pandas as pd\n",
    "import matplotlib.pyplot as plt\n",
    "\n",
    "from xgboost.sklearn import XGBRegressor\n",
    "from sklearn.metrics import mean_absolute_error, mean_squared_error\n",
    "from sklearn.metrics import (\n",
    "    recall_score,\n",
    "    f1_score,\n",
    "    precision_score,\n",
    "    confusion_matrix,\n",
    "    make_scorer,\n",
    ")\n",
    "from sklearn.model_selection import (\n",
    "    GridSearchCV,\n",
    "    RandomizedSearchCV,\n",
    "    StratifiedKFold,\n",
    "    KFold,\n",
    ")\n",
    "from sklearn.feature_selection import SelectKBest, SequentialFeatureSelector\n",
    "from sklearn.ensemble import RandomForestClassifier, RandomForestRegressor\n",
    "from imblearn.over_sampling import SMOTE\n",
    "from imblearn.pipeline import Pipeline\n",
    "import importlib\n",
    "import os\n",
    "from sklearn.feature_selection import (\n",
    "    SelectKBest,\n",
    "    RFE,\n",
    "    mutual_info_regression,\n",
    "    f_regression,\n",
    "    mutual_info_classif,\n",
    ")\n",
    "import eli5\n",
    "from eli5.sklearn import PermutationImportance\n",
    "from sklearn.inspection import permutation_importance\n",
    "import xgboost as xgb\n",
    "import random\n",
    "import pickle\n",
    "import openpyxl\n",
    "from sklearn.feature_selection import SequentialFeatureSelector\n",
    "from sklearn.feature_selection import RFE\n",
    "from sklearn.feature_selection import RFECV\n",
    "import pickle\n",
    "from sklearn.linear_model import LinearRegression\n",
    "import geopandas as gpd\n",
    "import random\n",
    "import importlib"
   ]
  },
  {
   "cell_type": "markdown",
   "id": "657df28e",
   "metadata": {},
   "source": [
    "### Define functions "
   ]
  },
  {
   "cell_type": "code",
   "execution_count": 52,
   "id": "795ea4e4",
   "metadata": {},
   "outputs": [],
   "source": [
    "def splitting_train_test(df):\n",
    "\n",
    "    # To save the train and test sets\n",
    "    df_train_list = []\n",
    "    df_test_list = []\n",
    "\n",
    "    # List of typhoons that are to be used as a test set \n",
    " \n",
    "    typhoons_with_impact_data=list(np.unique(df.typhoon))\n",
    "\n",
    "    for typhoon in typhoons_with_impact_data:\n",
    "        if len(df[df[\"typhoon\"] == typhoon]) >1:\n",
    "            df_train_list.append(df[df[\"typhoon\"] != typhoon])\n",
    "            df_test_list.append(df[df[\"typhoon\"] == typhoon])\n",
    "\n",
    "    return df_train_list, df_test_list\n",
    "\n",
    "\n",
    "def unweighted_random(y_train, y_test):\n",
    "    options = y_train.value_counts(normalize=True)\n",
    "    y_pred = random.choices(population=list(options.index), k=len(y_test))\n",
    "    return y_pred\n",
    "\n",
    "def weighted_random(y_train, y_test):\n",
    "    options = y_train.value_counts()\n",
    "    y_pred = random.choices(\n",
    "        population=list(options.index), weights=list(options.values), k=len(y_test)\n",
    "    )\n",
    "    return y_pred"
   ]
  },
  {
   "cell_type": "code",
   "execution_count": 425,
   "id": "065cb644",
   "metadata": {},
   "outputs": [],
   "source": [
    "# Setting directory\n",
    "\n",
    "wor_dir=\"/home/fbf/\"\n",
    "os.chdir(wor_dir)\n",
    "\n",
    "cdir = os.getcwd()"
   ]
  },
  {
   "cell_type": "code",
   "execution_count": 23,
   "id": "ce09f3cf",
   "metadata": {},
   "outputs": [],
   "source": [
    "wor_dir=\"C:\\\\Users\\\\ATeklesadik\\\\OneDrive - Rode Kruis\\\\Documents\\\\documents\\\\Typhoon-Impact-based-forecasting-model\\\\IBF-Typhoon-model\\\\\"\n",
    "os.chdir(wor_dir)\n",
    "cdir = os.getcwd()"
   ]
  },
  {
   "cell_type": "code",
   "execution_count": 24,
   "id": "07e349e0",
   "metadata": {},
   "outputs": [],
   "source": [
    "# Import functions\n",
    "from models.regression.rf_regression import (rf_regression_features,rf_regression_performance,)\n",
    "from models.regression.xgb_regression import (xgb_regression_features,xgb_regression_performance,)\n"
   ]
  },
  {
   "cell_type": "markdown",
   "id": "cad250b0",
   "metadata": {},
   "source": [
    "## Loading the data"
   ]
  },
  {
   "cell_type": "code",
   "execution_count": 29,
   "id": "16df7cbd",
   "metadata": {},
   "outputs": [
    {
     "data": {
      "text/plain": [
       "40"
      ]
     },
     "execution_count": 29,
     "metadata": {},
     "output_type": "execute_result"
    }
   ],
   "source": [
    "combined_input_data=pd.read_csv(\"data/model_input/combined_input_data.csv\")\n",
    "\n",
    "typhoons_with_impact_data=['bopha2012', 'conson2010', 'durian2006', 'fengshen2008',\n",
    "       'fung-wong2014', 'goni2015', 'goni2020', 'hagupit2014',\n",
    "       'haima2016', 'haiyan2013', 'jangmi2014', 'kalmaegi2014',\n",
    "       'kammuri2019', 'ketsana2009', 'koppu2015', 'krosa2013',\n",
    "       'linfa2015', 'lingling2014', 'mangkhut2018', 'mekkhala2015',\n",
    "       'melor2015', 'meranti2016', 'molave2020', 'mujigae2015',\n",
    "       'nakri2019', 'nari2013', 'nesat2011', 'nock-ten2016', 'noul2015',\n",
    "       'phanfone2019', 'rammasun2014', 'sarika2016', 'saudel2020',\n",
    "       'tokage2016', 'trami2013', 'usagi2013', 'utor2013', 'vamco2020',\n",
    "       'vongfong2020', 'yutu2018']\n",
    "\n",
    "len(np.unique(combined_input_data.typhoon))\n"
   ]
  },
  {
   "cell_type": "code",
   "execution_count": 26,
   "id": "ce9752fb",
   "metadata": {},
   "outputs": [
    {
     "data": {
      "text/plain": [
       "40"
      ]
     },
     "execution_count": 26,
     "metadata": {},
     "output_type": "execute_result"
    }
   ],
   "source": [
    "len(typhoons_with_impact_data)"
   ]
  },
  {
   "cell_type": "code",
   "execution_count": null,
   "id": "933e4428",
   "metadata": {},
   "outputs": [],
   "source": [
    "combined_input_data=combined_input_data[combined_input_data.typhoon.isin(typhoons_with_impact_data)]"
   ]
  },
  {
   "cell_type": "markdown",
   "id": "63ba6ebe",
   "metadata": {},
   "source": [
    "Replace missing values with zero for records with low windspeed and rainfall \\n\n",
    "\n",
    "<math xmlns=\"http://www.w3.org/1998/Math/MathML\" display=\"block\">\n",
    "  <mfrac>\n",
    "    <msup>\n",
    "      <mi>V</mi>\n",
    "      <mn>2</mn>\n",
    "    </msup>\n",
    "    <mrow>\n",
    "      <mo stretchy=\"false\">(</mo>\n",
    "      <mn>V_max</mn>\n",
    "      <msup>\n",
    "        <mo stretchy=\"false\">)</mo>\n",
    "        <mn>2</mn>\n",
    "      </msup>\n",
    "    </mrow>\n",
    "  </mfrac>\n",
    "  <mo>+</mo>\n",
    "  <mfrac>\n",
    "    <msup>\n",
    "      <mi>rain</mi>\n",
    "      <mn>2</mn>\n",
    "    </msup>\n",
    "    <mrow>\n",
    "      <mo stretchy=\"false\">(</mo>\n",
    "      <mn>rain_max</mn>\n",
    "      <msup>\n",
    "        <mo stretchy=\"false\">)</mo>\n",
    "        <mn>2</mn>\n",
    "      </msup>\n",
    "    </mrow>\n",
    "  </mfrac>\n",
    "  <mo>=</mo>\n",
    "  <mn>1</mn>\n",
    "</math>"
   ]
  },
  {
   "cell_type": "code",
   "execution_count": 30,
   "id": "5411ba8c",
   "metadata": {},
   "outputs": [],
   "source": [
    "def set_zeros(x):\n",
    "    x_max = 25\n",
    "    y_max = 50\n",
    "    \n",
    "    v_max = x[0]\n",
    "    rainfall_max = x[1]\n",
    "    damage = x[2]\n",
    "    if pd.notnull(damage):\n",
    "        value = damage\n",
    "    elif v_max > x_max or rainfall_max > y_max:\n",
    "        value =damage\n",
    "    elif (v_max < np.sqrt((1- (rainfall_max**2/y_max ** 2))*x_max ** 2)):\n",
    "        value = 0\n",
    "    #elif ((v_max < x_max)  and  (rainfall_max_6h < y_max) ):\n",
    "    #elif (v_max < x_max ):\n",
    "    #value = 0\n",
    "    else:\n",
    "        value = np.nan\n",
    "\n",
    "    return value\n",
    "combined_input_data[\"DAM_perc_dmg\"] = combined_input_data[[\"HAZ_v_max\", \"HAZ_rainfall_Total\", \"DAM_perc_dmg\"]].apply(set_zeros, axis=\"columns\")"
   ]
  },
  {
   "cell_type": "code",
   "execution_count": 56,
   "id": "e4d006d2",
   "metadata": {},
   "outputs": [
    {
     "data": {
      "text/plain": [
       "8073"
      ]
     },
     "execution_count": 56,
     "metadata": {},
     "output_type": "execute_result"
    }
   ],
   "source": [
    "len(combined_input_data)"
   ]
  },
  {
   "cell_type": "code",
   "execution_count": 32,
   "id": "c465a9df",
   "metadata": {},
   "outputs": [
    {
     "data": {
      "text/plain": [
       "2.455842692294789"
      ]
     },
     "execution_count": 32,
     "metadata": {},
     "output_type": "execute_result"
    }
   ],
   "source": [
    "np.mean(combined_input_data[\"DAM_perc_dmg\"])"
   ]
  },
  {
   "cell_type": "code",
   "execution_count": 33,
   "id": "aecd6219",
   "metadata": {},
   "outputs": [
    {
     "data": {
      "text/plain": [
       "2.455842692294789"
      ]
     },
     "execution_count": 33,
     "metadata": {},
     "output_type": "execute_result"
    }
   ],
   "source": [
    "combined_input_data = combined_input_data[combined_input_data['DAM_perc_dmg'].notnull()]\n",
    "np.mean(combined_input_data[\"DAM_perc_dmg\"])"
   ]
  },
  {
   "cell_type": "code",
   "execution_count": 34,
   "id": "f3bb9628",
   "metadata": {},
   "outputs": [
    {
     "data": {
      "text/plain": [
       "8073"
      ]
     },
     "execution_count": 34,
     "metadata": {},
     "output_type": "execute_result"
    }
   ],
   "source": [
    "len(combined_input_data)"
   ]
  },
  {
   "cell_type": "code",
   "execution_count": 42,
   "id": "78a4f373",
   "metadata": {},
   "outputs": [
    {
     "data": {
      "text/plain": [
       "array(['bopha2012', 'conson2010', 'durian2006', 'fengshen2008',\n",
       "       'fung-wong2014', 'goni2015', 'goni2020', 'hagupit2014',\n",
       "       'haima2016', 'haiyan2013', 'jangmi2014', 'kalmaegi2014',\n",
       "       'kammuri2019', 'ketsana2009', 'koppu2015', 'krosa2013',\n",
       "       'linfa2015', 'lingling2014', 'mangkhut2018', 'mekkhala2015',\n",
       "       'melor2015', 'meranti2016', 'molave2020', 'mujigae2015',\n",
       "       'nakri2019', 'nari2013', 'nesat2011', 'nock-ten2016', 'noul2015',\n",
       "       'phanfone2019', 'rammasun2014', 'sarika2016', 'saudel2020',\n",
       "       'tokage2016', 'usagi2013', 'utor2013', 'vamco2020', 'vongfong2020',\n",
       "       'yutu2018'], dtype=object)"
      ]
     },
     "execution_count": 42,
     "metadata": {},
     "output_type": "execute_result"
    }
   ],
   "source": [
    "np.unique(combined_input_data.typhoon)"
   ]
  },
  {
   "cell_type": "markdown",
   "id": "ee1c57d9",
   "metadata": {},
   "source": [
    "### Adtional variables "
   ]
  },
  {
   "cell_type": "code",
   "execution_count": 43,
   "id": "17b57ba4",
   "metadata": {},
   "outputs": [],
   "source": [
    "def cubeic(x):\n",
    "    #x=float(x)\n",
    "    value=x*x*x\n",
    "    return value\n",
    "\n",
    "\n",
    "#combined_input_data[\"HAZ_v_max_3\"] = combined_input_data.apply(lambda x: cubeic(x[\"HAZ_v_max\"]), axis=1).values\n",
    "\n",
    "combined_input_data['HAZ_v_max_3']=combined_input_data['HAZ_v_max'].apply(lambda x: x*x*x) "
   ]
  },
  {
   "cell_type": "code",
   "execution_count": 44,
   "id": "103835c4",
   "metadata": {},
   "outputs": [],
   "source": [
    "combined_input_data =combined_input_data.filter(['typhoon','HAZ_rainfall_Total', \n",
    "        'HAZ_rainfall_max_6h',\n",
    "        'HAZ_rainfall_max_24h',\n",
    "        'HAZ_v_max',\n",
    "        'HAZ_v_max_3',\n",
    "        'HAZ_dis_track_min',\n",
    "        'GEN_landslide_per',\n",
    "        'GEN_stormsurge_per',\n",
    "        'GEN_Bu_p_inSSA', \n",
    "        'GEN_Bu_p_LS', \n",
    "        'GEN_Red_per_LSbldg',\n",
    "        'GEN_Or_per_LSblg', \n",
    "        'GEN_Yel_per_LSSAb', \n",
    "        'GEN_RED_per_SSAbldg',\n",
    "        'GEN_OR_per_SSAbldg',\n",
    "        'GEN_Yellow_per_LSbl',\n",
    "        'TOP_mean_slope',\n",
    "        'TOP_mean_elevation_m', \n",
    "        'TOP_ruggedness_stdev', \n",
    "        'TOP_mean_ruggedness',\n",
    "        'TOP_slope_stdev', \n",
    "        'VUL_poverty_perc',\n",
    "        'GEN_with_coast',\n",
    "        'GEN_coast_length', \n",
    "        'VUL_Housing_Units',\n",
    "        'VUL_StrongRoof_StrongWall', \n",
    "        'VUL_StrongRoof_LightWall',\n",
    "        'VUL_StrongRoof_SalvageWall', \n",
    "        'VUL_LightRoof_StrongWall',\n",
    "        'VUL_LightRoof_LightWall', \n",
    "        'VUL_LightRoof_SalvageWall',\n",
    "        'VUL_SalvagedRoof_StrongWall',\n",
    "        'VUL_SalvagedRoof_LightWall',\n",
    "        'VUL_SalvagedRoof_SalvageWall', \n",
    "        'VUL_vulnerable_groups',\n",
    "        'VUL_pantawid_pamilya_beneficiary', \n",
    "        'DAM_perc_dmg'])"
   ]
  },
  {
   "cell_type": "code",
   "execution_count": 45,
   "id": "567b12e0",
   "metadata": {},
   "outputs": [],
   "source": [
    "features =['HAZ_rainfall_Total', \n",
    "        'HAZ_rainfall_max_6h',\n",
    "        'HAZ_rainfall_max_24h',\n",
    "        'HAZ_v_max',\n",
    "        'HAZ_v_max_3',\n",
    "        'HAZ_dis_track_min',\n",
    "        'GEN_landslide_per',\n",
    "        'GEN_stormsurge_per',\n",
    "        'GEN_Bu_p_inSSA', \n",
    "        'GEN_Bu_p_LS', \n",
    "        'GEN_Red_per_LSbldg',\n",
    "        'GEN_Or_per_LSblg', \n",
    "        'GEN_Yel_per_LSSAb', \n",
    "        'GEN_RED_per_SSAbldg',\n",
    "        'GEN_OR_per_SSAbldg',\n",
    "        'GEN_Yellow_per_LSbl',\n",
    "        'TOP_mean_slope',\n",
    "        'TOP_mean_elevation_m', \n",
    "        'TOP_ruggedness_stdev', \n",
    "        'TOP_mean_ruggedness',\n",
    "        'TOP_slope_stdev', \n",
    "        'VUL_poverty_perc',\n",
    "        'GEN_with_coast',\n",
    "        'GEN_coast_length', \n",
    "        'VUL_Housing_Units',\n",
    "        'VUL_StrongRoof_StrongWall', \n",
    "        'VUL_StrongRoof_LightWall',\n",
    "        'VUL_StrongRoof_SalvageWall', \n",
    "        'VUL_LightRoof_StrongWall',\n",
    "        'VUL_LightRoof_LightWall', \n",
    "        'VUL_LightRoof_SalvageWall',\n",
    "        'VUL_SalvagedRoof_StrongWall',\n",
    "        'VUL_SalvagedRoof_LightWall',\n",
    "        'VUL_SalvagedRoof_SalvageWall', \n",
    "        'VUL_vulnerable_groups',\n",
    "        'VUL_pantawid_pamilya_beneficiary']"
   ]
  },
  {
   "cell_type": "markdown",
   "id": "451de586",
   "metadata": {},
   "source": [
    "#### Random Forest "
   ]
  },
  {
   "cell_type": "code",
   "execution_count": 57,
   "id": "44ea121e",
   "metadata": {},
   "outputs": [],
   "source": [
    "# Full dataset for feature selection\n",
    "\n",
    "df=combined_input_data.dropna()\n",
    " \n",
    "#combined_input_data = combined_input_data[combined_input_data['DAM_perc_dmg'].notnull()]\n",
    "X = df[features]\n",
    "y = df[\"DAM_perc_dmg\"]\n",
    "\n",
    "# Setting the train and the test sets for obtaining performance estimate\n",
    "df_train_list, df_test_list = splitting_train_test(df)"
   ]
  },
  {
   "cell_type": "markdown",
   "id": "37c778aa",
   "metadata": {},
   "source": [
    "### Feature selection\n",
    "\n",
    "Feature Selection is an important step in devloping a machine learning model.Data features used to train a machine learning model will influence model performance,less important features can have a negative impact on model performance.\n",
    "Feature Selection aims to solve the problem of identifying relevant features from a dataset by removing the less important features, which have little/no contribution to our target variable. Feature selection helps to achieve better model accuracy.\n",
    "\n",
    "There are different techniques for feature selection. For this research we used Recursive feature elimination (RFE),which is a feature selection method that fits a model and removes the weakest feature (or features) until the specified number of features is reached. Features are ranked by the model’s coef_ or feature_importances_ attributes, and by recursively eliminating a small number of features per loop, RFE attempts to eliminate dependencies and collinearity that may exist in the model.\n",
    "To find the optimal number of features we applied cross-validation with RFE on the entire data set. \n"
   ]
  },
  {
   "cell_type": "code",
   "execution_count": null,
   "id": "64b13869",
   "metadata": {},
   "outputs": [],
   "source": [
    "#%% Setting input varialbes\n",
    "rf_search_space = [\n",
    "    {\n",
    "        \"estimator__n_estimators\": [100, 150],\n",
    "        \"estimator__max_depth\": [20, None],\n",
    "        \"estimator__min_samples_split\": [4, 5, 8],\n",
    "        \"estimator__min_samples_leaf\":[1, 3, 5],\n",
    "    }\n",
    "]\n",
    "\n",
    "(\n",
    "    selected_features_rf_regr,\n",
    "    selected_params_rf_regr_full,\n",
    ") = rf_regression_features(\n",
    "    X=X,\n",
    "    y=y,\n",
    "    features=features,\n",
    "    search_space=rf_search_space,\n",
    "    min_features_to_select=1,\n",
    "    cv_splits=3,\n",
    "    GS_score=\"neg_root_mean_squared_error\",\n",
    "    GS_randomized=False,\n",
    "    GS_n_iter=10,\n",
    "    verbose=10,\n",
    ")\n",
    "\n",
    "print(\n",
    "    f\"Number of selected features RF Regression {len(selected_features_rf_regr)}\"\n",
    ")\n",
    "print(f\"Selected features RF Regression: {selected_features_rf_regr}\")\n",
    "print(f\"Selected Parameters RF Regression: {selected_params_rf_regr_full}\")"
   ]
  },
  {
   "cell_type": "code",
   "execution_count": 63,
   "id": "783294a6",
   "metadata": {},
   "outputs": [],
   "source": [
    "# Based on output previous cell\n",
    "selected_features_rf_regr=[\n",
    "    'HAZ_rainfall_Total', \n",
    "    'HAZ_rainfall_max_6h',\n",
    "    'HAZ_rainfall_max_24h',\n",
    "    'HAZ_v_max', \n",
    "    'HAZ_v_max_3',\n",
    "    'HAZ_dis_track_min',\n",
    "    'GEN_landslide_per', \n",
    "    'GEN_stormsurge_per',\n",
    "    'GEN_Bu_p_inSSA', \n",
    "    'GEN_Bu_p_LS',\n",
    "    'GEN_Red_per_LSbldg',\n",
    "    'GEN_Yel_per_LSSAb',\n",
    "    'GEN_RED_per_SSAbldg', \n",
    "    'GEN_OR_per_SSAbldg',\n",
    "    'TOP_mean_slope', \n",
    "    'TOP_mean_elevation_m', \n",
    "    'TOP_ruggedness_stdev', \n",
    "    'TOP_mean_ruggedness', \n",
    "    'TOP_slope_stdev', \n",
    "    'VUL_poverty_perc', \n",
    "    'GEN_coast_length',\n",
    "    'VUL_Housing_Units', \n",
    "    'VUL_StrongRoof_StrongWall', \n",
    "    'VUL_StrongRoof_LightWall',\n",
    "    'VUL_StrongRoof_SalvageWall',\n",
    "    'VUL_LightRoof_LightWall', \n",
    "    'VUL_LightRoof_SalvageWall', \n",
    "    'VUL_SalvagedRoof_StrongWall',\n",
    "    'VUL_SalvagedRoof_LightWall', \n",
    "    'VUL_SalvagedRoof_SalvageWall',\n",
    "    'VUL_vulnerable_groups', \n",
    "    'VUL_pantawid_pamilya_beneficiary'\n",
    "]"
   ]
  },
  {
   "cell_type": "code",
   "execution_count": null,
   "id": "c9162879",
   "metadata": {},
   "outputs": [],
   "source": [
    "#xg_reg = xgb.train(params=params, dtrain=data_dmatrix, num_boost_round=10)\n",
    "#xgb.plot_importance(xg_reg)\n",
    "#plt.rcParams['figure.figsize'] = [5, 5]\n",
    "#plt.show()"
   ]
  },
  {
   "cell_type": "markdown",
   "id": "85c6fa3b",
   "metadata": {},
   "source": [
    "### Hyper Parameter optimization  \n",
    "\n",
    "Machine learning models have hyperparameters that you must set in order to customize the model to your dataset. Often the general effects of hyperparameters on a model are known, but how to best set a hyperparameter and combinations of interacting hyperparameters for a given dataset is challenging. There are often general rules of thumb for configuring hyperparameters. A better approach is to objectively search different values for model hyperparameters and choose a subset that results in a model that achieves the best performance on a given dataset. This is called hyperparameter optimization or hyperparameter tuning and is available in the scikit-learn Python machine learning library. [Source](https://machinelearningmastery.com/) \n",
    "\n",
    "\n",
    "\n",
    "\n",
    "Hyperparameters are essentila components for machine learning algorithms, they control behaviour and performance of a machine learning model. For a learning algorithm optimal hyperparameter selection, hyperparameter tuning is esstil first step as it helps to achive best model performance on the data set with a reasonable amount of time.[source](https://www.sciencedirect.com/science/article/pii/S1674862X19300047)\n",
    "\n",
    "To reduce the bias in performance evaluation, model selection should be treated as an integral part of the model fitting procedure, and should be conducted independently in each trial in order to prevent selection bias.[source](https://www.jmlr.org/papers/v11/cawley10a.html)\n",
    "\n",
    "There are different techniques for Hyperparameters, for this research we used neasted K-fold cross validation technique. \n",
    "Nested cross-validation uses inner and outer loops when optimizing the hyperparameters of a model on a dataset, and when comparing and selecting a model for the dataset. This reduced biased evaluation of model performance as different dataset are used to for hyperparameter tunning and model selection.\n",
    "\n",
    "In our implementation of nested CV the outer loop iterates over typhoon events in our datasets, holiding data for one typhoon for test set and assigning the remaining data as training set. In the inner loop a k-fold CV is applied on the training dataset\n",
    "\n"
   ]
  },
  {
   "cell_type": "code",
   "execution_count": 58,
   "id": "c99dd7eb",
   "metadata": {},
   "outputs": [
    {
     "name": "stdout",
     "output_type": "stream",
     "text": [
      "Running for 1 out of a total of 39\n",
      "Fitting 4 folds for each of 1 candidates, totalling 4 fits\n",
      "[CV 1/4; 1/1] START rf__max_depth=18, rf__min_samples_leaf=1, rf__min_samples_split=8, rf__n_estimators=200\n",
      "[CV 1/4; 1/1] END rf__max_depth=18, rf__min_samples_leaf=1, rf__min_samples_split=8, rf__n_estimators=200;, score=(train=-2.913, test=-5.593) total time=  15.8s\n",
      "[CV 2/4; 1/1] START rf__max_depth=18, rf__min_samples_leaf=1, rf__min_samples_split=8, rf__n_estimators=200\n",
      "[CV 2/4; 1/1] END rf__max_depth=18, rf__min_samples_leaf=1, rf__min_samples_split=8, rf__n_estimators=200;, score=(train=-2.977, test=-6.126) total time=  16.0s\n",
      "[CV 3/4; 1/1] START rf__max_depth=18, rf__min_samples_leaf=1, rf__min_samples_split=8, rf__n_estimators=200\n",
      "[CV 3/4; 1/1] END rf__max_depth=18, rf__min_samples_leaf=1, rf__min_samples_split=8, rf__n_estimators=200;, score=(train=-2.974, test=-5.726) total time=  16.0s\n",
      "[CV 4/4; 1/1] START rf__max_depth=18, rf__min_samples_leaf=1, rf__min_samples_split=8, rf__n_estimators=200\n",
      "[CV 4/4; 1/1] END rf__max_depth=18, rf__min_samples_leaf=1, rf__min_samples_split=8, rf__n_estimators=200;, score=(train=-3.076, test=-5.373) total time=  16.0s\n",
      "Selected Parameters {'rf__max_depth': 18, 'rf__min_samples_leaf': 1, 'rf__min_samples_split': 8, 'rf__n_estimators': 200}\n",
      "Train score: 0.9368722610361119\n",
      "Test score: 2.581783606241386\n",
      "Running for 2 out of a total of 39\n",
      "Fitting 4 folds for each of 1 candidates, totalling 4 fits\n",
      "[CV 1/4; 1/1] START rf__max_depth=18, rf__min_samples_leaf=1, rf__min_samples_split=8, rf__n_estimators=200\n",
      "[CV 1/4; 1/1] END rf__max_depth=18, rf__min_samples_leaf=1, rf__min_samples_split=8, rf__n_estimators=200;, score=(train=-3.179, test=-5.150) total time=  17.9s\n",
      "[CV 2/4; 1/1] START rf__max_depth=18, rf__min_samples_leaf=1, rf__min_samples_split=8, rf__n_estimators=200\n",
      "[CV 2/4; 1/1] END rf__max_depth=18, rf__min_samples_leaf=1, rf__min_samples_split=8, rf__n_estimators=200;, score=(train=-3.077, test=-6.066) total time=  17.6s\n",
      "[CV 3/4; 1/1] START rf__max_depth=18, rf__min_samples_leaf=1, rf__min_samples_split=8, rf__n_estimators=200\n",
      "[CV 3/4; 1/1] END rf__max_depth=18, rf__min_samples_leaf=1, rf__min_samples_split=8, rf__n_estimators=200;, score=(train=-2.994, test=-6.023) total time=  17.2s\n",
      "[CV 4/4; 1/1] START rf__max_depth=18, rf__min_samples_leaf=1, rf__min_samples_split=8, rf__n_estimators=200\n",
      "[CV 4/4; 1/1] END rf__max_depth=18, rf__min_samples_leaf=1, rf__min_samples_split=8, rf__n_estimators=200;, score=(train=-3.021, test=-6.058) total time=  18.0s\n",
      "Selected Parameters {'rf__max_depth': 18, 'rf__min_samples_leaf': 1, 'rf__min_samples_split': 8, 'rf__n_estimators': 200}\n",
      "Train score: 0.9554756859577135\n",
      "Test score: 0.7245266967427902\n",
      "Running for 3 out of a total of 39\n",
      "Fitting 4 folds for each of 1 candidates, totalling 4 fits\n",
      "[CV 1/4; 1/1] START rf__max_depth=18, rf__min_samples_leaf=1, rf__min_samples_split=8, rf__n_estimators=200\n",
      "[CV 1/4; 1/1] END rf__max_depth=18, rf__min_samples_leaf=1, rf__min_samples_split=8, rf__n_estimators=200;, score=(train=-2.889, test=-5.337) total time=  16.9s\n",
      "[CV 2/4; 1/1] START rf__max_depth=18, rf__min_samples_leaf=1, rf__min_samples_split=8, rf__n_estimators=200\n",
      "[CV 2/4; 1/1] END rf__max_depth=18, rf__min_samples_leaf=1, rf__min_samples_split=8, rf__n_estimators=200;, score=(train=-2.747, test=-5.921) total time=  17.5s\n",
      "[CV 3/4; 1/1] START rf__max_depth=18, rf__min_samples_leaf=1, rf__min_samples_split=8, rf__n_estimators=200\n",
      "[CV 3/4; 1/1] END rf__max_depth=18, rf__min_samples_leaf=1, rf__min_samples_split=8, rf__n_estimators=200;, score=(train=-2.988, test=-4.694) total time=  16.8s\n",
      "[CV 4/4; 1/1] START rf__max_depth=18, rf__min_samples_leaf=1, rf__min_samples_split=8, rf__n_estimators=200\n",
      "[CV 4/4; 1/1] END rf__max_depth=18, rf__min_samples_leaf=1, rf__min_samples_split=8, rf__n_estimators=200;, score=(train=-2.747, test=-6.077) total time=  18.4s\n",
      "Selected Parameters {'rf__max_depth': 18, 'rf__min_samples_leaf': 1, 'rf__min_samples_split': 8, 'rf__n_estimators': 200}\n",
      "Train score: 0.8763073324155992\n",
      "Test score: 4.340468614766874\n",
      "Running for 4 out of a total of 39\n",
      "Fitting 4 folds for each of 1 candidates, totalling 4 fits\n",
      "[CV 1/4; 1/1] START rf__max_depth=18, rf__min_samples_leaf=1, rf__min_samples_split=8, rf__n_estimators=200\n",
      "[CV 1/4; 1/1] END rf__max_depth=18, rf__min_samples_leaf=1, rf__min_samples_split=8, rf__n_estimators=200;, score=(train=-2.889, test=-6.016) total time=  17.7s\n",
      "[CV 2/4; 1/1] START rf__max_depth=18, rf__min_samples_leaf=1, rf__min_samples_split=8, rf__n_estimators=200\n",
      "[CV 2/4; 1/1] END rf__max_depth=18, rf__min_samples_leaf=1, rf__min_samples_split=8, rf__n_estimators=200;, score=(train=-3.006, test=-5.528) total time=  17.5s\n",
      "[CV 3/4; 1/1] START rf__max_depth=18, rf__min_samples_leaf=1, rf__min_samples_split=8, rf__n_estimators=200\n",
      "[CV 3/4; 1/1] END rf__max_depth=18, rf__min_samples_leaf=1, rf__min_samples_split=8, rf__n_estimators=200;, score=(train=-2.991, test=-5.342) total time=  16.7s\n",
      "[CV 4/4; 1/1] START rf__max_depth=18, rf__min_samples_leaf=1, rf__min_samples_split=8, rf__n_estimators=200\n",
      "[CV 4/4; 1/1] END rf__max_depth=18, rf__min_samples_leaf=1, rf__min_samples_split=8, rf__n_estimators=200;, score=(train=-2.963, test=-6.357) total time=  17.9s\n",
      "Selected Parameters {'rf__max_depth': 18, 'rf__min_samples_leaf': 1, 'rf__min_samples_split': 8, 'rf__n_estimators': 200}\n",
      "Train score: 0.9344993476659696\n",
      "Test score: 3.306232912921222\n",
      "Running for 5 out of a total of 39\n",
      "Fitting 4 folds for each of 1 candidates, totalling 4 fits\n",
      "[CV 1/4; 1/1] START rf__max_depth=18, rf__min_samples_leaf=1, rf__min_samples_split=8, rf__n_estimators=200\n",
      "[CV 1/4; 1/1] END rf__max_depth=18, rf__min_samples_leaf=1, rf__min_samples_split=8, rf__n_estimators=200;, score=(train=-2.845, test=-6.574) total time=  17.7s\n",
      "[CV 2/4; 1/1] START rf__max_depth=18, rf__min_samples_leaf=1, rf__min_samples_split=8, rf__n_estimators=200\n",
      "[CV 2/4; 1/1] END rf__max_depth=18, rf__min_samples_leaf=1, rf__min_samples_split=8, rf__n_estimators=200;, score=(train=-3.055, test=-5.720) total time=  18.1s\n",
      "[CV 3/4; 1/1] START rf__max_depth=18, rf__min_samples_leaf=1, rf__min_samples_split=8, rf__n_estimators=200\n",
      "[CV 3/4; 1/1] END rf__max_depth=18, rf__min_samples_leaf=1, rf__min_samples_split=8, rf__n_estimators=200;, score=(train=-3.100, test=-5.421) total time=  18.2s\n",
      "[CV 4/4; 1/1] START rf__max_depth=18, rf__min_samples_leaf=1, rf__min_samples_split=8, rf__n_estimators=200\n",
      "[CV 4/4; 1/1] END rf__max_depth=18, rf__min_samples_leaf=1, rf__min_samples_split=8, rf__n_estimators=200;, score=(train=-3.066, test=-5.680) total time=  17.7s\n",
      "Selected Parameters {'rf__max_depth': 18, 'rf__min_samples_leaf': 1, 'rf__min_samples_split': 8, 'rf__n_estimators': 200}\n",
      "Train score: 0.9461858190859358\n",
      "Test score: 0.8290450162432318\n",
      "Running for 6 out of a total of 39\n",
      "Fitting 4 folds for each of 1 candidates, totalling 4 fits\n",
      "[CV 1/4; 1/1] START rf__max_depth=18, rf__min_samples_leaf=1, rf__min_samples_split=8, rf__n_estimators=200\n",
      "[CV 1/4; 1/1] END rf__max_depth=18, rf__min_samples_leaf=1, rf__min_samples_split=8, rf__n_estimators=200;, score=(train=-3.005, test=-5.947) total time=  18.0s\n",
      "[CV 2/4; 1/1] START rf__max_depth=18, rf__min_samples_leaf=1, rf__min_samples_split=8, rf__n_estimators=200\n",
      "[CV 2/4; 1/1] END rf__max_depth=18, rf__min_samples_leaf=1, rf__min_samples_split=8, rf__n_estimators=200;, score=(train=-3.048, test=-5.957) total time=  19.1s\n",
      "[CV 3/4; 1/1] START rf__max_depth=18, rf__min_samples_leaf=1, rf__min_samples_split=8, rf__n_estimators=200\n",
      "[CV 3/4; 1/1] END rf__max_depth=18, rf__min_samples_leaf=1, rf__min_samples_split=8, rf__n_estimators=200;, score=(train=-3.039, test=-5.768) total time=  20.7s\n",
      "[CV 4/4; 1/1] START rf__max_depth=18, rf__min_samples_leaf=1, rf__min_samples_split=8, rf__n_estimators=200\n",
      "[CV 4/4; 1/1] END rf__max_depth=18, rf__min_samples_leaf=1, rf__min_samples_split=8, rf__n_estimators=200;, score=(train=-3.054, test=-5.889) total time=  18.5s\n",
      "Selected Parameters {'rf__max_depth': 18, 'rf__min_samples_leaf': 1, 'rf__min_samples_split': 8, 'rf__n_estimators': 200}\n",
      "Train score: 0.9424896773031813\n",
      "Test score: 2.2303253389014452\n",
      "Running for 7 out of a total of 39\n",
      "Fitting 4 folds for each of 1 candidates, totalling 4 fits\n",
      "[CV 1/4; 1/1] START rf__max_depth=18, rf__min_samples_leaf=1, rf__min_samples_split=8, rf__n_estimators=200\n"
     ]
    },
    {
     "name": "stdout",
     "output_type": "stream",
     "text": [
      "[CV 1/4; 1/1] END rf__max_depth=18, rf__min_samples_leaf=1, rf__min_samples_split=8, rf__n_estimators=200;, score=(train=-3.016, test=-5.813) total time=  17.9s\n",
      "[CV 2/4; 1/1] START rf__max_depth=18, rf__min_samples_leaf=1, rf__min_samples_split=8, rf__n_estimators=200\n",
      "[CV 2/4; 1/1] END rf__max_depth=18, rf__min_samples_leaf=1, rf__min_samples_split=8, rf__n_estimators=200;, score=(train=-3.039, test=-6.010) total time=  17.3s\n",
      "[CV 3/4; 1/1] START rf__max_depth=18, rf__min_samples_leaf=1, rf__min_samples_split=8, rf__n_estimators=200\n",
      "[CV 3/4; 1/1] END rf__max_depth=18, rf__min_samples_leaf=1, rf__min_samples_split=8, rf__n_estimators=200;, score=(train=-3.109, test=-5.398) total time=  17.3s\n",
      "[CV 4/4; 1/1] START rf__max_depth=18, rf__min_samples_leaf=1, rf__min_samples_split=8, rf__n_estimators=200\n",
      "[CV 4/4; 1/1] END rf__max_depth=18, rf__min_samples_leaf=1, rf__min_samples_split=8, rf__n_estimators=200;, score=(train=-2.929, test=-6.286) total time=  17.6s\n",
      "Selected Parameters {'rf__max_depth': 18, 'rf__min_samples_leaf': 1, 'rf__min_samples_split': 8, 'rf__n_estimators': 200}\n",
      "Train score: 0.936709383550556\n",
      "Test score: 1.8835259699640128\n",
      "Running for 8 out of a total of 39\n",
      "Fitting 4 folds for each of 1 candidates, totalling 4 fits\n",
      "[CV 1/4; 1/1] START rf__max_depth=18, rf__min_samples_leaf=1, rf__min_samples_split=8, rf__n_estimators=200\n",
      "[CV 1/4; 1/1] END rf__max_depth=18, rf__min_samples_leaf=1, rf__min_samples_split=8, rf__n_estimators=200;, score=(train=-2.983, test=-6.143) total time=  17.0s\n",
      "[CV 2/4; 1/1] START rf__max_depth=18, rf__min_samples_leaf=1, rf__min_samples_split=8, rf__n_estimators=200\n",
      "[CV 2/4; 1/1] END rf__max_depth=18, rf__min_samples_leaf=1, rf__min_samples_split=8, rf__n_estimators=200;, score=(train=-3.190, test=-5.386) total time=  18.6s\n",
      "[CV 3/4; 1/1] START rf__max_depth=18, rf__min_samples_leaf=1, rf__min_samples_split=8, rf__n_estimators=200\n",
      "[CV 3/4; 1/1] END rf__max_depth=18, rf__min_samples_leaf=1, rf__min_samples_split=8, rf__n_estimators=200;, score=(train=-2.989, test=-6.325) total time=  16.8s\n",
      "[CV 4/4; 1/1] START rf__max_depth=18, rf__min_samples_leaf=1, rf__min_samples_split=8, rf__n_estimators=200\n",
      "[CV 4/4; 1/1] END rf__max_depth=18, rf__min_samples_leaf=1, rf__min_samples_split=8, rf__n_estimators=200;, score=(train=-3.076, test=-5.526) total time=  18.2s\n",
      "Selected Parameters {'rf__max_depth': 18, 'rf__min_samples_leaf': 1, 'rf__min_samples_split': 8, 'rf__n_estimators': 200}\n",
      "Train score: 0.948456648189505\n",
      "Test score: 2.1850302308489042\n",
      "Running for 9 out of a total of 39\n",
      "Fitting 4 folds for each of 1 candidates, totalling 4 fits\n",
      "[CV 1/4; 1/1] START rf__max_depth=18, rf__min_samples_leaf=1, rf__min_samples_split=8, rf__n_estimators=200\n",
      "[CV 1/4; 1/1] END rf__max_depth=18, rf__min_samples_leaf=1, rf__min_samples_split=8, rf__n_estimators=200;, score=(train=-3.101, test=-5.285) total time=  17.6s\n",
      "[CV 2/4; 1/1] START rf__max_depth=18, rf__min_samples_leaf=1, rf__min_samples_split=8, rf__n_estimators=200\n",
      "[CV 2/4; 1/1] END rf__max_depth=18, rf__min_samples_leaf=1, rf__min_samples_split=8, rf__n_estimators=200;, score=(train=-3.104, test=-5.326) total time=  16.0s\n",
      "[CV 3/4; 1/1] START rf__max_depth=18, rf__min_samples_leaf=1, rf__min_samples_split=8, rf__n_estimators=200\n",
      "[CV 3/4; 1/1] END rf__max_depth=18, rf__min_samples_leaf=1, rf__min_samples_split=8, rf__n_estimators=200;, score=(train=-2.977, test=-6.751) total time=  18.5s\n",
      "[CV 4/4; 1/1] START rf__max_depth=18, rf__min_samples_leaf=1, rf__min_samples_split=8, rf__n_estimators=200\n",
      "[CV 4/4; 1/1] END rf__max_depth=18, rf__min_samples_leaf=1, rf__min_samples_split=8, rf__n_estimators=200;, score=(train=-3.038, test=-6.083) total time=  17.6s\n",
      "Selected Parameters {'rf__max_depth': 18, 'rf__min_samples_leaf': 1, 'rf__min_samples_split': 8, 'rf__n_estimators': 200}\n",
      "Train score: 0.9465801356163428\n",
      "Test score: 1.9262852287194878\n",
      "Running for 10 out of a total of 39\n",
      "Fitting 4 folds for each of 1 candidates, totalling 4 fits\n",
      "[CV 1/4; 1/1] START rf__max_depth=18, rf__min_samples_leaf=1, rf__min_samples_split=8, rf__n_estimators=200\n",
      "[CV 1/4; 1/1] END rf__max_depth=18, rf__min_samples_leaf=1, rf__min_samples_split=8, rf__n_estimators=200;, score=(train=-2.616, test=-5.475) total time=  16.0s\n",
      "[CV 2/4; 1/1] START rf__max_depth=18, rf__min_samples_leaf=1, rf__min_samples_split=8, rf__n_estimators=200\n",
      "[CV 2/4; 1/1] END rf__max_depth=18, rf__min_samples_leaf=1, rf__min_samples_split=8, rf__n_estimators=200;, score=(train=-2.801, test=-4.401) total time=  16.5s\n",
      "[CV 3/4; 1/1] START rf__max_depth=18, rf__min_samples_leaf=1, rf__min_samples_split=8, rf__n_estimators=200\n",
      "[CV 3/4; 1/1] END rf__max_depth=18, rf__min_samples_leaf=1, rf__min_samples_split=8, rf__n_estimators=200;, score=(train=-2.586, test=-5.781) total time=  16.5s\n",
      "[CV 4/4; 1/1] START rf__max_depth=18, rf__min_samples_leaf=1, rf__min_samples_split=8, rf__n_estimators=200\n",
      "[CV 4/4; 1/1] END rf__max_depth=18, rf__min_samples_leaf=1, rf__min_samples_split=8, rf__n_estimators=200;, score=(train=-2.771, test=-4.815) total time=  16.2s\n",
      "Selected Parameters {'rf__max_depth': 18, 'rf__min_samples_leaf': 1, 'rf__min_samples_split': 8, 'rf__n_estimators': 200}\n",
      "Train score: 0.7758162014137011\n",
      "Test score: 10.930991351986412\n",
      "Running for 11 out of a total of 39\n",
      "Fitting 4 folds for each of 1 candidates, totalling 4 fits\n",
      "[CV 1/4; 1/1] START rf__max_depth=18, rf__min_samples_leaf=1, rf__min_samples_split=8, rf__n_estimators=200\n",
      "[CV 1/4; 1/1] END rf__max_depth=18, rf__min_samples_leaf=1, rf__min_samples_split=8, rf__n_estimators=200;, score=(train=-2.981, test=-6.257) total time=  18.0s\n",
      "[CV 2/4; 1/1] START rf__max_depth=18, rf__min_samples_leaf=1, rf__min_samples_split=8, rf__n_estimators=200\n",
      "[CV 2/4; 1/1] END rf__max_depth=18, rf__min_samples_leaf=1, rf__min_samples_split=8, rf__n_estimators=200;, score=(train=-3.022, test=-6.178) total time=  17.2s\n",
      "[CV 3/4; 1/1] START rf__max_depth=18, rf__min_samples_leaf=1, rf__min_samples_split=8, rf__n_estimators=200\n",
      "[CV 3/4; 1/1] END rf__max_depth=18, rf__min_samples_leaf=1, rf__min_samples_split=8, rf__n_estimators=200;, score=(train=-3.164, test=-5.749) total time=  17.8s\n",
      "[CV 4/4; 1/1] START rf__max_depth=18, rf__min_samples_leaf=1, rf__min_samples_split=8, rf__n_estimators=200\n",
      "[CV 4/4; 1/1] END rf__max_depth=18, rf__min_samples_leaf=1, rf__min_samples_split=8, rf__n_estimators=200;, score=(train=-3.044, test=-5.833) total time=  17.8s\n",
      "Selected Parameters {'rf__max_depth': 18, 'rf__min_samples_leaf': 1, 'rf__min_samples_split': 8, 'rf__n_estimators': 200}\n",
      "Train score: 0.9717192795796638\n",
      "Test score: 0.2992881757215695\n",
      "Running for 12 out of a total of 39\n",
      "Fitting 4 folds for each of 1 candidates, totalling 4 fits\n",
      "[CV 1/4; 1/1] START rf__max_depth=18, rf__min_samples_leaf=1, rf__min_samples_split=8, rf__n_estimators=200\n",
      "[CV 1/4; 1/1] END rf__max_depth=18, rf__min_samples_leaf=1, rf__min_samples_split=8, rf__n_estimators=200;, score=(train=-3.095, test=-5.859) total time=  18.2s\n",
      "[CV 2/4; 1/1] START rf__max_depth=18, rf__min_samples_leaf=1, rf__min_samples_split=8, rf__n_estimators=200\n",
      "[CV 2/4; 1/1] END rf__max_depth=18, rf__min_samples_leaf=1, rf__min_samples_split=8, rf__n_estimators=200;, score=(train=-2.943, test=-6.278) total time=  18.4s\n",
      "[CV 3/4; 1/1] START rf__max_depth=18, rf__min_samples_leaf=1, rf__min_samples_split=8, rf__n_estimators=200\n",
      "[CV 3/4; 1/1] END rf__max_depth=18, rf__min_samples_leaf=1, rf__min_samples_split=8, rf__n_estimators=200;, score=(train=-3.020, test=-5.771) total time=  18.3s\n",
      "[CV 4/4; 1/1] START rf__max_depth=18, rf__min_samples_leaf=1, rf__min_samples_split=8, rf__n_estimators=200\n",
      "[CV 4/4; 1/1] END rf__max_depth=18, rf__min_samples_leaf=1, rf__min_samples_split=8, rf__n_estimators=200;, score=(train=-3.050, test=-5.533) total time=  17.9s\n",
      "Selected Parameters {'rf__max_depth': 18, 'rf__min_samples_leaf': 1, 'rf__min_samples_split': 8, 'rf__n_estimators': 200}\n",
      "Train score: 0.9415248783329832\n",
      "Test score: 1.126457989786175\n",
      "Running for 13 out of a total of 39\n",
      "Fitting 4 folds for each of 1 candidates, totalling 4 fits\n",
      "[CV 1/4; 1/1] START rf__max_depth=18, rf__min_samples_leaf=1, rf__min_samples_split=8, rf__n_estimators=200\n",
      "[CV 1/4; 1/1] END rf__max_depth=18, rf__min_samples_leaf=1, rf__min_samples_split=8, rf__n_estimators=200;, score=(train=-3.029, test=-5.792) total time=  18.5s\n",
      "[CV 2/4; 1/1] START rf__max_depth=18, rf__min_samples_leaf=1, rf__min_samples_split=8, rf__n_estimators=200\n"
     ]
    },
    {
     "name": "stdout",
     "output_type": "stream",
     "text": [
      "[CV 2/4; 1/1] END rf__max_depth=18, rf__min_samples_leaf=1, rf__min_samples_split=8, rf__n_estimators=200;, score=(train=-2.953, test=-6.009) total time=  17.3s\n",
      "[CV 3/4; 1/1] START rf__max_depth=18, rf__min_samples_leaf=1, rf__min_samples_split=8, rf__n_estimators=200\n",
      "[CV 3/4; 1/1] END rf__max_depth=18, rf__min_samples_leaf=1, rf__min_samples_split=8, rf__n_estimators=200;, score=(train=-2.946, test=-5.712) total time=  17.1s\n",
      "[CV 4/4; 1/1] START rf__max_depth=18, rf__min_samples_leaf=1, rf__min_samples_split=8, rf__n_estimators=200\n",
      "[CV 4/4; 1/1] END rf__max_depth=18, rf__min_samples_leaf=1, rf__min_samples_split=8, rf__n_estimators=200;, score=(train=-3.077, test=-5.728) total time=  16.3s\n",
      "Selected Parameters {'rf__max_depth': 18, 'rf__min_samples_leaf': 1, 'rf__min_samples_split': 8, 'rf__n_estimators': 200}\n",
      "Train score: 0.9181701199789473\n",
      "Test score: 3.05935615573451\n",
      "Running for 14 out of a total of 39\n",
      "Fitting 4 folds for each of 1 candidates, totalling 4 fits\n",
      "[CV 1/4; 1/1] START rf__max_depth=18, rf__min_samples_leaf=1, rf__min_samples_split=8, rf__n_estimators=200\n",
      "[CV 1/4; 1/1] END rf__max_depth=18, rf__min_samples_leaf=1, rf__min_samples_split=8, rf__n_estimators=200;, score=(train=-2.992, test=-6.155) total time=  17.6s\n",
      "[CV 2/4; 1/1] START rf__max_depth=18, rf__min_samples_leaf=1, rf__min_samples_split=8, rf__n_estimators=200\n",
      "[CV 2/4; 1/1] END rf__max_depth=18, rf__min_samples_leaf=1, rf__min_samples_split=8, rf__n_estimators=200;, score=(train=-3.120, test=-5.375) total time=  17.2s\n",
      "[CV 3/4; 1/1] START rf__max_depth=18, rf__min_samples_leaf=1, rf__min_samples_split=8, rf__n_estimators=200\n",
      "[CV 3/4; 1/1] END rf__max_depth=18, rf__min_samples_leaf=1, rf__min_samples_split=8, rf__n_estimators=200;, score=(train=-2.919, test=-5.946) total time=  18.5s\n",
      "[CV 4/4; 1/1] START rf__max_depth=18, rf__min_samples_leaf=1, rf__min_samples_split=8, rf__n_estimators=200\n",
      "[CV 4/4; 1/1] END rf__max_depth=18, rf__min_samples_leaf=1, rf__min_samples_split=8, rf__n_estimators=200;, score=(train=-3.010, test=-5.896) total time=  17.7s\n",
      "Selected Parameters {'rf__max_depth': 18, 'rf__min_samples_leaf': 1, 'rf__min_samples_split': 8, 'rf__n_estimators': 200}\n",
      "Train score: 0.9434307036766111\n",
      "Test score: 2.1845938002878014\n",
      "Running for 15 out of a total of 39\n",
      "Fitting 4 folds for each of 1 candidates, totalling 4 fits\n",
      "[CV 1/4; 1/1] START rf__max_depth=18, rf__min_samples_leaf=1, rf__min_samples_split=8, rf__n_estimators=200\n",
      "[CV 1/4; 1/1] END rf__max_depth=18, rf__min_samples_leaf=1, rf__min_samples_split=8, rf__n_estimators=200;, score=(train=-3.069, test=-5.728) total time=  18.2s\n",
      "[CV 2/4; 1/1] START rf__max_depth=18, rf__min_samples_leaf=1, rf__min_samples_split=8, rf__n_estimators=200\n",
      "[CV 2/4; 1/1] END rf__max_depth=18, rf__min_samples_leaf=1, rf__min_samples_split=8, rf__n_estimators=200;, score=(train=-2.964, test=-5.916) total time=  17.6s\n",
      "[CV 3/4; 1/1] START rf__max_depth=18, rf__min_samples_leaf=1, rf__min_samples_split=8, rf__n_estimators=200\n",
      "[CV 3/4; 1/1] END rf__max_depth=18, rf__min_samples_leaf=1, rf__min_samples_split=8, rf__n_estimators=200;, score=(train=-3.109, test=-5.672) total time=  17.5s\n",
      "[CV 4/4; 1/1] START rf__max_depth=18, rf__min_samples_leaf=1, rf__min_samples_split=8, rf__n_estimators=200\n",
      "[CV 4/4; 1/1] END rf__max_depth=18, rf__min_samples_leaf=1, rf__min_samples_split=8, rf__n_estimators=200;, score=(train=-2.945, test=-6.279) total time=  18.5s\n",
      "Selected Parameters {'rf__max_depth': 18, 'rf__min_samples_leaf': 1, 'rf__min_samples_split': 8, 'rf__n_estimators': 200}\n",
      "Train score: 0.942387036692767\n",
      "Test score: 2.856569657847707\n",
      "Running for 16 out of a total of 39\n",
      "Fitting 4 folds for each of 1 candidates, totalling 4 fits\n",
      "[CV 1/4; 1/1] START rf__max_depth=18, rf__min_samples_leaf=1, rf__min_samples_split=8, rf__n_estimators=200\n",
      "[CV 1/4; 1/1] END rf__max_depth=18, rf__min_samples_leaf=1, rf__min_samples_split=8, rf__n_estimators=200;, score=(train=-3.025, test=-5.505) total time=  17.5s\n",
      "[CV 2/4; 1/1] START rf__max_depth=18, rf__min_samples_leaf=1, rf__min_samples_split=8, rf__n_estimators=200\n",
      "[CV 2/4; 1/1] END rf__max_depth=18, rf__min_samples_leaf=1, rf__min_samples_split=8, rf__n_estimators=200;, score=(train=-3.061, test=-5.716) total time=  19.0s\n",
      "[CV 3/4; 1/1] START rf__max_depth=18, rf__min_samples_leaf=1, rf__min_samples_split=8, rf__n_estimators=200\n",
      "[CV 3/4; 1/1] END rf__max_depth=18, rf__min_samples_leaf=1, rf__min_samples_split=8, rf__n_estimators=200;, score=(train=-3.043, test=-5.903) total time=  18.9s\n",
      "[CV 4/4; 1/1] START rf__max_depth=18, rf__min_samples_leaf=1, rf__min_samples_split=8, rf__n_estimators=200\n",
      "[CV 4/4; 1/1] END rf__max_depth=18, rf__min_samples_leaf=1, rf__min_samples_split=8, rf__n_estimators=200;, score=(train=-2.978, test=-6.336) total time=  18.4s\n",
      "Selected Parameters {'rf__max_depth': 18, 'rf__min_samples_leaf': 1, 'rf__min_samples_split': 8, 'rf__n_estimators': 200}\n",
      "Train score: 0.9504816754668465\n",
      "Test score: 1.1444849443565528\n",
      "Running for 17 out of a total of 39\n",
      "Fitting 4 folds for each of 1 candidates, totalling 4 fits\n",
      "[CV 1/4; 1/1] START rf__max_depth=18, rf__min_samples_leaf=1, rf__min_samples_split=8, rf__n_estimators=200\n",
      "[CV 1/4; 1/1] END rf__max_depth=18, rf__min_samples_leaf=1, rf__min_samples_split=8, rf__n_estimators=200;, score=(train=-2.884, test=-6.674) total time=  17.4s\n",
      "[CV 2/4; 1/1] START rf__max_depth=18, rf__min_samples_leaf=1, rf__min_samples_split=8, rf__n_estimators=200\n",
      "[CV 2/4; 1/1] END rf__max_depth=18, rf__min_samples_leaf=1, rf__min_samples_split=8, rf__n_estimators=200;, score=(train=-3.067, test=-5.437) total time=  18.8s\n",
      "[CV 3/4; 1/1] START rf__max_depth=18, rf__min_samples_leaf=1, rf__min_samples_split=8, rf__n_estimators=200\n",
      "[CV 3/4; 1/1] END rf__max_depth=18, rf__min_samples_leaf=1, rf__min_samples_split=8, rf__n_estimators=200;, score=(train=-3.077, test=-5.367) total time=  18.0s\n",
      "[CV 4/4; 1/1] START rf__max_depth=18, rf__min_samples_leaf=1, rf__min_samples_split=8, rf__n_estimators=200\n",
      "[CV 4/4; 1/1] END rf__max_depth=18, rf__min_samples_leaf=1, rf__min_samples_split=8, rf__n_estimators=200;, score=(train=-3.070, test=-5.902) total time=  19.2s\n",
      "Selected Parameters {'rf__max_depth': 18, 'rf__min_samples_leaf': 1, 'rf__min_samples_split': 8, 'rf__n_estimators': 200}\n",
      "Train score: 0.9514917256335923\n",
      "Test score: 0.24536817762330473\n",
      "Running for 18 out of a total of 39\n",
      "Fitting 4 folds for each of 1 candidates, totalling 4 fits\n",
      "[CV 1/4; 1/1] START rf__max_depth=18, rf__min_samples_leaf=1, rf__min_samples_split=8, rf__n_estimators=200\n",
      "[CV 1/4; 1/1] END rf__max_depth=18, rf__min_samples_leaf=1, rf__min_samples_split=8, rf__n_estimators=200;, score=(train=-3.107, test=-5.272) total time=  17.8s\n",
      "[CV 2/4; 1/1] START rf__max_depth=18, rf__min_samples_leaf=1, rf__min_samples_split=8, rf__n_estimators=200\n",
      "[CV 2/4; 1/1] END rf__max_depth=18, rf__min_samples_leaf=1, rf__min_samples_split=8, rf__n_estimators=200;, score=(train=-2.964, test=-5.799) total time=  21.0s\n",
      "[CV 3/4; 1/1] START rf__max_depth=18, rf__min_samples_leaf=1, rf__min_samples_split=8, rf__n_estimators=200\n",
      "[CV 3/4; 1/1] END rf__max_depth=18, rf__min_samples_leaf=1, rf__min_samples_split=8, rf__n_estimators=200;, score=(train=-3.125, test=-5.720) total time=  18.5s\n",
      "[CV 4/4; 1/1] START rf__max_depth=18, rf__min_samples_leaf=1, rf__min_samples_split=8, rf__n_estimators=200\n",
      "[CV 4/4; 1/1] END rf__max_depth=18, rf__min_samples_leaf=1, rf__min_samples_split=8, rf__n_estimators=200;, score=(train=-2.844, test=-6.844) total time=  19.6s\n",
      "Selected Parameters {'rf__max_depth': 18, 'rf__min_samples_leaf': 1, 'rf__min_samples_split': 8, 'rf__n_estimators': 200}\n",
      "Train score: 0.9471187081829087\n",
      "Test score: 0.942845106591177\n",
      "Running for 19 out of a total of 39\n",
      "Fitting 4 folds for each of 1 candidates, totalling 4 fits\n",
      "[CV 1/4; 1/1] START rf__max_depth=18, rf__min_samples_leaf=1, rf__min_samples_split=8, rf__n_estimators=200\n",
      "[CV 1/4; 1/1] END rf__max_depth=18, rf__min_samples_leaf=1, rf__min_samples_split=8, rf__n_estimators=200;, score=(train=-3.285, test=-5.124) total time=  17.3s\n",
      "[CV 2/4; 1/1] START rf__max_depth=18, rf__min_samples_leaf=1, rf__min_samples_split=8, rf__n_estimators=200\n",
      "[CV 2/4; 1/1] END rf__max_depth=18, rf__min_samples_leaf=1, rf__min_samples_split=8, rf__n_estimators=200;, score=(train=-3.063, test=-6.217) total time=  19.2s\n",
      "[CV 3/4; 1/1] START rf__max_depth=18, rf__min_samples_leaf=1, rf__min_samples_split=8, rf__n_estimators=200\n"
     ]
    },
    {
     "name": "stdout",
     "output_type": "stream",
     "text": [
      "[CV 3/4; 1/1] END rf__max_depth=18, rf__min_samples_leaf=1, rf__min_samples_split=8, rf__n_estimators=200;, score=(train=-3.044, test=-6.147) total time=  17.2s\n",
      "[CV 4/4; 1/1] START rf__max_depth=18, rf__min_samples_leaf=1, rf__min_samples_split=8, rf__n_estimators=200\n",
      "[CV 4/4; 1/1] END rf__max_depth=18, rf__min_samples_leaf=1, rf__min_samples_split=8, rf__n_estimators=200;, score=(train=-3.044, test=-6.257) total time=  18.1s\n",
      "Selected Parameters {'rf__max_depth': 18, 'rf__min_samples_leaf': 1, 'rf__min_samples_split': 8, 'rf__n_estimators': 200}\n",
      "Train score: 0.9723055980008027\n",
      "Test score: 2.7259798660969947\n",
      "Running for 20 out of a total of 39\n",
      "Fitting 4 folds for each of 1 candidates, totalling 4 fits\n",
      "[CV 1/4; 1/1] START rf__max_depth=18, rf__min_samples_leaf=1, rf__min_samples_split=8, rf__n_estimators=200\n",
      "[CV 1/4; 1/1] END rf__max_depth=18, rf__min_samples_leaf=1, rf__min_samples_split=8, rf__n_estimators=200;, score=(train=-2.987, test=-5.806) total time=  18.2s\n",
      "[CV 2/4; 1/1] START rf__max_depth=18, rf__min_samples_leaf=1, rf__min_samples_split=8, rf__n_estimators=200\n",
      "[CV 2/4; 1/1] END rf__max_depth=18, rf__min_samples_leaf=1, rf__min_samples_split=8, rf__n_estimators=200;, score=(train=-3.055, test=-6.028) total time=  19.4s\n",
      "[CV 3/4; 1/1] START rf__max_depth=18, rf__min_samples_leaf=1, rf__min_samples_split=8, rf__n_estimators=200\n",
      "[CV 3/4; 1/1] END rf__max_depth=18, rf__min_samples_leaf=1, rf__min_samples_split=8, rf__n_estimators=200;, score=(train=-3.054, test=-6.169) total time=  18.3s\n",
      "[CV 4/4; 1/1] START rf__max_depth=18, rf__min_samples_leaf=1, rf__min_samples_split=8, rf__n_estimators=200\n",
      "[CV 4/4; 1/1] END rf__max_depth=18, rf__min_samples_leaf=1, rf__min_samples_split=8, rf__n_estimators=200;, score=(train=-3.096, test=-5.803) total time=  17.1s\n",
      "Selected Parameters {'rf__max_depth': 18, 'rf__min_samples_leaf': 1, 'rf__min_samples_split': 8, 'rf__n_estimators': 200}\n",
      "Train score: 0.984739127019488\n",
      "Test score: 0.7154429443100856\n",
      "Running for 21 out of a total of 39\n",
      "Fitting 4 folds for each of 1 candidates, totalling 4 fits\n",
      "[CV 1/4; 1/1] START rf__max_depth=18, rf__min_samples_leaf=1, rf__min_samples_split=8, rf__n_estimators=200\n",
      "[CV 1/4; 1/1] END rf__max_depth=18, rf__min_samples_leaf=1, rf__min_samples_split=8, rf__n_estimators=200;, score=(train=-2.895, test=-6.190) total time=  20.3s\n",
      "[CV 2/4; 1/1] START rf__max_depth=18, rf__min_samples_leaf=1, rf__min_samples_split=8, rf__n_estimators=200\n",
      "[CV 2/4; 1/1] END rf__max_depth=18, rf__min_samples_leaf=1, rf__min_samples_split=8, rf__n_estimators=200;, score=(train=-2.915, test=-5.664) total time=  18.6s\n",
      "[CV 3/4; 1/1] START rf__max_depth=18, rf__min_samples_leaf=1, rf__min_samples_split=8, rf__n_estimators=200\n",
      "[CV 3/4; 1/1] END rf__max_depth=18, rf__min_samples_leaf=1, rf__min_samples_split=8, rf__n_estimators=200;, score=(train=-2.813, test=-5.806) total time=  18.3s\n",
      "[CV 4/4; 1/1] START rf__max_depth=18, rf__min_samples_leaf=1, rf__min_samples_split=8, rf__n_estimators=200\n",
      "[CV 4/4; 1/1] END rf__max_depth=18, rf__min_samples_leaf=1, rf__min_samples_split=8, rf__n_estimators=200;, score=(train=-2.974, test=-5.206) total time=  18.3s\n",
      "Selected Parameters {'rf__max_depth': 18, 'rf__min_samples_leaf': 1, 'rf__min_samples_split': 8, 'rf__n_estimators': 200}\n",
      "Train score: 0.9063893649683048\n",
      "Test score: 5.496767846563506\n",
      "Running for 22 out of a total of 39\n",
      "Fitting 4 folds for each of 1 candidates, totalling 4 fits\n",
      "[CV 1/4; 1/1] START rf__max_depth=18, rf__min_samples_leaf=1, rf__min_samples_split=8, rf__n_estimators=200\n",
      "[CV 1/4; 1/1] END rf__max_depth=18, rf__min_samples_leaf=1, rf__min_samples_split=8, rf__n_estimators=200;, score=(train=-2.903, test=-5.961) total time=  17.7s\n",
      "[CV 2/4; 1/1] START rf__max_depth=18, rf__min_samples_leaf=1, rf__min_samples_split=8, rf__n_estimators=200\n",
      "[CV 2/4; 1/1] END rf__max_depth=18, rf__min_samples_leaf=1, rf__min_samples_split=8, rf__n_estimators=200;, score=(train=-3.044, test=-5.889) total time=  19.3s\n",
      "[CV 3/4; 1/1] START rf__max_depth=18, rf__min_samples_leaf=1, rf__min_samples_split=8, rf__n_estimators=200\n",
      "[CV 3/4; 1/1] END rf__max_depth=18, rf__min_samples_leaf=1, rf__min_samples_split=8, rf__n_estimators=200;, score=(train=-3.127, test=-5.250) total time=  19.3s\n",
      "[CV 4/4; 1/1] START rf__max_depth=18, rf__min_samples_leaf=1, rf__min_samples_split=8, rf__n_estimators=200\n",
      "[CV 4/4; 1/1] END rf__max_depth=18, rf__min_samples_leaf=1, rf__min_samples_split=8, rf__n_estimators=200;, score=(train=-3.065, test=-6.045) total time=  20.5s\n",
      "Selected Parameters {'rf__max_depth': 18, 'rf__min_samples_leaf': 1, 'rf__min_samples_split': 8, 'rf__n_estimators': 200}\n",
      "Train score: 0.9454145990591915\n",
      "Test score: 2.5257250025374494\n",
      "Running for 23 out of a total of 39\n",
      "Fitting 4 folds for each of 1 candidates, totalling 4 fits\n",
      "[CV 1/4; 1/1] START rf__max_depth=18, rf__min_samples_leaf=1, rf__min_samples_split=8, rf__n_estimators=200\n",
      "[CV 1/4; 1/1] END rf__max_depth=18, rf__min_samples_leaf=1, rf__min_samples_split=8, rf__n_estimators=200;, score=(train=-2.788, test=-6.961) total time=  19.8s\n",
      "[CV 2/4; 1/1] START rf__max_depth=18, rf__min_samples_leaf=1, rf__min_samples_split=8, rf__n_estimators=200\n",
      "[CV 2/4; 1/1] END rf__max_depth=18, rf__min_samples_leaf=1, rf__min_samples_split=8, rf__n_estimators=200;, score=(train=-3.091, test=-5.474) total time=  18.6s\n",
      "[CV 3/4; 1/1] START rf__max_depth=18, rf__min_samples_leaf=1, rf__min_samples_split=8, rf__n_estimators=200\n",
      "[CV 3/4; 1/1] END rf__max_depth=18, rf__min_samples_leaf=1, rf__min_samples_split=8, rf__n_estimators=200;, score=(train=-3.127, test=-5.391) total time=  19.3s\n",
      "[CV 4/4; 1/1] START rf__max_depth=18, rf__min_samples_leaf=1, rf__min_samples_split=8, rf__n_estimators=200\n",
      "[CV 4/4; 1/1] END rf__max_depth=18, rf__min_samples_leaf=1, rf__min_samples_split=8, rf__n_estimators=200;, score=(train=-3.202, test=-5.390) total time=  18.5s\n",
      "Selected Parameters {'rf__max_depth': 18, 'rf__min_samples_leaf': 1, 'rf__min_samples_split': 8, 'rf__n_estimators': 200}\n",
      "Train score: 0.9490499677197528\n",
      "Test score: 1.8767140523111951\n",
      "Running for 24 out of a total of 39\n",
      "Fitting 4 folds for each of 1 candidates, totalling 4 fits\n",
      "[CV 1/4; 1/1] START rf__max_depth=18, rf__min_samples_leaf=1, rf__min_samples_split=8, rf__n_estimators=200\n",
      "[CV 1/4; 1/1] END rf__max_depth=18, rf__min_samples_leaf=1, rf__min_samples_split=8, rf__n_estimators=200;, score=(train=-3.174, test=-5.256) total time=  23.0s\n",
      "[CV 2/4; 1/1] START rf__max_depth=18, rf__min_samples_leaf=1, rf__min_samples_split=8, rf__n_estimators=200\n",
      "[CV 2/4; 1/1] END rf__max_depth=18, rf__min_samples_leaf=1, rf__min_samples_split=8, rf__n_estimators=200;, score=(train=-2.912, test=-6.360) total time=  20.0s\n",
      "[CV 3/4; 1/1] START rf__max_depth=18, rf__min_samples_leaf=1, rf__min_samples_split=8, rf__n_estimators=200\n",
      "[CV 3/4; 1/1] END rf__max_depth=18, rf__min_samples_leaf=1, rf__min_samples_split=8, rf__n_estimators=200;, score=(train=-2.866, test=-6.641) total time=  19.2s\n",
      "[CV 4/4; 1/1] START rf__max_depth=18, rf__min_samples_leaf=1, rf__min_samples_split=8, rf__n_estimators=200\n",
      "[CV 4/4; 1/1] END rf__max_depth=18, rf__min_samples_leaf=1, rf__min_samples_split=8, rf__n_estimators=200;, score=(train=-3.122, test=-5.191) total time=  21.0s\n",
      "Selected Parameters {'rf__max_depth': 18, 'rf__min_samples_leaf': 1, 'rf__min_samples_split': 8, 'rf__n_estimators': 200}\n",
      "Train score: 0.9616238467859747\n",
      "Test score: 0.10803025027940001\n",
      "Running for 25 out of a total of 39\n",
      "Fitting 4 folds for each of 1 candidates, totalling 4 fits\n",
      "[CV 1/4; 1/1] START rf__max_depth=18, rf__min_samples_leaf=1, rf__min_samples_split=8, rf__n_estimators=200\n",
      "[CV 1/4; 1/1] END rf__max_depth=18, rf__min_samples_leaf=1, rf__min_samples_split=8, rf__n_estimators=200;, score=(train=-3.190, test=-4.747) total time=  20.1s\n",
      "[CV 2/4; 1/1] START rf__max_depth=18, rf__min_samples_leaf=1, rf__min_samples_split=8, rf__n_estimators=200\n",
      "[CV 2/4; 1/1] END rf__max_depth=18, rf__min_samples_leaf=1, rf__min_samples_split=8, rf__n_estimators=200;, score=(train=-2.871, test=-6.810) total time=  19.5s\n",
      "[CV 3/4; 1/1] START rf__max_depth=18, rf__min_samples_leaf=1, rf__min_samples_split=8, rf__n_estimators=200\n",
      "[CV 3/4; 1/1] END rf__max_depth=18, rf__min_samples_leaf=1, rf__min_samples_split=8, rf__n_estimators=200;, score=(train=-3.119, test=-5.614) total time=  19.8s\n",
      "[CV 4/4; 1/1] START rf__max_depth=18, rf__min_samples_leaf=1, rf__min_samples_split=8, rf__n_estimators=200\n"
     ]
    },
    {
     "name": "stdout",
     "output_type": "stream",
     "text": [
      "[CV 4/4; 1/1] END rf__max_depth=18, rf__min_samples_leaf=1, rf__min_samples_split=8, rf__n_estimators=200;, score=(train=-2.973, test=-6.011) total time=  19.1s\n",
      "Selected Parameters {'rf__max_depth': 18, 'rf__min_samples_leaf': 1, 'rf__min_samples_split': 8, 'rf__n_estimators': 200}\n",
      "Train score: 0.9418125499841419\n",
      "Test score: 1.9789539852234285e-07\n",
      "Running for 26 out of a total of 39\n",
      "Fitting 4 folds for each of 1 candidates, totalling 4 fits\n",
      "[CV 1/4; 1/1] START rf__max_depth=18, rf__min_samples_leaf=1, rf__min_samples_split=8, rf__n_estimators=200\n",
      "[CV 1/4; 1/1] END rf__max_depth=18, rf__min_samples_leaf=1, rf__min_samples_split=8, rf__n_estimators=200;, score=(train=-3.015, test=-6.026) total time=  20.2s\n",
      "[CV 2/4; 1/1] START rf__max_depth=18, rf__min_samples_leaf=1, rf__min_samples_split=8, rf__n_estimators=200\n",
      "[CV 2/4; 1/1] END rf__max_depth=18, rf__min_samples_leaf=1, rf__min_samples_split=8, rf__n_estimators=200;, score=(train=-3.044, test=-5.626) total time=  19.1s\n",
      "[CV 3/4; 1/1] START rf__max_depth=18, rf__min_samples_leaf=1, rf__min_samples_split=8, rf__n_estimators=200\n",
      "[CV 3/4; 1/1] END rf__max_depth=18, rf__min_samples_leaf=1, rf__min_samples_split=8, rf__n_estimators=200;, score=(train=-3.067, test=-5.574) total time=  19.3s\n",
      "[CV 4/4; 1/1] START rf__max_depth=18, rf__min_samples_leaf=1, rf__min_samples_split=8, rf__n_estimators=200\n",
      "[CV 4/4; 1/1] END rf__max_depth=18, rf__min_samples_leaf=1, rf__min_samples_split=8, rf__n_estimators=200;, score=(train=-3.116, test=-5.750) total time=  19.6s\n",
      "Selected Parameters {'rf__max_depth': 18, 'rf__min_samples_leaf': 1, 'rf__min_samples_split': 8, 'rf__n_estimators': 200}\n",
      "Train score: 0.9420930654641122\n",
      "Test score: 2.7294034928440247\n",
      "Running for 27 out of a total of 39\n",
      "Fitting 4 folds for each of 1 candidates, totalling 4 fits\n",
      "[CV 1/4; 1/1] START rf__max_depth=18, rf__min_samples_leaf=1, rf__min_samples_split=8, rf__n_estimators=200\n",
      "[CV 1/4; 1/1] END rf__max_depth=18, rf__min_samples_leaf=1, rf__min_samples_split=8, rf__n_estimators=200;, score=(train=-3.004, test=-6.280) total time=  18.8s\n",
      "[CV 2/4; 1/1] START rf__max_depth=18, rf__min_samples_leaf=1, rf__min_samples_split=8, rf__n_estimators=200\n",
      "[CV 2/4; 1/1] END rf__max_depth=18, rf__min_samples_leaf=1, rf__min_samples_split=8, rf__n_estimators=200;, score=(train=-3.117, test=-5.468) total time=  19.2s\n",
      "[CV 3/4; 1/1] START rf__max_depth=18, rf__min_samples_leaf=1, rf__min_samples_split=8, rf__n_estimators=200\n",
      "[CV 3/4; 1/1] END rf__max_depth=18, rf__min_samples_leaf=1, rf__min_samples_split=8, rf__n_estimators=200;, score=(train=-3.021, test=-6.074) total time=  22.3s\n",
      "[CV 4/4; 1/1] START rf__max_depth=18, rf__min_samples_leaf=1, rf__min_samples_split=8, rf__n_estimators=200\n",
      "[CV 4/4; 1/1] END rf__max_depth=18, rf__min_samples_leaf=1, rf__min_samples_split=8, rf__n_estimators=200;, score=(train=-3.070, test=-5.730) total time=  20.1s\n",
      "Selected Parameters {'rf__max_depth': 18, 'rf__min_samples_leaf': 1, 'rf__min_samples_split': 8, 'rf__n_estimators': 200}\n",
      "Train score: 0.9610551729944914\n",
      "Test score: 1.6923396790767604\n",
      "Running for 28 out of a total of 39\n",
      "Fitting 4 folds for each of 1 candidates, totalling 4 fits\n",
      "[CV 1/4; 1/1] START rf__max_depth=18, rf__min_samples_leaf=1, rf__min_samples_split=8, rf__n_estimators=200\n",
      "[CV 1/4; 1/1] END rf__max_depth=18, rf__min_samples_leaf=1, rf__min_samples_split=8, rf__n_estimators=200;, score=(train=-2.862, test=-6.485) total time=  19.9s\n",
      "[CV 2/4; 1/1] START rf__max_depth=18, rf__min_samples_leaf=1, rf__min_samples_split=8, rf__n_estimators=200\n",
      "[CV 2/4; 1/1] END rf__max_depth=18, rf__min_samples_leaf=1, rf__min_samples_split=8, rf__n_estimators=200;, score=(train=-3.102, test=-6.209) total time=  17.8s\n",
      "[CV 3/4; 1/1] START rf__max_depth=18, rf__min_samples_leaf=1, rf__min_samples_split=8, rf__n_estimators=200\n",
      "[CV 3/4; 1/1] END rf__max_depth=18, rf__min_samples_leaf=1, rf__min_samples_split=8, rf__n_estimators=200;, score=(train=-3.141, test=-5.237) total time=  19.0s\n",
      "[CV 4/4; 1/1] START rf__max_depth=18, rf__min_samples_leaf=1, rf__min_samples_split=8, rf__n_estimators=200\n",
      "[CV 4/4; 1/1] END rf__max_depth=18, rf__min_samples_leaf=1, rf__min_samples_split=8, rf__n_estimators=200;, score=(train=-3.081, test=-5.733) total time=  18.8s\n",
      "Selected Parameters {'rf__max_depth': 18, 'rf__min_samples_leaf': 1, 'rf__min_samples_split': 8, 'rf__n_estimators': 200}\n",
      "Train score: 0.9518262091085482\n",
      "Test score: 1.7884980797591938\n",
      "Running for 29 out of a total of 39\n",
      "Fitting 4 folds for each of 1 candidates, totalling 4 fits\n",
      "[CV 1/4; 1/1] START rf__max_depth=18, rf__min_samples_leaf=1, rf__min_samples_split=8, rf__n_estimators=200\n",
      "[CV 1/4; 1/1] END rf__max_depth=18, rf__min_samples_leaf=1, rf__min_samples_split=8, rf__n_estimators=200;, score=(train=-3.059, test=-6.695) total time=  18.2s\n",
      "[CV 2/4; 1/1] START rf__max_depth=18, rf__min_samples_leaf=1, rf__min_samples_split=8, rf__n_estimators=200\n",
      "[CV 2/4; 1/1] END rf__max_depth=18, rf__min_samples_leaf=1, rf__min_samples_split=8, rf__n_estimators=200;, score=(train=-3.171, test=-5.583) total time=  19.0s\n",
      "[CV 3/4; 1/1] START rf__max_depth=18, rf__min_samples_leaf=1, rf__min_samples_split=8, rf__n_estimators=200\n",
      "[CV 3/4; 1/1] END rf__max_depth=18, rf__min_samples_leaf=1, rf__min_samples_split=8, rf__n_estimators=200;, score=(train=-3.096, test=-6.058) total time=  18.9s\n",
      "[CV 4/4; 1/1] START rf__max_depth=18, rf__min_samples_leaf=1, rf__min_samples_split=8, rf__n_estimators=200\n",
      "[CV 4/4; 1/1] END rf__max_depth=18, rf__min_samples_leaf=1, rf__min_samples_split=8, rf__n_estimators=200;, score=(train=-3.038, test=-5.922) total time=  18.2s\n",
      "Selected Parameters {'rf__max_depth': 18, 'rf__min_samples_leaf': 1, 'rf__min_samples_split': 8, 'rf__n_estimators': 200}\n",
      "Train score: 0.9846530947144401\n",
      "Test score: 0.03164869995437654\n",
      "Running for 30 out of a total of 39\n",
      "Fitting 4 folds for each of 1 candidates, totalling 4 fits\n",
      "[CV 1/4; 1/1] START rf__max_depth=18, rf__min_samples_leaf=1, rf__min_samples_split=8, rf__n_estimators=200\n",
      "[CV 1/4; 1/1] END rf__max_depth=18, rf__min_samples_leaf=1, rf__min_samples_split=8, rf__n_estimators=200;, score=(train=-3.033, test=-5.922) total time=  18.2s\n",
      "[CV 2/4; 1/1] START rf__max_depth=18, rf__min_samples_leaf=1, rf__min_samples_split=8, rf__n_estimators=200\n",
      "[CV 2/4; 1/1] END rf__max_depth=18, rf__min_samples_leaf=1, rf__min_samples_split=8, rf__n_estimators=200;, score=(train=-2.987, test=-5.812) total time=  19.5s\n",
      "[CV 3/4; 1/1] START rf__max_depth=18, rf__min_samples_leaf=1, rf__min_samples_split=8, rf__n_estimators=200\n",
      "[CV 3/4; 1/1] END rf__max_depth=18, rf__min_samples_leaf=1, rf__min_samples_split=8, rf__n_estimators=200;, score=(train=-3.085, test=-5.813) total time=  19.7s\n",
      "[CV 4/4; 1/1] START rf__max_depth=18, rf__min_samples_leaf=1, rf__min_samples_split=8, rf__n_estimators=200\n",
      "[CV 4/4; 1/1] END rf__max_depth=18, rf__min_samples_leaf=1, rf__min_samples_split=8, rf__n_estimators=200;, score=(train=-2.970, test=-6.139) total time=  18.4s\n",
      "Selected Parameters {'rf__max_depth': 18, 'rf__min_samples_leaf': 1, 'rf__min_samples_split': 8, 'rf__n_estimators': 200}\n",
      "Train score: 0.9202714127825504\n",
      "Test score: 2.5003743103371843\n",
      "Running for 31 out of a total of 39\n",
      "Fitting 4 folds for each of 1 candidates, totalling 4 fits\n",
      "[CV 1/4; 1/1] START rf__max_depth=18, rf__min_samples_leaf=1, rf__min_samples_split=8, rf__n_estimators=200\n",
      "[CV 1/4; 1/1] END rf__max_depth=18, rf__min_samples_leaf=1, rf__min_samples_split=8, rf__n_estimators=200;, score=(train=-3.072, test=-5.547) total time=  18.9s\n",
      "[CV 2/4; 1/1] START rf__max_depth=18, rf__min_samples_leaf=1, rf__min_samples_split=8, rf__n_estimators=200\n",
      "[CV 2/4; 1/1] END rf__max_depth=18, rf__min_samples_leaf=1, rf__min_samples_split=8, rf__n_estimators=200;, score=(train=-2.961, test=-6.008) total time=  18.0s\n",
      "[CV 3/4; 1/1] START rf__max_depth=18, rf__min_samples_leaf=1, rf__min_samples_split=8, rf__n_estimators=200\n",
      "[CV 3/4; 1/1] END rf__max_depth=18, rf__min_samples_leaf=1, rf__min_samples_split=8, rf__n_estimators=200;, score=(train=-3.135, test=-5.534) total time=  18.5s\n",
      "[CV 4/4; 1/1] START rf__max_depth=18, rf__min_samples_leaf=1, rf__min_samples_split=8, rf__n_estimators=200\n",
      "[CV 4/4; 1/1] END rf__max_depth=18, rf__min_samples_leaf=1, rf__min_samples_split=8, rf__n_estimators=200;, score=(train=-2.793, test=-6.523) total time=  17.8s\n"
     ]
    },
    {
     "name": "stdout",
     "output_type": "stream",
     "text": [
      "Selected Parameters {'rf__max_depth': 18, 'rf__min_samples_leaf': 1, 'rf__min_samples_split': 8, 'rf__n_estimators': 200}\n",
      "Train score: 0.9170649328298324\n",
      "Test score: 4.701097084135209\n",
      "Running for 32 out of a total of 39\n",
      "Fitting 4 folds for each of 1 candidates, totalling 4 fits\n",
      "[CV 1/4; 1/1] START rf__max_depth=18, rf__min_samples_leaf=1, rf__min_samples_split=8, rf__n_estimators=200\n",
      "[CV 1/4; 1/1] END rf__max_depth=18, rf__min_samples_leaf=1, rf__min_samples_split=8, rf__n_estimators=200;, score=(train=-2.967, test=-5.913) total time=  20.1s\n",
      "[CV 2/4; 1/1] START rf__max_depth=18, rf__min_samples_leaf=1, rf__min_samples_split=8, rf__n_estimators=200\n",
      "[CV 2/4; 1/1] END rf__max_depth=18, rf__min_samples_leaf=1, rf__min_samples_split=8, rf__n_estimators=200;, score=(train=-2.958, test=-6.314) total time=  20.2s\n",
      "[CV 3/4; 1/1] START rf__max_depth=18, rf__min_samples_leaf=1, rf__min_samples_split=8, rf__n_estimators=200\n",
      "[CV 3/4; 1/1] END rf__max_depth=18, rf__min_samples_leaf=1, rf__min_samples_split=8, rf__n_estimators=200;, score=(train=-3.085, test=-5.347) total time=  19.2s\n",
      "[CV 4/4; 1/1] START rf__max_depth=18, rf__min_samples_leaf=1, rf__min_samples_split=8, rf__n_estimators=200\n",
      "[CV 4/4; 1/1] END rf__max_depth=18, rf__min_samples_leaf=1, rf__min_samples_split=8, rf__n_estimators=200;, score=(train=-3.098, test=-5.630) total time=  19.7s\n",
      "Selected Parameters {'rf__max_depth': 18, 'rf__min_samples_leaf': 1, 'rf__min_samples_split': 8, 'rf__n_estimators': 200}\n",
      "Train score: 0.9479862277678391\n",
      "Test score: 0.6789707272225585\n",
      "Running for 33 out of a total of 39\n",
      "Fitting 4 folds for each of 1 candidates, totalling 4 fits\n",
      "[CV 1/4; 1/1] START rf__max_depth=18, rf__min_samples_leaf=1, rf__min_samples_split=8, rf__n_estimators=200\n",
      "[CV 1/4; 1/1] END rf__max_depth=18, rf__min_samples_leaf=1, rf__min_samples_split=8, rf__n_estimators=200;, score=(train=-2.942, test=-6.216) total time=  18.8s\n",
      "[CV 2/4; 1/1] START rf__max_depth=18, rf__min_samples_leaf=1, rf__min_samples_split=8, rf__n_estimators=200\n",
      "[CV 2/4; 1/1] END rf__max_depth=18, rf__min_samples_leaf=1, rf__min_samples_split=8, rf__n_estimators=200;, score=(train=-3.071, test=-5.704) total time=  19.3s\n",
      "[CV 3/4; 1/1] START rf__max_depth=18, rf__min_samples_leaf=1, rf__min_samples_split=8, rf__n_estimators=200\n",
      "[CV 3/4; 1/1] END rf__max_depth=18, rf__min_samples_leaf=1, rf__min_samples_split=8, rf__n_estimators=200;, score=(train=-3.068, test=-5.557) total time=  19.8s\n",
      "[CV 4/4; 1/1] START rf__max_depth=18, rf__min_samples_leaf=1, rf__min_samples_split=8, rf__n_estimators=200\n",
      "[CV 4/4; 1/1] END rf__max_depth=18, rf__min_samples_leaf=1, rf__min_samples_split=8, rf__n_estimators=200;, score=(train=-3.057, test=-5.764) total time=  22.8s\n",
      "Selected Parameters {'rf__max_depth': 18, 'rf__min_samples_leaf': 1, 'rf__min_samples_split': 8, 'rf__n_estimators': 200}\n",
      "Train score: 0.9483730246625932\n",
      "Test score: 0.595106219440107\n",
      "Running for 34 out of a total of 39\n",
      "Fitting 4 folds for each of 1 candidates, totalling 4 fits\n",
      "[CV 1/4; 1/1] START rf__max_depth=18, rf__min_samples_leaf=1, rf__min_samples_split=8, rf__n_estimators=200\n",
      "[CV 1/4; 1/1] END rf__max_depth=18, rf__min_samples_leaf=1, rf__min_samples_split=8, rf__n_estimators=200;, score=(train=-2.944, test=-6.490) total time=  18.7s\n",
      "[CV 2/4; 1/1] START rf__max_depth=18, rf__min_samples_leaf=1, rf__min_samples_split=8, rf__n_estimators=200\n",
      "[CV 2/4; 1/1] END rf__max_depth=18, rf__min_samples_leaf=1, rf__min_samples_split=8, rf__n_estimators=200;, score=(train=-3.103, test=-5.539) total time=  18.4s\n",
      "[CV 3/4; 1/1] START rf__max_depth=18, rf__min_samples_leaf=1, rf__min_samples_split=8, rf__n_estimators=200\n",
      "[CV 3/4; 1/1] END rf__max_depth=18, rf__min_samples_leaf=1, rf__min_samples_split=8, rf__n_estimators=200;, score=(train=-3.058, test=-5.735) total time=  19.4s\n",
      "[CV 4/4; 1/1] START rf__max_depth=18, rf__min_samples_leaf=1, rf__min_samples_split=8, rf__n_estimators=200\n",
      "[CV 4/4; 1/1] END rf__max_depth=18, rf__min_samples_leaf=1, rf__min_samples_split=8, rf__n_estimators=200;, score=(train=-3.045, test=-5.856) total time=  19.5s\n",
      "Selected Parameters {'rf__max_depth': 18, 'rf__min_samples_leaf': 1, 'rf__min_samples_split': 8, 'rf__n_estimators': 200}\n",
      "Train score: 0.9618457245710197\n",
      "Test score: 0.21242142261406602\n",
      "Running for 35 out of a total of 39\n",
      "Fitting 4 folds for each of 1 candidates, totalling 4 fits\n",
      "[CV 1/4; 1/1] START rf__max_depth=18, rf__min_samples_leaf=1, rf__min_samples_split=8, rf__n_estimators=200\n",
      "[CV 1/4; 1/1] END rf__max_depth=18, rf__min_samples_leaf=1, rf__min_samples_split=8, rf__n_estimators=200;, score=(train=-3.118, test=-5.513) total time=  20.1s\n",
      "[CV 2/4; 1/1] START rf__max_depth=18, rf__min_samples_leaf=1, rf__min_samples_split=8, rf__n_estimators=200\n",
      "[CV 2/4; 1/1] END rf__max_depth=18, rf__min_samples_leaf=1, rf__min_samples_split=8, rf__n_estimators=200;, score=(train=-2.955, test=-6.191) total time=  19.3s\n",
      "[CV 3/4; 1/1] START rf__max_depth=18, rf__min_samples_leaf=1, rf__min_samples_split=8, rf__n_estimators=200\n",
      "[CV 3/4; 1/1] END rf__max_depth=18, rf__min_samples_leaf=1, rf__min_samples_split=8, rf__n_estimators=200;, score=(train=-2.929, test=-6.125) total time=  18.4s\n",
      "[CV 4/4; 1/1] START rf__max_depth=18, rf__min_samples_leaf=1, rf__min_samples_split=8, rf__n_estimators=200\n",
      "[CV 4/4; 1/1] END rf__max_depth=18, rf__min_samples_leaf=1, rf__min_samples_split=8, rf__n_estimators=200;, score=(train=-3.046, test=-5.663) total time=  19.5s\n",
      "Selected Parameters {'rf__max_depth': 18, 'rf__min_samples_leaf': 1, 'rf__min_samples_split': 8, 'rf__n_estimators': 200}\n",
      "Train score: 0.9460383434581802\n",
      "Test score: 2.1076930093808817\n",
      "Running for 36 out of a total of 39\n",
      "Fitting 4 folds for each of 1 candidates, totalling 4 fits\n",
      "[CV 1/4; 1/1] START rf__max_depth=18, rf__min_samples_leaf=1, rf__min_samples_split=8, rf__n_estimators=200\n",
      "[CV 1/4; 1/1] END rf__max_depth=18, rf__min_samples_leaf=1, rf__min_samples_split=8, rf__n_estimators=200;, score=(train=-3.076, test=-5.959) total time=  19.5s\n",
      "[CV 2/4; 1/1] START rf__max_depth=18, rf__min_samples_leaf=1, rf__min_samples_split=8, rf__n_estimators=200\n",
      "[CV 2/4; 1/1] END rf__max_depth=18, rf__min_samples_leaf=1, rf__min_samples_split=8, rf__n_estimators=200;, score=(train=-2.995, test=-6.048) total time=  19.1s\n",
      "[CV 3/4; 1/1] START rf__max_depth=18, rf__min_samples_leaf=1, rf__min_samples_split=8, rf__n_estimators=200\n",
      "[CV 3/4; 1/1] END rf__max_depth=18, rf__min_samples_leaf=1, rf__min_samples_split=8, rf__n_estimators=200;, score=(train=-3.077, test=-5.528) total time=  19.8s\n",
      "[CV 4/4; 1/1] START rf__max_depth=18, rf__min_samples_leaf=1, rf__min_samples_split=8, rf__n_estimators=200\n",
      "[CV 4/4; 1/1] END rf__max_depth=18, rf__min_samples_leaf=1, rf__min_samples_split=8, rf__n_estimators=200;, score=(train=-2.943, test=-6.029) total time=  19.6s\n",
      "Selected Parameters {'rf__max_depth': 18, 'rf__min_samples_leaf': 1, 'rf__min_samples_split': 8, 'rf__n_estimators': 200}\n",
      "Train score: 0.9424792095490113\n",
      "Test score: 2.971759989830974\n",
      "Running for 37 out of a total of 39\n",
      "Fitting 4 folds for each of 1 candidates, totalling 4 fits\n",
      "[CV 1/4; 1/1] START rf__max_depth=18, rf__min_samples_leaf=1, rf__min_samples_split=8, rf__n_estimators=200\n",
      "[CV 1/4; 1/1] END rf__max_depth=18, rf__min_samples_leaf=1, rf__min_samples_split=8, rf__n_estimators=200;, score=(train=-2.954, test=-6.678) total time=  18.5s\n",
      "[CV 2/4; 1/1] START rf__max_depth=18, rf__min_samples_leaf=1, rf__min_samples_split=8, rf__n_estimators=200\n",
      "[CV 2/4; 1/1] END rf__max_depth=18, rf__min_samples_leaf=1, rf__min_samples_split=8, rf__n_estimators=200;, score=(train=-3.147, test=-5.240) total time=  20.1s\n",
      "[CV 3/4; 1/1] START rf__max_depth=18, rf__min_samples_leaf=1, rf__min_samples_split=8, rf__n_estimators=200\n",
      "[CV 3/4; 1/1] END rf__max_depth=18, rf__min_samples_leaf=1, rf__min_samples_split=8, rf__n_estimators=200;, score=(train=-3.090, test=-5.647) total time=  19.6s\n",
      "[CV 4/4; 1/1] START rf__max_depth=18, rf__min_samples_leaf=1, rf__min_samples_split=8, rf__n_estimators=200\n",
      "[CV 4/4; 1/1] END rf__max_depth=18, rf__min_samples_leaf=1, rf__min_samples_split=8, rf__n_estimators=200;, score=(train=-3.018, test=-6.267) total time=  21.1s\n",
      "Selected Parameters {'rf__max_depth': 18, 'rf__min_samples_leaf': 1, 'rf__min_samples_split': 8, 'rf__n_estimators': 200}\n",
      "Train score: 0.957971106328548\n",
      "Test score: 0.9158139181856699\n",
      "Running for 38 out of a total of 39\n",
      "Fitting 4 folds for each of 1 candidates, totalling 4 fits\n",
      "[CV 1/4; 1/1] START rf__max_depth=18, rf__min_samples_leaf=1, rf__min_samples_split=8, rf__n_estimators=200\n"
     ]
    },
    {
     "name": "stdout",
     "output_type": "stream",
     "text": [
      "[CV 1/4; 1/1] END rf__max_depth=18, rf__min_samples_leaf=1, rf__min_samples_split=8, rf__n_estimators=200;, score=(train=-3.060, test=-6.085) total time=  18.2s\n",
      "[CV 2/4; 1/1] START rf__max_depth=18, rf__min_samples_leaf=1, rf__min_samples_split=8, rf__n_estimators=200\n",
      "[CV 2/4; 1/1] END rf__max_depth=18, rf__min_samples_leaf=1, rf__min_samples_split=8, rf__n_estimators=200;, score=(train=-3.005, test=-5.503) total time=  19.6s\n",
      "[CV 3/4; 1/1] START rf__max_depth=18, rf__min_samples_leaf=1, rf__min_samples_split=8, rf__n_estimators=200\n",
      "[CV 3/4; 1/1] END rf__max_depth=18, rf__min_samples_leaf=1, rf__min_samples_split=8, rf__n_estimators=200;, score=(train=-3.028, test=-6.067) total time=  19.2s\n",
      "[CV 4/4; 1/1] START rf__max_depth=18, rf__min_samples_leaf=1, rf__min_samples_split=8, rf__n_estimators=200\n",
      "[CV 4/4; 1/1] END rf__max_depth=18, rf__min_samples_leaf=1, rf__min_samples_split=8, rf__n_estimators=200;, score=(train=-3.080, test=-5.915) total time=  18.8s\n",
      "Selected Parameters {'rf__max_depth': 18, 'rf__min_samples_leaf': 1, 'rf__min_samples_split': 8, 'rf__n_estimators': 200}\n",
      "Train score: 0.9672955574747497\n",
      "Test score: 0.9866825387296109\n",
      "Running for 39 out of a total of 39\n",
      "Fitting 4 folds for each of 1 candidates, totalling 4 fits\n",
      "[CV 1/4; 1/1] START rf__max_depth=18, rf__min_samples_leaf=1, rf__min_samples_split=8, rf__n_estimators=200\n",
      "[CV 1/4; 1/1] END rf__max_depth=18, rf__min_samples_leaf=1, rf__min_samples_split=8, rf__n_estimators=200;, score=(train=-2.950, test=-6.302) total time=  18.5s\n",
      "[CV 2/4; 1/1] START rf__max_depth=18, rf__min_samples_leaf=1, rf__min_samples_split=8, rf__n_estimators=200\n",
      "[CV 2/4; 1/1] END rf__max_depth=18, rf__min_samples_leaf=1, rf__min_samples_split=8, rf__n_estimators=200;, score=(train=-3.101, test=-5.773) total time=  19.9s\n",
      "[CV 3/4; 1/1] START rf__max_depth=18, rf__min_samples_leaf=1, rf__min_samples_split=8, rf__n_estimators=200\n",
      "[CV 3/4; 1/1] END rf__max_depth=18, rf__min_samples_leaf=1, rf__min_samples_split=8, rf__n_estimators=200;, score=(train=-3.196, test=-5.081) total time=  19.6s\n",
      "[CV 4/4; 1/1] START rf__max_depth=18, rf__min_samples_leaf=1, rf__min_samples_split=8, rf__n_estimators=200\n",
      "[CV 4/4; 1/1] END rf__max_depth=18, rf__min_samples_leaf=1, rf__min_samples_split=8, rf__n_estimators=200;, score=(train=-3.001, test=-6.139) total time=  19.1s\n",
      "Selected Parameters {'rf__max_depth': 18, 'rf__min_samples_leaf': 1, 'rf__min_samples_split': 8, 'rf__n_estimators': 200}\n",
      "Train score: 0.9609162593992506\n",
      "Test score: 0.8104090066513893\n"
     ]
    }
   ],
   "source": [
    "#%% Setting input varialbes\n",
    "rf_search_space = [\n",
    "    {\n",
    "        \"rf__n_estimators\": [200],\n",
    "        \"rf__max_depth\": [18],\n",
    "        \"rf__min_samples_split\": [8],\n",
    "        \"rf__min_samples_leaf\": [1],\n",
    "    }\n",
    "]\n",
    "\n",
    "df_predicted_rf_regr, selected_params_rf_regr = rf_regression_performance(\n",
    "    df_train_list=df_train_list,\n",
    "    df_test_list=df_test_list,\n",
    "    y_var='DAM_perc_dmg',\n",
    "    features=selected_features_rf_regr,#selected_features_rf_regr,\n",
    "    search_space=rf_search_space,\n",
    "    cv_splits=4,\n",
    "    GS_score=\"neg_root_mean_squared_error\",\n",
    "    GS_randomized=False,\n",
    "    GS_n_iter=10,\n",
    "    verbose=10,\n",
    ")"
   ]
  },
  {
   "cell_type": "code",
   "execution_count": 59,
   "id": "879eaf02",
   "metadata": {},
   "outputs": [
    {
     "name": "stderr",
     "output_type": "stream",
     "text": [
      "C:\\Users\\ATEKLE~1\\AppData\\Local\\Temp/ipykernel_23440/3092513733.py:16: ResourceWarning: unclosed file <_io.BufferedWriter name='C:\\\\Users\\\\ATeklesadik\\\\OneDrive - Rode Kruis\\\\Documents\\\\documents\\\\Typhoon-Impact-based-forecasting-model\\\\IBF-Typhoon-model\\\\models/output/v1/selected_params_rf_regr1.p'>\n",
      "  pickle.dump(selected_params_rf_regr, open(path, \"wb\"))\n",
      "ResourceWarning: Enable tracemalloc to get the object allocation traceback\n"
     ]
    }
   ],
   "source": [
    "#Selected_Parameters={'rf__max_depth': 22, \n",
    "# 'rf__min_samples_leaf': 3,\n",
    "# 'rf__min_samples_split': 2,\n",
    "# 'rf__n_estimators': 100}\n",
    "\n",
    "#rf__max_depth': 18,\n",
    "#'rf__min_samples_leaf': 1,\n",
    "#'rf__min_samples_split': 8,\n",
    "#'rf__n_estimators': 200\n",
    "\n",
    " \n",
    "\n",
    "\n",
    "file_name = \"models/output/v1/selected_params_rf_regr1.p\"\n",
    "path = os.path.join(cdir, file_name)\n",
    "pickle.dump(selected_params_rf_regr, open(path, \"wb\"))\n",
    "\n",
    "file_name = \"models/output/v1/df_predicted_rf_regr1.csv\"\n",
    "path = os.path.join(cdir, file_name)\n",
    "df_predicted_rf_regr.to_csv(path)\n",
    "\n",
    "#df_predicted_rf_regr=pd.read_csv(path)"
   ]
  },
  {
   "cell_type": "code",
   "execution_count": 60,
   "id": "7b9a388c",
   "metadata": {},
   "outputs": [
    {
     "data": {
      "text/html": [
       "<div>\n",
       "<style scoped>\n",
       "    .dataframe tbody tr th:only-of-type {\n",
       "        vertical-align: middle;\n",
       "    }\n",
       "\n",
       "    .dataframe tbody tr th {\n",
       "        vertical-align: top;\n",
       "    }\n",
       "\n",
       "    .dataframe thead th {\n",
       "        text-align: right;\n",
       "    }\n",
       "</style>\n",
       "<table border=\"1\" class=\"dataframe\">\n",
       "  <thead>\n",
       "    <tr style=\"text-align: right;\">\n",
       "      <th></th>\n",
       "      <th>typhoon</th>\n",
       "      <th>actual</th>\n",
       "      <th>predicted</th>\n",
       "    </tr>\n",
       "  </thead>\n",
       "  <tbody>\n",
       "    <tr>\n",
       "      <th>1925</th>\n",
       "      <td>bopha2012</td>\n",
       "      <td>0.000000</td>\n",
       "      <td>3.103131e-03</td>\n",
       "    </tr>\n",
       "    <tr>\n",
       "      <th>1927</th>\n",
       "      <td>bopha2012</td>\n",
       "      <td>0.000000</td>\n",
       "      <td>0.000000e+00</td>\n",
       "    </tr>\n",
       "    <tr>\n",
       "      <th>1928</th>\n",
       "      <td>bopha2012</td>\n",
       "      <td>0.000000</td>\n",
       "      <td>0.000000e+00</td>\n",
       "    </tr>\n",
       "    <tr>\n",
       "      <th>1929</th>\n",
       "      <td>bopha2012</td>\n",
       "      <td>0.000000</td>\n",
       "      <td>4.978486e-02</td>\n",
       "    </tr>\n",
       "    <tr>\n",
       "      <th>1930</th>\n",
       "      <td>bopha2012</td>\n",
       "      <td>0.000000</td>\n",
       "      <td>9.195151e-04</td>\n",
       "    </tr>\n",
       "    <tr>\n",
       "      <th>...</th>\n",
       "      <td>...</td>\n",
       "      <td>...</td>\n",
       "      <td>...</td>\n",
       "    </tr>\n",
       "    <tr>\n",
       "      <th>24605</th>\n",
       "      <td>yutu2018</td>\n",
       "      <td>0.000000</td>\n",
       "      <td>0.000000e+00</td>\n",
       "    </tr>\n",
       "    <tr>\n",
       "      <th>24613</th>\n",
       "      <td>yutu2018</td>\n",
       "      <td>0.000000</td>\n",
       "      <td>3.853367e-07</td>\n",
       "    </tr>\n",
       "    <tr>\n",
       "      <th>24617</th>\n",
       "      <td>yutu2018</td>\n",
       "      <td>0.000000</td>\n",
       "      <td>3.853367e-07</td>\n",
       "    </tr>\n",
       "    <tr>\n",
       "      <th>24619</th>\n",
       "      <td>yutu2018</td>\n",
       "      <td>0.247804</td>\n",
       "      <td>1.191573e+00</td>\n",
       "    </tr>\n",
       "    <tr>\n",
       "      <th>24622</th>\n",
       "      <td>yutu2018</td>\n",
       "      <td>0.000000</td>\n",
       "      <td>3.853367e-07</td>\n",
       "    </tr>\n",
       "  </tbody>\n",
       "</table>\n",
       "<p>8073 rows × 3 columns</p>\n",
       "</div>"
      ],
      "text/plain": [
       "         typhoon    actual     predicted\n",
       "1925   bopha2012  0.000000  3.103131e-03\n",
       "1927   bopha2012  0.000000  0.000000e+00\n",
       "1928   bopha2012  0.000000  0.000000e+00\n",
       "1929   bopha2012  0.000000  4.978486e-02\n",
       "1930   bopha2012  0.000000  9.195151e-04\n",
       "...          ...       ...           ...\n",
       "24605   yutu2018  0.000000  0.000000e+00\n",
       "24613   yutu2018  0.000000  3.853367e-07\n",
       "24617   yutu2018  0.000000  3.853367e-07\n",
       "24619   yutu2018  0.247804  1.191573e+00\n",
       "24622   yutu2018  0.000000  3.853367e-07\n",
       "\n",
       "[8073 rows x 3 columns]"
      ]
     },
     "execution_count": 60,
     "metadata": {},
     "output_type": "execute_result"
    }
   ],
   "source": [
    "df_predicted_rf_regr"
   ]
  },
  {
   "cell_type": "code",
   "execution_count": null,
   "id": "7db1598b",
   "metadata": {},
   "outputs": [],
   "source": [
    "##combined_input_data = combined_input_data[combined_input_data['DAM_perc_dmg'].notnull()] "
   ]
  },
  {
   "cell_type": "markdown",
   "id": "4daf6508",
   "metadata": {},
   "source": [
    "### XGBoost Regression \n",
    "Obtaining the optimal model"
   ]
  },
  {
   "cell_type": "code",
   "execution_count": 61,
   "id": "0fb4061a",
   "metadata": {},
   "outputs": [],
   "source": [
    "# Full dataset for feature selection\n",
    "\n",
    "\n",
    "\n",
    "combined_input_data = combined_input_data[combined_input_data['DAM_perc_dmg'].notnull()]\n",
    "\n",
    "X = combined_input_data[features]\n",
    "y = combined_input_data[\"DAM_perc_dmg\"]\n",
    "\n",
    "# Setting the train and the test sets for obtaining performance estimate\n",
    "df_train_list, df_test_list = splitting_train_test(combined_input_data)\n",
    "\n",
    "\n",
    " "
   ]
  },
  {
   "cell_type": "code",
   "execution_count": null,
   "id": "fcc3d1f8",
   "metadata": {},
   "outputs": [],
   "source": [
    "#learning_rate: step size shrinkage used to prevent overfitting. Range is [0,1]\n",
    "#max_depth: determines how deeply each tree is allowed to grow during any boosting round.\n",
    "#subsample: percentage of samples used per tree. Low value can lead to underfitting.\n",
    "#colsample_bytree: percentage of features used per tree. High value can lead to overfitting.\n",
    "#n_estimators: number of trees you want to build.\n",
    "\n",
    "xgb_search_space = [\n",
    "    {\n",
    "        \"estimator__learning_rate\": [0.1, 0.5, 1],\n",
    "        \"estimator__gamma\": [0.1, 0.5, 2],\n",
    "        \"estimator__max_depth\": [6, 8],\n",
    "        \"estimator__reg_lambda\": [0.001, 0.1, 1],\n",
    "        \"estimator__n_estimators\": [100, 150,200],\n",
    "        \"estimator__colsample_bytree\": [0.5, 0.7],\n",
    "    }\n",
    "]\n",
    "\n",
    "selected_features_xgb_regr, selected_params_xgb_regr_full = xgb_regression_features(\n",
    "    X=X,\n",
    "    y=y,\n",
    "    features=features,\n",
    "    search_space=xgb_search_space,\n",
    "    min_features_to_select=1,\n",
    "    cv_splits=5,\n",
    "    GS_score=\"neg_root_mean_squared_error\",\n",
    "    objective=\"reg:squarederror\",\n",
    "    GS_randomized=True,\n",
    "    GS_n_iter=400,\n",
    "    verbose=10,\n",
    ")\n",
    "\n",
    "\n",
    "print(f\"Number of selected features XGBoost Regression {len(selected_features_xgb_regr)}\")\n",
    "print(f\"Selected features XGBoost Regression: {selected_features_xgb_regr}\")\n",
    "print(f\"Selected Parameters XGBoost Regression: {selected_params_xgb_regr_full}\")\n",
    "\n"
   ]
  },
  {
   "cell_type": "markdown",
   "id": "ffffd942",
   "metadata": {},
   "source": [
    "### Obtaining performance estimate"
   ]
  },
  {
   "cell_type": "code",
   "execution_count": 77,
   "id": "5268c42b",
   "metadata": {},
   "outputs": [],
   "source": [
    "# Setting the selected features for XGB based on the above cell\n",
    "\n",
    "\n",
    "selected_features_xgb_regr =['HAZ_rainfall_Total',\n",
    " 'HAZ_v_max',\n",
    " 'HAZ_dis_track_min',\n",
    " 'GEN_landslide_per',\n",
    " 'TOP_mean_elevation_m',\n",
    " 'TOP_mean_ruggedness',\n",
    " 'VUL_Housing_Units',\n",
    " 'VUL_StrongRoof_StrongWall',\n",
    " 'VUL_StrongRoof_LightWall',\n",
    " 'VUL_LightRoof_StrongWall',\n",
    " 'VUL_vulnerable_groups',\n",
    " 'VUL_pantawid_pamilya_beneficiary']\n",
    "\n",
    "#selected_features_xgb_regr =selected_features_rf_regr\n",
    "selected_params_xgb_regr_full={'estimator__reg_lambda': 0.001,\n",
    " 'estimator__n_estimators': 200,\n",
    " 'estimator__max_depth': 6,\n",
    " 'estimator__learning_rate': 0.1,\n",
    " 'estimator__gamma': 0.1,\n",
    " 'estimator__colsample_bytree': 0.5}"
   ]
  },
  {
   "cell_type": "markdown",
   "id": "de3c83ed",
   "metadata": {},
   "source": [
    "### parameter optimization first based on selected model features"
   ]
  },
  {
   "cell_type": "code",
   "execution_count": 78,
   "id": "13c65a6a",
   "metadata": {},
   "outputs": [
    {
     "name": "stdout",
     "output_type": "stream",
     "text": [
      "Running for 1 out of a total of 39\n",
      "Fitting 5 folds for each of 2 candidates, totalling 10 fits\n",
      "[CV 1/5; 1/2] START xgb__colsample_bytree=0.7, xgb__gamma=0.1, xgb__learning_rate=0.03, xgb__max_depth=6, xgb__n_estimators=50, xgb__reg_lambda=0.001\n"
     ]
    },
    {
     "name": "stderr",
     "output_type": "stream",
     "text": [
      "C:\\Users\\ATeklesadik\\Miniconda3\\envs\\geo_env\\lib\\site-packages\\sklearn\\model_selection\\_search.py:285: UserWarning: The total space of parameters 2 is smaller than n_iter=500. Running 2 iterations. For exhaustive searches, use GridSearchCV.\n",
      "  warnings.warn(\n",
      "C:\\Users\\ATeklesadik\\Miniconda3\\envs\\geo_env\\lib\\site-packages\\xgboost\\data.py:112: UserWarning: Use subset (sliced data) of np.ndarray is not recommended because it will generate extra copies and increase memory consumption\n",
      "  warnings.warn(\n",
      "C:\\Users\\ATeklesadik\\Miniconda3\\envs\\geo_env\\lib\\site-packages\\xgboost\\data.py:112: UserWarning: Use subset (sliced data) of np.ndarray is not recommended because it will generate extra copies and increase memory consumption\n",
      "  warnings.warn(\n"
     ]
    },
    {
     "name": "stdout",
     "output_type": "stream",
     "text": [
      "[CV 1/5; 1/2] END xgb__colsample_bytree=0.7, xgb__gamma=0.1, xgb__learning_rate=0.03, xgb__max_depth=6, xgb__n_estimators=50, xgb__reg_lambda=0.001;, score=(train=-4.526, test=-5.670) total time=   0.2s\n",
      "[CV 2/5; 1/2] START xgb__colsample_bytree=0.7, xgb__gamma=0.1, xgb__learning_rate=0.03, xgb__max_depth=6, xgb__n_estimators=50, xgb__reg_lambda=0.001\n"
     ]
    },
    {
     "name": "stderr",
     "output_type": "stream",
     "text": [
      "C:\\Users\\ATeklesadik\\Miniconda3\\envs\\geo_env\\lib\\site-packages\\xgboost\\data.py:112: UserWarning: Use subset (sliced data) of np.ndarray is not recommended because it will generate extra copies and increase memory consumption\n",
      "  warnings.warn(\n",
      "C:\\Users\\ATeklesadik\\Miniconda3\\envs\\geo_env\\lib\\site-packages\\xgboost\\data.py:112: UserWarning: Use subset (sliced data) of np.ndarray is not recommended because it will generate extra copies and increase memory consumption\n",
      "  warnings.warn(\n"
     ]
    },
    {
     "name": "stdout",
     "output_type": "stream",
     "text": [
      "[CV 2/5; 1/2] END xgb__colsample_bytree=0.7, xgb__gamma=0.1, xgb__learning_rate=0.03, xgb__max_depth=6, xgb__n_estimators=50, xgb__reg_lambda=0.001;, score=(train=-4.392, test=-6.502) total time=   0.2s\n",
      "[CV 3/5; 1/2] START xgb__colsample_bytree=0.7, xgb__gamma=0.1, xgb__learning_rate=0.03, xgb__max_depth=6, xgb__n_estimators=50, xgb__reg_lambda=0.001\n"
     ]
    },
    {
     "name": "stderr",
     "output_type": "stream",
     "text": [
      "C:\\Users\\ATeklesadik\\Miniconda3\\envs\\geo_env\\lib\\site-packages\\xgboost\\data.py:112: UserWarning: Use subset (sliced data) of np.ndarray is not recommended because it will generate extra copies and increase memory consumption\n",
      "  warnings.warn(\n",
      "C:\\Users\\ATeklesadik\\Miniconda3\\envs\\geo_env\\lib\\site-packages\\xgboost\\data.py:112: UserWarning: Use subset (sliced data) of np.ndarray is not recommended because it will generate extra copies and increase memory consumption\n",
      "  warnings.warn(\n"
     ]
    },
    {
     "name": "stdout",
     "output_type": "stream",
     "text": [
      "[CV 3/5; 1/2] END xgb__colsample_bytree=0.7, xgb__gamma=0.1, xgb__learning_rate=0.03, xgb__max_depth=6, xgb__n_estimators=50, xgb__reg_lambda=0.001;, score=(train=-4.690, test=-5.422) total time=   0.2s\n",
      "[CV 4/5; 1/2] START xgb__colsample_bytree=0.7, xgb__gamma=0.1, xgb__learning_rate=0.03, xgb__max_depth=6, xgb__n_estimators=50, xgb__reg_lambda=0.001\n"
     ]
    },
    {
     "name": "stderr",
     "output_type": "stream",
     "text": [
      "C:\\Users\\ATeklesadik\\Miniconda3\\envs\\geo_env\\lib\\site-packages\\xgboost\\data.py:112: UserWarning: Use subset (sliced data) of np.ndarray is not recommended because it will generate extra copies and increase memory consumption\n",
      "  warnings.warn(\n",
      "C:\\Users\\ATeklesadik\\Miniconda3\\envs\\geo_env\\lib\\site-packages\\xgboost\\data.py:112: UserWarning: Use subset (sliced data) of np.ndarray is not recommended because it will generate extra copies and increase memory consumption\n",
      "  warnings.warn(\n"
     ]
    },
    {
     "name": "stdout",
     "output_type": "stream",
     "text": [
      "[CV 4/5; 1/2] END xgb__colsample_bytree=0.7, xgb__gamma=0.1, xgb__learning_rate=0.03, xgb__max_depth=6, xgb__n_estimators=50, xgb__reg_lambda=0.001;, score=(train=-4.513, test=-7.169) total time=   0.2s\n",
      "[CV 5/5; 1/2] START xgb__colsample_bytree=0.7, xgb__gamma=0.1, xgb__learning_rate=0.03, xgb__max_depth=6, xgb__n_estimators=50, xgb__reg_lambda=0.001\n"
     ]
    },
    {
     "name": "stderr",
     "output_type": "stream",
     "text": [
      "C:\\Users\\ATeklesadik\\Miniconda3\\envs\\geo_env\\lib\\site-packages\\xgboost\\data.py:112: UserWarning: Use subset (sliced data) of np.ndarray is not recommended because it will generate extra copies and increase memory consumption\n",
      "  warnings.warn(\n",
      "C:\\Users\\ATeklesadik\\Miniconda3\\envs\\geo_env\\lib\\site-packages\\xgboost\\data.py:112: UserWarning: Use subset (sliced data) of np.ndarray is not recommended because it will generate extra copies and increase memory consumption\n",
      "  warnings.warn(\n"
     ]
    },
    {
     "name": "stdout",
     "output_type": "stream",
     "text": [
      "[CV 5/5; 1/2] END xgb__colsample_bytree=0.7, xgb__gamma=0.1, xgb__learning_rate=0.03, xgb__max_depth=6, xgb__n_estimators=50, xgb__reg_lambda=0.001;, score=(train=-4.588, test=-5.660) total time=   0.2s\n",
      "[CV 1/5; 2/2] START xgb__colsample_bytree=0.7, xgb__gamma=0.1, xgb__learning_rate=0.03, xgb__max_depth=8, xgb__n_estimators=50, xgb__reg_lambda=0.001\n"
     ]
    },
    {
     "name": "stderr",
     "output_type": "stream",
     "text": [
      "C:\\Users\\ATeklesadik\\Miniconda3\\envs\\geo_env\\lib\\site-packages\\xgboost\\data.py:112: UserWarning: Use subset (sliced data) of np.ndarray is not recommended because it will generate extra copies and increase memory consumption\n",
      "  warnings.warn(\n",
      "C:\\Users\\ATeklesadik\\Miniconda3\\envs\\geo_env\\lib\\site-packages\\xgboost\\data.py:112: UserWarning: Use subset (sliced data) of np.ndarray is not recommended because it will generate extra copies and increase memory consumption\n",
      "  warnings.warn(\n"
     ]
    },
    {
     "name": "stdout",
     "output_type": "stream",
     "text": [
      "[CV 1/5; 2/2] END xgb__colsample_bytree=0.7, xgb__gamma=0.1, xgb__learning_rate=0.03, xgb__max_depth=8, xgb__n_estimators=50, xgb__reg_lambda=0.001;, score=(train=-3.605, test=-5.643) total time=   0.3s\n",
      "[CV 2/5; 2/2] START xgb__colsample_bytree=0.7, xgb__gamma=0.1, xgb__learning_rate=0.03, xgb__max_depth=8, xgb__n_estimators=50, xgb__reg_lambda=0.001\n"
     ]
    },
    {
     "name": "stderr",
     "output_type": "stream",
     "text": [
      "C:\\Users\\ATeklesadik\\Miniconda3\\envs\\geo_env\\lib\\site-packages\\xgboost\\data.py:112: UserWarning: Use subset (sliced data) of np.ndarray is not recommended because it will generate extra copies and increase memory consumption\n",
      "  warnings.warn(\n",
      "C:\\Users\\ATeklesadik\\Miniconda3\\envs\\geo_env\\lib\\site-packages\\xgboost\\data.py:112: UserWarning: Use subset (sliced data) of np.ndarray is not recommended because it will generate extra copies and increase memory consumption\n",
      "  warnings.warn(\n"
     ]
    },
    {
     "name": "stdout",
     "output_type": "stream",
     "text": [
      "[CV 2/5; 2/2] END xgb__colsample_bytree=0.7, xgb__gamma=0.1, xgb__learning_rate=0.03, xgb__max_depth=8, xgb__n_estimators=50, xgb__reg_lambda=0.001;, score=(train=-3.416, test=-6.439) total time=   0.4s\n",
      "[CV 3/5; 2/2] START xgb__colsample_bytree=0.7, xgb__gamma=0.1, xgb__learning_rate=0.03, xgb__max_depth=8, xgb__n_estimators=50, xgb__reg_lambda=0.001\n"
     ]
    },
    {
     "name": "stderr",
     "output_type": "stream",
     "text": [
      "C:\\Users\\ATeklesadik\\Miniconda3\\envs\\geo_env\\lib\\site-packages\\xgboost\\data.py:112: UserWarning: Use subset (sliced data) of np.ndarray is not recommended because it will generate extra copies and increase memory consumption\n",
      "  warnings.warn(\n",
      "C:\\Users\\ATeklesadik\\Miniconda3\\envs\\geo_env\\lib\\site-packages\\xgboost\\data.py:112: UserWarning: Use subset (sliced data) of np.ndarray is not recommended because it will generate extra copies and increase memory consumption\n",
      "  warnings.warn(\n"
     ]
    },
    {
     "name": "stdout",
     "output_type": "stream",
     "text": [
      "[CV 3/5; 2/2] END xgb__colsample_bytree=0.7, xgb__gamma=0.1, xgb__learning_rate=0.03, xgb__max_depth=8, xgb__n_estimators=50, xgb__reg_lambda=0.001;, score=(train=-3.658, test=-5.502) total time=   0.3s\n",
      "[CV 4/5; 2/2] START xgb__colsample_bytree=0.7, xgb__gamma=0.1, xgb__learning_rate=0.03, xgb__max_depth=8, xgb__n_estimators=50, xgb__reg_lambda=0.001\n"
     ]
    },
    {
     "name": "stderr",
     "output_type": "stream",
     "text": [
      "C:\\Users\\ATeklesadik\\Miniconda3\\envs\\geo_env\\lib\\site-packages\\xgboost\\data.py:112: UserWarning: Use subset (sliced data) of np.ndarray is not recommended because it will generate extra copies and increase memory consumption\n",
      "  warnings.warn(\n",
      "C:\\Users\\ATeklesadik\\Miniconda3\\envs\\geo_env\\lib\\site-packages\\xgboost\\data.py:112: UserWarning: Use subset (sliced data) of np.ndarray is not recommended because it will generate extra copies and increase memory consumption\n",
      "  warnings.warn(\n"
     ]
    },
    {
     "name": "stdout",
     "output_type": "stream",
     "text": [
      "[CV 4/5; 2/2] END xgb__colsample_bytree=0.7, xgb__gamma=0.1, xgb__learning_rate=0.03, xgb__max_depth=8, xgb__n_estimators=50, xgb__reg_lambda=0.001;, score=(train=-3.602, test=-6.945) total time=   0.3s\n",
      "[CV 5/5; 2/2] START xgb__colsample_bytree=0.7, xgb__gamma=0.1, xgb__learning_rate=0.03, xgb__max_depth=8, xgb__n_estimators=50, xgb__reg_lambda=0.001\n"
     ]
    },
    {
     "name": "stderr",
     "output_type": "stream",
     "text": [
      "C:\\Users\\ATeklesadik\\Miniconda3\\envs\\geo_env\\lib\\site-packages\\xgboost\\data.py:112: UserWarning: Use subset (sliced data) of np.ndarray is not recommended because it will generate extra copies and increase memory consumption\n",
      "  warnings.warn(\n",
      "C:\\Users\\ATeklesadik\\Miniconda3\\envs\\geo_env\\lib\\site-packages\\xgboost\\data.py:112: UserWarning: Use subset (sliced data) of np.ndarray is not recommended because it will generate extra copies and increase memory consumption\n",
      "  warnings.warn(\n"
     ]
    },
    {
     "name": "stdout",
     "output_type": "stream",
     "text": [
      "[CV 5/5; 2/2] END xgb__colsample_bytree=0.7, xgb__gamma=0.1, xgb__learning_rate=0.03, xgb__max_depth=8, xgb__n_estimators=50, xgb__reg_lambda=0.001;, score=(train=-3.550, test=-5.772) total time=   0.3s\n"
     ]
    },
    {
     "name": "stderr",
     "output_type": "stream",
     "text": [
      "C:\\Users\\ATeklesadik\\Miniconda3\\envs\\geo_env\\lib\\site-packages\\xgboost\\data.py:112: UserWarning: Use subset (sliced data) of np.ndarray is not recommended because it will generate extra copies and increase memory consumption\n",
      "  warnings.warn(\n",
      "C:\\Users\\ATeklesadik\\Miniconda3\\envs\\geo_env\\lib\\site-packages\\sklearn\\model_selection\\_search.py:285: UserWarning: The total space of parameters 2 is smaller than n_iter=500. Running 2 iterations. For exhaustive searches, use GridSearchCV.\n",
      "  warnings.warn(\n"
     ]
    },
    {
     "name": "stdout",
     "output_type": "stream",
     "text": [
      "Selected Parameters {'xgb__reg_lambda': 0.001, 'xgb__n_estimators': 50, 'xgb__max_depth': 8, 'xgb__learning_rate': 0.03, 'xgb__gamma': 0.1, 'xgb__colsample_bytree': 0.7}\n",
      "Train score: 1.358632646390158\n",
      "Test score: 2.082504046908738\n",
      "Running for 2 out of a total of 39\n",
      "Fitting 5 folds for each of 2 candidates, totalling 10 fits\n",
      "[CV 1/5; 1/2] START xgb__colsample_bytree=0.7, xgb__gamma=0.1, xgb__learning_rate=0.03, xgb__max_depth=6, xgb__n_estimators=50, xgb__reg_lambda=0.001\n"
     ]
    },
    {
     "name": "stderr",
     "output_type": "stream",
     "text": [
      "C:\\Users\\ATeklesadik\\Miniconda3\\envs\\geo_env\\lib\\site-packages\\xgboost\\data.py:112: UserWarning: Use subset (sliced data) of np.ndarray is not recommended because it will generate extra copies and increase memory consumption\n",
      "  warnings.warn(\n",
      "C:\\Users\\ATeklesadik\\Miniconda3\\envs\\geo_env\\lib\\site-packages\\xgboost\\data.py:112: UserWarning: Use subset (sliced data) of np.ndarray is not recommended because it will generate extra copies and increase memory consumption\n",
      "  warnings.warn(\n"
     ]
    },
    {
     "name": "stdout",
     "output_type": "stream",
     "text": [
      "[CV 1/5; 1/2] END xgb__colsample_bytree=0.7, xgb__gamma=0.1, xgb__learning_rate=0.03, xgb__max_depth=6, xgb__n_estimators=50, xgb__reg_lambda=0.001;, score=(train=-4.634, test=-5.982) total time=   0.2s\n",
      "[CV 2/5; 1/2] START xgb__colsample_bytree=0.7, xgb__gamma=0.1, xgb__learning_rate=0.03, xgb__max_depth=6, xgb__n_estimators=50, xgb__reg_lambda=0.001\n"
     ]
    },
    {
     "name": "stderr",
     "output_type": "stream",
     "text": [
      "C:\\Users\\ATeklesadik\\Miniconda3\\envs\\geo_env\\lib\\site-packages\\xgboost\\data.py:112: UserWarning: Use subset (sliced data) of np.ndarray is not recommended because it will generate extra copies and increase memory consumption\n",
      "  warnings.warn(\n",
      "C:\\Users\\ATeklesadik\\Miniconda3\\envs\\geo_env\\lib\\site-packages\\xgboost\\data.py:112: UserWarning: Use subset (sliced data) of np.ndarray is not recommended because it will generate extra copies and increase memory consumption\n",
      "  warnings.warn(\n"
     ]
    },
    {
     "name": "stdout",
     "output_type": "stream",
     "text": [
      "[CV 2/5; 1/2] END xgb__colsample_bytree=0.7, xgb__gamma=0.1, xgb__learning_rate=0.03, xgb__max_depth=6, xgb__n_estimators=50, xgb__reg_lambda=0.001;, score=(train=-4.826, test=-5.678) total time=   0.2s\n",
      "[CV 3/5; 1/2] START xgb__colsample_bytree=0.7, xgb__gamma=0.1, xgb__learning_rate=0.03, xgb__max_depth=6, xgb__n_estimators=50, xgb__reg_lambda=0.001\n"
     ]
    },
    {
     "name": "stderr",
     "output_type": "stream",
     "text": [
      "C:\\Users\\ATeklesadik\\Miniconda3\\envs\\geo_env\\lib\\site-packages\\xgboost\\data.py:112: UserWarning: Use subset (sliced data) of np.ndarray is not recommended because it will generate extra copies and increase memory consumption\n",
      "  warnings.warn(\n",
      "C:\\Users\\ATeklesadik\\Miniconda3\\envs\\geo_env\\lib\\site-packages\\xgboost\\data.py:112: UserWarning: Use subset (sliced data) of np.ndarray is not recommended because it will generate extra copies and increase memory consumption\n",
      "  warnings.warn(\n"
     ]
    },
    {
     "name": "stdout",
     "output_type": "stream",
     "text": [
      "[CV 3/5; 1/2] END xgb__colsample_bytree=0.7, xgb__gamma=0.1, xgb__learning_rate=0.03, xgb__max_depth=6, xgb__n_estimators=50, xgb__reg_lambda=0.001;, score=(train=-4.700, test=-6.403) total time=   0.2s\n",
      "[CV 4/5; 1/2] START xgb__colsample_bytree=0.7, xgb__gamma=0.1, xgb__learning_rate=0.03, xgb__max_depth=6, xgb__n_estimators=50, xgb__reg_lambda=0.001\n"
     ]
    },
    {
     "name": "stderr",
     "output_type": "stream",
     "text": [
      "C:\\Users\\ATeklesadik\\Miniconda3\\envs\\geo_env\\lib\\site-packages\\xgboost\\data.py:112: UserWarning: Use subset (sliced data) of np.ndarray is not recommended because it will generate extra copies and increase memory consumption\n",
      "  warnings.warn(\n",
      "C:\\Users\\ATeklesadik\\Miniconda3\\envs\\geo_env\\lib\\site-packages\\xgboost\\data.py:112: UserWarning: Use subset (sliced data) of np.ndarray is not recommended because it will generate extra copies and increase memory consumption\n",
      "  warnings.warn(\n"
     ]
    },
    {
     "name": "stdout",
     "output_type": "stream",
     "text": [
      "[CV 4/5; 1/2] END xgb__colsample_bytree=0.7, xgb__gamma=0.1, xgb__learning_rate=0.03, xgb__max_depth=6, xgb__n_estimators=50, xgb__reg_lambda=0.001;, score=(train=-4.455, test=-7.366) total time=   0.2s\n",
      "[CV 5/5; 1/2] START xgb__colsample_bytree=0.7, xgb__gamma=0.1, xgb__learning_rate=0.03, xgb__max_depth=6, xgb__n_estimators=50, xgb__reg_lambda=0.001\n"
     ]
    },
    {
     "name": "stderr",
     "output_type": "stream",
     "text": [
      "C:\\Users\\ATeklesadik\\Miniconda3\\envs\\geo_env\\lib\\site-packages\\xgboost\\data.py:112: UserWarning: Use subset (sliced data) of np.ndarray is not recommended because it will generate extra copies and increase memory consumption\n",
      "  warnings.warn(\n",
      "C:\\Users\\ATeklesadik\\Miniconda3\\envs\\geo_env\\lib\\site-packages\\xgboost\\data.py:112: UserWarning: Use subset (sliced data) of np.ndarray is not recommended because it will generate extra copies and increase memory consumption\n",
      "  warnings.warn(\n"
     ]
    },
    {
     "name": "stdout",
     "output_type": "stream",
     "text": [
      "[CV 5/5; 1/2] END xgb__colsample_bytree=0.7, xgb__gamma=0.1, xgb__learning_rate=0.03, xgb__max_depth=6, xgb__n_estimators=50, xgb__reg_lambda=0.001;, score=(train=-4.942, test=-5.162) total time=   0.2s\n",
      "[CV 1/5; 2/2] START xgb__colsample_bytree=0.7, xgb__gamma=0.1, xgb__learning_rate=0.03, xgb__max_depth=8, xgb__n_estimators=50, xgb__reg_lambda=0.001\n"
     ]
    },
    {
     "name": "stderr",
     "output_type": "stream",
     "text": [
      "C:\\Users\\ATeklesadik\\Miniconda3\\envs\\geo_env\\lib\\site-packages\\xgboost\\data.py:112: UserWarning: Use subset (sliced data) of np.ndarray is not recommended because it will generate extra copies and increase memory consumption\n",
      "  warnings.warn(\n",
      "C:\\Users\\ATeklesadik\\Miniconda3\\envs\\geo_env\\lib\\site-packages\\xgboost\\data.py:112: UserWarning: Use subset (sliced data) of np.ndarray is not recommended because it will generate extra copies and increase memory consumption\n",
      "  warnings.warn(\n"
     ]
    },
    {
     "name": "stdout",
     "output_type": "stream",
     "text": [
      "[CV 1/5; 2/2] END xgb__colsample_bytree=0.7, xgb__gamma=0.1, xgb__learning_rate=0.03, xgb__max_depth=8, xgb__n_estimators=50, xgb__reg_lambda=0.001;, score=(train=-3.613, test=-6.058) total time=   0.4s\n",
      "[CV 2/5; 2/2] START xgb__colsample_bytree=0.7, xgb__gamma=0.1, xgb__learning_rate=0.03, xgb__max_depth=8, xgb__n_estimators=50, xgb__reg_lambda=0.001\n"
     ]
    },
    {
     "name": "stderr",
     "output_type": "stream",
     "text": [
      "C:\\Users\\ATeklesadik\\Miniconda3\\envs\\geo_env\\lib\\site-packages\\xgboost\\data.py:112: UserWarning: Use subset (sliced data) of np.ndarray is not recommended because it will generate extra copies and increase memory consumption\n",
      "  warnings.warn(\n",
      "C:\\Users\\ATeklesadik\\Miniconda3\\envs\\geo_env\\lib\\site-packages\\xgboost\\data.py:112: UserWarning: Use subset (sliced data) of np.ndarray is not recommended because it will generate extra copies and increase memory consumption\n",
      "  warnings.warn(\n"
     ]
    },
    {
     "name": "stdout",
     "output_type": "stream",
     "text": [
      "[CV 2/5; 2/2] END xgb__colsample_bytree=0.7, xgb__gamma=0.1, xgb__learning_rate=0.03, xgb__max_depth=8, xgb__n_estimators=50, xgb__reg_lambda=0.001;, score=(train=-3.751, test=-5.529) total time=   0.4s\n",
      "[CV 3/5; 2/2] START xgb__colsample_bytree=0.7, xgb__gamma=0.1, xgb__learning_rate=0.03, xgb__max_depth=8, xgb__n_estimators=50, xgb__reg_lambda=0.001\n"
     ]
    },
    {
     "name": "stderr",
     "output_type": "stream",
     "text": [
      "C:\\Users\\ATeklesadik\\Miniconda3\\envs\\geo_env\\lib\\site-packages\\xgboost\\data.py:112: UserWarning: Use subset (sliced data) of np.ndarray is not recommended because it will generate extra copies and increase memory consumption\n",
      "  warnings.warn(\n",
      "C:\\Users\\ATeklesadik\\Miniconda3\\envs\\geo_env\\lib\\site-packages\\xgboost\\data.py:112: UserWarning: Use subset (sliced data) of np.ndarray is not recommended because it will generate extra copies and increase memory consumption\n",
      "  warnings.warn(\n"
     ]
    },
    {
     "name": "stdout",
     "output_type": "stream",
     "text": [
      "[CV 3/5; 2/2] END xgb__colsample_bytree=0.7, xgb__gamma=0.1, xgb__learning_rate=0.03, xgb__max_depth=8, xgb__n_estimators=50, xgb__reg_lambda=0.001;, score=(train=-3.718, test=-6.563) total time=   0.4s\n",
      "[CV 4/5; 2/2] START xgb__colsample_bytree=0.7, xgb__gamma=0.1, xgb__learning_rate=0.03, xgb__max_depth=8, xgb__n_estimators=50, xgb__reg_lambda=0.001\n"
     ]
    },
    {
     "name": "stderr",
     "output_type": "stream",
     "text": [
      "C:\\Users\\ATeklesadik\\Miniconda3\\envs\\geo_env\\lib\\site-packages\\xgboost\\data.py:112: UserWarning: Use subset (sliced data) of np.ndarray is not recommended because it will generate extra copies and increase memory consumption\n",
      "  warnings.warn(\n",
      "C:\\Users\\ATeklesadik\\Miniconda3\\envs\\geo_env\\lib\\site-packages\\xgboost\\data.py:112: UserWarning: Use subset (sliced data) of np.ndarray is not recommended because it will generate extra copies and increase memory consumption\n",
      "  warnings.warn(\n"
     ]
    },
    {
     "name": "stdout",
     "output_type": "stream",
     "text": [
      "[CV 4/5; 2/2] END xgb__colsample_bytree=0.7, xgb__gamma=0.1, xgb__learning_rate=0.03, xgb__max_depth=8, xgb__n_estimators=50, xgb__reg_lambda=0.001;, score=(train=-3.455, test=-7.163) total time=   0.3s\n",
      "[CV 5/5; 2/2] START xgb__colsample_bytree=0.7, xgb__gamma=0.1, xgb__learning_rate=0.03, xgb__max_depth=8, xgb__n_estimators=50, xgb__reg_lambda=0.001\n"
     ]
    },
    {
     "name": "stderr",
     "output_type": "stream",
     "text": [
      "C:\\Users\\ATeklesadik\\Miniconda3\\envs\\geo_env\\lib\\site-packages\\xgboost\\data.py:112: UserWarning: Use subset (sliced data) of np.ndarray is not recommended because it will generate extra copies and increase memory consumption\n",
      "  warnings.warn(\n",
      "C:\\Users\\ATeklesadik\\Miniconda3\\envs\\geo_env\\lib\\site-packages\\xgboost\\data.py:112: UserWarning: Use subset (sliced data) of np.ndarray is not recommended because it will generate extra copies and increase memory consumption\n",
      "  warnings.warn(\n"
     ]
    },
    {
     "name": "stdout",
     "output_type": "stream",
     "text": [
      "[CV 5/5; 2/2] END xgb__colsample_bytree=0.7, xgb__gamma=0.1, xgb__learning_rate=0.03, xgb__max_depth=8, xgb__n_estimators=50, xgb__reg_lambda=0.001;, score=(train=-3.938, test=-5.068) total time=   0.3s\n"
     ]
    },
    {
     "name": "stderr",
     "output_type": "stream",
     "text": [
      "C:\\Users\\ATeklesadik\\Miniconda3\\envs\\geo_env\\lib\\site-packages\\xgboost\\data.py:112: UserWarning: Use subset (sliced data) of np.ndarray is not recommended because it will generate extra copies and increase memory consumption\n",
      "  warnings.warn(\n",
      "C:\\Users\\ATeklesadik\\Miniconda3\\envs\\geo_env\\lib\\site-packages\\sklearn\\model_selection\\_search.py:285: UserWarning: The total space of parameters 2 is smaller than n_iter=500. Running 2 iterations. For exhaustive searches, use GridSearchCV.\n",
      "  warnings.warn(\n"
     ]
    },
    {
     "name": "stdout",
     "output_type": "stream",
     "text": [
      "Selected Parameters {'xgb__reg_lambda': 0.001, 'xgb__n_estimators': 50, 'xgb__max_depth': 8, 'xgb__learning_rate': 0.03, 'xgb__gamma': 0.1, 'xgb__colsample_bytree': 0.7}\n",
      "Train score: 1.369054437059842\n",
      "Test score: 0.66940614032334\n",
      "Running for 3 out of a total of 39\n",
      "Fitting 5 folds for each of 2 candidates, totalling 10 fits\n",
      "[CV 1/5; 1/2] START xgb__colsample_bytree=0.7, xgb__gamma=0.1, xgb__learning_rate=0.03, xgb__max_depth=6, xgb__n_estimators=50, xgb__reg_lambda=0.001\n"
     ]
    },
    {
     "name": "stderr",
     "output_type": "stream",
     "text": [
      "C:\\Users\\ATeklesadik\\Miniconda3\\envs\\geo_env\\lib\\site-packages\\xgboost\\data.py:112: UserWarning: Use subset (sliced data) of np.ndarray is not recommended because it will generate extra copies and increase memory consumption\n",
      "  warnings.warn(\n",
      "C:\\Users\\ATeklesadik\\Miniconda3\\envs\\geo_env\\lib\\site-packages\\xgboost\\data.py:112: UserWarning: Use subset (sliced data) of np.ndarray is not recommended because it will generate extra copies and increase memory consumption\n",
      "  warnings.warn(\n"
     ]
    },
    {
     "name": "stdout",
     "output_type": "stream",
     "text": [
      "[CV 1/5; 1/2] END xgb__colsample_bytree=0.7, xgb__gamma=0.1, xgb__learning_rate=0.03, xgb__max_depth=6, xgb__n_estimators=50, xgb__reg_lambda=0.001;, score=(train=-4.397, test=-6.143) total time=   0.2s\n",
      "[CV 2/5; 1/2] START xgb__colsample_bytree=0.7, xgb__gamma=0.1, xgb__learning_rate=0.03, xgb__max_depth=6, xgb__n_estimators=50, xgb__reg_lambda=0.001\n"
     ]
    },
    {
     "name": "stderr",
     "output_type": "stream",
     "text": [
      "C:\\Users\\ATeklesadik\\Miniconda3\\envs\\geo_env\\lib\\site-packages\\xgboost\\data.py:112: UserWarning: Use subset (sliced data) of np.ndarray is not recommended because it will generate extra copies and increase memory consumption\n",
      "  warnings.warn(\n",
      "C:\\Users\\ATeklesadik\\Miniconda3\\envs\\geo_env\\lib\\site-packages\\xgboost\\data.py:112: UserWarning: Use subset (sliced data) of np.ndarray is not recommended because it will generate extra copies and increase memory consumption\n",
      "  warnings.warn(\n"
     ]
    },
    {
     "name": "stdout",
     "output_type": "stream",
     "text": [
      "[CV 2/5; 1/2] END xgb__colsample_bytree=0.7, xgb__gamma=0.1, xgb__learning_rate=0.03, xgb__max_depth=6, xgb__n_estimators=50, xgb__reg_lambda=0.001;, score=(train=-4.285, test=-5.869) total time=   0.2s\n",
      "[CV 3/5; 1/2] START xgb__colsample_bytree=0.7, xgb__gamma=0.1, xgb__learning_rate=0.03, xgb__max_depth=6, xgb__n_estimators=50, xgb__reg_lambda=0.001\n"
     ]
    },
    {
     "name": "stderr",
     "output_type": "stream",
     "text": [
      "C:\\Users\\ATeklesadik\\Miniconda3\\envs\\geo_env\\lib\\site-packages\\xgboost\\data.py:112: UserWarning: Use subset (sliced data) of np.ndarray is not recommended because it will generate extra copies and increase memory consumption\n",
      "  warnings.warn(\n",
      "C:\\Users\\ATeklesadik\\Miniconda3\\envs\\geo_env\\lib\\site-packages\\xgboost\\data.py:112: UserWarning: Use subset (sliced data) of np.ndarray is not recommended because it will generate extra copies and increase memory consumption\n",
      "  warnings.warn(\n"
     ]
    },
    {
     "name": "stdout",
     "output_type": "stream",
     "text": [
      "[CV 3/5; 1/2] END xgb__colsample_bytree=0.7, xgb__gamma=0.1, xgb__learning_rate=0.03, xgb__max_depth=6, xgb__n_estimators=50, xgb__reg_lambda=0.001;, score=(train=-4.224, test=-6.255) total time=   0.2s\n",
      "[CV 4/5; 1/2] START xgb__colsample_bytree=0.7, xgb__gamma=0.1, xgb__learning_rate=0.03, xgb__max_depth=6, xgb__n_estimators=50, xgb__reg_lambda=0.001\n"
     ]
    },
    {
     "name": "stderr",
     "output_type": "stream",
     "text": [
      "C:\\Users\\ATeklesadik\\Miniconda3\\envs\\geo_env\\lib\\site-packages\\xgboost\\data.py:112: UserWarning: Use subset (sliced data) of np.ndarray is not recommended because it will generate extra copies and increase memory consumption\n",
      "  warnings.warn(\n",
      "C:\\Users\\ATeklesadik\\Miniconda3\\envs\\geo_env\\lib\\site-packages\\xgboost\\data.py:112: UserWarning: Use subset (sliced data) of np.ndarray is not recommended because it will generate extra copies and increase memory consumption\n",
      "  warnings.warn(\n"
     ]
    },
    {
     "name": "stdout",
     "output_type": "stream",
     "text": [
      "[CV 4/5; 1/2] END xgb__colsample_bytree=0.7, xgb__gamma=0.1, xgb__learning_rate=0.03, xgb__max_depth=6, xgb__n_estimators=50, xgb__reg_lambda=0.001;, score=(train=-4.469, test=-4.988) total time=   0.2s\n",
      "[CV 5/5; 1/2] START xgb__colsample_bytree=0.7, xgb__gamma=0.1, xgb__learning_rate=0.03, xgb__max_depth=6, xgb__n_estimators=50, xgb__reg_lambda=0.001\n"
     ]
    },
    {
     "name": "stderr",
     "output_type": "stream",
     "text": [
      "C:\\Users\\ATeklesadik\\Miniconda3\\envs\\geo_env\\lib\\site-packages\\xgboost\\data.py:112: UserWarning: Use subset (sliced data) of np.ndarray is not recommended because it will generate extra copies and increase memory consumption\n",
      "  warnings.warn(\n",
      "C:\\Users\\ATeklesadik\\Miniconda3\\envs\\geo_env\\lib\\site-packages\\xgboost\\data.py:112: UserWarning: Use subset (sliced data) of np.ndarray is not recommended because it will generate extra copies and increase memory consumption\n",
      "  warnings.warn(\n"
     ]
    },
    {
     "name": "stdout",
     "output_type": "stream",
     "text": [
      "[CV 5/5; 1/2] END xgb__colsample_bytree=0.7, xgb__gamma=0.1, xgb__learning_rate=0.03, xgb__max_depth=6, xgb__n_estimators=50, xgb__reg_lambda=0.001;, score=(train=-4.384, test=-6.465) total time=   0.2s\n",
      "[CV 1/5; 2/2] START xgb__colsample_bytree=0.7, xgb__gamma=0.1, xgb__learning_rate=0.03, xgb__max_depth=8, xgb__n_estimators=50, xgb__reg_lambda=0.001\n"
     ]
    },
    {
     "name": "stderr",
     "output_type": "stream",
     "text": [
      "C:\\Users\\ATeklesadik\\Miniconda3\\envs\\geo_env\\lib\\site-packages\\xgboost\\data.py:112: UserWarning: Use subset (sliced data) of np.ndarray is not recommended because it will generate extra copies and increase memory consumption\n",
      "  warnings.warn(\n",
      "C:\\Users\\ATeklesadik\\Miniconda3\\envs\\geo_env\\lib\\site-packages\\xgboost\\data.py:112: UserWarning: Use subset (sliced data) of np.ndarray is not recommended because it will generate extra copies and increase memory consumption\n",
      "  warnings.warn(\n"
     ]
    },
    {
     "name": "stdout",
     "output_type": "stream",
     "text": [
      "[CV 1/5; 2/2] END xgb__colsample_bytree=0.7, xgb__gamma=0.1, xgb__learning_rate=0.03, xgb__max_depth=8, xgb__n_estimators=50, xgb__reg_lambda=0.001;, score=(train=-3.524, test=-6.212) total time=   0.3s\n",
      "[CV 2/5; 2/2] START xgb__colsample_bytree=0.7, xgb__gamma=0.1, xgb__learning_rate=0.03, xgb__max_depth=8, xgb__n_estimators=50, xgb__reg_lambda=0.001\n"
     ]
    },
    {
     "name": "stderr",
     "output_type": "stream",
     "text": [
      "C:\\Users\\ATeklesadik\\Miniconda3\\envs\\geo_env\\lib\\site-packages\\xgboost\\data.py:112: UserWarning: Use subset (sliced data) of np.ndarray is not recommended because it will generate extra copies and increase memory consumption\n",
      "  warnings.warn(\n",
      "C:\\Users\\ATeklesadik\\Miniconda3\\envs\\geo_env\\lib\\site-packages\\xgboost\\data.py:112: UserWarning: Use subset (sliced data) of np.ndarray is not recommended because it will generate extra copies and increase memory consumption\n",
      "  warnings.warn(\n"
     ]
    },
    {
     "name": "stdout",
     "output_type": "stream",
     "text": [
      "[CV 2/5; 2/2] END xgb__colsample_bytree=0.7, xgb__gamma=0.1, xgb__learning_rate=0.03, xgb__max_depth=8, xgb__n_estimators=50, xgb__reg_lambda=0.001;, score=(train=-3.387, test=-5.610) total time=   0.4s\n",
      "[CV 3/5; 2/2] START xgb__colsample_bytree=0.7, xgb__gamma=0.1, xgb__learning_rate=0.03, xgb__max_depth=8, xgb__n_estimators=50, xgb__reg_lambda=0.001\n"
     ]
    },
    {
     "name": "stderr",
     "output_type": "stream",
     "text": [
      "C:\\Users\\ATeklesadik\\Miniconda3\\envs\\geo_env\\lib\\site-packages\\xgboost\\data.py:112: UserWarning: Use subset (sliced data) of np.ndarray is not recommended because it will generate extra copies and increase memory consumption\n",
      "  warnings.warn(\n",
      "C:\\Users\\ATeklesadik\\Miniconda3\\envs\\geo_env\\lib\\site-packages\\xgboost\\data.py:112: UserWarning: Use subset (sliced data) of np.ndarray is not recommended because it will generate extra copies and increase memory consumption\n",
      "  warnings.warn(\n"
     ]
    },
    {
     "name": "stdout",
     "output_type": "stream",
     "text": [
      "[CV 3/5; 2/2] END xgb__colsample_bytree=0.7, xgb__gamma=0.1, xgb__learning_rate=0.03, xgb__max_depth=8, xgb__n_estimators=50, xgb__reg_lambda=0.001;, score=(train=-3.254, test=-6.164) total time=   0.4s\n",
      "[CV 4/5; 2/2] START xgb__colsample_bytree=0.7, xgb__gamma=0.1, xgb__learning_rate=0.03, xgb__max_depth=8, xgb__n_estimators=50, xgb__reg_lambda=0.001\n"
     ]
    },
    {
     "name": "stderr",
     "output_type": "stream",
     "text": [
      "C:\\Users\\ATeklesadik\\Miniconda3\\envs\\geo_env\\lib\\site-packages\\xgboost\\data.py:112: UserWarning: Use subset (sliced data) of np.ndarray is not recommended because it will generate extra copies and increase memory consumption\n",
      "  warnings.warn(\n",
      "C:\\Users\\ATeklesadik\\Miniconda3\\envs\\geo_env\\lib\\site-packages\\xgboost\\data.py:112: UserWarning: Use subset (sliced data) of np.ndarray is not recommended because it will generate extra copies and increase memory consumption\n",
      "  warnings.warn(\n"
     ]
    },
    {
     "name": "stdout",
     "output_type": "stream",
     "text": [
      "[CV 4/5; 2/2] END xgb__colsample_bytree=0.7, xgb__gamma=0.1, xgb__learning_rate=0.03, xgb__max_depth=8, xgb__n_estimators=50, xgb__reg_lambda=0.001;, score=(train=-3.519, test=-4.858) total time=   0.4s\n",
      "[CV 5/5; 2/2] START xgb__colsample_bytree=0.7, xgb__gamma=0.1, xgb__learning_rate=0.03, xgb__max_depth=8, xgb__n_estimators=50, xgb__reg_lambda=0.001\n"
     ]
    },
    {
     "name": "stderr",
     "output_type": "stream",
     "text": [
      "C:\\Users\\ATeklesadik\\Miniconda3\\envs\\geo_env\\lib\\site-packages\\xgboost\\data.py:112: UserWarning: Use subset (sliced data) of np.ndarray is not recommended because it will generate extra copies and increase memory consumption\n",
      "  warnings.warn(\n",
      "C:\\Users\\ATeklesadik\\Miniconda3\\envs\\geo_env\\lib\\site-packages\\xgboost\\data.py:112: UserWarning: Use subset (sliced data) of np.ndarray is not recommended because it will generate extra copies and increase memory consumption\n",
      "  warnings.warn(\n"
     ]
    },
    {
     "name": "stdout",
     "output_type": "stream",
     "text": [
      "[CV 5/5; 2/2] END xgb__colsample_bytree=0.7, xgb__gamma=0.1, xgb__learning_rate=0.03, xgb__max_depth=8, xgb__n_estimators=50, xgb__reg_lambda=0.001;, score=(train=-3.480, test=-6.356) total time=   0.4s\n"
     ]
    },
    {
     "name": "stderr",
     "output_type": "stream",
     "text": [
      "C:\\Users\\ATeklesadik\\Miniconda3\\envs\\geo_env\\lib\\site-packages\\xgboost\\data.py:112: UserWarning: Use subset (sliced data) of np.ndarray is not recommended because it will generate extra copies and increase memory consumption\n",
      "  warnings.warn(\n",
      "C:\\Users\\ATeklesadik\\Miniconda3\\envs\\geo_env\\lib\\site-packages\\sklearn\\model_selection\\_search.py:285: UserWarning: The total space of parameters 2 is smaller than n_iter=500. Running 2 iterations. For exhaustive searches, use GridSearchCV.\n",
      "  warnings.warn(\n"
     ]
    },
    {
     "name": "stdout",
     "output_type": "stream",
     "text": [
      "Selected Parameters {'xgb__reg_lambda': 0.001, 'xgb__n_estimators': 50, 'xgb__max_depth': 8, 'xgb__learning_rate': 0.03, 'xgb__gamma': 0.1, 'xgb__colsample_bytree': 0.7}\n",
      "Train score: 1.2810843925545135\n",
      "Test score: 4.140316876612458\n",
      "Running for 4 out of a total of 39\n",
      "Fitting 5 folds for each of 2 candidates, totalling 10 fits\n",
      "[CV 1/5; 1/2] START xgb__colsample_bytree=0.7, xgb__gamma=0.1, xgb__learning_rate=0.03, xgb__max_depth=6, xgb__n_estimators=50, xgb__reg_lambda=0.001\n"
     ]
    },
    {
     "name": "stderr",
     "output_type": "stream",
     "text": [
      "C:\\Users\\ATeklesadik\\Miniconda3\\envs\\geo_env\\lib\\site-packages\\xgboost\\data.py:112: UserWarning: Use subset (sliced data) of np.ndarray is not recommended because it will generate extra copies and increase memory consumption\n",
      "  warnings.warn(\n",
      "C:\\Users\\ATeklesadik\\Miniconda3\\envs\\geo_env\\lib\\site-packages\\xgboost\\data.py:112: UserWarning: Use subset (sliced data) of np.ndarray is not recommended because it will generate extra copies and increase memory consumption\n",
      "  warnings.warn(\n"
     ]
    },
    {
     "name": "stdout",
     "output_type": "stream",
     "text": [
      "[CV 1/5; 1/2] END xgb__colsample_bytree=0.7, xgb__gamma=0.1, xgb__learning_rate=0.03, xgb__max_depth=6, xgb__n_estimators=50, xgb__reg_lambda=0.001;, score=(train=-4.590, test=-5.895) total time=   0.2s\n",
      "[CV 2/5; 1/2] START xgb__colsample_bytree=0.7, xgb__gamma=0.1, xgb__learning_rate=0.03, xgb__max_depth=6, xgb__n_estimators=50, xgb__reg_lambda=0.001\n"
     ]
    },
    {
     "name": "stderr",
     "output_type": "stream",
     "text": [
      "C:\\Users\\ATeklesadik\\Miniconda3\\envs\\geo_env\\lib\\site-packages\\xgboost\\data.py:112: UserWarning: Use subset (sliced data) of np.ndarray is not recommended because it will generate extra copies and increase memory consumption\n",
      "  warnings.warn(\n",
      "C:\\Users\\ATeklesadik\\Miniconda3\\envs\\geo_env\\lib\\site-packages\\xgboost\\data.py:112: UserWarning: Use subset (sliced data) of np.ndarray is not recommended because it will generate extra copies and increase memory consumption\n",
      "  warnings.warn(\n"
     ]
    },
    {
     "name": "stdout",
     "output_type": "stream",
     "text": [
      "[CV 2/5; 1/2] END xgb__colsample_bytree=0.7, xgb__gamma=0.1, xgb__learning_rate=0.03, xgb__max_depth=6, xgb__n_estimators=50, xgb__reg_lambda=0.001;, score=(train=-4.391, test=-6.133) total time=   0.3s\n",
      "[CV 3/5; 1/2] START xgb__colsample_bytree=0.7, xgb__gamma=0.1, xgb__learning_rate=0.03, xgb__max_depth=6, xgb__n_estimators=50, xgb__reg_lambda=0.001\n"
     ]
    },
    {
     "name": "stderr",
     "output_type": "stream",
     "text": [
      "C:\\Users\\ATeklesadik\\Miniconda3\\envs\\geo_env\\lib\\site-packages\\xgboost\\data.py:112: UserWarning: Use subset (sliced data) of np.ndarray is not recommended because it will generate extra copies and increase memory consumption\n",
      "  warnings.warn(\n",
      "C:\\Users\\ATeklesadik\\Miniconda3\\envs\\geo_env\\lib\\site-packages\\xgboost\\data.py:112: UserWarning: Use subset (sliced data) of np.ndarray is not recommended because it will generate extra copies and increase memory consumption\n",
      "  warnings.warn(\n"
     ]
    },
    {
     "name": "stdout",
     "output_type": "stream",
     "text": [
      "[CV 3/5; 1/2] END xgb__colsample_bytree=0.7, xgb__gamma=0.1, xgb__learning_rate=0.03, xgb__max_depth=6, xgb__n_estimators=50, xgb__reg_lambda=0.001;, score=(train=-4.748, test=-5.513) total time=   0.2s\n",
      "[CV 4/5; 1/2] START xgb__colsample_bytree=0.7, xgb__gamma=0.1, xgb__learning_rate=0.03, xgb__max_depth=6, xgb__n_estimators=50, xgb__reg_lambda=0.001\n"
     ]
    },
    {
     "name": "stderr",
     "output_type": "stream",
     "text": [
      "C:\\Users\\ATeklesadik\\Miniconda3\\envs\\geo_env\\lib\\site-packages\\xgboost\\data.py:112: UserWarning: Use subset (sliced data) of np.ndarray is not recommended because it will generate extra copies and increase memory consumption\n",
      "  warnings.warn(\n",
      "C:\\Users\\ATeklesadik\\Miniconda3\\envs\\geo_env\\lib\\site-packages\\xgboost\\data.py:112: UserWarning: Use subset (sliced data) of np.ndarray is not recommended because it will generate extra copies and increase memory consumption\n",
      "  warnings.warn(\n"
     ]
    },
    {
     "name": "stdout",
     "output_type": "stream",
     "text": [
      "[CV 4/5; 1/2] END xgb__colsample_bytree=0.7, xgb__gamma=0.1, xgb__learning_rate=0.03, xgb__max_depth=6, xgb__n_estimators=50, xgb__reg_lambda=0.001;, score=(train=-4.546, test=-5.588) total time=   0.2s\n",
      "[CV 5/5; 1/2] START xgb__colsample_bytree=0.7, xgb__gamma=0.1, xgb__learning_rate=0.03, xgb__max_depth=6, xgb__n_estimators=50, xgb__reg_lambda=0.001\n"
     ]
    },
    {
     "name": "stderr",
     "output_type": "stream",
     "text": [
      "C:\\Users\\ATeklesadik\\Miniconda3\\envs\\geo_env\\lib\\site-packages\\xgboost\\data.py:112: UserWarning: Use subset (sliced data) of np.ndarray is not recommended because it will generate extra copies and increase memory consumption\n",
      "  warnings.warn(\n",
      "C:\\Users\\ATeklesadik\\Miniconda3\\envs\\geo_env\\lib\\site-packages\\xgboost\\data.py:112: UserWarning: Use subset (sliced data) of np.ndarray is not recommended because it will generate extra copies and increase memory consumption\n",
      "  warnings.warn(\n"
     ]
    },
    {
     "name": "stdout",
     "output_type": "stream",
     "text": [
      "[CV 5/5; 1/2] END xgb__colsample_bytree=0.7, xgb__gamma=0.1, xgb__learning_rate=0.03, xgb__max_depth=6, xgb__n_estimators=50, xgb__reg_lambda=0.001;, score=(train=-4.349, test=-7.140) total time=   0.2s\n",
      "[CV 1/5; 2/2] START xgb__colsample_bytree=0.7, xgb__gamma=0.1, xgb__learning_rate=0.03, xgb__max_depth=8, xgb__n_estimators=50, xgb__reg_lambda=0.001\n"
     ]
    },
    {
     "name": "stderr",
     "output_type": "stream",
     "text": [
      "C:\\Users\\ATeklesadik\\Miniconda3\\envs\\geo_env\\lib\\site-packages\\xgboost\\data.py:112: UserWarning: Use subset (sliced data) of np.ndarray is not recommended because it will generate extra copies and increase memory consumption\n",
      "  warnings.warn(\n",
      "C:\\Users\\ATeklesadik\\Miniconda3\\envs\\geo_env\\lib\\site-packages\\xgboost\\data.py:112: UserWarning: Use subset (sliced data) of np.ndarray is not recommended because it will generate extra copies and increase memory consumption\n",
      "  warnings.warn(\n"
     ]
    },
    {
     "name": "stdout",
     "output_type": "stream",
     "text": [
      "[CV 1/5; 2/2] END xgb__colsample_bytree=0.7, xgb__gamma=0.1, xgb__learning_rate=0.03, xgb__max_depth=8, xgb__n_estimators=50, xgb__reg_lambda=0.001;, score=(train=-3.577, test=-5.698) total time=   0.4s\n",
      "[CV 2/5; 2/2] START xgb__colsample_bytree=0.7, xgb__gamma=0.1, xgb__learning_rate=0.03, xgb__max_depth=8, xgb__n_estimators=50, xgb__reg_lambda=0.001\n"
     ]
    },
    {
     "name": "stderr",
     "output_type": "stream",
     "text": [
      "C:\\Users\\ATeklesadik\\Miniconda3\\envs\\geo_env\\lib\\site-packages\\xgboost\\data.py:112: UserWarning: Use subset (sliced data) of np.ndarray is not recommended because it will generate extra copies and increase memory consumption\n",
      "  warnings.warn(\n",
      "C:\\Users\\ATeklesadik\\Miniconda3\\envs\\geo_env\\lib\\site-packages\\xgboost\\data.py:112: UserWarning: Use subset (sliced data) of np.ndarray is not recommended because it will generate extra copies and increase memory consumption\n",
      "  warnings.warn(\n"
     ]
    },
    {
     "name": "stdout",
     "output_type": "stream",
     "text": [
      "[CV 2/5; 2/2] END xgb__colsample_bytree=0.7, xgb__gamma=0.1, xgb__learning_rate=0.03, xgb__max_depth=8, xgb__n_estimators=50, xgb__reg_lambda=0.001;, score=(train=-3.412, test=-6.173) total time=   0.4s\n",
      "[CV 3/5; 2/2] START xgb__colsample_bytree=0.7, xgb__gamma=0.1, xgb__learning_rate=0.03, xgb__max_depth=8, xgb__n_estimators=50, xgb__reg_lambda=0.001\n"
     ]
    },
    {
     "name": "stderr",
     "output_type": "stream",
     "text": [
      "C:\\Users\\ATeklesadik\\Miniconda3\\envs\\geo_env\\lib\\site-packages\\xgboost\\data.py:112: UserWarning: Use subset (sliced data) of np.ndarray is not recommended because it will generate extra copies and increase memory consumption\n",
      "  warnings.warn(\n",
      "C:\\Users\\ATeklesadik\\Miniconda3\\envs\\geo_env\\lib\\site-packages\\xgboost\\data.py:112: UserWarning: Use subset (sliced data) of np.ndarray is not recommended because it will generate extra copies and increase memory consumption\n",
      "  warnings.warn(\n"
     ]
    },
    {
     "name": "stdout",
     "output_type": "stream",
     "text": [
      "[CV 3/5; 2/2] END xgb__colsample_bytree=0.7, xgb__gamma=0.1, xgb__learning_rate=0.03, xgb__max_depth=8, xgb__n_estimators=50, xgb__reg_lambda=0.001;, score=(train=-3.754, test=-5.452) total time=   0.4s\n",
      "[CV 4/5; 2/2] START xgb__colsample_bytree=0.7, xgb__gamma=0.1, xgb__learning_rate=0.03, xgb__max_depth=8, xgb__n_estimators=50, xgb__reg_lambda=0.001\n"
     ]
    },
    {
     "name": "stderr",
     "output_type": "stream",
     "text": [
      "C:\\Users\\ATeklesadik\\Miniconda3\\envs\\geo_env\\lib\\site-packages\\xgboost\\data.py:112: UserWarning: Use subset (sliced data) of np.ndarray is not recommended because it will generate extra copies and increase memory consumption\n",
      "  warnings.warn(\n",
      "C:\\Users\\ATeklesadik\\Miniconda3\\envs\\geo_env\\lib\\site-packages\\xgboost\\data.py:112: UserWarning: Use subset (sliced data) of np.ndarray is not recommended because it will generate extra copies and increase memory consumption\n",
      "  warnings.warn(\n"
     ]
    },
    {
     "name": "stdout",
     "output_type": "stream",
     "text": [
      "[CV 4/5; 2/2] END xgb__colsample_bytree=0.7, xgb__gamma=0.1, xgb__learning_rate=0.03, xgb__max_depth=8, xgb__n_estimators=50, xgb__reg_lambda=0.001;, score=(train=-3.534, test=-5.483) total time=   0.4s\n",
      "[CV 5/5; 2/2] START xgb__colsample_bytree=0.7, xgb__gamma=0.1, xgb__learning_rate=0.03, xgb__max_depth=8, xgb__n_estimators=50, xgb__reg_lambda=0.001\n"
     ]
    },
    {
     "name": "stderr",
     "output_type": "stream",
     "text": [
      "C:\\Users\\ATeklesadik\\Miniconda3\\envs\\geo_env\\lib\\site-packages\\xgboost\\data.py:112: UserWarning: Use subset (sliced data) of np.ndarray is not recommended because it will generate extra copies and increase memory consumption\n",
      "  warnings.warn(\n",
      "C:\\Users\\ATeklesadik\\Miniconda3\\envs\\geo_env\\lib\\site-packages\\xgboost\\data.py:112: UserWarning: Use subset (sliced data) of np.ndarray is not recommended because it will generate extra copies and increase memory consumption\n",
      "  warnings.warn(\n"
     ]
    },
    {
     "name": "stdout",
     "output_type": "stream",
     "text": [
      "[CV 5/5; 2/2] END xgb__colsample_bytree=0.7, xgb__gamma=0.1, xgb__learning_rate=0.03, xgb__max_depth=8, xgb__n_estimators=50, xgb__reg_lambda=0.001;, score=(train=-3.421, test=-7.055) total time=   0.4s\n"
     ]
    },
    {
     "name": "stderr",
     "output_type": "stream",
     "text": [
      "C:\\Users\\ATeklesadik\\Miniconda3\\envs\\geo_env\\lib\\site-packages\\xgboost\\data.py:112: UserWarning: Use subset (sliced data) of np.ndarray is not recommended because it will generate extra copies and increase memory consumption\n",
      "  warnings.warn(\n",
      "C:\\Users\\ATeklesadik\\Miniconda3\\envs\\geo_env\\lib\\site-packages\\sklearn\\model_selection\\_search.py:285: UserWarning: The total space of parameters 2 is smaller than n_iter=500. Running 2 iterations. For exhaustive searches, use GridSearchCV.\n",
      "  warnings.warn(\n"
     ]
    },
    {
     "name": "stdout",
     "output_type": "stream",
     "text": [
      "Selected Parameters {'xgb__reg_lambda': 0.001, 'xgb__n_estimators': 50, 'xgb__max_depth': 8, 'xgb__learning_rate': 0.03, 'xgb__gamma': 0.1, 'xgb__colsample_bytree': 0.7}\n",
      "Train score: 1.3007988323863975\n",
      "Test score: 2.3364479443737354\n",
      "Running for 5 out of a total of 39\n",
      "Fitting 5 folds for each of 2 candidates, totalling 10 fits\n",
      "[CV 1/5; 1/2] START xgb__colsample_bytree=0.7, xgb__gamma=0.1, xgb__learning_rate=0.03, xgb__max_depth=6, xgb__n_estimators=50, xgb__reg_lambda=0.001\n"
     ]
    },
    {
     "name": "stderr",
     "output_type": "stream",
     "text": [
      "C:\\Users\\ATeklesadik\\Miniconda3\\envs\\geo_env\\lib\\site-packages\\xgboost\\data.py:112: UserWarning: Use subset (sliced data) of np.ndarray is not recommended because it will generate extra copies and increase memory consumption\n",
      "  warnings.warn(\n",
      "C:\\Users\\ATeklesadik\\Miniconda3\\envs\\geo_env\\lib\\site-packages\\xgboost\\data.py:112: UserWarning: Use subset (sliced data) of np.ndarray is not recommended because it will generate extra copies and increase memory consumption\n",
      "  warnings.warn(\n"
     ]
    },
    {
     "name": "stdout",
     "output_type": "stream",
     "text": [
      "[CV 1/5; 1/2] END xgb__colsample_bytree=0.7, xgb__gamma=0.1, xgb__learning_rate=0.03, xgb__max_depth=6, xgb__n_estimators=50, xgb__reg_lambda=0.001;, score=(train=-4.798, test=-6.128) total time=   0.2s\n",
      "[CV 2/5; 1/2] START xgb__colsample_bytree=0.7, xgb__gamma=0.1, xgb__learning_rate=0.03, xgb__max_depth=6, xgb__n_estimators=50, xgb__reg_lambda=0.001\n"
     ]
    },
    {
     "name": "stderr",
     "output_type": "stream",
     "text": [
      "C:\\Users\\ATeklesadik\\Miniconda3\\envs\\geo_env\\lib\\site-packages\\xgboost\\data.py:112: UserWarning: Use subset (sliced data) of np.ndarray is not recommended because it will generate extra copies and increase memory consumption\n",
      "  warnings.warn(\n",
      "C:\\Users\\ATeklesadik\\Miniconda3\\envs\\geo_env\\lib\\site-packages\\xgboost\\data.py:112: UserWarning: Use subset (sliced data) of np.ndarray is not recommended because it will generate extra copies and increase memory consumption\n",
      "  warnings.warn(\n"
     ]
    },
    {
     "name": "stdout",
     "output_type": "stream",
     "text": [
      "[CV 2/5; 1/2] END xgb__colsample_bytree=0.7, xgb__gamma=0.1, xgb__learning_rate=0.03, xgb__max_depth=6, xgb__n_estimators=50, xgb__reg_lambda=0.001;, score=(train=-4.753, test=-5.437) total time=   0.3s\n",
      "[CV 3/5; 1/2] START xgb__colsample_bytree=0.7, xgb__gamma=0.1, xgb__learning_rate=0.03, xgb__max_depth=6, xgb__n_estimators=50, xgb__reg_lambda=0.001\n"
     ]
    },
    {
     "name": "stderr",
     "output_type": "stream",
     "text": [
      "C:\\Users\\ATeklesadik\\Miniconda3\\envs\\geo_env\\lib\\site-packages\\xgboost\\data.py:112: UserWarning: Use subset (sliced data) of np.ndarray is not recommended because it will generate extra copies and increase memory consumption\n",
      "  warnings.warn(\n",
      "C:\\Users\\ATeklesadik\\Miniconda3\\envs\\geo_env\\lib\\site-packages\\xgboost\\data.py:112: UserWarning: Use subset (sliced data) of np.ndarray is not recommended because it will generate extra copies and increase memory consumption\n",
      "  warnings.warn(\n"
     ]
    },
    {
     "name": "stdout",
     "output_type": "stream",
     "text": [
      "[CV 3/5; 1/2] END xgb__colsample_bytree=0.7, xgb__gamma=0.1, xgb__learning_rate=0.03, xgb__max_depth=6, xgb__n_estimators=50, xgb__reg_lambda=0.001;, score=(train=-4.633, test=-6.568) total time=   0.2s\n",
      "[CV 4/5; 1/2] START xgb__colsample_bytree=0.7, xgb__gamma=0.1, xgb__learning_rate=0.03, xgb__max_depth=6, xgb__n_estimators=50, xgb__reg_lambda=0.001\n"
     ]
    },
    {
     "name": "stderr",
     "output_type": "stream",
     "text": [
      "C:\\Users\\ATeklesadik\\Miniconda3\\envs\\geo_env\\lib\\site-packages\\xgboost\\data.py:112: UserWarning: Use subset (sliced data) of np.ndarray is not recommended because it will generate extra copies and increase memory consumption\n",
      "  warnings.warn(\n",
      "C:\\Users\\ATeklesadik\\Miniconda3\\envs\\geo_env\\lib\\site-packages\\xgboost\\data.py:112: UserWarning: Use subset (sliced data) of np.ndarray is not recommended because it will generate extra copies and increase memory consumption\n",
      "  warnings.warn(\n"
     ]
    },
    {
     "name": "stdout",
     "output_type": "stream",
     "text": [
      "[CV 4/5; 1/2] END xgb__colsample_bytree=0.7, xgb__gamma=0.1, xgb__learning_rate=0.03, xgb__max_depth=6, xgb__n_estimators=50, xgb__reg_lambda=0.001;, score=(train=-4.650, test=-6.615) total time=   0.2s\n",
      "[CV 5/5; 1/2] START xgb__colsample_bytree=0.7, xgb__gamma=0.1, xgb__learning_rate=0.03, xgb__max_depth=6, xgb__n_estimators=50, xgb__reg_lambda=0.001\n"
     ]
    },
    {
     "name": "stderr",
     "output_type": "stream",
     "text": [
      "C:\\Users\\ATeklesadik\\Miniconda3\\envs\\geo_env\\lib\\site-packages\\xgboost\\data.py:112: UserWarning: Use subset (sliced data) of np.ndarray is not recommended because it will generate extra copies and increase memory consumption\n",
      "  warnings.warn(\n",
      "C:\\Users\\ATeklesadik\\Miniconda3\\envs\\geo_env\\lib\\site-packages\\xgboost\\data.py:112: UserWarning: Use subset (sliced data) of np.ndarray is not recommended because it will generate extra copies and increase memory consumption\n",
      "  warnings.warn(\n"
     ]
    },
    {
     "name": "stdout",
     "output_type": "stream",
     "text": [
      "[CV 5/5; 1/2] END xgb__colsample_bytree=0.7, xgb__gamma=0.1, xgb__learning_rate=0.03, xgb__max_depth=6, xgb__n_estimators=50, xgb__reg_lambda=0.001;, score=(train=-4.653, test=-5.987) total time=   0.2s\n",
      "[CV 1/5; 2/2] START xgb__colsample_bytree=0.7, xgb__gamma=0.1, xgb__learning_rate=0.03, xgb__max_depth=8, xgb__n_estimators=50, xgb__reg_lambda=0.001\n"
     ]
    },
    {
     "name": "stderr",
     "output_type": "stream",
     "text": [
      "C:\\Users\\ATeklesadik\\Miniconda3\\envs\\geo_env\\lib\\site-packages\\xgboost\\data.py:112: UserWarning: Use subset (sliced data) of np.ndarray is not recommended because it will generate extra copies and increase memory consumption\n",
      "  warnings.warn(\n",
      "C:\\Users\\ATeklesadik\\Miniconda3\\envs\\geo_env\\lib\\site-packages\\xgboost\\data.py:112: UserWarning: Use subset (sliced data) of np.ndarray is not recommended because it will generate extra copies and increase memory consumption\n",
      "  warnings.warn(\n"
     ]
    },
    {
     "name": "stdout",
     "output_type": "stream",
     "text": [
      "[CV 1/5; 2/2] END xgb__colsample_bytree=0.7, xgb__gamma=0.1, xgb__learning_rate=0.03, xgb__max_depth=8, xgb__n_estimators=50, xgb__reg_lambda=0.001;, score=(train=-3.802, test=-6.093) total time=   0.4s\n",
      "[CV 2/5; 2/2] START xgb__colsample_bytree=0.7, xgb__gamma=0.1, xgb__learning_rate=0.03, xgb__max_depth=8, xgb__n_estimators=50, xgb__reg_lambda=0.001\n"
     ]
    },
    {
     "name": "stderr",
     "output_type": "stream",
     "text": [
      "C:\\Users\\ATeklesadik\\Miniconda3\\envs\\geo_env\\lib\\site-packages\\xgboost\\data.py:112: UserWarning: Use subset (sliced data) of np.ndarray is not recommended because it will generate extra copies and increase memory consumption\n",
      "  warnings.warn(\n",
      "C:\\Users\\ATeklesadik\\Miniconda3\\envs\\geo_env\\lib\\site-packages\\xgboost\\data.py:112: UserWarning: Use subset (sliced data) of np.ndarray is not recommended because it will generate extra copies and increase memory consumption\n",
      "  warnings.warn(\n"
     ]
    },
    {
     "name": "stdout",
     "output_type": "stream",
     "text": [
      "[CV 2/5; 2/2] END xgb__colsample_bytree=0.7, xgb__gamma=0.1, xgb__learning_rate=0.03, xgb__max_depth=8, xgb__n_estimators=50, xgb__reg_lambda=0.001;, score=(train=-3.740, test=-5.424) total time=   0.4s\n",
      "[CV 3/5; 2/2] START xgb__colsample_bytree=0.7, xgb__gamma=0.1, xgb__learning_rate=0.03, xgb__max_depth=8, xgb__n_estimators=50, xgb__reg_lambda=0.001\n"
     ]
    },
    {
     "name": "stderr",
     "output_type": "stream",
     "text": [
      "C:\\Users\\ATeklesadik\\Miniconda3\\envs\\geo_env\\lib\\site-packages\\xgboost\\data.py:112: UserWarning: Use subset (sliced data) of np.ndarray is not recommended because it will generate extra copies and increase memory consumption\n",
      "  warnings.warn(\n",
      "C:\\Users\\ATeklesadik\\Miniconda3\\envs\\geo_env\\lib\\site-packages\\xgboost\\data.py:112: UserWarning: Use subset (sliced data) of np.ndarray is not recommended because it will generate extra copies and increase memory consumption\n",
      "  warnings.warn(\n"
     ]
    },
    {
     "name": "stdout",
     "output_type": "stream",
     "text": [
      "[CV 3/5; 2/2] END xgb__colsample_bytree=0.7, xgb__gamma=0.1, xgb__learning_rate=0.03, xgb__max_depth=8, xgb__n_estimators=50, xgb__reg_lambda=0.001;, score=(train=-3.635, test=-6.484) total time=   0.4s\n",
      "[CV 4/5; 2/2] START xgb__colsample_bytree=0.7, xgb__gamma=0.1, xgb__learning_rate=0.03, xgb__max_depth=8, xgb__n_estimators=50, xgb__reg_lambda=0.001\n"
     ]
    },
    {
     "name": "stderr",
     "output_type": "stream",
     "text": [
      "C:\\Users\\ATeklesadik\\Miniconda3\\envs\\geo_env\\lib\\site-packages\\xgboost\\data.py:112: UserWarning: Use subset (sliced data) of np.ndarray is not recommended because it will generate extra copies and increase memory consumption\n",
      "  warnings.warn(\n",
      "C:\\Users\\ATeklesadik\\Miniconda3\\envs\\geo_env\\lib\\site-packages\\xgboost\\data.py:112: UserWarning: Use subset (sliced data) of np.ndarray is not recommended because it will generate extra copies and increase memory consumption\n",
      "  warnings.warn(\n"
     ]
    },
    {
     "name": "stdout",
     "output_type": "stream",
     "text": [
      "[CV 4/5; 2/2] END xgb__colsample_bytree=0.7, xgb__gamma=0.1, xgb__learning_rate=0.03, xgb__max_depth=8, xgb__n_estimators=50, xgb__reg_lambda=0.001;, score=(train=-3.674, test=-6.583) total time=   0.4s\n",
      "[CV 5/5; 2/2] START xgb__colsample_bytree=0.7, xgb__gamma=0.1, xgb__learning_rate=0.03, xgb__max_depth=8, xgb__n_estimators=50, xgb__reg_lambda=0.001\n"
     ]
    },
    {
     "name": "stderr",
     "output_type": "stream",
     "text": [
      "C:\\Users\\ATeklesadik\\Miniconda3\\envs\\geo_env\\lib\\site-packages\\xgboost\\data.py:112: UserWarning: Use subset (sliced data) of np.ndarray is not recommended because it will generate extra copies and increase memory consumption\n",
      "  warnings.warn(\n",
      "C:\\Users\\ATeklesadik\\Miniconda3\\envs\\geo_env\\lib\\site-packages\\xgboost\\data.py:112: UserWarning: Use subset (sliced data) of np.ndarray is not recommended because it will generate extra copies and increase memory consumption\n",
      "  warnings.warn(\n"
     ]
    },
    {
     "name": "stdout",
     "output_type": "stream",
     "text": [
      "[CV 5/5; 2/2] END xgb__colsample_bytree=0.7, xgb__gamma=0.1, xgb__learning_rate=0.03, xgb__max_depth=8, xgb__n_estimators=50, xgb__reg_lambda=0.001;, score=(train=-3.667, test=-5.861) total time=   0.4s\n"
     ]
    },
    {
     "name": "stderr",
     "output_type": "stream",
     "text": [
      "C:\\Users\\ATeklesadik\\Miniconda3\\envs\\geo_env\\lib\\site-packages\\xgboost\\data.py:112: UserWarning: Use subset (sliced data) of np.ndarray is not recommended because it will generate extra copies and increase memory consumption\n",
      "  warnings.warn(\n",
      "C:\\Users\\ATeklesadik\\Miniconda3\\envs\\geo_env\\lib\\site-packages\\sklearn\\model_selection\\_search.py:285: UserWarning: The total space of parameters 2 is smaller than n_iter=500. Running 2 iterations. For exhaustive searches, use GridSearchCV.\n",
      "  warnings.warn(\n"
     ]
    },
    {
     "name": "stdout",
     "output_type": "stream",
     "text": [
      "Selected Parameters {'xgb__reg_lambda': 0.001, 'xgb__n_estimators': 50, 'xgb__max_depth': 8, 'xgb__learning_rate': 0.03, 'xgb__gamma': 0.1, 'xgb__colsample_bytree': 0.7}\n",
      "Train score: 1.3719804462967766\n",
      "Test score: 0.8046452023620717\n",
      "Running for 6 out of a total of 39\n",
      "Fitting 5 folds for each of 2 candidates, totalling 10 fits\n",
      "[CV 1/5; 1/2] START xgb__colsample_bytree=0.7, xgb__gamma=0.1, xgb__learning_rate=0.03, xgb__max_depth=6, xgb__n_estimators=50, xgb__reg_lambda=0.001\n"
     ]
    },
    {
     "name": "stderr",
     "output_type": "stream",
     "text": [
      "C:\\Users\\ATeklesadik\\Miniconda3\\envs\\geo_env\\lib\\site-packages\\xgboost\\data.py:112: UserWarning: Use subset (sliced data) of np.ndarray is not recommended because it will generate extra copies and increase memory consumption\n",
      "  warnings.warn(\n",
      "C:\\Users\\ATeklesadik\\Miniconda3\\envs\\geo_env\\lib\\site-packages\\xgboost\\data.py:112: UserWarning: Use subset (sliced data) of np.ndarray is not recommended because it will generate extra copies and increase memory consumption\n",
      "  warnings.warn(\n"
     ]
    },
    {
     "name": "stdout",
     "output_type": "stream",
     "text": [
      "[CV 1/5; 1/2] END xgb__colsample_bytree=0.7, xgb__gamma=0.1, xgb__learning_rate=0.03, xgb__max_depth=6, xgb__n_estimators=50, xgb__reg_lambda=0.001;, score=(train=-4.737, test=-5.823) total time=   0.3s\n",
      "[CV 2/5; 1/2] START xgb__colsample_bytree=0.7, xgb__gamma=0.1, xgb__learning_rate=0.03, xgb__max_depth=6, xgb__n_estimators=50, xgb__reg_lambda=0.001\n"
     ]
    },
    {
     "name": "stderr",
     "output_type": "stream",
     "text": [
      "C:\\Users\\ATeklesadik\\Miniconda3\\envs\\geo_env\\lib\\site-packages\\xgboost\\data.py:112: UserWarning: Use subset (sliced data) of np.ndarray is not recommended because it will generate extra copies and increase memory consumption\n",
      "  warnings.warn(\n",
      "C:\\Users\\ATeklesadik\\Miniconda3\\envs\\geo_env\\lib\\site-packages\\xgboost\\data.py:112: UserWarning: Use subset (sliced data) of np.ndarray is not recommended because it will generate extra copies and increase memory consumption\n",
      "  warnings.warn(\n"
     ]
    },
    {
     "name": "stdout",
     "output_type": "stream",
     "text": [
      "[CV 2/5; 1/2] END xgb__colsample_bytree=0.7, xgb__gamma=0.1, xgb__learning_rate=0.03, xgb__max_depth=6, xgb__n_estimators=50, xgb__reg_lambda=0.001;, score=(train=-4.608, test=-6.290) total time=   0.2s\n",
      "[CV 3/5; 1/2] START xgb__colsample_bytree=0.7, xgb__gamma=0.1, xgb__learning_rate=0.03, xgb__max_depth=6, xgb__n_estimators=50, xgb__reg_lambda=0.001\n"
     ]
    },
    {
     "name": "stderr",
     "output_type": "stream",
     "text": [
      "C:\\Users\\ATeklesadik\\Miniconda3\\envs\\geo_env\\lib\\site-packages\\xgboost\\data.py:112: UserWarning: Use subset (sliced data) of np.ndarray is not recommended because it will generate extra copies and increase memory consumption\n",
      "  warnings.warn(\n",
      "C:\\Users\\ATeklesadik\\Miniconda3\\envs\\geo_env\\lib\\site-packages\\xgboost\\data.py:112: UserWarning: Use subset (sliced data) of np.ndarray is not recommended because it will generate extra copies and increase memory consumption\n",
      "  warnings.warn(\n"
     ]
    },
    {
     "name": "stdout",
     "output_type": "stream",
     "text": [
      "[CV 3/5; 1/2] END xgb__colsample_bytree=0.7, xgb__gamma=0.1, xgb__learning_rate=0.03, xgb__max_depth=6, xgb__n_estimators=50, xgb__reg_lambda=0.001;, score=(train=-4.581, test=-7.011) total time=   0.2s\n",
      "[CV 4/5; 1/2] START xgb__colsample_bytree=0.7, xgb__gamma=0.1, xgb__learning_rate=0.03, xgb__max_depth=6, xgb__n_estimators=50, xgb__reg_lambda=0.001\n"
     ]
    },
    {
     "name": "stderr",
     "output_type": "stream",
     "text": [
      "C:\\Users\\ATeklesadik\\Miniconda3\\envs\\geo_env\\lib\\site-packages\\xgboost\\data.py:112: UserWarning: Use subset (sliced data) of np.ndarray is not recommended because it will generate extra copies and increase memory consumption\n",
      "  warnings.warn(\n",
      "C:\\Users\\ATeklesadik\\Miniconda3\\envs\\geo_env\\lib\\site-packages\\xgboost\\data.py:112: UserWarning: Use subset (sliced data) of np.ndarray is not recommended because it will generate extra copies and increase memory consumption\n",
      "  warnings.warn(\n"
     ]
    },
    {
     "name": "stdout",
     "output_type": "stream",
     "text": [
      "[CV 4/5; 1/2] END xgb__colsample_bytree=0.7, xgb__gamma=0.1, xgb__learning_rate=0.03, xgb__max_depth=6, xgb__n_estimators=50, xgb__reg_lambda=0.001;, score=(train=-4.668, test=-6.068) total time=   0.3s\n",
      "[CV 5/5; 1/2] START xgb__colsample_bytree=0.7, xgb__gamma=0.1, xgb__learning_rate=0.03, xgb__max_depth=6, xgb__n_estimators=50, xgb__reg_lambda=0.001\n"
     ]
    },
    {
     "name": "stderr",
     "output_type": "stream",
     "text": [
      "C:\\Users\\ATeklesadik\\Miniconda3\\envs\\geo_env\\lib\\site-packages\\xgboost\\data.py:112: UserWarning: Use subset (sliced data) of np.ndarray is not recommended because it will generate extra copies and increase memory consumption\n",
      "  warnings.warn(\n",
      "C:\\Users\\ATeklesadik\\Miniconda3\\envs\\geo_env\\lib\\site-packages\\xgboost\\data.py:112: UserWarning: Use subset (sliced data) of np.ndarray is not recommended because it will generate extra copies and increase memory consumption\n",
      "  warnings.warn(\n"
     ]
    },
    {
     "name": "stdout",
     "output_type": "stream",
     "text": [
      "[CV 5/5; 1/2] END xgb__colsample_bytree=0.7, xgb__gamma=0.1, xgb__learning_rate=0.03, xgb__max_depth=6, xgb__n_estimators=50, xgb__reg_lambda=0.001;, score=(train=-4.752, test=-5.839) total time=   0.2s\n",
      "[CV 1/5; 2/2] START xgb__colsample_bytree=0.7, xgb__gamma=0.1, xgb__learning_rate=0.03, xgb__max_depth=8, xgb__n_estimators=50, xgb__reg_lambda=0.001\n"
     ]
    },
    {
     "name": "stderr",
     "output_type": "stream",
     "text": [
      "C:\\Users\\ATeklesadik\\Miniconda3\\envs\\geo_env\\lib\\site-packages\\xgboost\\data.py:112: UserWarning: Use subset (sliced data) of np.ndarray is not recommended because it will generate extra copies and increase memory consumption\n",
      "  warnings.warn(\n",
      "C:\\Users\\ATeklesadik\\Miniconda3\\envs\\geo_env\\lib\\site-packages\\xgboost\\data.py:112: UserWarning: Use subset (sliced data) of np.ndarray is not recommended because it will generate extra copies and increase memory consumption\n",
      "  warnings.warn(\n"
     ]
    },
    {
     "name": "stdout",
     "output_type": "stream",
     "text": [
      "[CV 1/5; 2/2] END xgb__colsample_bytree=0.7, xgb__gamma=0.1, xgb__learning_rate=0.03, xgb__max_depth=8, xgb__n_estimators=50, xgb__reg_lambda=0.001;, score=(train=-3.832, test=-5.759) total time=   0.4s\n",
      "[CV 2/5; 2/2] START xgb__colsample_bytree=0.7, xgb__gamma=0.1, xgb__learning_rate=0.03, xgb__max_depth=8, xgb__n_estimators=50, xgb__reg_lambda=0.001\n"
     ]
    },
    {
     "name": "stderr",
     "output_type": "stream",
     "text": [
      "C:\\Users\\ATeklesadik\\Miniconda3\\envs\\geo_env\\lib\\site-packages\\xgboost\\data.py:112: UserWarning: Use subset (sliced data) of np.ndarray is not recommended because it will generate extra copies and increase memory consumption\n",
      "  warnings.warn(\n",
      "C:\\Users\\ATeklesadik\\Miniconda3\\envs\\geo_env\\lib\\site-packages\\xgboost\\data.py:112: UserWarning: Use subset (sliced data) of np.ndarray is not recommended because it will generate extra copies and increase memory consumption\n",
      "  warnings.warn(\n"
     ]
    },
    {
     "name": "stdout",
     "output_type": "stream",
     "text": [
      "[CV 2/5; 2/2] END xgb__colsample_bytree=0.7, xgb__gamma=0.1, xgb__learning_rate=0.03, xgb__max_depth=8, xgb__n_estimators=50, xgb__reg_lambda=0.001;, score=(train=-3.659, test=-6.092) total time=   0.5s\n",
      "[CV 3/5; 2/2] START xgb__colsample_bytree=0.7, xgb__gamma=0.1, xgb__learning_rate=0.03, xgb__max_depth=8, xgb__n_estimators=50, xgb__reg_lambda=0.001\n"
     ]
    },
    {
     "name": "stderr",
     "output_type": "stream",
     "text": [
      "C:\\Users\\ATeklesadik\\Miniconda3\\envs\\geo_env\\lib\\site-packages\\xgboost\\data.py:112: UserWarning: Use subset (sliced data) of np.ndarray is not recommended because it will generate extra copies and increase memory consumption\n",
      "  warnings.warn(\n",
      "C:\\Users\\ATeklesadik\\Miniconda3\\envs\\geo_env\\lib\\site-packages\\xgboost\\data.py:112: UserWarning: Use subset (sliced data) of np.ndarray is not recommended because it will generate extra copies and increase memory consumption\n",
      "  warnings.warn(\n"
     ]
    },
    {
     "name": "stdout",
     "output_type": "stream",
     "text": [
      "[CV 3/5; 2/2] END xgb__colsample_bytree=0.7, xgb__gamma=0.1, xgb__learning_rate=0.03, xgb__max_depth=8, xgb__n_estimators=50, xgb__reg_lambda=0.001;, score=(train=-3.595, test=-6.939) total time=   0.4s\n",
      "[CV 4/5; 2/2] START xgb__colsample_bytree=0.7, xgb__gamma=0.1, xgb__learning_rate=0.03, xgb__max_depth=8, xgb__n_estimators=50, xgb__reg_lambda=0.001\n"
     ]
    },
    {
     "name": "stderr",
     "output_type": "stream",
     "text": [
      "C:\\Users\\ATeklesadik\\Miniconda3\\envs\\geo_env\\lib\\site-packages\\xgboost\\data.py:112: UserWarning: Use subset (sliced data) of np.ndarray is not recommended because it will generate extra copies and increase memory consumption\n",
      "  warnings.warn(\n",
      "C:\\Users\\ATeklesadik\\Miniconda3\\envs\\geo_env\\lib\\site-packages\\xgboost\\data.py:112: UserWarning: Use subset (sliced data) of np.ndarray is not recommended because it will generate extra copies and increase memory consumption\n",
      "  warnings.warn(\n"
     ]
    },
    {
     "name": "stdout",
     "output_type": "stream",
     "text": [
      "[CV 4/5; 2/2] END xgb__colsample_bytree=0.7, xgb__gamma=0.1, xgb__learning_rate=0.03, xgb__max_depth=8, xgb__n_estimators=50, xgb__reg_lambda=0.001;, score=(train=-3.685, test=-5.976) total time=   0.4s\n",
      "[CV 5/5; 2/2] START xgb__colsample_bytree=0.7, xgb__gamma=0.1, xgb__learning_rate=0.03, xgb__max_depth=8, xgb__n_estimators=50, xgb__reg_lambda=0.001\n"
     ]
    },
    {
     "name": "stderr",
     "output_type": "stream",
     "text": [
      "C:\\Users\\ATeklesadik\\Miniconda3\\envs\\geo_env\\lib\\site-packages\\xgboost\\data.py:112: UserWarning: Use subset (sliced data) of np.ndarray is not recommended because it will generate extra copies and increase memory consumption\n",
      "  warnings.warn(\n",
      "C:\\Users\\ATeklesadik\\Miniconda3\\envs\\geo_env\\lib\\site-packages\\xgboost\\data.py:112: UserWarning: Use subset (sliced data) of np.ndarray is not recommended because it will generate extra copies and increase memory consumption\n",
      "  warnings.warn(\n"
     ]
    },
    {
     "name": "stdout",
     "output_type": "stream",
     "text": [
      "[CV 5/5; 2/2] END xgb__colsample_bytree=0.7, xgb__gamma=0.1, xgb__learning_rate=0.03, xgb__max_depth=8, xgb__n_estimators=50, xgb__reg_lambda=0.001;, score=(train=-3.743, test=-5.687) total time=   0.4s\n"
     ]
    },
    {
     "name": "stderr",
     "output_type": "stream",
     "text": [
      "C:\\Users\\ATeklesadik\\Miniconda3\\envs\\geo_env\\lib\\site-packages\\xgboost\\data.py:112: UserWarning: Use subset (sliced data) of np.ndarray is not recommended because it will generate extra copies and increase memory consumption\n",
      "  warnings.warn(\n",
      "C:\\Users\\ATeklesadik\\Miniconda3\\envs\\geo_env\\lib\\site-packages\\sklearn\\model_selection\\_search.py:285: UserWarning: The total space of parameters 2 is smaller than n_iter=500. Running 2 iterations. For exhaustive searches, use GridSearchCV.\n",
      "  warnings.warn(\n"
     ]
    },
    {
     "name": "stdout",
     "output_type": "stream",
     "text": [
      "Selected Parameters {'xgb__reg_lambda': 0.001, 'xgb__n_estimators': 50, 'xgb__max_depth': 8, 'xgb__learning_rate': 0.03, 'xgb__gamma': 0.1, 'xgb__colsample_bytree': 0.7}\n",
      "Train score: 1.36390757192682\n",
      "Test score: 1.0952915605410927\n",
      "Running for 7 out of a total of 39\n",
      "Fitting 5 folds for each of 2 candidates, totalling 10 fits\n",
      "[CV 1/5; 1/2] START xgb__colsample_bytree=0.7, xgb__gamma=0.1, xgb__learning_rate=0.03, xgb__max_depth=6, xgb__n_estimators=50, xgb__reg_lambda=0.001\n"
     ]
    },
    {
     "name": "stderr",
     "output_type": "stream",
     "text": [
      "C:\\Users\\ATeklesadik\\Miniconda3\\envs\\geo_env\\lib\\site-packages\\xgboost\\data.py:112: UserWarning: Use subset (sliced data) of np.ndarray is not recommended because it will generate extra copies and increase memory consumption\n",
      "  warnings.warn(\n",
      "C:\\Users\\ATeklesadik\\Miniconda3\\envs\\geo_env\\lib\\site-packages\\xgboost\\data.py:112: UserWarning: Use subset (sliced data) of np.ndarray is not recommended because it will generate extra copies and increase memory consumption\n",
      "  warnings.warn(\n"
     ]
    },
    {
     "name": "stdout",
     "output_type": "stream",
     "text": [
      "[CV 1/5; 1/2] END xgb__colsample_bytree=0.7, xgb__gamma=0.1, xgb__learning_rate=0.03, xgb__max_depth=6, xgb__n_estimators=50, xgb__reg_lambda=0.001;, score=(train=-4.818, test=-5.771) total time=   0.2s\n",
      "[CV 2/5; 1/2] START xgb__colsample_bytree=0.7, xgb__gamma=0.1, xgb__learning_rate=0.03, xgb__max_depth=6, xgb__n_estimators=50, xgb__reg_lambda=0.001\n"
     ]
    },
    {
     "name": "stderr",
     "output_type": "stream",
     "text": [
      "C:\\Users\\ATeklesadik\\Miniconda3\\envs\\geo_env\\lib\\site-packages\\xgboost\\data.py:112: UserWarning: Use subset (sliced data) of np.ndarray is not recommended because it will generate extra copies and increase memory consumption\n",
      "  warnings.warn(\n",
      "C:\\Users\\ATeklesadik\\Miniconda3\\envs\\geo_env\\lib\\site-packages\\xgboost\\data.py:112: UserWarning: Use subset (sliced data) of np.ndarray is not recommended because it will generate extra copies and increase memory consumption\n",
      "  warnings.warn(\n"
     ]
    },
    {
     "name": "stdout",
     "output_type": "stream",
     "text": [
      "[CV 2/5; 1/2] END xgb__colsample_bytree=0.7, xgb__gamma=0.1, xgb__learning_rate=0.03, xgb__max_depth=6, xgb__n_estimators=50, xgb__reg_lambda=0.001;, score=(train=-4.676, test=-6.617) total time=   0.2s\n",
      "[CV 3/5; 1/2] START xgb__colsample_bytree=0.7, xgb__gamma=0.1, xgb__learning_rate=0.03, xgb__max_depth=6, xgb__n_estimators=50, xgb__reg_lambda=0.001\n"
     ]
    },
    {
     "name": "stderr",
     "output_type": "stream",
     "text": [
      "C:\\Users\\ATeklesadik\\Miniconda3\\envs\\geo_env\\lib\\site-packages\\xgboost\\data.py:112: UserWarning: Use subset (sliced data) of np.ndarray is not recommended because it will generate extra copies and increase memory consumption\n",
      "  warnings.warn(\n",
      "C:\\Users\\ATeklesadik\\Miniconda3\\envs\\geo_env\\lib\\site-packages\\xgboost\\data.py:112: UserWarning: Use subset (sliced data) of np.ndarray is not recommended because it will generate extra copies and increase memory consumption\n",
      "  warnings.warn(\n"
     ]
    },
    {
     "name": "stdout",
     "output_type": "stream",
     "text": [
      "[CV 3/5; 1/2] END xgb__colsample_bytree=0.7, xgb__gamma=0.1, xgb__learning_rate=0.03, xgb__max_depth=6, xgb__n_estimators=50, xgb__reg_lambda=0.001;, score=(train=-4.560, test=-6.241) total time=   0.3s\n",
      "[CV 4/5; 1/2] START xgb__colsample_bytree=0.7, xgb__gamma=0.1, xgb__learning_rate=0.03, xgb__max_depth=6, xgb__n_estimators=50, xgb__reg_lambda=0.001\n"
     ]
    },
    {
     "name": "stderr",
     "output_type": "stream",
     "text": [
      "C:\\Users\\ATeklesadik\\Miniconda3\\envs\\geo_env\\lib\\site-packages\\xgboost\\data.py:112: UserWarning: Use subset (sliced data) of np.ndarray is not recommended because it will generate extra copies and increase memory consumption\n",
      "  warnings.warn(\n",
      "C:\\Users\\ATeklesadik\\Miniconda3\\envs\\geo_env\\lib\\site-packages\\xgboost\\data.py:112: UserWarning: Use subset (sliced data) of np.ndarray is not recommended because it will generate extra copies and increase memory consumption\n",
      "  warnings.warn(\n"
     ]
    },
    {
     "name": "stdout",
     "output_type": "stream",
     "text": [
      "[CV 4/5; 1/2] END xgb__colsample_bytree=0.7, xgb__gamma=0.1, xgb__learning_rate=0.03, xgb__max_depth=6, xgb__n_estimators=50, xgb__reg_lambda=0.001;, score=(train=-4.588, test=-6.412) total time=   0.2s\n",
      "[CV 5/5; 1/2] START xgb__colsample_bytree=0.7, xgb__gamma=0.1, xgb__learning_rate=0.03, xgb__max_depth=6, xgb__n_estimators=50, xgb__reg_lambda=0.001\n"
     ]
    },
    {
     "name": "stderr",
     "output_type": "stream",
     "text": [
      "C:\\Users\\ATeklesadik\\Miniconda3\\envs\\geo_env\\lib\\site-packages\\xgboost\\data.py:112: UserWarning: Use subset (sliced data) of np.ndarray is not recommended because it will generate extra copies and increase memory consumption\n",
      "  warnings.warn(\n",
      "C:\\Users\\ATeklesadik\\Miniconda3\\envs\\geo_env\\lib\\site-packages\\xgboost\\data.py:112: UserWarning: Use subset (sliced data) of np.ndarray is not recommended because it will generate extra copies and increase memory consumption\n",
      "  warnings.warn(\n"
     ]
    },
    {
     "name": "stdout",
     "output_type": "stream",
     "text": [
      "[CV 5/5; 1/2] END xgb__colsample_bytree=0.7, xgb__gamma=0.1, xgb__learning_rate=0.03, xgb__max_depth=6, xgb__n_estimators=50, xgb__reg_lambda=0.001;, score=(train=-4.626, test=-5.730) total time=   0.3s\n",
      "[CV 1/5; 2/2] START xgb__colsample_bytree=0.7, xgb__gamma=0.1, xgb__learning_rate=0.03, xgb__max_depth=8, xgb__n_estimators=50, xgb__reg_lambda=0.001\n"
     ]
    },
    {
     "name": "stderr",
     "output_type": "stream",
     "text": [
      "C:\\Users\\ATeklesadik\\Miniconda3\\envs\\geo_env\\lib\\site-packages\\xgboost\\data.py:112: UserWarning: Use subset (sliced data) of np.ndarray is not recommended because it will generate extra copies and increase memory consumption\n",
      "  warnings.warn(\n",
      "C:\\Users\\ATeklesadik\\Miniconda3\\envs\\geo_env\\lib\\site-packages\\xgboost\\data.py:112: UserWarning: Use subset (sliced data) of np.ndarray is not recommended because it will generate extra copies and increase memory consumption\n",
      "  warnings.warn(\n"
     ]
    },
    {
     "name": "stdout",
     "output_type": "stream",
     "text": [
      "[CV 1/5; 2/2] END xgb__colsample_bytree=0.7, xgb__gamma=0.1, xgb__learning_rate=0.03, xgb__max_depth=8, xgb__n_estimators=50, xgb__reg_lambda=0.001;, score=(train=-3.782, test=-5.779) total time=   0.5s\n",
      "[CV 2/5; 2/2] START xgb__colsample_bytree=0.7, xgb__gamma=0.1, xgb__learning_rate=0.03, xgb__max_depth=8, xgb__n_estimators=50, xgb__reg_lambda=0.001\n"
     ]
    },
    {
     "name": "stderr",
     "output_type": "stream",
     "text": [
      "C:\\Users\\ATeklesadik\\Miniconda3\\envs\\geo_env\\lib\\site-packages\\xgboost\\data.py:112: UserWarning: Use subset (sliced data) of np.ndarray is not recommended because it will generate extra copies and increase memory consumption\n",
      "  warnings.warn(\n",
      "C:\\Users\\ATeklesadik\\Miniconda3\\envs\\geo_env\\lib\\site-packages\\xgboost\\data.py:112: UserWarning: Use subset (sliced data) of np.ndarray is not recommended because it will generate extra copies and increase memory consumption\n",
      "  warnings.warn(\n"
     ]
    },
    {
     "name": "stdout",
     "output_type": "stream",
     "text": [
      "[CV 2/5; 2/2] END xgb__colsample_bytree=0.7, xgb__gamma=0.1, xgb__learning_rate=0.03, xgb__max_depth=8, xgb__n_estimators=50, xgb__reg_lambda=0.001;, score=(train=-3.695, test=-6.462) total time=   0.4s\n",
      "[CV 3/5; 2/2] START xgb__colsample_bytree=0.7, xgb__gamma=0.1, xgb__learning_rate=0.03, xgb__max_depth=8, xgb__n_estimators=50, xgb__reg_lambda=0.001\n"
     ]
    },
    {
     "name": "stderr",
     "output_type": "stream",
     "text": [
      "C:\\Users\\ATeklesadik\\Miniconda3\\envs\\geo_env\\lib\\site-packages\\xgboost\\data.py:112: UserWarning: Use subset (sliced data) of np.ndarray is not recommended because it will generate extra copies and increase memory consumption\n",
      "  warnings.warn(\n",
      "C:\\Users\\ATeklesadik\\Miniconda3\\envs\\geo_env\\lib\\site-packages\\xgboost\\data.py:112: UserWarning: Use subset (sliced data) of np.ndarray is not recommended because it will generate extra copies and increase memory consumption\n",
      "  warnings.warn(\n"
     ]
    },
    {
     "name": "stdout",
     "output_type": "stream",
     "text": [
      "[CV 3/5; 2/2] END xgb__colsample_bytree=0.7, xgb__gamma=0.1, xgb__learning_rate=0.03, xgb__max_depth=8, xgb__n_estimators=50, xgb__reg_lambda=0.001;, score=(train=-3.569, test=-6.228) total time=   0.5s\n",
      "[CV 4/5; 2/2] START xgb__colsample_bytree=0.7, xgb__gamma=0.1, xgb__learning_rate=0.03, xgb__max_depth=8, xgb__n_estimators=50, xgb__reg_lambda=0.001\n"
     ]
    },
    {
     "name": "stderr",
     "output_type": "stream",
     "text": [
      "C:\\Users\\ATeklesadik\\Miniconda3\\envs\\geo_env\\lib\\site-packages\\xgboost\\data.py:112: UserWarning: Use subset (sliced data) of np.ndarray is not recommended because it will generate extra copies and increase memory consumption\n",
      "  warnings.warn(\n",
      "C:\\Users\\ATeklesadik\\Miniconda3\\envs\\geo_env\\lib\\site-packages\\xgboost\\data.py:112: UserWarning: Use subset (sliced data) of np.ndarray is not recommended because it will generate extra copies and increase memory consumption\n",
      "  warnings.warn(\n"
     ]
    },
    {
     "name": "stdout",
     "output_type": "stream",
     "text": [
      "[CV 4/5; 2/2] END xgb__colsample_bytree=0.7, xgb__gamma=0.1, xgb__learning_rate=0.03, xgb__max_depth=8, xgb__n_estimators=50, xgb__reg_lambda=0.001;, score=(train=-3.558, test=-6.278) total time=   0.5s\n",
      "[CV 5/5; 2/2] START xgb__colsample_bytree=0.7, xgb__gamma=0.1, xgb__learning_rate=0.03, xgb__max_depth=8, xgb__n_estimators=50, xgb__reg_lambda=0.001\n"
     ]
    },
    {
     "name": "stderr",
     "output_type": "stream",
     "text": [
      "C:\\Users\\ATeklesadik\\Miniconda3\\envs\\geo_env\\lib\\site-packages\\xgboost\\data.py:112: UserWarning: Use subset (sliced data) of np.ndarray is not recommended because it will generate extra copies and increase memory consumption\n",
      "  warnings.warn(\n",
      "C:\\Users\\ATeklesadik\\Miniconda3\\envs\\geo_env\\lib\\site-packages\\xgboost\\data.py:112: UserWarning: Use subset (sliced data) of np.ndarray is not recommended because it will generate extra copies and increase memory consumption\n",
      "  warnings.warn(\n"
     ]
    },
    {
     "name": "stdout",
     "output_type": "stream",
     "text": [
      "[CV 5/5; 2/2] END xgb__colsample_bytree=0.7, xgb__gamma=0.1, xgb__learning_rate=0.03, xgb__max_depth=8, xgb__n_estimators=50, xgb__reg_lambda=0.001;, score=(train=-3.598, test=-5.605) total time=   0.5s\n"
     ]
    },
    {
     "name": "stderr",
     "output_type": "stream",
     "text": [
      "C:\\Users\\ATeklesadik\\Miniconda3\\envs\\geo_env\\lib\\site-packages\\xgboost\\data.py:112: UserWarning: Use subset (sliced data) of np.ndarray is not recommended because it will generate extra copies and increase memory consumption\n",
      "  warnings.warn(\n",
      "C:\\Users\\ATeklesadik\\Miniconda3\\envs\\geo_env\\lib\\site-packages\\sklearn\\model_selection\\_search.py:285: UserWarning: The total space of parameters 2 is smaller than n_iter=500. Running 2 iterations. For exhaustive searches, use GridSearchCV.\n",
      "  warnings.warn(\n"
     ]
    },
    {
     "name": "stdout",
     "output_type": "stream",
     "text": [
      "Selected Parameters {'xgb__reg_lambda': 0.001, 'xgb__n_estimators': 50, 'xgb__max_depth': 8, 'xgb__learning_rate': 0.03, 'xgb__gamma': 0.1, 'xgb__colsample_bytree': 0.7}\n",
      "Train score: 1.3389467821794057\n",
      "Test score: 1.8679594035356781\n",
      "Running for 8 out of a total of 39\n",
      "Fitting 5 folds for each of 2 candidates, totalling 10 fits\n",
      "[CV 1/5; 1/2] START xgb__colsample_bytree=0.7, xgb__gamma=0.1, xgb__learning_rate=0.03, xgb__max_depth=6, xgb__n_estimators=50, xgb__reg_lambda=0.001\n"
     ]
    },
    {
     "name": "stderr",
     "output_type": "stream",
     "text": [
      "C:\\Users\\ATeklesadik\\Miniconda3\\envs\\geo_env\\lib\\site-packages\\xgboost\\data.py:112: UserWarning: Use subset (sliced data) of np.ndarray is not recommended because it will generate extra copies and increase memory consumption\n",
      "  warnings.warn(\n",
      "C:\\Users\\ATeklesadik\\Miniconda3\\envs\\geo_env\\lib\\site-packages\\xgboost\\data.py:112: UserWarning: Use subset (sliced data) of np.ndarray is not recommended because it will generate extra copies and increase memory consumption\n",
      "  warnings.warn(\n"
     ]
    },
    {
     "name": "stdout",
     "output_type": "stream",
     "text": [
      "[CV 1/5; 1/2] END xgb__colsample_bytree=0.7, xgb__gamma=0.1, xgb__learning_rate=0.03, xgb__max_depth=6, xgb__n_estimators=50, xgb__reg_lambda=0.001;, score=(train=-4.495, test=-6.710) total time=   0.3s\n",
      "[CV 2/5; 1/2] START xgb__colsample_bytree=0.7, xgb__gamma=0.1, xgb__learning_rate=0.03, xgb__max_depth=6, xgb__n_estimators=50, xgb__reg_lambda=0.001\n"
     ]
    },
    {
     "name": "stderr",
     "output_type": "stream",
     "text": [
      "C:\\Users\\ATeklesadik\\Miniconda3\\envs\\geo_env\\lib\\site-packages\\xgboost\\data.py:112: UserWarning: Use subset (sliced data) of np.ndarray is not recommended because it will generate extra copies and increase memory consumption\n",
      "  warnings.warn(\n",
      "C:\\Users\\ATeklesadik\\Miniconda3\\envs\\geo_env\\lib\\site-packages\\xgboost\\data.py:112: UserWarning: Use subset (sliced data) of np.ndarray is not recommended because it will generate extra copies and increase memory consumption\n",
      "  warnings.warn(\n"
     ]
    },
    {
     "name": "stdout",
     "output_type": "stream",
     "text": [
      "[CV 2/5; 1/2] END xgb__colsample_bytree=0.7, xgb__gamma=0.1, xgb__learning_rate=0.03, xgb__max_depth=6, xgb__n_estimators=50, xgb__reg_lambda=0.001;, score=(train=-4.740, test=-5.848) total time=   0.3s\n",
      "[CV 3/5; 1/2] START xgb__colsample_bytree=0.7, xgb__gamma=0.1, xgb__learning_rate=0.03, xgb__max_depth=6, xgb__n_estimators=50, xgb__reg_lambda=0.001\n"
     ]
    },
    {
     "name": "stderr",
     "output_type": "stream",
     "text": [
      "C:\\Users\\ATeklesadik\\Miniconda3\\envs\\geo_env\\lib\\site-packages\\xgboost\\data.py:112: UserWarning: Use subset (sliced data) of np.ndarray is not recommended because it will generate extra copies and increase memory consumption\n",
      "  warnings.warn(\n",
      "C:\\Users\\ATeklesadik\\Miniconda3\\envs\\geo_env\\lib\\site-packages\\xgboost\\data.py:112: UserWarning: Use subset (sliced data) of np.ndarray is not recommended because it will generate extra copies and increase memory consumption\n",
      "  warnings.warn(\n"
     ]
    },
    {
     "name": "stdout",
     "output_type": "stream",
     "text": [
      "[CV 3/5; 1/2] END xgb__colsample_bytree=0.7, xgb__gamma=0.1, xgb__learning_rate=0.03, xgb__max_depth=6, xgb__n_estimators=50, xgb__reg_lambda=0.001;, score=(train=-4.610, test=-6.693) total time=   0.3s\n",
      "[CV 4/5; 1/2] START xgb__colsample_bytree=0.7, xgb__gamma=0.1, xgb__learning_rate=0.03, xgb__max_depth=6, xgb__n_estimators=50, xgb__reg_lambda=0.001\n"
     ]
    },
    {
     "name": "stderr",
     "output_type": "stream",
     "text": [
      "C:\\Users\\ATeklesadik\\Miniconda3\\envs\\geo_env\\lib\\site-packages\\xgboost\\data.py:112: UserWarning: Use subset (sliced data) of np.ndarray is not recommended because it will generate extra copies and increase memory consumption\n",
      "  warnings.warn(\n",
      "C:\\Users\\ATeklesadik\\Miniconda3\\envs\\geo_env\\lib\\site-packages\\xgboost\\data.py:112: UserWarning: Use subset (sliced data) of np.ndarray is not recommended because it will generate extra copies and increase memory consumption\n",
      "  warnings.warn(\n"
     ]
    },
    {
     "name": "stdout",
     "output_type": "stream",
     "text": [
      "[CV 4/5; 1/2] END xgb__colsample_bytree=0.7, xgb__gamma=0.1, xgb__learning_rate=0.03, xgb__max_depth=6, xgb__n_estimators=50, xgb__reg_lambda=0.001;, score=(train=-4.845, test=-5.654) total time=   0.3s\n",
      "[CV 5/5; 1/2] START xgb__colsample_bytree=0.7, xgb__gamma=0.1, xgb__learning_rate=0.03, xgb__max_depth=6, xgb__n_estimators=50, xgb__reg_lambda=0.001\n"
     ]
    },
    {
     "name": "stderr",
     "output_type": "stream",
     "text": [
      "C:\\Users\\ATeklesadik\\Miniconda3\\envs\\geo_env\\lib\\site-packages\\xgboost\\data.py:112: UserWarning: Use subset (sliced data) of np.ndarray is not recommended because it will generate extra copies and increase memory consumption\n",
      "  warnings.warn(\n",
      "C:\\Users\\ATeklesadik\\Miniconda3\\envs\\geo_env\\lib\\site-packages\\xgboost\\data.py:112: UserWarning: Use subset (sliced data) of np.ndarray is not recommended because it will generate extra copies and increase memory consumption\n",
      "  warnings.warn(\n"
     ]
    },
    {
     "name": "stdout",
     "output_type": "stream",
     "text": [
      "[CV 5/5; 1/2] END xgb__colsample_bytree=0.7, xgb__gamma=0.1, xgb__learning_rate=0.03, xgb__max_depth=6, xgb__n_estimators=50, xgb__reg_lambda=0.001;, score=(train=-4.702, test=-6.031) total time=   0.2s\n",
      "[CV 1/5; 2/2] START xgb__colsample_bytree=0.7, xgb__gamma=0.1, xgb__learning_rate=0.03, xgb__max_depth=8, xgb__n_estimators=50, xgb__reg_lambda=0.001\n"
     ]
    },
    {
     "name": "stderr",
     "output_type": "stream",
     "text": [
      "C:\\Users\\ATeklesadik\\Miniconda3\\envs\\geo_env\\lib\\site-packages\\xgboost\\data.py:112: UserWarning: Use subset (sliced data) of np.ndarray is not recommended because it will generate extra copies and increase memory consumption\n",
      "  warnings.warn(\n",
      "C:\\Users\\ATeklesadik\\Miniconda3\\envs\\geo_env\\lib\\site-packages\\xgboost\\data.py:112: UserWarning: Use subset (sliced data) of np.ndarray is not recommended because it will generate extra copies and increase memory consumption\n",
      "  warnings.warn(\n"
     ]
    },
    {
     "name": "stdout",
     "output_type": "stream",
     "text": [
      "[CV 1/5; 2/2] END xgb__colsample_bytree=0.7, xgb__gamma=0.1, xgb__learning_rate=0.03, xgb__max_depth=8, xgb__n_estimators=50, xgb__reg_lambda=0.001;, score=(train=-3.447, test=-6.500) total time=   0.4s\n",
      "[CV 2/5; 2/2] START xgb__colsample_bytree=0.7, xgb__gamma=0.1, xgb__learning_rate=0.03, xgb__max_depth=8, xgb__n_estimators=50, xgb__reg_lambda=0.001\n"
     ]
    },
    {
     "name": "stderr",
     "output_type": "stream",
     "text": [
      "C:\\Users\\ATeklesadik\\Miniconda3\\envs\\geo_env\\lib\\site-packages\\xgboost\\data.py:112: UserWarning: Use subset (sliced data) of np.ndarray is not recommended because it will generate extra copies and increase memory consumption\n",
      "  warnings.warn(\n",
      "C:\\Users\\ATeklesadik\\Miniconda3\\envs\\geo_env\\lib\\site-packages\\xgboost\\data.py:112: UserWarning: Use subset (sliced data) of np.ndarray is not recommended because it will generate extra copies and increase memory consumption\n",
      "  warnings.warn(\n"
     ]
    },
    {
     "name": "stdout",
     "output_type": "stream",
     "text": [
      "[CV 2/5; 2/2] END xgb__colsample_bytree=0.7, xgb__gamma=0.1, xgb__learning_rate=0.03, xgb__max_depth=8, xgb__n_estimators=50, xgb__reg_lambda=0.001;, score=(train=-3.665, test=-5.850) total time=   0.4s\n",
      "[CV 3/5; 2/2] START xgb__colsample_bytree=0.7, xgb__gamma=0.1, xgb__learning_rate=0.03, xgb__max_depth=8, xgb__n_estimators=50, xgb__reg_lambda=0.001\n"
     ]
    },
    {
     "name": "stderr",
     "output_type": "stream",
     "text": [
      "C:\\Users\\ATeklesadik\\Miniconda3\\envs\\geo_env\\lib\\site-packages\\xgboost\\data.py:112: UserWarning: Use subset (sliced data) of np.ndarray is not recommended because it will generate extra copies and increase memory consumption\n",
      "  warnings.warn(\n",
      "C:\\Users\\ATeklesadik\\Miniconda3\\envs\\geo_env\\lib\\site-packages\\xgboost\\data.py:112: UserWarning: Use subset (sliced data) of np.ndarray is not recommended because it will generate extra copies and increase memory consumption\n",
      "  warnings.warn(\n"
     ]
    },
    {
     "name": "stdout",
     "output_type": "stream",
     "text": [
      "[CV 3/5; 2/2] END xgb__colsample_bytree=0.7, xgb__gamma=0.1, xgb__learning_rate=0.03, xgb__max_depth=8, xgb__n_estimators=50, xgb__reg_lambda=0.001;, score=(train=-3.726, test=-6.696) total time=   0.4s\n",
      "[CV 4/5; 2/2] START xgb__colsample_bytree=0.7, xgb__gamma=0.1, xgb__learning_rate=0.03, xgb__max_depth=8, xgb__n_estimators=50, xgb__reg_lambda=0.001\n"
     ]
    },
    {
     "name": "stderr",
     "output_type": "stream",
     "text": [
      "C:\\Users\\ATeklesadik\\Miniconda3\\envs\\geo_env\\lib\\site-packages\\xgboost\\data.py:112: UserWarning: Use subset (sliced data) of np.ndarray is not recommended because it will generate extra copies and increase memory consumption\n",
      "  warnings.warn(\n",
      "C:\\Users\\ATeklesadik\\Miniconda3\\envs\\geo_env\\lib\\site-packages\\xgboost\\data.py:112: UserWarning: Use subset (sliced data) of np.ndarray is not recommended because it will generate extra copies and increase memory consumption\n",
      "  warnings.warn(\n"
     ]
    },
    {
     "name": "stdout",
     "output_type": "stream",
     "text": [
      "[CV 4/5; 2/2] END xgb__colsample_bytree=0.7, xgb__gamma=0.1, xgb__learning_rate=0.03, xgb__max_depth=8, xgb__n_estimators=50, xgb__reg_lambda=0.001;, score=(train=-3.785, test=-5.555) total time=   0.5s\n",
      "[CV 5/5; 2/2] START xgb__colsample_bytree=0.7, xgb__gamma=0.1, xgb__learning_rate=0.03, xgb__max_depth=8, xgb__n_estimators=50, xgb__reg_lambda=0.001\n"
     ]
    },
    {
     "name": "stderr",
     "output_type": "stream",
     "text": [
      "C:\\Users\\ATeklesadik\\Miniconda3\\envs\\geo_env\\lib\\site-packages\\xgboost\\data.py:112: UserWarning: Use subset (sliced data) of np.ndarray is not recommended because it will generate extra copies and increase memory consumption\n",
      "  warnings.warn(\n",
      "C:\\Users\\ATeklesadik\\Miniconda3\\envs\\geo_env\\lib\\site-packages\\xgboost\\data.py:112: UserWarning: Use subset (sliced data) of np.ndarray is not recommended because it will generate extra copies and increase memory consumption\n",
      "  warnings.warn(\n"
     ]
    },
    {
     "name": "stdout",
     "output_type": "stream",
     "text": [
      "[CV 5/5; 2/2] END xgb__colsample_bytree=0.7, xgb__gamma=0.1, xgb__learning_rate=0.03, xgb__max_depth=8, xgb__n_estimators=50, xgb__reg_lambda=0.001;, score=(train=-3.677, test=-5.995) total time=   0.4s\n"
     ]
    },
    {
     "name": "stderr",
     "output_type": "stream",
     "text": [
      "C:\\Users\\ATeklesadik\\Miniconda3\\envs\\geo_env\\lib\\site-packages\\xgboost\\data.py:112: UserWarning: Use subset (sliced data) of np.ndarray is not recommended because it will generate extra copies and increase memory consumption\n",
      "  warnings.warn(\n",
      "C:\\Users\\ATeklesadik\\Miniconda3\\envs\\geo_env\\lib\\site-packages\\sklearn\\model_selection\\_search.py:285: UserWarning: The total space of parameters 2 is smaller than n_iter=500. Running 2 iterations. For exhaustive searches, use GridSearchCV.\n",
      "  warnings.warn(\n"
     ]
    },
    {
     "name": "stdout",
     "output_type": "stream",
     "text": [
      "Selected Parameters {'xgb__reg_lambda': 0.001, 'xgb__n_estimators': 50, 'xgb__max_depth': 8, 'xgb__learning_rate': 0.03, 'xgb__gamma': 0.1, 'xgb__colsample_bytree': 0.7}\n",
      "Train score: 1.3358073816880613\n",
      "Test score: 2.027941795004597\n",
      "Running for 9 out of a total of 39\n",
      "Fitting 5 folds for each of 2 candidates, totalling 10 fits\n",
      "[CV 1/5; 1/2] START xgb__colsample_bytree=0.7, xgb__gamma=0.1, xgb__learning_rate=0.03, xgb__max_depth=6, xgb__n_estimators=50, xgb__reg_lambda=0.001\n"
     ]
    },
    {
     "name": "stderr",
     "output_type": "stream",
     "text": [
      "C:\\Users\\ATeklesadik\\Miniconda3\\envs\\geo_env\\lib\\site-packages\\xgboost\\data.py:112: UserWarning: Use subset (sliced data) of np.ndarray is not recommended because it will generate extra copies and increase memory consumption\n",
      "  warnings.warn(\n",
      "C:\\Users\\ATeklesadik\\Miniconda3\\envs\\geo_env\\lib\\site-packages\\xgboost\\data.py:112: UserWarning: Use subset (sliced data) of np.ndarray is not recommended because it will generate extra copies and increase memory consumption\n",
      "  warnings.warn(\n"
     ]
    },
    {
     "name": "stdout",
     "output_type": "stream",
     "text": [
      "[CV 1/5; 1/2] END xgb__colsample_bytree=0.7, xgb__gamma=0.1, xgb__learning_rate=0.03, xgb__max_depth=6, xgb__n_estimators=50, xgb__reg_lambda=0.001;, score=(train=-4.788, test=-5.766) total time=   0.3s\n",
      "[CV 2/5; 1/2] START xgb__colsample_bytree=0.7, xgb__gamma=0.1, xgb__learning_rate=0.03, xgb__max_depth=6, xgb__n_estimators=50, xgb__reg_lambda=0.001\n"
     ]
    },
    {
     "name": "stderr",
     "output_type": "stream",
     "text": [
      "C:\\Users\\ATeklesadik\\Miniconda3\\envs\\geo_env\\lib\\site-packages\\xgboost\\data.py:112: UserWarning: Use subset (sliced data) of np.ndarray is not recommended because it will generate extra copies and increase memory consumption\n",
      "  warnings.warn(\n",
      "C:\\Users\\ATeklesadik\\Miniconda3\\envs\\geo_env\\lib\\site-packages\\xgboost\\data.py:112: UserWarning: Use subset (sliced data) of np.ndarray is not recommended because it will generate extra copies and increase memory consumption\n",
      "  warnings.warn(\n"
     ]
    },
    {
     "name": "stdout",
     "output_type": "stream",
     "text": [
      "[CV 2/5; 1/2] END xgb__colsample_bytree=0.7, xgb__gamma=0.1, xgb__learning_rate=0.03, xgb__max_depth=6, xgb__n_estimators=50, xgb__reg_lambda=0.001;, score=(train=-4.568, test=-7.084) total time=   0.3s\n",
      "[CV 3/5; 1/2] START xgb__colsample_bytree=0.7, xgb__gamma=0.1, xgb__learning_rate=0.03, xgb__max_depth=6, xgb__n_estimators=50, xgb__reg_lambda=0.001\n"
     ]
    },
    {
     "name": "stderr",
     "output_type": "stream",
     "text": [
      "C:\\Users\\ATeklesadik\\Miniconda3\\envs\\geo_env\\lib\\site-packages\\xgboost\\data.py:112: UserWarning: Use subset (sliced data) of np.ndarray is not recommended because it will generate extra copies and increase memory consumption\n",
      "  warnings.warn(\n",
      "C:\\Users\\ATeklesadik\\Miniconda3\\envs\\geo_env\\lib\\site-packages\\xgboost\\data.py:112: UserWarning: Use subset (sliced data) of np.ndarray is not recommended because it will generate extra copies and increase memory consumption\n",
      "  warnings.warn(\n"
     ]
    },
    {
     "name": "stdout",
     "output_type": "stream",
     "text": [
      "[CV 3/5; 1/2] END xgb__colsample_bytree=0.7, xgb__gamma=0.1, xgb__learning_rate=0.03, xgb__max_depth=6, xgb__n_estimators=50, xgb__reg_lambda=0.001;, score=(train=-4.590, test=-6.348) total time=   0.3s\n",
      "[CV 4/5; 1/2] START xgb__colsample_bytree=0.7, xgb__gamma=0.1, xgb__learning_rate=0.03, xgb__max_depth=6, xgb__n_estimators=50, xgb__reg_lambda=0.001\n"
     ]
    },
    {
     "name": "stderr",
     "output_type": "stream",
     "text": [
      "C:\\Users\\ATeklesadik\\Miniconda3\\envs\\geo_env\\lib\\site-packages\\xgboost\\data.py:112: UserWarning: Use subset (sliced data) of np.ndarray is not recommended because it will generate extra copies and increase memory consumption\n",
      "  warnings.warn(\n",
      "C:\\Users\\ATeklesadik\\Miniconda3\\envs\\geo_env\\lib\\site-packages\\xgboost\\data.py:112: UserWarning: Use subset (sliced data) of np.ndarray is not recommended because it will generate extra copies and increase memory consumption\n",
      "  warnings.warn(\n"
     ]
    },
    {
     "name": "stdout",
     "output_type": "stream",
     "text": [
      "[CV 4/5; 1/2] END xgb__colsample_bytree=0.7, xgb__gamma=0.1, xgb__learning_rate=0.03, xgb__max_depth=6, xgb__n_estimators=50, xgb__reg_lambda=0.001;, score=(train=-4.426, test=-6.368) total time=   0.3s\n",
      "[CV 5/5; 1/2] START xgb__colsample_bytree=0.7, xgb__gamma=0.1, xgb__learning_rate=0.03, xgb__max_depth=6, xgb__n_estimators=50, xgb__reg_lambda=0.001\n"
     ]
    },
    {
     "name": "stderr",
     "output_type": "stream",
     "text": [
      "C:\\Users\\ATeklesadik\\Miniconda3\\envs\\geo_env\\lib\\site-packages\\xgboost\\data.py:112: UserWarning: Use subset (sliced data) of np.ndarray is not recommended because it will generate extra copies and increase memory consumption\n",
      "  warnings.warn(\n",
      "C:\\Users\\ATeklesadik\\Miniconda3\\envs\\geo_env\\lib\\site-packages\\xgboost\\data.py:112: UserWarning: Use subset (sliced data) of np.ndarray is not recommended because it will generate extra copies and increase memory consumption\n",
      "  warnings.warn(\n"
     ]
    },
    {
     "name": "stdout",
     "output_type": "stream",
     "text": [
      "[CV 5/5; 1/2] END xgb__colsample_bytree=0.7, xgb__gamma=0.1, xgb__learning_rate=0.03, xgb__max_depth=6, xgb__n_estimators=50, xgb__reg_lambda=0.001;, score=(train=-4.849, test=-5.389) total time=   0.3s\n",
      "[CV 1/5; 2/2] START xgb__colsample_bytree=0.7, xgb__gamma=0.1, xgb__learning_rate=0.03, xgb__max_depth=8, xgb__n_estimators=50, xgb__reg_lambda=0.001\n"
     ]
    },
    {
     "name": "stderr",
     "output_type": "stream",
     "text": [
      "C:\\Users\\ATeklesadik\\Miniconda3\\envs\\geo_env\\lib\\site-packages\\xgboost\\data.py:112: UserWarning: Use subset (sliced data) of np.ndarray is not recommended because it will generate extra copies and increase memory consumption\n",
      "  warnings.warn(\n",
      "C:\\Users\\ATeklesadik\\Miniconda3\\envs\\geo_env\\lib\\site-packages\\xgboost\\data.py:112: UserWarning: Use subset (sliced data) of np.ndarray is not recommended because it will generate extra copies and increase memory consumption\n",
      "  warnings.warn(\n"
     ]
    },
    {
     "name": "stdout",
     "output_type": "stream",
     "text": [
      "[CV 1/5; 2/2] END xgb__colsample_bytree=0.7, xgb__gamma=0.1, xgb__learning_rate=0.03, xgb__max_depth=8, xgb__n_estimators=50, xgb__reg_lambda=0.001;, score=(train=-3.923, test=-5.640) total time=   0.4s\n",
      "[CV 2/5; 2/2] START xgb__colsample_bytree=0.7, xgb__gamma=0.1, xgb__learning_rate=0.03, xgb__max_depth=8, xgb__n_estimators=50, xgb__reg_lambda=0.001\n"
     ]
    },
    {
     "name": "stderr",
     "output_type": "stream",
     "text": [
      "C:\\Users\\ATeklesadik\\Miniconda3\\envs\\geo_env\\lib\\site-packages\\xgboost\\data.py:112: UserWarning: Use subset (sliced data) of np.ndarray is not recommended because it will generate extra copies and increase memory consumption\n",
      "  warnings.warn(\n",
      "C:\\Users\\ATeklesadik\\Miniconda3\\envs\\geo_env\\lib\\site-packages\\xgboost\\data.py:112: UserWarning: Use subset (sliced data) of np.ndarray is not recommended because it will generate extra copies and increase memory consumption\n",
      "  warnings.warn(\n"
     ]
    },
    {
     "name": "stdout",
     "output_type": "stream",
     "text": [
      "[CV 2/5; 2/2] END xgb__colsample_bytree=0.7, xgb__gamma=0.1, xgb__learning_rate=0.03, xgb__max_depth=8, xgb__n_estimators=50, xgb__reg_lambda=0.001;, score=(train=-3.658, test=-6.965) total time=   0.5s\n",
      "[CV 3/5; 2/2] START xgb__colsample_bytree=0.7, xgb__gamma=0.1, xgb__learning_rate=0.03, xgb__max_depth=8, xgb__n_estimators=50, xgb__reg_lambda=0.001\n"
     ]
    },
    {
     "name": "stderr",
     "output_type": "stream",
     "text": [
      "C:\\Users\\ATeklesadik\\Miniconda3\\envs\\geo_env\\lib\\site-packages\\xgboost\\data.py:112: UserWarning: Use subset (sliced data) of np.ndarray is not recommended because it will generate extra copies and increase memory consumption\n",
      "  warnings.warn(\n",
      "C:\\Users\\ATeklesadik\\Miniconda3\\envs\\geo_env\\lib\\site-packages\\xgboost\\data.py:112: UserWarning: Use subset (sliced data) of np.ndarray is not recommended because it will generate extra copies and increase memory consumption\n",
      "  warnings.warn(\n"
     ]
    },
    {
     "name": "stdout",
     "output_type": "stream",
     "text": [
      "[CV 3/5; 2/2] END xgb__colsample_bytree=0.7, xgb__gamma=0.1, xgb__learning_rate=0.03, xgb__max_depth=8, xgb__n_estimators=50, xgb__reg_lambda=0.001;, score=(train=-3.641, test=-6.313) total time=   0.5s\n",
      "[CV 4/5; 2/2] START xgb__colsample_bytree=0.7, xgb__gamma=0.1, xgb__learning_rate=0.03, xgb__max_depth=8, xgb__n_estimators=50, xgb__reg_lambda=0.001\n"
     ]
    },
    {
     "name": "stderr",
     "output_type": "stream",
     "text": [
      "C:\\Users\\ATeklesadik\\Miniconda3\\envs\\geo_env\\lib\\site-packages\\xgboost\\data.py:112: UserWarning: Use subset (sliced data) of np.ndarray is not recommended because it will generate extra copies and increase memory consumption\n",
      "  warnings.warn(\n",
      "C:\\Users\\ATeklesadik\\Miniconda3\\envs\\geo_env\\lib\\site-packages\\xgboost\\data.py:112: UserWarning: Use subset (sliced data) of np.ndarray is not recommended because it will generate extra copies and increase memory consumption\n",
      "  warnings.warn(\n"
     ]
    },
    {
     "name": "stdout",
     "output_type": "stream",
     "text": [
      "[CV 4/5; 2/2] END xgb__colsample_bytree=0.7, xgb__gamma=0.1, xgb__learning_rate=0.03, xgb__max_depth=8, xgb__n_estimators=50, xgb__reg_lambda=0.001;, score=(train=-3.409, test=-6.365) total time=   0.5s\n",
      "[CV 5/5; 2/2] START xgb__colsample_bytree=0.7, xgb__gamma=0.1, xgb__learning_rate=0.03, xgb__max_depth=8, xgb__n_estimators=50, xgb__reg_lambda=0.001\n"
     ]
    },
    {
     "name": "stderr",
     "output_type": "stream",
     "text": [
      "C:\\Users\\ATeklesadik\\Miniconda3\\envs\\geo_env\\lib\\site-packages\\xgboost\\data.py:112: UserWarning: Use subset (sliced data) of np.ndarray is not recommended because it will generate extra copies and increase memory consumption\n",
      "  warnings.warn(\n",
      "C:\\Users\\ATeklesadik\\Miniconda3\\envs\\geo_env\\lib\\site-packages\\xgboost\\data.py:112: UserWarning: Use subset (sliced data) of np.ndarray is not recommended because it will generate extra copies and increase memory consumption\n",
      "  warnings.warn(\n"
     ]
    },
    {
     "name": "stdout",
     "output_type": "stream",
     "text": [
      "[CV 5/5; 2/2] END xgb__colsample_bytree=0.7, xgb__gamma=0.1, xgb__learning_rate=0.03, xgb__max_depth=8, xgb__n_estimators=50, xgb__reg_lambda=0.001;, score=(train=-3.893, test=-5.296) total time=   0.5s\n"
     ]
    },
    {
     "name": "stderr",
     "output_type": "stream",
     "text": [
      "C:\\Users\\ATeklesadik\\Miniconda3\\envs\\geo_env\\lib\\site-packages\\xgboost\\data.py:112: UserWarning: Use subset (sliced data) of np.ndarray is not recommended because it will generate extra copies and increase memory consumption\n",
      "  warnings.warn(\n",
      "C:\\Users\\ATeklesadik\\Miniconda3\\envs\\geo_env\\lib\\site-packages\\sklearn\\model_selection\\_search.py:285: UserWarning: The total space of parameters 2 is smaller than n_iter=500. Running 2 iterations. For exhaustive searches, use GridSearchCV.\n",
      "  warnings.warn(\n"
     ]
    },
    {
     "name": "stdout",
     "output_type": "stream",
     "text": [
      "Selected Parameters {'xgb__reg_lambda': 0.001, 'xgb__n_estimators': 50, 'xgb__max_depth': 8, 'xgb__learning_rate': 0.03, 'xgb__gamma': 0.1, 'xgb__colsample_bytree': 0.7}\n",
      "Train score: 1.3406639069586181\n",
      "Test score: 1.7168108066746988\n",
      "Running for 10 out of a total of 39\n",
      "Fitting 5 folds for each of 2 candidates, totalling 10 fits\n",
      "[CV 1/5; 1/2] START xgb__colsample_bytree=0.7, xgb__gamma=0.1, xgb__learning_rate=0.03, xgb__max_depth=6, xgb__n_estimators=50, xgb__reg_lambda=0.001\n"
     ]
    },
    {
     "name": "stderr",
     "output_type": "stream",
     "text": [
      "C:\\Users\\ATeklesadik\\Miniconda3\\envs\\geo_env\\lib\\site-packages\\xgboost\\data.py:112: UserWarning: Use subset (sliced data) of np.ndarray is not recommended because it will generate extra copies and increase memory consumption\n",
      "  warnings.warn(\n",
      "C:\\Users\\ATeklesadik\\Miniconda3\\envs\\geo_env\\lib\\site-packages\\xgboost\\data.py:112: UserWarning: Use subset (sliced data) of np.ndarray is not recommended because it will generate extra copies and increase memory consumption\n",
      "  warnings.warn(\n"
     ]
    },
    {
     "name": "stdout",
     "output_type": "stream",
     "text": [
      "[CV 1/5; 1/2] END xgb__colsample_bytree=0.7, xgb__gamma=0.1, xgb__learning_rate=0.03, xgb__max_depth=6, xgb__n_estimators=50, xgb__reg_lambda=0.001;, score=(train=-3.732, test=-5.651) total time=   0.3s\n",
      "[CV 2/5; 1/2] START xgb__colsample_bytree=0.7, xgb__gamma=0.1, xgb__learning_rate=0.03, xgb__max_depth=6, xgb__n_estimators=50, xgb__reg_lambda=0.001\n"
     ]
    },
    {
     "name": "stderr",
     "output_type": "stream",
     "text": [
      "C:\\Users\\ATeklesadik\\Miniconda3\\envs\\geo_env\\lib\\site-packages\\xgboost\\data.py:112: UserWarning: Use subset (sliced data) of np.ndarray is not recommended because it will generate extra copies and increase memory consumption\n",
      "  warnings.warn(\n",
      "C:\\Users\\ATeklesadik\\Miniconda3\\envs\\geo_env\\lib\\site-packages\\xgboost\\data.py:112: UserWarning: Use subset (sliced data) of np.ndarray is not recommended because it will generate extra copies and increase memory consumption\n",
      "  warnings.warn(\n"
     ]
    },
    {
     "name": "stdout",
     "output_type": "stream",
     "text": [
      "[CV 2/5; 1/2] END xgb__colsample_bytree=0.7, xgb__gamma=0.1, xgb__learning_rate=0.03, xgb__max_depth=6, xgb__n_estimators=50, xgb__reg_lambda=0.001;, score=(train=-4.016, test=-4.949) total time=   0.3s\n",
      "[CV 3/5; 1/2] START xgb__colsample_bytree=0.7, xgb__gamma=0.1, xgb__learning_rate=0.03, xgb__max_depth=6, xgb__n_estimators=50, xgb__reg_lambda=0.001\n"
     ]
    },
    {
     "name": "stderr",
     "output_type": "stream",
     "text": [
      "C:\\Users\\ATeklesadik\\Miniconda3\\envs\\geo_env\\lib\\site-packages\\xgboost\\data.py:112: UserWarning: Use subset (sliced data) of np.ndarray is not recommended because it will generate extra copies and increase memory consumption\n",
      "  warnings.warn(\n",
      "C:\\Users\\ATeklesadik\\Miniconda3\\envs\\geo_env\\lib\\site-packages\\xgboost\\data.py:112: UserWarning: Use subset (sliced data) of np.ndarray is not recommended because it will generate extra copies and increase memory consumption\n",
      "  warnings.warn(\n"
     ]
    },
    {
     "name": "stdout",
     "output_type": "stream",
     "text": [
      "[CV 3/5; 1/2] END xgb__colsample_bytree=0.7, xgb__gamma=0.1, xgb__learning_rate=0.03, xgb__max_depth=6, xgb__n_estimators=50, xgb__reg_lambda=0.001;, score=(train=-3.850, test=-5.069) total time=   0.3s\n",
      "[CV 4/5; 1/2] START xgb__colsample_bytree=0.7, xgb__gamma=0.1, xgb__learning_rate=0.03, xgb__max_depth=6, xgb__n_estimators=50, xgb__reg_lambda=0.001\n"
     ]
    },
    {
     "name": "stderr",
     "output_type": "stream",
     "text": [
      "C:\\Users\\ATeklesadik\\Miniconda3\\envs\\geo_env\\lib\\site-packages\\xgboost\\data.py:112: UserWarning: Use subset (sliced data) of np.ndarray is not recommended because it will generate extra copies and increase memory consumption\n",
      "  warnings.warn(\n",
      "C:\\Users\\ATeklesadik\\Miniconda3\\envs\\geo_env\\lib\\site-packages\\xgboost\\data.py:112: UserWarning: Use subset (sliced data) of np.ndarray is not recommended because it will generate extra copies and increase memory consumption\n",
      "  warnings.warn(\n"
     ]
    },
    {
     "name": "stdout",
     "output_type": "stream",
     "text": [
      "[CV 4/5; 1/2] END xgb__colsample_bytree=0.7, xgb__gamma=0.1, xgb__learning_rate=0.03, xgb__max_depth=6, xgb__n_estimators=50, xgb__reg_lambda=0.001;, score=(train=-3.917, test=-4.762) total time=   0.3s\n",
      "[CV 5/5; 1/2] START xgb__colsample_bytree=0.7, xgb__gamma=0.1, xgb__learning_rate=0.03, xgb__max_depth=6, xgb__n_estimators=50, xgb__reg_lambda=0.001\n"
     ]
    },
    {
     "name": "stderr",
     "output_type": "stream",
     "text": [
      "C:\\Users\\ATeklesadik\\Miniconda3\\envs\\geo_env\\lib\\site-packages\\xgboost\\data.py:112: UserWarning: Use subset (sliced data) of np.ndarray is not recommended because it will generate extra copies and increase memory consumption\n",
      "  warnings.warn(\n",
      "C:\\Users\\ATeklesadik\\Miniconda3\\envs\\geo_env\\lib\\site-packages\\xgboost\\data.py:112: UserWarning: Use subset (sliced data) of np.ndarray is not recommended because it will generate extra copies and increase memory consumption\n",
      "  warnings.warn(\n"
     ]
    },
    {
     "name": "stdout",
     "output_type": "stream",
     "text": [
      "[CV 5/5; 1/2] END xgb__colsample_bytree=0.7, xgb__gamma=0.1, xgb__learning_rate=0.03, xgb__max_depth=6, xgb__n_estimators=50, xgb__reg_lambda=0.001;, score=(train=-3.675, test=-6.182) total time=   0.3s\n",
      "[CV 1/5; 2/2] START xgb__colsample_bytree=0.7, xgb__gamma=0.1, xgb__learning_rate=0.03, xgb__max_depth=8, xgb__n_estimators=50, xgb__reg_lambda=0.001\n"
     ]
    },
    {
     "name": "stderr",
     "output_type": "stream",
     "text": [
      "C:\\Users\\ATeklesadik\\Miniconda3\\envs\\geo_env\\lib\\site-packages\\xgboost\\data.py:112: UserWarning: Use subset (sliced data) of np.ndarray is not recommended because it will generate extra copies and increase memory consumption\n",
      "  warnings.warn(\n",
      "C:\\Users\\ATeklesadik\\Miniconda3\\envs\\geo_env\\lib\\site-packages\\xgboost\\data.py:112: UserWarning: Use subset (sliced data) of np.ndarray is not recommended because it will generate extra copies and increase memory consumption\n",
      "  warnings.warn(\n"
     ]
    },
    {
     "name": "stdout",
     "output_type": "stream",
     "text": [
      "[CV 1/5; 2/2] END xgb__colsample_bytree=0.7, xgb__gamma=0.1, xgb__learning_rate=0.03, xgb__max_depth=8, xgb__n_estimators=50, xgb__reg_lambda=0.001;, score=(train=-2.804, test=-5.566) total time=   0.6s\n",
      "[CV 2/5; 2/2] START xgb__colsample_bytree=0.7, xgb__gamma=0.1, xgb__learning_rate=0.03, xgb__max_depth=8, xgb__n_estimators=50, xgb__reg_lambda=0.001\n"
     ]
    },
    {
     "name": "stderr",
     "output_type": "stream",
     "text": [
      "C:\\Users\\ATeklesadik\\Miniconda3\\envs\\geo_env\\lib\\site-packages\\xgboost\\data.py:112: UserWarning: Use subset (sliced data) of np.ndarray is not recommended because it will generate extra copies and increase memory consumption\n",
      "  warnings.warn(\n",
      "C:\\Users\\ATeklesadik\\Miniconda3\\envs\\geo_env\\lib\\site-packages\\xgboost\\data.py:112: UserWarning: Use subset (sliced data) of np.ndarray is not recommended because it will generate extra copies and increase memory consumption\n",
      "  warnings.warn(\n"
     ]
    },
    {
     "name": "stdout",
     "output_type": "stream",
     "text": [
      "[CV 2/5; 2/2] END xgb__colsample_bytree=0.7, xgb__gamma=0.1, xgb__learning_rate=0.03, xgb__max_depth=8, xgb__n_estimators=50, xgb__reg_lambda=0.001;, score=(train=-3.015, test=-4.902) total time=   0.5s\n",
      "[CV 3/5; 2/2] START xgb__colsample_bytree=0.7, xgb__gamma=0.1, xgb__learning_rate=0.03, xgb__max_depth=8, xgb__n_estimators=50, xgb__reg_lambda=0.001\n"
     ]
    },
    {
     "name": "stderr",
     "output_type": "stream",
     "text": [
      "C:\\Users\\ATeklesadik\\Miniconda3\\envs\\geo_env\\lib\\site-packages\\xgboost\\data.py:112: UserWarning: Use subset (sliced data) of np.ndarray is not recommended because it will generate extra copies and increase memory consumption\n",
      "  warnings.warn(\n",
      "C:\\Users\\ATeklesadik\\Miniconda3\\envs\\geo_env\\lib\\site-packages\\xgboost\\data.py:112: UserWarning: Use subset (sliced data) of np.ndarray is not recommended because it will generate extra copies and increase memory consumption\n",
      "  warnings.warn(\n"
     ]
    },
    {
     "name": "stdout",
     "output_type": "stream",
     "text": [
      "[CV 3/5; 2/2] END xgb__colsample_bytree=0.7, xgb__gamma=0.1, xgb__learning_rate=0.03, xgb__max_depth=8, xgb__n_estimators=50, xgb__reg_lambda=0.001;, score=(train=-2.826, test=-5.079) total time=   0.5s\n",
      "[CV 4/5; 2/2] START xgb__colsample_bytree=0.7, xgb__gamma=0.1, xgb__learning_rate=0.03, xgb__max_depth=8, xgb__n_estimators=50, xgb__reg_lambda=0.001\n"
     ]
    },
    {
     "name": "stderr",
     "output_type": "stream",
     "text": [
      "C:\\Users\\ATeklesadik\\Miniconda3\\envs\\geo_env\\lib\\site-packages\\xgboost\\data.py:112: UserWarning: Use subset (sliced data) of np.ndarray is not recommended because it will generate extra copies and increase memory consumption\n",
      "  warnings.warn(\n",
      "C:\\Users\\ATeklesadik\\Miniconda3\\envs\\geo_env\\lib\\site-packages\\xgboost\\data.py:112: UserWarning: Use subset (sliced data) of np.ndarray is not recommended because it will generate extra copies and increase memory consumption\n",
      "  warnings.warn(\n"
     ]
    },
    {
     "name": "stdout",
     "output_type": "stream",
     "text": [
      "[CV 4/5; 2/2] END xgb__colsample_bytree=0.7, xgb__gamma=0.1, xgb__learning_rate=0.03, xgb__max_depth=8, xgb__n_estimators=50, xgb__reg_lambda=0.001;, score=(train=-2.976, test=-4.735) total time=   0.5s\n",
      "[CV 5/5; 2/2] START xgb__colsample_bytree=0.7, xgb__gamma=0.1, xgb__learning_rate=0.03, xgb__max_depth=8, xgb__n_estimators=50, xgb__reg_lambda=0.001\n"
     ]
    },
    {
     "name": "stderr",
     "output_type": "stream",
     "text": [
      "C:\\Users\\ATeklesadik\\Miniconda3\\envs\\geo_env\\lib\\site-packages\\xgboost\\data.py:112: UserWarning: Use subset (sliced data) of np.ndarray is not recommended because it will generate extra copies and increase memory consumption\n",
      "  warnings.warn(\n",
      "C:\\Users\\ATeklesadik\\Miniconda3\\envs\\geo_env\\lib\\site-packages\\xgboost\\data.py:112: UserWarning: Use subset (sliced data) of np.ndarray is not recommended because it will generate extra copies and increase memory consumption\n",
      "  warnings.warn(\n"
     ]
    },
    {
     "name": "stdout",
     "output_type": "stream",
     "text": [
      "[CV 5/5; 2/2] END xgb__colsample_bytree=0.7, xgb__gamma=0.1, xgb__learning_rate=0.03, xgb__max_depth=8, xgb__n_estimators=50, xgb__reg_lambda=0.001;, score=(train=-2.780, test=-6.198) total time=   0.7s\n"
     ]
    },
    {
     "name": "stderr",
     "output_type": "stream",
     "text": [
      "C:\\Users\\ATeklesadik\\Miniconda3\\envs\\geo_env\\lib\\site-packages\\xgboost\\data.py:112: UserWarning: Use subset (sliced data) of np.ndarray is not recommended because it will generate extra copies and increase memory consumption\n",
      "  warnings.warn(\n",
      "C:\\Users\\ATeklesadik\\Miniconda3\\envs\\geo_env\\lib\\site-packages\\sklearn\\model_selection\\_search.py:285: UserWarning: The total space of parameters 2 is smaller than n_iter=500. Running 2 iterations. For exhaustive searches, use GridSearchCV.\n",
      "  warnings.warn(\n"
     ]
    },
    {
     "name": "stdout",
     "output_type": "stream",
     "text": [
      "Selected Parameters {'xgb__reg_lambda': 0.001, 'xgb__n_estimators': 50, 'xgb__max_depth': 8, 'xgb__learning_rate': 0.03, 'xgb__gamma': 0.1, 'xgb__colsample_bytree': 0.7}\n",
      "Train score: 1.0319539911534255\n",
      "Test score: 13.100300098499764\n",
      "Running for 11 out of a total of 39\n",
      "Fitting 5 folds for each of 2 candidates, totalling 10 fits\n",
      "[CV 1/5; 1/2] START xgb__colsample_bytree=0.7, xgb__gamma=0.1, xgb__learning_rate=0.03, xgb__max_depth=6, xgb__n_estimators=50, xgb__reg_lambda=0.001\n"
     ]
    },
    {
     "name": "stderr",
     "output_type": "stream",
     "text": [
      "C:\\Users\\ATeklesadik\\Miniconda3\\envs\\geo_env\\lib\\site-packages\\xgboost\\data.py:112: UserWarning: Use subset (sliced data) of np.ndarray is not recommended because it will generate extra copies and increase memory consumption\n",
      "  warnings.warn(\n",
      "C:\\Users\\ATeklesadik\\Miniconda3\\envs\\geo_env\\lib\\site-packages\\xgboost\\data.py:112: UserWarning: Use subset (sliced data) of np.ndarray is not recommended because it will generate extra copies and increase memory consumption\n",
      "  warnings.warn(\n"
     ]
    },
    {
     "name": "stdout",
     "output_type": "stream",
     "text": [
      "[CV 1/5; 1/2] END xgb__colsample_bytree=0.7, xgb__gamma=0.1, xgb__learning_rate=0.03, xgb__max_depth=6, xgb__n_estimators=50, xgb__reg_lambda=0.001;, score=(train=-4.810, test=-6.095) total time=   0.3s\n",
      "[CV 2/5; 1/2] START xgb__colsample_bytree=0.7, xgb__gamma=0.1, xgb__learning_rate=0.03, xgb__max_depth=6, xgb__n_estimators=50, xgb__reg_lambda=0.001\n"
     ]
    },
    {
     "name": "stderr",
     "output_type": "stream",
     "text": [
      "C:\\Users\\ATeklesadik\\Miniconda3\\envs\\geo_env\\lib\\site-packages\\xgboost\\data.py:112: UserWarning: Use subset (sliced data) of np.ndarray is not recommended because it will generate extra copies and increase memory consumption\n",
      "  warnings.warn(\n",
      "C:\\Users\\ATeklesadik\\Miniconda3\\envs\\geo_env\\lib\\site-packages\\xgboost\\data.py:112: UserWarning: Use subset (sliced data) of np.ndarray is not recommended because it will generate extra copies and increase memory consumption\n",
      "  warnings.warn(\n"
     ]
    },
    {
     "name": "stdout",
     "output_type": "stream",
     "text": [
      "[CV 2/5; 1/2] END xgb__colsample_bytree=0.7, xgb__gamma=0.1, xgb__learning_rate=0.03, xgb__max_depth=6, xgb__n_estimators=50, xgb__reg_lambda=0.001;, score=(train=-4.810, test=-5.074) total time=   0.3s\n",
      "[CV 3/5; 1/2] START xgb__colsample_bytree=0.7, xgb__gamma=0.1, xgb__learning_rate=0.03, xgb__max_depth=6, xgb__n_estimators=50, xgb__reg_lambda=0.001\n"
     ]
    },
    {
     "name": "stderr",
     "output_type": "stream",
     "text": [
      "C:\\Users\\ATeklesadik\\Miniconda3\\envs\\geo_env\\lib\\site-packages\\xgboost\\data.py:112: UserWarning: Use subset (sliced data) of np.ndarray is not recommended because it will generate extra copies and increase memory consumption\n",
      "  warnings.warn(\n",
      "C:\\Users\\ATeklesadik\\Miniconda3\\envs\\geo_env\\lib\\site-packages\\xgboost\\data.py:112: UserWarning: Use subset (sliced data) of np.ndarray is not recommended because it will generate extra copies and increase memory consumption\n",
      "  warnings.warn(\n"
     ]
    },
    {
     "name": "stdout",
     "output_type": "stream",
     "text": [
      "[CV 3/5; 1/2] END xgb__colsample_bytree=0.7, xgb__gamma=0.1, xgb__learning_rate=0.03, xgb__max_depth=6, xgb__n_estimators=50, xgb__reg_lambda=0.001;, score=(train=-4.671, test=-6.553) total time=   0.3s\n",
      "[CV 4/5; 1/2] START xgb__colsample_bytree=0.7, xgb__gamma=0.1, xgb__learning_rate=0.03, xgb__max_depth=6, xgb__n_estimators=50, xgb__reg_lambda=0.001\n"
     ]
    },
    {
     "name": "stderr",
     "output_type": "stream",
     "text": [
      "C:\\Users\\ATeklesadik\\Miniconda3\\envs\\geo_env\\lib\\site-packages\\xgboost\\data.py:112: UserWarning: Use subset (sliced data) of np.ndarray is not recommended because it will generate extra copies and increase memory consumption\n",
      "  warnings.warn(\n",
      "C:\\Users\\ATeklesadik\\Miniconda3\\envs\\geo_env\\lib\\site-packages\\xgboost\\data.py:112: UserWarning: Use subset (sliced data) of np.ndarray is not recommended because it will generate extra copies and increase memory consumption\n",
      "  warnings.warn(\n"
     ]
    },
    {
     "name": "stdout",
     "output_type": "stream",
     "text": [
      "[CV 4/5; 1/2] END xgb__colsample_bytree=0.7, xgb__gamma=0.1, xgb__learning_rate=0.03, xgb__max_depth=6, xgb__n_estimators=50, xgb__reg_lambda=0.001;, score=(train=-4.676, test=-6.175) total time=   0.3s\n",
      "[CV 5/5; 1/2] START xgb__colsample_bytree=0.7, xgb__gamma=0.1, xgb__learning_rate=0.03, xgb__max_depth=6, xgb__n_estimators=50, xgb__reg_lambda=0.001\n"
     ]
    },
    {
     "name": "stderr",
     "output_type": "stream",
     "text": [
      "C:\\Users\\ATeklesadik\\Miniconda3\\envs\\geo_env\\lib\\site-packages\\xgboost\\data.py:112: UserWarning: Use subset (sliced data) of np.ndarray is not recommended because it will generate extra copies and increase memory consumption\n",
      "  warnings.warn(\n",
      "C:\\Users\\ATeklesadik\\Miniconda3\\envs\\geo_env\\lib\\site-packages\\xgboost\\data.py:112: UserWarning: Use subset (sliced data) of np.ndarray is not recommended because it will generate extra copies and increase memory consumption\n",
      "  warnings.warn(\n"
     ]
    },
    {
     "name": "stdout",
     "output_type": "stream",
     "text": [
      "[CV 5/5; 1/2] END xgb__colsample_bytree=0.7, xgb__gamma=0.1, xgb__learning_rate=0.03, xgb__max_depth=6, xgb__n_estimators=50, xgb__reg_lambda=0.001;, score=(train=-4.468, test=-7.016) total time=   0.3s\n",
      "[CV 1/5; 2/2] START xgb__colsample_bytree=0.7, xgb__gamma=0.1, xgb__learning_rate=0.03, xgb__max_depth=8, xgb__n_estimators=50, xgb__reg_lambda=0.001\n"
     ]
    },
    {
     "name": "stderr",
     "output_type": "stream",
     "text": [
      "C:\\Users\\ATeklesadik\\Miniconda3\\envs\\geo_env\\lib\\site-packages\\xgboost\\data.py:112: UserWarning: Use subset (sliced data) of np.ndarray is not recommended because it will generate extra copies and increase memory consumption\n",
      "  warnings.warn(\n",
      "C:\\Users\\ATeklesadik\\Miniconda3\\envs\\geo_env\\lib\\site-packages\\xgboost\\data.py:112: UserWarning: Use subset (sliced data) of np.ndarray is not recommended because it will generate extra copies and increase memory consumption\n",
      "  warnings.warn(\n"
     ]
    },
    {
     "name": "stdout",
     "output_type": "stream",
     "text": [
      "[CV 1/5; 2/2] END xgb__colsample_bytree=0.7, xgb__gamma=0.1, xgb__learning_rate=0.03, xgb__max_depth=8, xgb__n_estimators=50, xgb__reg_lambda=0.001;, score=(train=-3.782, test=-6.047) total time=   0.5s\n",
      "[CV 2/5; 2/2] START xgb__colsample_bytree=0.7, xgb__gamma=0.1, xgb__learning_rate=0.03, xgb__max_depth=8, xgb__n_estimators=50, xgb__reg_lambda=0.001\n"
     ]
    },
    {
     "name": "stderr",
     "output_type": "stream",
     "text": [
      "C:\\Users\\ATeklesadik\\Miniconda3\\envs\\geo_env\\lib\\site-packages\\xgboost\\data.py:112: UserWarning: Use subset (sliced data) of np.ndarray is not recommended because it will generate extra copies and increase memory consumption\n",
      "  warnings.warn(\n",
      "C:\\Users\\ATeklesadik\\Miniconda3\\envs\\geo_env\\lib\\site-packages\\xgboost\\data.py:112: UserWarning: Use subset (sliced data) of np.ndarray is not recommended because it will generate extra copies and increase memory consumption\n",
      "  warnings.warn(\n"
     ]
    },
    {
     "name": "stdout",
     "output_type": "stream",
     "text": [
      "[CV 2/5; 2/2] END xgb__colsample_bytree=0.7, xgb__gamma=0.1, xgb__learning_rate=0.03, xgb__max_depth=8, xgb__n_estimators=50, xgb__reg_lambda=0.001;, score=(train=-3.802, test=-5.056) total time=   0.5s\n",
      "[CV 3/5; 2/2] START xgb__colsample_bytree=0.7, xgb__gamma=0.1, xgb__learning_rate=0.03, xgb__max_depth=8, xgb__n_estimators=50, xgb__reg_lambda=0.001\n"
     ]
    },
    {
     "name": "stderr",
     "output_type": "stream",
     "text": [
      "C:\\Users\\ATeklesadik\\Miniconda3\\envs\\geo_env\\lib\\site-packages\\xgboost\\data.py:112: UserWarning: Use subset (sliced data) of np.ndarray is not recommended because it will generate extra copies and increase memory consumption\n",
      "  warnings.warn(\n",
      "C:\\Users\\ATeklesadik\\Miniconda3\\envs\\geo_env\\lib\\site-packages\\xgboost\\data.py:112: UserWarning: Use subset (sliced data) of np.ndarray is not recommended because it will generate extra copies and increase memory consumption\n",
      "  warnings.warn(\n"
     ]
    },
    {
     "name": "stdout",
     "output_type": "stream",
     "text": [
      "[CV 3/5; 2/2] END xgb__colsample_bytree=0.7, xgb__gamma=0.1, xgb__learning_rate=0.03, xgb__max_depth=8, xgb__n_estimators=50, xgb__reg_lambda=0.001;, score=(train=-3.787, test=-6.676) total time=   0.6s\n",
      "[CV 4/5; 2/2] START xgb__colsample_bytree=0.7, xgb__gamma=0.1, xgb__learning_rate=0.03, xgb__max_depth=8, xgb__n_estimators=50, xgb__reg_lambda=0.001\n"
     ]
    },
    {
     "name": "stderr",
     "output_type": "stream",
     "text": [
      "C:\\Users\\ATeklesadik\\Miniconda3\\envs\\geo_env\\lib\\site-packages\\xgboost\\data.py:112: UserWarning: Use subset (sliced data) of np.ndarray is not recommended because it will generate extra copies and increase memory consumption\n",
      "  warnings.warn(\n",
      "C:\\Users\\ATeklesadik\\Miniconda3\\envs\\geo_env\\lib\\site-packages\\xgboost\\data.py:112: UserWarning: Use subset (sliced data) of np.ndarray is not recommended because it will generate extra copies and increase memory consumption\n",
      "  warnings.warn(\n"
     ]
    },
    {
     "name": "stdout",
     "output_type": "stream",
     "text": [
      "[CV 4/5; 2/2] END xgb__colsample_bytree=0.7, xgb__gamma=0.1, xgb__learning_rate=0.03, xgb__max_depth=8, xgb__n_estimators=50, xgb__reg_lambda=0.001;, score=(train=-3.692, test=-6.070) total time=   0.5s\n",
      "[CV 5/5; 2/2] START xgb__colsample_bytree=0.7, xgb__gamma=0.1, xgb__learning_rate=0.03, xgb__max_depth=8, xgb__n_estimators=50, xgb__reg_lambda=0.001\n"
     ]
    },
    {
     "name": "stderr",
     "output_type": "stream",
     "text": [
      "C:\\Users\\ATeklesadik\\Miniconda3\\envs\\geo_env\\lib\\site-packages\\xgboost\\data.py:112: UserWarning: Use subset (sliced data) of np.ndarray is not recommended because it will generate extra copies and increase memory consumption\n",
      "  warnings.warn(\n",
      "C:\\Users\\ATeklesadik\\Miniconda3\\envs\\geo_env\\lib\\site-packages\\xgboost\\data.py:112: UserWarning: Use subset (sliced data) of np.ndarray is not recommended because it will generate extra copies and increase memory consumption\n",
      "  warnings.warn(\n"
     ]
    },
    {
     "name": "stdout",
     "output_type": "stream",
     "text": [
      "[CV 5/5; 2/2] END xgb__colsample_bytree=0.7, xgb__gamma=0.1, xgb__learning_rate=0.03, xgb__max_depth=8, xgb__n_estimators=50, xgb__reg_lambda=0.001;, score=(train=-3.464, test=-7.002) total time=   0.6s\n"
     ]
    },
    {
     "name": "stderr",
     "output_type": "stream",
     "text": [
      "C:\\Users\\ATeklesadik\\Miniconda3\\envs\\geo_env\\lib\\site-packages\\xgboost\\data.py:112: UserWarning: Use subset (sliced data) of np.ndarray is not recommended because it will generate extra copies and increase memory consumption\n",
      "  warnings.warn(\n",
      "C:\\Users\\ATeklesadik\\Miniconda3\\envs\\geo_env\\lib\\site-packages\\sklearn\\model_selection\\_search.py:285: UserWarning: The total space of parameters 2 is smaller than n_iter=500. Running 2 iterations. For exhaustive searches, use GridSearchCV.\n",
      "  warnings.warn(\n"
     ]
    },
    {
     "name": "stdout",
     "output_type": "stream",
     "text": [
      "Selected Parameters {'xgb__reg_lambda': 0.001, 'xgb__n_estimators': 50, 'xgb__max_depth': 8, 'xgb__learning_rate': 0.03, 'xgb__gamma': 0.1, 'xgb__colsample_bytree': 0.7}\n",
      "Train score: 1.3804747483286992\n",
      "Test score: 0.5848816910931948\n",
      "Running for 12 out of a total of 39\n",
      "Fitting 5 folds for each of 2 candidates, totalling 10 fits\n",
      "[CV 1/5; 1/2] START xgb__colsample_bytree=0.7, xgb__gamma=0.1, xgb__learning_rate=0.03, xgb__max_depth=6, xgb__n_estimators=50, xgb__reg_lambda=0.001\n"
     ]
    },
    {
     "name": "stderr",
     "output_type": "stream",
     "text": [
      "C:\\Users\\ATeklesadik\\Miniconda3\\envs\\geo_env\\lib\\site-packages\\xgboost\\data.py:112: UserWarning: Use subset (sliced data) of np.ndarray is not recommended because it will generate extra copies and increase memory consumption\n",
      "  warnings.warn(\n",
      "C:\\Users\\ATeklesadik\\Miniconda3\\envs\\geo_env\\lib\\site-packages\\xgboost\\data.py:112: UserWarning: Use subset (sliced data) of np.ndarray is not recommended because it will generate extra copies and increase memory consumption\n",
      "  warnings.warn(\n"
     ]
    },
    {
     "name": "stdout",
     "output_type": "stream",
     "text": [
      "[CV 1/5; 1/2] END xgb__colsample_bytree=0.7, xgb__gamma=0.1, xgb__learning_rate=0.03, xgb__max_depth=6, xgb__n_estimators=50, xgb__reg_lambda=0.001;, score=(train=-4.855, test=-5.800) total time=   0.4s\n",
      "[CV 2/5; 1/2] START xgb__colsample_bytree=0.7, xgb__gamma=0.1, xgb__learning_rate=0.03, xgb__max_depth=6, xgb__n_estimators=50, xgb__reg_lambda=0.001\n"
     ]
    },
    {
     "name": "stderr",
     "output_type": "stream",
     "text": [
      "C:\\Users\\ATeklesadik\\Miniconda3\\envs\\geo_env\\lib\\site-packages\\xgboost\\data.py:112: UserWarning: Use subset (sliced data) of np.ndarray is not recommended because it will generate extra copies and increase memory consumption\n",
      "  warnings.warn(\n",
      "C:\\Users\\ATeklesadik\\Miniconda3\\envs\\geo_env\\lib\\site-packages\\xgboost\\data.py:112: UserWarning: Use subset (sliced data) of np.ndarray is not recommended because it will generate extra copies and increase memory consumption\n",
      "  warnings.warn(\n"
     ]
    },
    {
     "name": "stdout",
     "output_type": "stream",
     "text": [
      "[CV 2/5; 1/2] END xgb__colsample_bytree=0.7, xgb__gamma=0.1, xgb__learning_rate=0.03, xgb__max_depth=6, xgb__n_estimators=50, xgb__reg_lambda=0.001;, score=(train=-4.824, test=-5.732) total time=   0.3s\n",
      "[CV 3/5; 1/2] START xgb__colsample_bytree=0.7, xgb__gamma=0.1, xgb__learning_rate=0.03, xgb__max_depth=6, xgb__n_estimators=50, xgb__reg_lambda=0.001\n"
     ]
    },
    {
     "name": "stderr",
     "output_type": "stream",
     "text": [
      "C:\\Users\\ATeklesadik\\Miniconda3\\envs\\geo_env\\lib\\site-packages\\xgboost\\data.py:112: UserWarning: Use subset (sliced data) of np.ndarray is not recommended because it will generate extra copies and increase memory consumption\n",
      "  warnings.warn(\n",
      "C:\\Users\\ATeklesadik\\Miniconda3\\envs\\geo_env\\lib\\site-packages\\xgboost\\data.py:112: UserWarning: Use subset (sliced data) of np.ndarray is not recommended because it will generate extra copies and increase memory consumption\n",
      "  warnings.warn(\n"
     ]
    },
    {
     "name": "stdout",
     "output_type": "stream",
     "text": [
      "[CV 3/5; 1/2] END xgb__colsample_bytree=0.7, xgb__gamma=0.1, xgb__learning_rate=0.03, xgb__max_depth=6, xgb__n_estimators=50, xgb__reg_lambda=0.001;, score=(train=-4.702, test=-6.193) total time=   0.3s\n",
      "[CV 4/5; 1/2] START xgb__colsample_bytree=0.7, xgb__gamma=0.1, xgb__learning_rate=0.03, xgb__max_depth=6, xgb__n_estimators=50, xgb__reg_lambda=0.001\n"
     ]
    },
    {
     "name": "stderr",
     "output_type": "stream",
     "text": [
      "C:\\Users\\ATeklesadik\\Miniconda3\\envs\\geo_env\\lib\\site-packages\\xgboost\\data.py:112: UserWarning: Use subset (sliced data) of np.ndarray is not recommended because it will generate extra copies and increase memory consumption\n",
      "  warnings.warn(\n",
      "C:\\Users\\ATeklesadik\\Miniconda3\\envs\\geo_env\\lib\\site-packages\\xgboost\\data.py:112: UserWarning: Use subset (sliced data) of np.ndarray is not recommended because it will generate extra copies and increase memory consumption\n",
      "  warnings.warn(\n"
     ]
    },
    {
     "name": "stdout",
     "output_type": "stream",
     "text": [
      "[CV 4/5; 1/2] END xgb__colsample_bytree=0.7, xgb__gamma=0.1, xgb__learning_rate=0.03, xgb__max_depth=6, xgb__n_estimators=50, xgb__reg_lambda=0.001;, score=(train=-4.426, test=-6.550) total time=   0.3s\n",
      "[CV 5/5; 1/2] START xgb__colsample_bytree=0.7, xgb__gamma=0.1, xgb__learning_rate=0.03, xgb__max_depth=6, xgb__n_estimators=50, xgb__reg_lambda=0.001\n"
     ]
    },
    {
     "name": "stderr",
     "output_type": "stream",
     "text": [
      "C:\\Users\\ATeklesadik\\Miniconda3\\envs\\geo_env\\lib\\site-packages\\xgboost\\data.py:112: UserWarning: Use subset (sliced data) of np.ndarray is not recommended because it will generate extra copies and increase memory consumption\n",
      "  warnings.warn(\n",
      "C:\\Users\\ATeklesadik\\Miniconda3\\envs\\geo_env\\lib\\site-packages\\xgboost\\data.py:112: UserWarning: Use subset (sliced data) of np.ndarray is not recommended because it will generate extra copies and increase memory consumption\n",
      "  warnings.warn(\n"
     ]
    },
    {
     "name": "stdout",
     "output_type": "stream",
     "text": [
      "[CV 5/5; 1/2] END xgb__colsample_bytree=0.7, xgb__gamma=0.1, xgb__learning_rate=0.03, xgb__max_depth=6, xgb__n_estimators=50, xgb__reg_lambda=0.001;, score=(train=-4.437, test=-6.561) total time=   0.4s\n",
      "[CV 1/5; 2/2] START xgb__colsample_bytree=0.7, xgb__gamma=0.1, xgb__learning_rate=0.03, xgb__max_depth=8, xgb__n_estimators=50, xgb__reg_lambda=0.001\n"
     ]
    },
    {
     "name": "stderr",
     "output_type": "stream",
     "text": [
      "C:\\Users\\ATeklesadik\\Miniconda3\\envs\\geo_env\\lib\\site-packages\\xgboost\\data.py:112: UserWarning: Use subset (sliced data) of np.ndarray is not recommended because it will generate extra copies and increase memory consumption\n",
      "  warnings.warn(\n",
      "C:\\Users\\ATeklesadik\\Miniconda3\\envs\\geo_env\\lib\\site-packages\\xgboost\\data.py:112: UserWarning: Use subset (sliced data) of np.ndarray is not recommended because it will generate extra copies and increase memory consumption\n",
      "  warnings.warn(\n"
     ]
    },
    {
     "name": "stdout",
     "output_type": "stream",
     "text": [
      "[CV 1/5; 2/2] END xgb__colsample_bytree=0.7, xgb__gamma=0.1, xgb__learning_rate=0.03, xgb__max_depth=8, xgb__n_estimators=50, xgb__reg_lambda=0.001;, score=(train=-3.831, test=-5.880) total time=   0.5s\n",
      "[CV 2/5; 2/2] START xgb__colsample_bytree=0.7, xgb__gamma=0.1, xgb__learning_rate=0.03, xgb__max_depth=8, xgb__n_estimators=50, xgb__reg_lambda=0.001\n"
     ]
    },
    {
     "name": "stderr",
     "output_type": "stream",
     "text": [
      "C:\\Users\\ATeklesadik\\Miniconda3\\envs\\geo_env\\lib\\site-packages\\xgboost\\data.py:112: UserWarning: Use subset (sliced data) of np.ndarray is not recommended because it will generate extra copies and increase memory consumption\n",
      "  warnings.warn(\n",
      "C:\\Users\\ATeklesadik\\Miniconda3\\envs\\geo_env\\lib\\site-packages\\xgboost\\data.py:112: UserWarning: Use subset (sliced data) of np.ndarray is not recommended because it will generate extra copies and increase memory consumption\n",
      "  warnings.warn(\n"
     ]
    },
    {
     "name": "stdout",
     "output_type": "stream",
     "text": [
      "[CV 2/5; 2/2] END xgb__colsample_bytree=0.7, xgb__gamma=0.1, xgb__learning_rate=0.03, xgb__max_depth=8, xgb__n_estimators=50, xgb__reg_lambda=0.001;, score=(train=-3.900, test=-5.764) total time=   0.5s\n",
      "[CV 3/5; 2/2] START xgb__colsample_bytree=0.7, xgb__gamma=0.1, xgb__learning_rate=0.03, xgb__max_depth=8, xgb__n_estimators=50, xgb__reg_lambda=0.001\n"
     ]
    },
    {
     "name": "stderr",
     "output_type": "stream",
     "text": [
      "C:\\Users\\ATeklesadik\\Miniconda3\\envs\\geo_env\\lib\\site-packages\\xgboost\\data.py:112: UserWarning: Use subset (sliced data) of np.ndarray is not recommended because it will generate extra copies and increase memory consumption\n",
      "  warnings.warn(\n",
      "C:\\Users\\ATeklesadik\\Miniconda3\\envs\\geo_env\\lib\\site-packages\\xgboost\\data.py:112: UserWarning: Use subset (sliced data) of np.ndarray is not recommended because it will generate extra copies and increase memory consumption\n",
      "  warnings.warn(\n"
     ]
    },
    {
     "name": "stdout",
     "output_type": "stream",
     "text": [
      "[CV 3/5; 2/2] END xgb__colsample_bytree=0.7, xgb__gamma=0.1, xgb__learning_rate=0.03, xgb__max_depth=8, xgb__n_estimators=50, xgb__reg_lambda=0.001;, score=(train=-3.748, test=-6.323) total time=   0.5s\n",
      "[CV 4/5; 2/2] START xgb__colsample_bytree=0.7, xgb__gamma=0.1, xgb__learning_rate=0.03, xgb__max_depth=8, xgb__n_estimators=50, xgb__reg_lambda=0.001\n"
     ]
    },
    {
     "name": "stderr",
     "output_type": "stream",
     "text": [
      "C:\\Users\\ATeklesadik\\Miniconda3\\envs\\geo_env\\lib\\site-packages\\xgboost\\data.py:112: UserWarning: Use subset (sliced data) of np.ndarray is not recommended because it will generate extra copies and increase memory consumption\n",
      "  warnings.warn(\n",
      "C:\\Users\\ATeklesadik\\Miniconda3\\envs\\geo_env\\lib\\site-packages\\xgboost\\data.py:112: UserWarning: Use subset (sliced data) of np.ndarray is not recommended because it will generate extra copies and increase memory consumption\n",
      "  warnings.warn(\n"
     ]
    },
    {
     "name": "stdout",
     "output_type": "stream",
     "text": [
      "[CV 4/5; 2/2] END xgb__colsample_bytree=0.7, xgb__gamma=0.1, xgb__learning_rate=0.03, xgb__max_depth=8, xgb__n_estimators=50, xgb__reg_lambda=0.001;, score=(train=-3.483, test=-6.557) total time=   0.6s\n",
      "[CV 5/5; 2/2] START xgb__colsample_bytree=0.7, xgb__gamma=0.1, xgb__learning_rate=0.03, xgb__max_depth=8, xgb__n_estimators=50, xgb__reg_lambda=0.001\n"
     ]
    },
    {
     "name": "stderr",
     "output_type": "stream",
     "text": [
      "C:\\Users\\ATeklesadik\\Miniconda3\\envs\\geo_env\\lib\\site-packages\\xgboost\\data.py:112: UserWarning: Use subset (sliced data) of np.ndarray is not recommended because it will generate extra copies and increase memory consumption\n",
      "  warnings.warn(\n",
      "C:\\Users\\ATeklesadik\\Miniconda3\\envs\\geo_env\\lib\\site-packages\\xgboost\\data.py:112: UserWarning: Use subset (sliced data) of np.ndarray is not recommended because it will generate extra copies and increase memory consumption\n",
      "  warnings.warn(\n"
     ]
    },
    {
     "name": "stdout",
     "output_type": "stream",
     "text": [
      "[CV 5/5; 2/2] END xgb__colsample_bytree=0.7, xgb__gamma=0.1, xgb__learning_rate=0.03, xgb__max_depth=8, xgb__n_estimators=50, xgb__reg_lambda=0.001;, score=(train=-3.492, test=-6.533) total time=   0.5s\n"
     ]
    },
    {
     "name": "stderr",
     "output_type": "stream",
     "text": [
      "C:\\Users\\ATeklesadik\\Miniconda3\\envs\\geo_env\\lib\\site-packages\\xgboost\\data.py:112: UserWarning: Use subset (sliced data) of np.ndarray is not recommended because it will generate extra copies and increase memory consumption\n",
      "  warnings.warn(\n",
      "C:\\Users\\ATeklesadik\\Miniconda3\\envs\\geo_env\\lib\\site-packages\\sklearn\\model_selection\\_search.py:285: UserWarning: The total space of parameters 2 is smaller than n_iter=500. Running 2 iterations. For exhaustive searches, use GridSearchCV.\n",
      "  warnings.warn(\n"
     ]
    },
    {
     "name": "stdout",
     "output_type": "stream",
     "text": [
      "Selected Parameters {'xgb__reg_lambda': 0.001, 'xgb__n_estimators': 50, 'xgb__max_depth': 6, 'xgb__learning_rate': 0.03, 'xgb__gamma': 0.1, 'xgb__colsample_bytree': 0.7}\n",
      "Train score: 1.6192200486208572\n",
      "Test score: 1.1407275433505253\n",
      "Running for 13 out of a total of 39\n",
      "Fitting 5 folds for each of 2 candidates, totalling 10 fits\n",
      "[CV 1/5; 1/2] START xgb__colsample_bytree=0.7, xgb__gamma=0.1, xgb__learning_rate=0.03, xgb__max_depth=6, xgb__n_estimators=50, xgb__reg_lambda=0.001\n"
     ]
    },
    {
     "name": "stderr",
     "output_type": "stream",
     "text": [
      "C:\\Users\\ATeklesadik\\Miniconda3\\envs\\geo_env\\lib\\site-packages\\xgboost\\data.py:112: UserWarning: Use subset (sliced data) of np.ndarray is not recommended because it will generate extra copies and increase memory consumption\n",
      "  warnings.warn(\n",
      "C:\\Users\\ATeklesadik\\Miniconda3\\envs\\geo_env\\lib\\site-packages\\xgboost\\data.py:112: UserWarning: Use subset (sliced data) of np.ndarray is not recommended because it will generate extra copies and increase memory consumption\n",
      "  warnings.warn(\n"
     ]
    },
    {
     "name": "stdout",
     "output_type": "stream",
     "text": [
      "[CV 1/5; 1/2] END xgb__colsample_bytree=0.7, xgb__gamma=0.1, xgb__learning_rate=0.03, xgb__max_depth=6, xgb__n_estimators=50, xgb__reg_lambda=0.001;, score=(train=-4.570, test=-6.870) total time=   0.3s\n",
      "[CV 2/5; 1/2] START xgb__colsample_bytree=0.7, xgb__gamma=0.1, xgb__learning_rate=0.03, xgb__max_depth=6, xgb__n_estimators=50, xgb__reg_lambda=0.001\n"
     ]
    },
    {
     "name": "stderr",
     "output_type": "stream",
     "text": [
      "C:\\Users\\ATeklesadik\\Miniconda3\\envs\\geo_env\\lib\\site-packages\\xgboost\\data.py:112: UserWarning: Use subset (sliced data) of np.ndarray is not recommended because it will generate extra copies and increase memory consumption\n",
      "  warnings.warn(\n",
      "C:\\Users\\ATeklesadik\\Miniconda3\\envs\\geo_env\\lib\\site-packages\\xgboost\\data.py:112: UserWarning: Use subset (sliced data) of np.ndarray is not recommended because it will generate extra copies and increase memory consumption\n",
      "  warnings.warn(\n"
     ]
    },
    {
     "name": "stdout",
     "output_type": "stream",
     "text": [
      "[CV 2/5; 1/2] END xgb__colsample_bytree=0.7, xgb__gamma=0.1, xgb__learning_rate=0.03, xgb__max_depth=6, xgb__n_estimators=50, xgb__reg_lambda=0.001;, score=(train=-4.738, test=-5.231) total time=   0.3s\n",
      "[CV 3/5; 1/2] START xgb__colsample_bytree=0.7, xgb__gamma=0.1, xgb__learning_rate=0.03, xgb__max_depth=6, xgb__n_estimators=50, xgb__reg_lambda=0.001\n"
     ]
    },
    {
     "name": "stderr",
     "output_type": "stream",
     "text": [
      "C:\\Users\\ATeklesadik\\Miniconda3\\envs\\geo_env\\lib\\site-packages\\xgboost\\data.py:112: UserWarning: Use subset (sliced data) of np.ndarray is not recommended because it will generate extra copies and increase memory consumption\n",
      "  warnings.warn(\n",
      "C:\\Users\\ATeklesadik\\Miniconda3\\envs\\geo_env\\lib\\site-packages\\xgboost\\data.py:112: UserWarning: Use subset (sliced data) of np.ndarray is not recommended because it will generate extra copies and increase memory consumption\n",
      "  warnings.warn(\n"
     ]
    },
    {
     "name": "stdout",
     "output_type": "stream",
     "text": [
      "[CV 3/5; 1/2] END xgb__colsample_bytree=0.7, xgb__gamma=0.1, xgb__learning_rate=0.03, xgb__max_depth=6, xgb__n_estimators=50, xgb__reg_lambda=0.001;, score=(train=-4.632, test=-6.623) total time=   0.3s\n",
      "[CV 4/5; 1/2] START xgb__colsample_bytree=0.7, xgb__gamma=0.1, xgb__learning_rate=0.03, xgb__max_depth=6, xgb__n_estimators=50, xgb__reg_lambda=0.001\n"
     ]
    },
    {
     "name": "stderr",
     "output_type": "stream",
     "text": [
      "C:\\Users\\ATeklesadik\\Miniconda3\\envs\\geo_env\\lib\\site-packages\\xgboost\\data.py:112: UserWarning: Use subset (sliced data) of np.ndarray is not recommended because it will generate extra copies and increase memory consumption\n",
      "  warnings.warn(\n",
      "C:\\Users\\ATeklesadik\\Miniconda3\\envs\\geo_env\\lib\\site-packages\\xgboost\\data.py:112: UserWarning: Use subset (sliced data) of np.ndarray is not recommended because it will generate extra copies and increase memory consumption\n",
      "  warnings.warn(\n"
     ]
    },
    {
     "name": "stdout",
     "output_type": "stream",
     "text": [
      "[CV 4/5; 1/2] END xgb__colsample_bytree=0.7, xgb__gamma=0.1, xgb__learning_rate=0.03, xgb__max_depth=6, xgb__n_estimators=50, xgb__reg_lambda=0.001;, score=(train=-4.537, test=-6.382) total time=   0.3s\n",
      "[CV 5/5; 1/2] START xgb__colsample_bytree=0.7, xgb__gamma=0.1, xgb__learning_rate=0.03, xgb__max_depth=6, xgb__n_estimators=50, xgb__reg_lambda=0.001\n"
     ]
    },
    {
     "name": "stderr",
     "output_type": "stream",
     "text": [
      "C:\\Users\\ATeklesadik\\Miniconda3\\envs\\geo_env\\lib\\site-packages\\xgboost\\data.py:112: UserWarning: Use subset (sliced data) of np.ndarray is not recommended because it will generate extra copies and increase memory consumption\n",
      "  warnings.warn(\n",
      "C:\\Users\\ATeklesadik\\Miniconda3\\envs\\geo_env\\lib\\site-packages\\xgboost\\data.py:112: UserWarning: Use subset (sliced data) of np.ndarray is not recommended because it will generate extra copies and increase memory consumption\n",
      "  warnings.warn(\n"
     ]
    },
    {
     "name": "stdout",
     "output_type": "stream",
     "text": [
      "[CV 5/5; 1/2] END xgb__colsample_bytree=0.7, xgb__gamma=0.1, xgb__learning_rate=0.03, xgb__max_depth=6, xgb__n_estimators=50, xgb__reg_lambda=0.001;, score=(train=-4.576, test=-6.087) total time=   0.3s\n",
      "[CV 1/5; 2/2] START xgb__colsample_bytree=0.7, xgb__gamma=0.1, xgb__learning_rate=0.03, xgb__max_depth=8, xgb__n_estimators=50, xgb__reg_lambda=0.001\n"
     ]
    },
    {
     "name": "stderr",
     "output_type": "stream",
     "text": [
      "C:\\Users\\ATeklesadik\\Miniconda3\\envs\\geo_env\\lib\\site-packages\\xgboost\\data.py:112: UserWarning: Use subset (sliced data) of np.ndarray is not recommended because it will generate extra copies and increase memory consumption\n",
      "  warnings.warn(\n",
      "C:\\Users\\ATeklesadik\\Miniconda3\\envs\\geo_env\\lib\\site-packages\\xgboost\\data.py:112: UserWarning: Use subset (sliced data) of np.ndarray is not recommended because it will generate extra copies and increase memory consumption\n",
      "  warnings.warn(\n"
     ]
    },
    {
     "name": "stdout",
     "output_type": "stream",
     "text": [
      "[CV 1/5; 2/2] END xgb__colsample_bytree=0.7, xgb__gamma=0.1, xgb__learning_rate=0.03, xgb__max_depth=8, xgb__n_estimators=50, xgb__reg_lambda=0.001;, score=(train=-3.577, test=-6.722) total time=   0.5s\n",
      "[CV 2/5; 2/2] START xgb__colsample_bytree=0.7, xgb__gamma=0.1, xgb__learning_rate=0.03, xgb__max_depth=8, xgb__n_estimators=50, xgb__reg_lambda=0.001\n"
     ]
    },
    {
     "name": "stderr",
     "output_type": "stream",
     "text": [
      "C:\\Users\\ATeklesadik\\Miniconda3\\envs\\geo_env\\lib\\site-packages\\xgboost\\data.py:112: UserWarning: Use subset (sliced data) of np.ndarray is not recommended because it will generate extra copies and increase memory consumption\n",
      "  warnings.warn(\n",
      "C:\\Users\\ATeklesadik\\Miniconda3\\envs\\geo_env\\lib\\site-packages\\xgboost\\data.py:112: UserWarning: Use subset (sliced data) of np.ndarray is not recommended because it will generate extra copies and increase memory consumption\n",
      "  warnings.warn(\n"
     ]
    },
    {
     "name": "stdout",
     "output_type": "stream",
     "text": [
      "[CV 2/5; 2/2] END xgb__colsample_bytree=0.7, xgb__gamma=0.1, xgb__learning_rate=0.03, xgb__max_depth=8, xgb__n_estimators=50, xgb__reg_lambda=0.001;, score=(train=-3.693, test=-5.192) total time=   0.4s\n",
      "[CV 3/5; 2/2] START xgb__colsample_bytree=0.7, xgb__gamma=0.1, xgb__learning_rate=0.03, xgb__max_depth=8, xgb__n_estimators=50, xgb__reg_lambda=0.001\n"
     ]
    },
    {
     "name": "stderr",
     "output_type": "stream",
     "text": [
      "C:\\Users\\ATeklesadik\\Miniconda3\\envs\\geo_env\\lib\\site-packages\\xgboost\\data.py:112: UserWarning: Use subset (sliced data) of np.ndarray is not recommended because it will generate extra copies and increase memory consumption\n",
      "  warnings.warn(\n",
      "C:\\Users\\ATeklesadik\\Miniconda3\\envs\\geo_env\\lib\\site-packages\\xgboost\\data.py:112: UserWarning: Use subset (sliced data) of np.ndarray is not recommended because it will generate extra copies and increase memory consumption\n",
      "  warnings.warn(\n"
     ]
    },
    {
     "name": "stdout",
     "output_type": "stream",
     "text": [
      "[CV 3/5; 2/2] END xgb__colsample_bytree=0.7, xgb__gamma=0.1, xgb__learning_rate=0.03, xgb__max_depth=8, xgb__n_estimators=50, xgb__reg_lambda=0.001;, score=(train=-3.578, test=-6.370) total time=   0.5s\n",
      "[CV 4/5; 2/2] START xgb__colsample_bytree=0.7, xgb__gamma=0.1, xgb__learning_rate=0.03, xgb__max_depth=8, xgb__n_estimators=50, xgb__reg_lambda=0.001\n"
     ]
    },
    {
     "name": "stderr",
     "output_type": "stream",
     "text": [
      "C:\\Users\\ATeklesadik\\Miniconda3\\envs\\geo_env\\lib\\site-packages\\xgboost\\data.py:112: UserWarning: Use subset (sliced data) of np.ndarray is not recommended because it will generate extra copies and increase memory consumption\n",
      "  warnings.warn(\n",
      "C:\\Users\\ATeklesadik\\Miniconda3\\envs\\geo_env\\lib\\site-packages\\xgboost\\data.py:112: UserWarning: Use subset (sliced data) of np.ndarray is not recommended because it will generate extra copies and increase memory consumption\n",
      "  warnings.warn(\n"
     ]
    },
    {
     "name": "stdout",
     "output_type": "stream",
     "text": [
      "[CV 4/5; 2/2] END xgb__colsample_bytree=0.7, xgb__gamma=0.1, xgb__learning_rate=0.03, xgb__max_depth=8, xgb__n_estimators=50, xgb__reg_lambda=0.001;, score=(train=-3.543, test=-6.340) total time=   0.5s\n",
      "[CV 5/5; 2/2] START xgb__colsample_bytree=0.7, xgb__gamma=0.1, xgb__learning_rate=0.03, xgb__max_depth=8, xgb__n_estimators=50, xgb__reg_lambda=0.001\n"
     ]
    },
    {
     "name": "stderr",
     "output_type": "stream",
     "text": [
      "C:\\Users\\ATeklesadik\\Miniconda3\\envs\\geo_env\\lib\\site-packages\\xgboost\\data.py:112: UserWarning: Use subset (sliced data) of np.ndarray is not recommended because it will generate extra copies and increase memory consumption\n",
      "  warnings.warn(\n",
      "C:\\Users\\ATeklesadik\\Miniconda3\\envs\\geo_env\\lib\\site-packages\\xgboost\\data.py:112: UserWarning: Use subset (sliced data) of np.ndarray is not recommended because it will generate extra copies and increase memory consumption\n",
      "  warnings.warn(\n"
     ]
    },
    {
     "name": "stdout",
     "output_type": "stream",
     "text": [
      "[CV 5/5; 2/2] END xgb__colsample_bytree=0.7, xgb__gamma=0.1, xgb__learning_rate=0.03, xgb__max_depth=8, xgb__n_estimators=50, xgb__reg_lambda=0.001;, score=(train=-3.564, test=-6.098) total time=   0.4s\n"
     ]
    },
    {
     "name": "stderr",
     "output_type": "stream",
     "text": [
      "C:\\Users\\ATeklesadik\\Miniconda3\\envs\\geo_env\\lib\\site-packages\\xgboost\\data.py:112: UserWarning: Use subset (sliced data) of np.ndarray is not recommended because it will generate extra copies and increase memory consumption\n",
      "  warnings.warn(\n",
      "C:\\Users\\ATeklesadik\\Miniconda3\\envs\\geo_env\\lib\\site-packages\\sklearn\\model_selection\\_search.py:285: UserWarning: The total space of parameters 2 is smaller than n_iter=500. Running 2 iterations. For exhaustive searches, use GridSearchCV.\n",
      "  warnings.warn(\n"
     ]
    },
    {
     "name": "stdout",
     "output_type": "stream",
     "text": [
      "Selected Parameters {'xgb__reg_lambda': 0.001, 'xgb__n_estimators': 50, 'xgb__max_depth': 8, 'xgb__learning_rate': 0.03, 'xgb__gamma': 0.1, 'xgb__colsample_bytree': 0.7}\n",
      "Train score: 1.2967284112808979\n",
      "Test score: 2.4822053260054933\n",
      "Running for 14 out of a total of 39\n",
      "Fitting 5 folds for each of 2 candidates, totalling 10 fits\n",
      "[CV 1/5; 1/2] START xgb__colsample_bytree=0.7, xgb__gamma=0.1, xgb__learning_rate=0.03, xgb__max_depth=6, xgb__n_estimators=50, xgb__reg_lambda=0.001\n"
     ]
    },
    {
     "name": "stderr",
     "output_type": "stream",
     "text": [
      "C:\\Users\\ATeklesadik\\Miniconda3\\envs\\geo_env\\lib\\site-packages\\xgboost\\data.py:112: UserWarning: Use subset (sliced data) of np.ndarray is not recommended because it will generate extra copies and increase memory consumption\n",
      "  warnings.warn(\n",
      "C:\\Users\\ATeklesadik\\Miniconda3\\envs\\geo_env\\lib\\site-packages\\xgboost\\data.py:112: UserWarning: Use subset (sliced data) of np.ndarray is not recommended because it will generate extra copies and increase memory consumption\n",
      "  warnings.warn(\n"
     ]
    },
    {
     "name": "stdout",
     "output_type": "stream",
     "text": [
      "[CV 1/5; 1/2] END xgb__colsample_bytree=0.7, xgb__gamma=0.1, xgb__learning_rate=0.03, xgb__max_depth=6, xgb__n_estimators=50, xgb__reg_lambda=0.001;, score=(train=-4.574, test=-6.074) total time=   0.3s\n",
      "[CV 2/5; 1/2] START xgb__colsample_bytree=0.7, xgb__gamma=0.1, xgb__learning_rate=0.03, xgb__max_depth=6, xgb__n_estimators=50, xgb__reg_lambda=0.001\n"
     ]
    },
    {
     "name": "stderr",
     "output_type": "stream",
     "text": [
      "C:\\Users\\ATeklesadik\\Miniconda3\\envs\\geo_env\\lib\\site-packages\\xgboost\\data.py:112: UserWarning: Use subset (sliced data) of np.ndarray is not recommended because it will generate extra copies and increase memory consumption\n",
      "  warnings.warn(\n",
      "C:\\Users\\ATeklesadik\\Miniconda3\\envs\\geo_env\\lib\\site-packages\\xgboost\\data.py:112: UserWarning: Use subset (sliced data) of np.ndarray is not recommended because it will generate extra copies and increase memory consumption\n",
      "  warnings.warn(\n"
     ]
    },
    {
     "name": "stdout",
     "output_type": "stream",
     "text": [
      "[CV 2/5; 1/2] END xgb__colsample_bytree=0.7, xgb__gamma=0.1, xgb__learning_rate=0.03, xgb__max_depth=6, xgb__n_estimators=50, xgb__reg_lambda=0.001;, score=(train=-4.563, test=-6.294) total time=   0.3s\n",
      "[CV 3/5; 1/2] START xgb__colsample_bytree=0.7, xgb__gamma=0.1, xgb__learning_rate=0.03, xgb__max_depth=6, xgb__n_estimators=50, xgb__reg_lambda=0.001\n"
     ]
    },
    {
     "name": "stderr",
     "output_type": "stream",
     "text": [
      "C:\\Users\\ATeklesadik\\Miniconda3\\envs\\geo_env\\lib\\site-packages\\xgboost\\data.py:112: UserWarning: Use subset (sliced data) of np.ndarray is not recommended because it will generate extra copies and increase memory consumption\n",
      "  warnings.warn(\n",
      "C:\\Users\\ATeklesadik\\Miniconda3\\envs\\geo_env\\lib\\site-packages\\xgboost\\data.py:112: UserWarning: Use subset (sliced data) of np.ndarray is not recommended because it will generate extra copies and increase memory consumption\n",
      "  warnings.warn(\n"
     ]
    },
    {
     "name": "stdout",
     "output_type": "stream",
     "text": [
      "[CV 3/5; 1/2] END xgb__colsample_bytree=0.7, xgb__gamma=0.1, xgb__learning_rate=0.03, xgb__max_depth=6, xgb__n_estimators=50, xgb__reg_lambda=0.001;, score=(train=-4.819, test=-4.782) total time=   0.3s\n",
      "[CV 4/5; 1/2] START xgb__colsample_bytree=0.7, xgb__gamma=0.1, xgb__learning_rate=0.03, xgb__max_depth=6, xgb__n_estimators=50, xgb__reg_lambda=0.001\n"
     ]
    },
    {
     "name": "stderr",
     "output_type": "stream",
     "text": [
      "C:\\Users\\ATeklesadik\\Miniconda3\\envs\\geo_env\\lib\\site-packages\\xgboost\\data.py:112: UserWarning: Use subset (sliced data) of np.ndarray is not recommended because it will generate extra copies and increase memory consumption\n",
      "  warnings.warn(\n",
      "C:\\Users\\ATeklesadik\\Miniconda3\\envs\\geo_env\\lib\\site-packages\\xgboost\\data.py:112: UserWarning: Use subset (sliced data) of np.ndarray is not recommended because it will generate extra copies and increase memory consumption\n",
      "  warnings.warn(\n"
     ]
    },
    {
     "name": "stdout",
     "output_type": "stream",
     "text": [
      "[CV 4/5; 1/2] END xgb__colsample_bytree=0.7, xgb__gamma=0.1, xgb__learning_rate=0.03, xgb__max_depth=6, xgb__n_estimators=50, xgb__reg_lambda=0.001;, score=(train=-4.712, test=-6.362) total time=   0.3s\n",
      "[CV 5/5; 1/2] START xgb__colsample_bytree=0.7, xgb__gamma=0.1, xgb__learning_rate=0.03, xgb__max_depth=6, xgb__n_estimators=50, xgb__reg_lambda=0.001\n"
     ]
    },
    {
     "name": "stderr",
     "output_type": "stream",
     "text": [
      "C:\\Users\\ATeklesadik\\Miniconda3\\envs\\geo_env\\lib\\site-packages\\xgboost\\data.py:112: UserWarning: Use subset (sliced data) of np.ndarray is not recommended because it will generate extra copies and increase memory consumption\n",
      "  warnings.warn(\n",
      "C:\\Users\\ATeklesadik\\Miniconda3\\envs\\geo_env\\lib\\site-packages\\xgboost\\data.py:112: UserWarning: Use subset (sliced data) of np.ndarray is not recommended because it will generate extra copies and increase memory consumption\n",
      "  warnings.warn(\n"
     ]
    },
    {
     "name": "stdout",
     "output_type": "stream",
     "text": [
      "[CV 5/5; 1/2] END xgb__colsample_bytree=0.7, xgb__gamma=0.1, xgb__learning_rate=0.03, xgb__max_depth=6, xgb__n_estimators=50, xgb__reg_lambda=0.001;, score=(train=-4.396, test=-7.106) total time=   0.3s\n",
      "[CV 1/5; 2/2] START xgb__colsample_bytree=0.7, xgb__gamma=0.1, xgb__learning_rate=0.03, xgb__max_depth=8, xgb__n_estimators=50, xgb__reg_lambda=0.001\n"
     ]
    },
    {
     "name": "stderr",
     "output_type": "stream",
     "text": [
      "C:\\Users\\ATeklesadik\\Miniconda3\\envs\\geo_env\\lib\\site-packages\\xgboost\\data.py:112: UserWarning: Use subset (sliced data) of np.ndarray is not recommended because it will generate extra copies and increase memory consumption\n",
      "  warnings.warn(\n",
      "C:\\Users\\ATeklesadik\\Miniconda3\\envs\\geo_env\\lib\\site-packages\\xgboost\\data.py:112: UserWarning: Use subset (sliced data) of np.ndarray is not recommended because it will generate extra copies and increase memory consumption\n",
      "  warnings.warn(\n"
     ]
    },
    {
     "name": "stdout",
     "output_type": "stream",
     "text": [
      "[CV 1/5; 2/2] END xgb__colsample_bytree=0.7, xgb__gamma=0.1, xgb__learning_rate=0.03, xgb__max_depth=8, xgb__n_estimators=50, xgb__reg_lambda=0.001;, score=(train=-3.608, test=-6.076) total time=   0.5s\n",
      "[CV 2/5; 2/2] START xgb__colsample_bytree=0.7, xgb__gamma=0.1, xgb__learning_rate=0.03, xgb__max_depth=8, xgb__n_estimators=50, xgb__reg_lambda=0.001\n"
     ]
    },
    {
     "name": "stderr",
     "output_type": "stream",
     "text": [
      "C:\\Users\\ATeklesadik\\Miniconda3\\envs\\geo_env\\lib\\site-packages\\xgboost\\data.py:112: UserWarning: Use subset (sliced data) of np.ndarray is not recommended because it will generate extra copies and increase memory consumption\n",
      "  warnings.warn(\n",
      "C:\\Users\\ATeklesadik\\Miniconda3\\envs\\geo_env\\lib\\site-packages\\xgboost\\data.py:112: UserWarning: Use subset (sliced data) of np.ndarray is not recommended because it will generate extra copies and increase memory consumption\n",
      "  warnings.warn(\n"
     ]
    },
    {
     "name": "stdout",
     "output_type": "stream",
     "text": [
      "[CV 2/5; 2/2] END xgb__colsample_bytree=0.7, xgb__gamma=0.1, xgb__learning_rate=0.03, xgb__max_depth=8, xgb__n_estimators=50, xgb__reg_lambda=0.001;, score=(train=-3.677, test=-6.336) total time=   0.5s\n",
      "[CV 3/5; 2/2] START xgb__colsample_bytree=0.7, xgb__gamma=0.1, xgb__learning_rate=0.03, xgb__max_depth=8, xgb__n_estimators=50, xgb__reg_lambda=0.001\n"
     ]
    },
    {
     "name": "stderr",
     "output_type": "stream",
     "text": [
      "C:\\Users\\ATeklesadik\\Miniconda3\\envs\\geo_env\\lib\\site-packages\\xgboost\\data.py:112: UserWarning: Use subset (sliced data) of np.ndarray is not recommended because it will generate extra copies and increase memory consumption\n",
      "  warnings.warn(\n",
      "C:\\Users\\ATeklesadik\\Miniconda3\\envs\\geo_env\\lib\\site-packages\\xgboost\\data.py:112: UserWarning: Use subset (sliced data) of np.ndarray is not recommended because it will generate extra copies and increase memory consumption\n",
      "  warnings.warn(\n"
     ]
    },
    {
     "name": "stdout",
     "output_type": "stream",
     "text": [
      "[CV 3/5; 2/2] END xgb__colsample_bytree=0.7, xgb__gamma=0.1, xgb__learning_rate=0.03, xgb__max_depth=8, xgb__n_estimators=50, xgb__reg_lambda=0.001;, score=(train=-3.807, test=-4.739) total time=   0.5s\n",
      "[CV 4/5; 2/2] START xgb__colsample_bytree=0.7, xgb__gamma=0.1, xgb__learning_rate=0.03, xgb__max_depth=8, xgb__n_estimators=50, xgb__reg_lambda=0.001\n"
     ]
    },
    {
     "name": "stderr",
     "output_type": "stream",
     "text": [
      "C:\\Users\\ATeklesadik\\Miniconda3\\envs\\geo_env\\lib\\site-packages\\xgboost\\data.py:112: UserWarning: Use subset (sliced data) of np.ndarray is not recommended because it will generate extra copies and increase memory consumption\n",
      "  warnings.warn(\n",
      "C:\\Users\\ATeklesadik\\Miniconda3\\envs\\geo_env\\lib\\site-packages\\xgboost\\data.py:112: UserWarning: Use subset (sliced data) of np.ndarray is not recommended because it will generate extra copies and increase memory consumption\n",
      "  warnings.warn(\n"
     ]
    },
    {
     "name": "stdout",
     "output_type": "stream",
     "text": [
      "[CV 4/5; 2/2] END xgb__colsample_bytree=0.7, xgb__gamma=0.1, xgb__learning_rate=0.03, xgb__max_depth=8, xgb__n_estimators=50, xgb__reg_lambda=0.001;, score=(train=-3.657, test=-6.306) total time=   0.5s\n",
      "[CV 5/5; 2/2] START xgb__colsample_bytree=0.7, xgb__gamma=0.1, xgb__learning_rate=0.03, xgb__max_depth=8, xgb__n_estimators=50, xgb__reg_lambda=0.001\n"
     ]
    },
    {
     "name": "stderr",
     "output_type": "stream",
     "text": [
      "C:\\Users\\ATeklesadik\\Miniconda3\\envs\\geo_env\\lib\\site-packages\\xgboost\\data.py:112: UserWarning: Use subset (sliced data) of np.ndarray is not recommended because it will generate extra copies and increase memory consumption\n",
      "  warnings.warn(\n",
      "C:\\Users\\ATeklesadik\\Miniconda3\\envs\\geo_env\\lib\\site-packages\\xgboost\\data.py:112: UserWarning: Use subset (sliced data) of np.ndarray is not recommended because it will generate extra copies and increase memory consumption\n",
      "  warnings.warn(\n"
     ]
    },
    {
     "name": "stdout",
     "output_type": "stream",
     "text": [
      "[CV 5/5; 2/2] END xgb__colsample_bytree=0.7, xgb__gamma=0.1, xgb__learning_rate=0.03, xgb__max_depth=8, xgb__n_estimators=50, xgb__reg_lambda=0.001;, score=(train=-3.455, test=-7.006) total time=   0.5s\n"
     ]
    },
    {
     "name": "stderr",
     "output_type": "stream",
     "text": [
      "C:\\Users\\ATeklesadik\\Miniconda3\\envs\\geo_env\\lib\\site-packages\\xgboost\\data.py:112: UserWarning: Use subset (sliced data) of np.ndarray is not recommended because it will generate extra copies and increase memory consumption\n",
      "  warnings.warn(\n",
      "C:\\Users\\ATeklesadik\\Miniconda3\\envs\\geo_env\\lib\\site-packages\\sklearn\\model_selection\\_search.py:285: UserWarning: The total space of parameters 2 is smaller than n_iter=500. Running 2 iterations. For exhaustive searches, use GridSearchCV.\n",
      "  warnings.warn(\n"
     ]
    },
    {
     "name": "stdout",
     "output_type": "stream",
     "text": [
      "Selected Parameters {'xgb__reg_lambda': 0.001, 'xgb__n_estimators': 50, 'xgb__max_depth': 8, 'xgb__learning_rate': 0.03, 'xgb__gamma': 0.1, 'xgb__colsample_bytree': 0.7}\n",
      "Train score: 1.3590902213488105\n",
      "Test score: 1.355245599062085\n",
      "Running for 15 out of a total of 39\n",
      "Fitting 5 folds for each of 2 candidates, totalling 10 fits\n",
      "[CV 1/5; 1/2] START xgb__colsample_bytree=0.7, xgb__gamma=0.1, xgb__learning_rate=0.03, xgb__max_depth=6, xgb__n_estimators=50, xgb__reg_lambda=0.001\n"
     ]
    },
    {
     "name": "stderr",
     "output_type": "stream",
     "text": [
      "C:\\Users\\ATeklesadik\\Miniconda3\\envs\\geo_env\\lib\\site-packages\\xgboost\\data.py:112: UserWarning: Use subset (sliced data) of np.ndarray is not recommended because it will generate extra copies and increase memory consumption\n",
      "  warnings.warn(\n",
      "C:\\Users\\ATeklesadik\\Miniconda3\\envs\\geo_env\\lib\\site-packages\\xgboost\\data.py:112: UserWarning: Use subset (sliced data) of np.ndarray is not recommended because it will generate extra copies and increase memory consumption\n",
      "  warnings.warn(\n"
     ]
    },
    {
     "name": "stdout",
     "output_type": "stream",
     "text": [
      "[CV 1/5; 1/2] END xgb__colsample_bytree=0.7, xgb__gamma=0.1, xgb__learning_rate=0.03, xgb__max_depth=6, xgb__n_estimators=50, xgb__reg_lambda=0.001;, score=(train=-4.707, test=-6.069) total time=   0.3s\n",
      "[CV 2/5; 1/2] START xgb__colsample_bytree=0.7, xgb__gamma=0.1, xgb__learning_rate=0.03, xgb__max_depth=6, xgb__n_estimators=50, xgb__reg_lambda=0.001\n"
     ]
    },
    {
     "name": "stderr",
     "output_type": "stream",
     "text": [
      "C:\\Users\\ATeklesadik\\Miniconda3\\envs\\geo_env\\lib\\site-packages\\xgboost\\data.py:112: UserWarning: Use subset (sliced data) of np.ndarray is not recommended because it will generate extra copies and increase memory consumption\n",
      "  warnings.warn(\n",
      "C:\\Users\\ATeklesadik\\Miniconda3\\envs\\geo_env\\lib\\site-packages\\xgboost\\data.py:112: UserWarning: Use subset (sliced data) of np.ndarray is not recommended because it will generate extra copies and increase memory consumption\n",
      "  warnings.warn(\n"
     ]
    },
    {
     "name": "stdout",
     "output_type": "stream",
     "text": [
      "[CV 2/5; 1/2] END xgb__colsample_bytree=0.7, xgb__gamma=0.1, xgb__learning_rate=0.03, xgb__max_depth=6, xgb__n_estimators=50, xgb__reg_lambda=0.001;, score=(train=-4.575, test=-7.008) total time=   0.3s\n",
      "[CV 3/5; 1/2] START xgb__colsample_bytree=0.7, xgb__gamma=0.1, xgb__learning_rate=0.03, xgb__max_depth=6, xgb__n_estimators=50, xgb__reg_lambda=0.001\n"
     ]
    },
    {
     "name": "stderr",
     "output_type": "stream",
     "text": [
      "C:\\Users\\ATeklesadik\\Miniconda3\\envs\\geo_env\\lib\\site-packages\\xgboost\\data.py:112: UserWarning: Use subset (sliced data) of np.ndarray is not recommended because it will generate extra copies and increase memory consumption\n",
      "  warnings.warn(\n",
      "C:\\Users\\ATeklesadik\\Miniconda3\\envs\\geo_env\\lib\\site-packages\\xgboost\\data.py:112: UserWarning: Use subset (sliced data) of np.ndarray is not recommended because it will generate extra copies and increase memory consumption\n",
      "  warnings.warn(\n"
     ]
    },
    {
     "name": "stdout",
     "output_type": "stream",
     "text": [
      "[CV 3/5; 1/2] END xgb__colsample_bytree=0.7, xgb__gamma=0.1, xgb__learning_rate=0.03, xgb__max_depth=6, xgb__n_estimators=50, xgb__reg_lambda=0.001;, score=(train=-4.692, test=-6.006) total time=   0.3s\n",
      "[CV 4/5; 1/2] START xgb__colsample_bytree=0.7, xgb__gamma=0.1, xgb__learning_rate=0.03, xgb__max_depth=6, xgb__n_estimators=50, xgb__reg_lambda=0.001\n"
     ]
    },
    {
     "name": "stderr",
     "output_type": "stream",
     "text": [
      "C:\\Users\\ATeklesadik\\Miniconda3\\envs\\geo_env\\lib\\site-packages\\xgboost\\data.py:112: UserWarning: Use subset (sliced data) of np.ndarray is not recommended because it will generate extra copies and increase memory consumption\n",
      "  warnings.warn(\n",
      "C:\\Users\\ATeklesadik\\Miniconda3\\envs\\geo_env\\lib\\site-packages\\xgboost\\data.py:112: UserWarning: Use subset (sliced data) of np.ndarray is not recommended because it will generate extra copies and increase memory consumption\n",
      "  warnings.warn(\n"
     ]
    },
    {
     "name": "stdout",
     "output_type": "stream",
     "text": [
      "[CV 4/5; 1/2] END xgb__colsample_bytree=0.7, xgb__gamma=0.1, xgb__learning_rate=0.03, xgb__max_depth=6, xgb__n_estimators=50, xgb__reg_lambda=0.001;, score=(train=-4.693, test=-5.918) total time=   0.3s\n",
      "[CV 5/5; 1/2] START xgb__colsample_bytree=0.7, xgb__gamma=0.1, xgb__learning_rate=0.03, xgb__max_depth=6, xgb__n_estimators=50, xgb__reg_lambda=0.001\n"
     ]
    },
    {
     "name": "stderr",
     "output_type": "stream",
     "text": [
      "C:\\Users\\ATeklesadik\\Miniconda3\\envs\\geo_env\\lib\\site-packages\\xgboost\\data.py:112: UserWarning: Use subset (sliced data) of np.ndarray is not recommended because it will generate extra copies and increase memory consumption\n",
      "  warnings.warn(\n",
      "C:\\Users\\ATeklesadik\\Miniconda3\\envs\\geo_env\\lib\\site-packages\\xgboost\\data.py:112: UserWarning: Use subset (sliced data) of np.ndarray is not recommended because it will generate extra copies and increase memory consumption\n",
      "  warnings.warn(\n"
     ]
    },
    {
     "name": "stdout",
     "output_type": "stream",
     "text": [
      "[CV 5/5; 1/2] END xgb__colsample_bytree=0.7, xgb__gamma=0.1, xgb__learning_rate=0.03, xgb__max_depth=6, xgb__n_estimators=50, xgb__reg_lambda=0.001;, score=(train=-4.590, test=-5.918) total time=   0.3s\n",
      "[CV 1/5; 2/2] START xgb__colsample_bytree=0.7, xgb__gamma=0.1, xgb__learning_rate=0.03, xgb__max_depth=8, xgb__n_estimators=50, xgb__reg_lambda=0.001\n"
     ]
    },
    {
     "name": "stderr",
     "output_type": "stream",
     "text": [
      "C:\\Users\\ATeklesadik\\Miniconda3\\envs\\geo_env\\lib\\site-packages\\xgboost\\data.py:112: UserWarning: Use subset (sliced data) of np.ndarray is not recommended because it will generate extra copies and increase memory consumption\n",
      "  warnings.warn(\n",
      "C:\\Users\\ATeklesadik\\Miniconda3\\envs\\geo_env\\lib\\site-packages\\xgboost\\data.py:112: UserWarning: Use subset (sliced data) of np.ndarray is not recommended because it will generate extra copies and increase memory consumption\n",
      "  warnings.warn(\n"
     ]
    },
    {
     "name": "stdout",
     "output_type": "stream",
     "text": [
      "[CV 1/5; 2/2] END xgb__colsample_bytree=0.7, xgb__gamma=0.1, xgb__learning_rate=0.03, xgb__max_depth=8, xgb__n_estimators=50, xgb__reg_lambda=0.001;, score=(train=-3.687, test=-6.044) total time=   0.5s\n",
      "[CV 2/5; 2/2] START xgb__colsample_bytree=0.7, xgb__gamma=0.1, xgb__learning_rate=0.03, xgb__max_depth=8, xgb__n_estimators=50, xgb__reg_lambda=0.001\n"
     ]
    },
    {
     "name": "stderr",
     "output_type": "stream",
     "text": [
      "C:\\Users\\ATeklesadik\\Miniconda3\\envs\\geo_env\\lib\\site-packages\\xgboost\\data.py:112: UserWarning: Use subset (sliced data) of np.ndarray is not recommended because it will generate extra copies and increase memory consumption\n",
      "  warnings.warn(\n",
      "C:\\Users\\ATeklesadik\\Miniconda3\\envs\\geo_env\\lib\\site-packages\\xgboost\\data.py:112: UserWarning: Use subset (sliced data) of np.ndarray is not recommended because it will generate extra copies and increase memory consumption\n",
      "  warnings.warn(\n"
     ]
    },
    {
     "name": "stdout",
     "output_type": "stream",
     "text": [
      "[CV 2/5; 2/2] END xgb__colsample_bytree=0.7, xgb__gamma=0.1, xgb__learning_rate=0.03, xgb__max_depth=8, xgb__n_estimators=50, xgb__reg_lambda=0.001;, score=(train=-3.519, test=-6.921) total time=   0.5s\n",
      "[CV 3/5; 2/2] START xgb__colsample_bytree=0.7, xgb__gamma=0.1, xgb__learning_rate=0.03, xgb__max_depth=8, xgb__n_estimators=50, xgb__reg_lambda=0.001\n"
     ]
    },
    {
     "name": "stderr",
     "output_type": "stream",
     "text": [
      "C:\\Users\\ATeklesadik\\Miniconda3\\envs\\geo_env\\lib\\site-packages\\xgboost\\data.py:112: UserWarning: Use subset (sliced data) of np.ndarray is not recommended because it will generate extra copies and increase memory consumption\n",
      "  warnings.warn(\n",
      "C:\\Users\\ATeklesadik\\Miniconda3\\envs\\geo_env\\lib\\site-packages\\xgboost\\data.py:112: UserWarning: Use subset (sliced data) of np.ndarray is not recommended because it will generate extra copies and increase memory consumption\n",
      "  warnings.warn(\n"
     ]
    },
    {
     "name": "stdout",
     "output_type": "stream",
     "text": [
      "[CV 3/5; 2/2] END xgb__colsample_bytree=0.7, xgb__gamma=0.1, xgb__learning_rate=0.03, xgb__max_depth=8, xgb__n_estimators=50, xgb__reg_lambda=0.001;, score=(train=-3.745, test=-6.030) total time=   0.4s\n",
      "[CV 4/5; 2/2] START xgb__colsample_bytree=0.7, xgb__gamma=0.1, xgb__learning_rate=0.03, xgb__max_depth=8, xgb__n_estimators=50, xgb__reg_lambda=0.001\n"
     ]
    },
    {
     "name": "stderr",
     "output_type": "stream",
     "text": [
      "C:\\Users\\ATeklesadik\\Miniconda3\\envs\\geo_env\\lib\\site-packages\\xgboost\\data.py:112: UserWarning: Use subset (sliced data) of np.ndarray is not recommended because it will generate extra copies and increase memory consumption\n",
      "  warnings.warn(\n",
      "C:\\Users\\ATeklesadik\\Miniconda3\\envs\\geo_env\\lib\\site-packages\\xgboost\\data.py:112: UserWarning: Use subset (sliced data) of np.ndarray is not recommended because it will generate extra copies and increase memory consumption\n",
      "  warnings.warn(\n"
     ]
    },
    {
     "name": "stdout",
     "output_type": "stream",
     "text": [
      "[CV 4/5; 2/2] END xgb__colsample_bytree=0.7, xgb__gamma=0.1, xgb__learning_rate=0.03, xgb__max_depth=8, xgb__n_estimators=50, xgb__reg_lambda=0.001;, score=(train=-3.782, test=-5.758) total time=   0.5s\n",
      "[CV 5/5; 2/2] START xgb__colsample_bytree=0.7, xgb__gamma=0.1, xgb__learning_rate=0.03, xgb__max_depth=8, xgb__n_estimators=50, xgb__reg_lambda=0.001\n"
     ]
    },
    {
     "name": "stderr",
     "output_type": "stream",
     "text": [
      "C:\\Users\\ATeklesadik\\Miniconda3\\envs\\geo_env\\lib\\site-packages\\xgboost\\data.py:112: UserWarning: Use subset (sliced data) of np.ndarray is not recommended because it will generate extra copies and increase memory consumption\n",
      "  warnings.warn(\n",
      "C:\\Users\\ATeklesadik\\Miniconda3\\envs\\geo_env\\lib\\site-packages\\xgboost\\data.py:112: UserWarning: Use subset (sliced data) of np.ndarray is not recommended because it will generate extra copies and increase memory consumption\n",
      "  warnings.warn(\n"
     ]
    },
    {
     "name": "stdout",
     "output_type": "stream",
     "text": [
      "[CV 5/5; 2/2] END xgb__colsample_bytree=0.7, xgb__gamma=0.1, xgb__learning_rate=0.03, xgb__max_depth=8, xgb__n_estimators=50, xgb__reg_lambda=0.001;, score=(train=-3.650, test=-5.925) total time=   0.5s\n"
     ]
    },
    {
     "name": "stderr",
     "output_type": "stream",
     "text": [
      "C:\\Users\\ATeklesadik\\Miniconda3\\envs\\geo_env\\lib\\site-packages\\xgboost\\data.py:112: UserWarning: Use subset (sliced data) of np.ndarray is not recommended because it will generate extra copies and increase memory consumption\n",
      "  warnings.warn(\n",
      "C:\\Users\\ATeklesadik\\Miniconda3\\envs\\geo_env\\lib\\site-packages\\sklearn\\model_selection\\_search.py:285: UserWarning: The total space of parameters 2 is smaller than n_iter=500. Running 2 iterations. For exhaustive searches, use GridSearchCV.\n",
      "  warnings.warn(\n"
     ]
    },
    {
     "name": "stdout",
     "output_type": "stream",
     "text": [
      "Selected Parameters {'xgb__reg_lambda': 0.001, 'xgb__n_estimators': 50, 'xgb__max_depth': 8, 'xgb__learning_rate': 0.03, 'xgb__gamma': 0.1, 'xgb__colsample_bytree': 0.7}\n",
      "Train score: 1.3541540679961093\n",
      "Test score: 2.110864485937909\n",
      "Running for 16 out of a total of 39\n",
      "Fitting 5 folds for each of 2 candidates, totalling 10 fits\n",
      "[CV 1/5; 1/2] START xgb__colsample_bytree=0.7, xgb__gamma=0.1, xgb__learning_rate=0.03, xgb__max_depth=6, xgb__n_estimators=50, xgb__reg_lambda=0.001\n"
     ]
    },
    {
     "name": "stderr",
     "output_type": "stream",
     "text": [
      "C:\\Users\\ATeklesadik\\Miniconda3\\envs\\geo_env\\lib\\site-packages\\xgboost\\data.py:112: UserWarning: Use subset (sliced data) of np.ndarray is not recommended because it will generate extra copies and increase memory consumption\n",
      "  warnings.warn(\n",
      "C:\\Users\\ATeklesadik\\Miniconda3\\envs\\geo_env\\lib\\site-packages\\xgboost\\data.py:112: UserWarning: Use subset (sliced data) of np.ndarray is not recommended because it will generate extra copies and increase memory consumption\n",
      "  warnings.warn(\n"
     ]
    },
    {
     "name": "stdout",
     "output_type": "stream",
     "text": [
      "[CV 1/5; 1/2] END xgb__colsample_bytree=0.7, xgb__gamma=0.1, xgb__learning_rate=0.03, xgb__max_depth=6, xgb__n_estimators=50, xgb__reg_lambda=0.001;, score=(train=-4.717, test=-5.823) total time=   0.3s\n",
      "[CV 2/5; 1/2] START xgb__colsample_bytree=0.7, xgb__gamma=0.1, xgb__learning_rate=0.03, xgb__max_depth=6, xgb__n_estimators=50, xgb__reg_lambda=0.001\n"
     ]
    },
    {
     "name": "stderr",
     "output_type": "stream",
     "text": [
      "C:\\Users\\ATeklesadik\\Miniconda3\\envs\\geo_env\\lib\\site-packages\\xgboost\\data.py:112: UserWarning: Use subset (sliced data) of np.ndarray is not recommended because it will generate extra copies and increase memory consumption\n",
      "  warnings.warn(\n",
      "C:\\Users\\ATeklesadik\\Miniconda3\\envs\\geo_env\\lib\\site-packages\\xgboost\\data.py:112: UserWarning: Use subset (sliced data) of np.ndarray is not recommended because it will generate extra copies and increase memory consumption\n",
      "  warnings.warn(\n"
     ]
    },
    {
     "name": "stdout",
     "output_type": "stream",
     "text": [
      "[CV 2/5; 1/2] END xgb__colsample_bytree=0.7, xgb__gamma=0.1, xgb__learning_rate=0.03, xgb__max_depth=6, xgb__n_estimators=50, xgb__reg_lambda=0.001;, score=(train=-4.744, test=-6.507) total time=   0.3s\n",
      "[CV 3/5; 1/2] START xgb__colsample_bytree=0.7, xgb__gamma=0.1, xgb__learning_rate=0.03, xgb__max_depth=6, xgb__n_estimators=50, xgb__reg_lambda=0.001\n"
     ]
    },
    {
     "name": "stderr",
     "output_type": "stream",
     "text": [
      "C:\\Users\\ATeklesadik\\Miniconda3\\envs\\geo_env\\lib\\site-packages\\xgboost\\data.py:112: UserWarning: Use subset (sliced data) of np.ndarray is not recommended because it will generate extra copies and increase memory consumption\n",
      "  warnings.warn(\n",
      "C:\\Users\\ATeklesadik\\Miniconda3\\envs\\geo_env\\lib\\site-packages\\xgboost\\data.py:112: UserWarning: Use subset (sliced data) of np.ndarray is not recommended because it will generate extra copies and increase memory consumption\n",
      "  warnings.warn(\n"
     ]
    },
    {
     "name": "stdout",
     "output_type": "stream",
     "text": [
      "[CV 3/5; 1/2] END xgb__colsample_bytree=0.7, xgb__gamma=0.1, xgb__learning_rate=0.03, xgb__max_depth=6, xgb__n_estimators=50, xgb__reg_lambda=0.001;, score=(train=-4.366, test=-6.995) total time=   0.3s\n",
      "[CV 4/5; 1/2] START xgb__colsample_bytree=0.7, xgb__gamma=0.1, xgb__learning_rate=0.03, xgb__max_depth=6, xgb__n_estimators=50, xgb__reg_lambda=0.001\n"
     ]
    },
    {
     "name": "stderr",
     "output_type": "stream",
     "text": [
      "C:\\Users\\ATeklesadik\\Miniconda3\\envs\\geo_env\\lib\\site-packages\\xgboost\\data.py:112: UserWarning: Use subset (sliced data) of np.ndarray is not recommended because it will generate extra copies and increase memory consumption\n",
      "  warnings.warn(\n",
      "C:\\Users\\ATeklesadik\\Miniconda3\\envs\\geo_env\\lib\\site-packages\\xgboost\\data.py:112: UserWarning: Use subset (sliced data) of np.ndarray is not recommended because it will generate extra copies and increase memory consumption\n",
      "  warnings.warn(\n"
     ]
    },
    {
     "name": "stdout",
     "output_type": "stream",
     "text": [
      "[CV 4/5; 1/2] END xgb__colsample_bytree=0.7, xgb__gamma=0.1, xgb__learning_rate=0.03, xgb__max_depth=6, xgb__n_estimators=50, xgb__reg_lambda=0.001;, score=(train=-4.753, test=-5.731) total time=   0.3s\n",
      "[CV 5/5; 1/2] START xgb__colsample_bytree=0.7, xgb__gamma=0.1, xgb__learning_rate=0.03, xgb__max_depth=6, xgb__n_estimators=50, xgb__reg_lambda=0.001\n"
     ]
    },
    {
     "name": "stderr",
     "output_type": "stream",
     "text": [
      "C:\\Users\\ATeklesadik\\Miniconda3\\envs\\geo_env\\lib\\site-packages\\xgboost\\data.py:112: UserWarning: Use subset (sliced data) of np.ndarray is not recommended because it will generate extra copies and increase memory consumption\n",
      "  warnings.warn(\n",
      "C:\\Users\\ATeklesadik\\Miniconda3\\envs\\geo_env\\lib\\site-packages\\xgboost\\data.py:112: UserWarning: Use subset (sliced data) of np.ndarray is not recommended because it will generate extra copies and increase memory consumption\n",
      "  warnings.warn(\n"
     ]
    },
    {
     "name": "stdout",
     "output_type": "stream",
     "text": [
      "[CV 5/5; 1/2] END xgb__colsample_bytree=0.7, xgb__gamma=0.1, xgb__learning_rate=0.03, xgb__max_depth=6, xgb__n_estimators=50, xgb__reg_lambda=0.001;, score=(train=-4.894, test=-5.846) total time=   0.3s\n",
      "[CV 1/5; 2/2] START xgb__colsample_bytree=0.7, xgb__gamma=0.1, xgb__learning_rate=0.03, xgb__max_depth=8, xgb__n_estimators=50, xgb__reg_lambda=0.001\n"
     ]
    },
    {
     "name": "stderr",
     "output_type": "stream",
     "text": [
      "C:\\Users\\ATeklesadik\\Miniconda3\\envs\\geo_env\\lib\\site-packages\\xgboost\\data.py:112: UserWarning: Use subset (sliced data) of np.ndarray is not recommended because it will generate extra copies and increase memory consumption\n",
      "  warnings.warn(\n",
      "C:\\Users\\ATeklesadik\\Miniconda3\\envs\\geo_env\\lib\\site-packages\\xgboost\\data.py:112: UserWarning: Use subset (sliced data) of np.ndarray is not recommended because it will generate extra copies and increase memory consumption\n",
      "  warnings.warn(\n"
     ]
    },
    {
     "name": "stdout",
     "output_type": "stream",
     "text": [
      "[CV 1/5; 2/2] END xgb__colsample_bytree=0.7, xgb__gamma=0.1, xgb__learning_rate=0.03, xgb__max_depth=8, xgb__n_estimators=50, xgb__reg_lambda=0.001;, score=(train=-3.687, test=-5.824) total time=   0.5s\n",
      "[CV 2/5; 2/2] START xgb__colsample_bytree=0.7, xgb__gamma=0.1, xgb__learning_rate=0.03, xgb__max_depth=8, xgb__n_estimators=50, xgb__reg_lambda=0.001\n"
     ]
    },
    {
     "name": "stderr",
     "output_type": "stream",
     "text": [
      "C:\\Users\\ATeklesadik\\Miniconda3\\envs\\geo_env\\lib\\site-packages\\xgboost\\data.py:112: UserWarning: Use subset (sliced data) of np.ndarray is not recommended because it will generate extra copies and increase memory consumption\n",
      "  warnings.warn(\n",
      "C:\\Users\\ATeklesadik\\Miniconda3\\envs\\geo_env\\lib\\site-packages\\xgboost\\data.py:112: UserWarning: Use subset (sliced data) of np.ndarray is not recommended because it will generate extra copies and increase memory consumption\n",
      "  warnings.warn(\n"
     ]
    },
    {
     "name": "stdout",
     "output_type": "stream",
     "text": [
      "[CV 2/5; 2/2] END xgb__colsample_bytree=0.7, xgb__gamma=0.1, xgb__learning_rate=0.03, xgb__max_depth=8, xgb__n_estimators=50, xgb__reg_lambda=0.001;, score=(train=-3.851, test=-6.345) total time=   0.5s\n",
      "[CV 3/5; 2/2] START xgb__colsample_bytree=0.7, xgb__gamma=0.1, xgb__learning_rate=0.03, xgb__max_depth=8, xgb__n_estimators=50, xgb__reg_lambda=0.001\n"
     ]
    },
    {
     "name": "stderr",
     "output_type": "stream",
     "text": [
      "C:\\Users\\ATeklesadik\\Miniconda3\\envs\\geo_env\\lib\\site-packages\\xgboost\\data.py:112: UserWarning: Use subset (sliced data) of np.ndarray is not recommended because it will generate extra copies and increase memory consumption\n",
      "  warnings.warn(\n",
      "C:\\Users\\ATeklesadik\\Miniconda3\\envs\\geo_env\\lib\\site-packages\\xgboost\\data.py:112: UserWarning: Use subset (sliced data) of np.ndarray is not recommended because it will generate extra copies and increase memory consumption\n",
      "  warnings.warn(\n"
     ]
    },
    {
     "name": "stdout",
     "output_type": "stream",
     "text": [
      "[CV 3/5; 2/2] END xgb__colsample_bytree=0.7, xgb__gamma=0.1, xgb__learning_rate=0.03, xgb__max_depth=8, xgb__n_estimators=50, xgb__reg_lambda=0.001;, score=(train=-3.391, test=-6.844) total time=   0.6s\n",
      "[CV 4/5; 2/2] START xgb__colsample_bytree=0.7, xgb__gamma=0.1, xgb__learning_rate=0.03, xgb__max_depth=8, xgb__n_estimators=50, xgb__reg_lambda=0.001\n"
     ]
    },
    {
     "name": "stderr",
     "output_type": "stream",
     "text": [
      "C:\\Users\\ATeklesadik\\Miniconda3\\envs\\geo_env\\lib\\site-packages\\xgboost\\data.py:112: UserWarning: Use subset (sliced data) of np.ndarray is not recommended because it will generate extra copies and increase memory consumption\n",
      "  warnings.warn(\n",
      "C:\\Users\\ATeklesadik\\Miniconda3\\envs\\geo_env\\lib\\site-packages\\xgboost\\data.py:112: UserWarning: Use subset (sliced data) of np.ndarray is not recommended because it will generate extra copies and increase memory consumption\n",
      "  warnings.warn(\n"
     ]
    },
    {
     "name": "stdout",
     "output_type": "stream",
     "text": [
      "[CV 4/5; 2/2] END xgb__colsample_bytree=0.7, xgb__gamma=0.1, xgb__learning_rate=0.03, xgb__max_depth=8, xgb__n_estimators=50, xgb__reg_lambda=0.001;, score=(train=-3.699, test=-5.740) total time=   0.5s\n",
      "[CV 5/5; 2/2] START xgb__colsample_bytree=0.7, xgb__gamma=0.1, xgb__learning_rate=0.03, xgb__max_depth=8, xgb__n_estimators=50, xgb__reg_lambda=0.001\n"
     ]
    },
    {
     "name": "stderr",
     "output_type": "stream",
     "text": [
      "C:\\Users\\ATeklesadik\\Miniconda3\\envs\\geo_env\\lib\\site-packages\\xgboost\\data.py:112: UserWarning: Use subset (sliced data) of np.ndarray is not recommended because it will generate extra copies and increase memory consumption\n",
      "  warnings.warn(\n",
      "C:\\Users\\ATeklesadik\\Miniconda3\\envs\\geo_env\\lib\\site-packages\\xgboost\\data.py:112: UserWarning: Use subset (sliced data) of np.ndarray is not recommended because it will generate extra copies and increase memory consumption\n",
      "  warnings.warn(\n"
     ]
    },
    {
     "name": "stdout",
     "output_type": "stream",
     "text": [
      "[CV 5/5; 2/2] END xgb__colsample_bytree=0.7, xgb__gamma=0.1, xgb__learning_rate=0.03, xgb__max_depth=8, xgb__n_estimators=50, xgb__reg_lambda=0.001;, score=(train=-3.896, test=-5.917) total time=   0.5s\n"
     ]
    },
    {
     "name": "stderr",
     "output_type": "stream",
     "text": [
      "C:\\Users\\ATeklesadik\\Miniconda3\\envs\\geo_env\\lib\\site-packages\\xgboost\\data.py:112: UserWarning: Use subset (sliced data) of np.ndarray is not recommended because it will generate extra copies and increase memory consumption\n",
      "  warnings.warn(\n",
      "C:\\Users\\ATeklesadik\\Miniconda3\\envs\\geo_env\\lib\\site-packages\\sklearn\\model_selection\\_search.py:285: UserWarning: The total space of parameters 2 is smaller than n_iter=500. Running 2 iterations. For exhaustive searches, use GridSearchCV.\n",
      "  warnings.warn(\n"
     ]
    },
    {
     "name": "stdout",
     "output_type": "stream",
     "text": [
      "Selected Parameters {'xgb__reg_lambda': 0.001, 'xgb__n_estimators': 50, 'xgb__max_depth': 8, 'xgb__learning_rate': 0.03, 'xgb__gamma': 0.1, 'xgb__colsample_bytree': 0.7}\n",
      "Train score: 1.3579202090599622\n",
      "Test score: 0.7748823126947482\n",
      "Running for 17 out of a total of 39\n",
      "Fitting 5 folds for each of 2 candidates, totalling 10 fits\n",
      "[CV 1/5; 1/2] START xgb__colsample_bytree=0.7, xgb__gamma=0.1, xgb__learning_rate=0.03, xgb__max_depth=6, xgb__n_estimators=50, xgb__reg_lambda=0.001\n"
     ]
    },
    {
     "name": "stderr",
     "output_type": "stream",
     "text": [
      "C:\\Users\\ATeklesadik\\Miniconda3\\envs\\geo_env\\lib\\site-packages\\xgboost\\data.py:112: UserWarning: Use subset (sliced data) of np.ndarray is not recommended because it will generate extra copies and increase memory consumption\n",
      "  warnings.warn(\n",
      "C:\\Users\\ATeklesadik\\Miniconda3\\envs\\geo_env\\lib\\site-packages\\xgboost\\data.py:112: UserWarning: Use subset (sliced data) of np.ndarray is not recommended because it will generate extra copies and increase memory consumption\n",
      "  warnings.warn(\n"
     ]
    },
    {
     "name": "stdout",
     "output_type": "stream",
     "text": [
      "[CV 1/5; 1/2] END xgb__colsample_bytree=0.7, xgb__gamma=0.1, xgb__learning_rate=0.03, xgb__max_depth=6, xgb__n_estimators=50, xgb__reg_lambda=0.001;, score=(train=-4.638, test=-6.574) total time=   0.3s\n",
      "[CV 2/5; 1/2] START xgb__colsample_bytree=0.7, xgb__gamma=0.1, xgb__learning_rate=0.03, xgb__max_depth=6, xgb__n_estimators=50, xgb__reg_lambda=0.001\n"
     ]
    },
    {
     "name": "stderr",
     "output_type": "stream",
     "text": [
      "C:\\Users\\ATeklesadik\\Miniconda3\\envs\\geo_env\\lib\\site-packages\\xgboost\\data.py:112: UserWarning: Use subset (sliced data) of np.ndarray is not recommended because it will generate extra copies and increase memory consumption\n",
      "  warnings.warn(\n",
      "C:\\Users\\ATeklesadik\\Miniconda3\\envs\\geo_env\\lib\\site-packages\\xgboost\\data.py:112: UserWarning: Use subset (sliced data) of np.ndarray is not recommended because it will generate extra copies and increase memory consumption\n",
      "  warnings.warn(\n"
     ]
    },
    {
     "name": "stdout",
     "output_type": "stream",
     "text": [
      "[CV 2/5; 1/2] END xgb__colsample_bytree=0.7, xgb__gamma=0.1, xgb__learning_rate=0.03, xgb__max_depth=6, xgb__n_estimators=50, xgb__reg_lambda=0.001;, score=(train=-4.676, test=-6.439) total time=   0.3s\n",
      "[CV 3/5; 1/2] START xgb__colsample_bytree=0.7, xgb__gamma=0.1, xgb__learning_rate=0.03, xgb__max_depth=6, xgb__n_estimators=50, xgb__reg_lambda=0.001\n"
     ]
    },
    {
     "name": "stderr",
     "output_type": "stream",
     "text": [
      "C:\\Users\\ATeklesadik\\Miniconda3\\envs\\geo_env\\lib\\site-packages\\xgboost\\data.py:112: UserWarning: Use subset (sliced data) of np.ndarray is not recommended because it will generate extra copies and increase memory consumption\n",
      "  warnings.warn(\n",
      "C:\\Users\\ATeklesadik\\Miniconda3\\envs\\geo_env\\lib\\site-packages\\xgboost\\data.py:112: UserWarning: Use subset (sliced data) of np.ndarray is not recommended because it will generate extra copies and increase memory consumption\n",
      "  warnings.warn(\n"
     ]
    },
    {
     "name": "stdout",
     "output_type": "stream",
     "text": [
      "[CV 3/5; 1/2] END xgb__colsample_bytree=0.7, xgb__gamma=0.1, xgb__learning_rate=0.03, xgb__max_depth=6, xgb__n_estimators=50, xgb__reg_lambda=0.001;, score=(train=-4.692, test=-6.190) total time=   0.3s\n",
      "[CV 4/5; 1/2] START xgb__colsample_bytree=0.7, xgb__gamma=0.1, xgb__learning_rate=0.03, xgb__max_depth=6, xgb__n_estimators=50, xgb__reg_lambda=0.001\n"
     ]
    },
    {
     "name": "stderr",
     "output_type": "stream",
     "text": [
      "C:\\Users\\ATeklesadik\\Miniconda3\\envs\\geo_env\\lib\\site-packages\\xgboost\\data.py:112: UserWarning: Use subset (sliced data) of np.ndarray is not recommended because it will generate extra copies and increase memory consumption\n",
      "  warnings.warn(\n",
      "C:\\Users\\ATeklesadik\\Miniconda3\\envs\\geo_env\\lib\\site-packages\\xgboost\\data.py:112: UserWarning: Use subset (sliced data) of np.ndarray is not recommended because it will generate extra copies and increase memory consumption\n",
      "  warnings.warn(\n"
     ]
    },
    {
     "name": "stdout",
     "output_type": "stream",
     "text": [
      "[CV 4/5; 1/2] END xgb__colsample_bytree=0.7, xgb__gamma=0.1, xgb__learning_rate=0.03, xgb__max_depth=6, xgb__n_estimators=50, xgb__reg_lambda=0.001;, score=(train=-4.542, test=-6.133) total time=   0.3s\n",
      "[CV 5/5; 1/2] START xgb__colsample_bytree=0.7, xgb__gamma=0.1, xgb__learning_rate=0.03, xgb__max_depth=6, xgb__n_estimators=50, xgb__reg_lambda=0.001\n"
     ]
    },
    {
     "name": "stderr",
     "output_type": "stream",
     "text": [
      "C:\\Users\\ATeklesadik\\Miniconda3\\envs\\geo_env\\lib\\site-packages\\xgboost\\data.py:112: UserWarning: Use subset (sliced data) of np.ndarray is not recommended because it will generate extra copies and increase memory consumption\n",
      "  warnings.warn(\n",
      "C:\\Users\\ATeklesadik\\Miniconda3\\envs\\geo_env\\lib\\site-packages\\xgboost\\data.py:112: UserWarning: Use subset (sliced data) of np.ndarray is not recommended because it will generate extra copies and increase memory consumption\n",
      "  warnings.warn(\n"
     ]
    },
    {
     "name": "stdout",
     "output_type": "stream",
     "text": [
      "[CV 5/5; 1/2] END xgb__colsample_bytree=0.7, xgb__gamma=0.1, xgb__learning_rate=0.03, xgb__max_depth=6, xgb__n_estimators=50, xgb__reg_lambda=0.001;, score=(train=-4.655, test=-6.093) total time=   0.4s\n",
      "[CV 1/5; 2/2] START xgb__colsample_bytree=0.7, xgb__gamma=0.1, xgb__learning_rate=0.03, xgb__max_depth=8, xgb__n_estimators=50, xgb__reg_lambda=0.001\n"
     ]
    },
    {
     "name": "stderr",
     "output_type": "stream",
     "text": [
      "C:\\Users\\ATeklesadik\\Miniconda3\\envs\\geo_env\\lib\\site-packages\\xgboost\\data.py:112: UserWarning: Use subset (sliced data) of np.ndarray is not recommended because it will generate extra copies and increase memory consumption\n",
      "  warnings.warn(\n",
      "C:\\Users\\ATeklesadik\\Miniconda3\\envs\\geo_env\\lib\\site-packages\\xgboost\\data.py:112: UserWarning: Use subset (sliced data) of np.ndarray is not recommended because it will generate extra copies and increase memory consumption\n",
      "  warnings.warn(\n"
     ]
    },
    {
     "name": "stdout",
     "output_type": "stream",
     "text": [
      "[CV 1/5; 2/2] END xgb__colsample_bytree=0.7, xgb__gamma=0.1, xgb__learning_rate=0.03, xgb__max_depth=8, xgb__n_estimators=50, xgb__reg_lambda=0.001;, score=(train=-3.669, test=-6.582) total time=   0.5s\n",
      "[CV 2/5; 2/2] START xgb__colsample_bytree=0.7, xgb__gamma=0.1, xgb__learning_rate=0.03, xgb__max_depth=8, xgb__n_estimators=50, xgb__reg_lambda=0.001\n"
     ]
    },
    {
     "name": "stderr",
     "output_type": "stream",
     "text": [
      "C:\\Users\\ATeklesadik\\Miniconda3\\envs\\geo_env\\lib\\site-packages\\xgboost\\data.py:112: UserWarning: Use subset (sliced data) of np.ndarray is not recommended because it will generate extra copies and increase memory consumption\n",
      "  warnings.warn(\n",
      "C:\\Users\\ATeklesadik\\Miniconda3\\envs\\geo_env\\lib\\site-packages\\xgboost\\data.py:112: UserWarning: Use subset (sliced data) of np.ndarray is not recommended because it will generate extra copies and increase memory consumption\n",
      "  warnings.warn(\n"
     ]
    },
    {
     "name": "stdout",
     "output_type": "stream",
     "text": [
      "[CV 2/5; 2/2] END xgb__colsample_bytree=0.7, xgb__gamma=0.1, xgb__learning_rate=0.03, xgb__max_depth=8, xgb__n_estimators=50, xgb__reg_lambda=0.001;, score=(train=-3.721, test=-6.392) total time=   0.5s\n",
      "[CV 3/5; 2/2] START xgb__colsample_bytree=0.7, xgb__gamma=0.1, xgb__learning_rate=0.03, xgb__max_depth=8, xgb__n_estimators=50, xgb__reg_lambda=0.001\n"
     ]
    },
    {
     "name": "stderr",
     "output_type": "stream",
     "text": [
      "C:\\Users\\ATeklesadik\\Miniconda3\\envs\\geo_env\\lib\\site-packages\\xgboost\\data.py:112: UserWarning: Use subset (sliced data) of np.ndarray is not recommended because it will generate extra copies and increase memory consumption\n",
      "  warnings.warn(\n",
      "C:\\Users\\ATeklesadik\\Miniconda3\\envs\\geo_env\\lib\\site-packages\\xgboost\\data.py:112: UserWarning: Use subset (sliced data) of np.ndarray is not recommended because it will generate extra copies and increase memory consumption\n",
      "  warnings.warn(\n"
     ]
    },
    {
     "name": "stdout",
     "output_type": "stream",
     "text": [
      "[CV 3/5; 2/2] END xgb__colsample_bytree=0.7, xgb__gamma=0.1, xgb__learning_rate=0.03, xgb__max_depth=8, xgb__n_estimators=50, xgb__reg_lambda=0.001;, score=(train=-3.707, test=-6.085) total time=   0.5s\n",
      "[CV 4/5; 2/2] START xgb__colsample_bytree=0.7, xgb__gamma=0.1, xgb__learning_rate=0.03, xgb__max_depth=8, xgb__n_estimators=50, xgb__reg_lambda=0.001\n"
     ]
    },
    {
     "name": "stderr",
     "output_type": "stream",
     "text": [
      "C:\\Users\\ATeklesadik\\Miniconda3\\envs\\geo_env\\lib\\site-packages\\xgboost\\data.py:112: UserWarning: Use subset (sliced data) of np.ndarray is not recommended because it will generate extra copies and increase memory consumption\n",
      "  warnings.warn(\n",
      "C:\\Users\\ATeklesadik\\Miniconda3\\envs\\geo_env\\lib\\site-packages\\xgboost\\data.py:112: UserWarning: Use subset (sliced data) of np.ndarray is not recommended because it will generate extra copies and increase memory consumption\n",
      "  warnings.warn(\n"
     ]
    },
    {
     "name": "stdout",
     "output_type": "stream",
     "text": [
      "[CV 4/5; 2/2] END xgb__colsample_bytree=0.7, xgb__gamma=0.1, xgb__learning_rate=0.03, xgb__max_depth=8, xgb__n_estimators=50, xgb__reg_lambda=0.001;, score=(train=-3.605, test=-6.110) total time=   0.6s\n",
      "[CV 5/5; 2/2] START xgb__colsample_bytree=0.7, xgb__gamma=0.1, xgb__learning_rate=0.03, xgb__max_depth=8, xgb__n_estimators=50, xgb__reg_lambda=0.001\n"
     ]
    },
    {
     "name": "stderr",
     "output_type": "stream",
     "text": [
      "C:\\Users\\ATeklesadik\\Miniconda3\\envs\\geo_env\\lib\\site-packages\\xgboost\\data.py:112: UserWarning: Use subset (sliced data) of np.ndarray is not recommended because it will generate extra copies and increase memory consumption\n",
      "  warnings.warn(\n",
      "C:\\Users\\ATeklesadik\\Miniconda3\\envs\\geo_env\\lib\\site-packages\\xgboost\\data.py:112: UserWarning: Use subset (sliced data) of np.ndarray is not recommended because it will generate extra copies and increase memory consumption\n",
      "  warnings.warn(\n"
     ]
    },
    {
     "name": "stdout",
     "output_type": "stream",
     "text": [
      "[CV 5/5; 2/2] END xgb__colsample_bytree=0.7, xgb__gamma=0.1, xgb__learning_rate=0.03, xgb__max_depth=8, xgb__n_estimators=50, xgb__reg_lambda=0.001;, score=(train=-3.610, test=-6.093) total time=   0.5s\n"
     ]
    },
    {
     "name": "stderr",
     "output_type": "stream",
     "text": [
      "C:\\Users\\ATeklesadik\\Miniconda3\\envs\\geo_env\\lib\\site-packages\\xgboost\\data.py:112: UserWarning: Use subset (sliced data) of np.ndarray is not recommended because it will generate extra copies and increase memory consumption\n",
      "  warnings.warn(\n",
      "C:\\Users\\ATeklesadik\\Miniconda3\\envs\\geo_env\\lib\\site-packages\\sklearn\\model_selection\\_search.py:285: UserWarning: The total space of parameters 2 is smaller than n_iter=500. Running 2 iterations. For exhaustive searches, use GridSearchCV.\n",
      "  warnings.warn(\n"
     ]
    },
    {
     "name": "stdout",
     "output_type": "stream",
     "text": [
      "Selected Parameters {'xgb__reg_lambda': 0.001, 'xgb__n_estimators': 50, 'xgb__max_depth': 8, 'xgb__learning_rate': 0.03, 'xgb__gamma': 0.1, 'xgb__colsample_bytree': 0.7}\n",
      "Train score: 1.3647241127415488\n",
      "Test score: 0.45679260491732376\n",
      "Running for 18 out of a total of 39\n",
      "Fitting 5 folds for each of 2 candidates, totalling 10 fits\n",
      "[CV 1/5; 1/2] START xgb__colsample_bytree=0.7, xgb__gamma=0.1, xgb__learning_rate=0.03, xgb__max_depth=6, xgb__n_estimators=50, xgb__reg_lambda=0.001\n"
     ]
    },
    {
     "name": "stderr",
     "output_type": "stream",
     "text": [
      "C:\\Users\\ATeklesadik\\Miniconda3\\envs\\geo_env\\lib\\site-packages\\xgboost\\data.py:112: UserWarning: Use subset (sliced data) of np.ndarray is not recommended because it will generate extra copies and increase memory consumption\n",
      "  warnings.warn(\n",
      "C:\\Users\\ATeklesadik\\Miniconda3\\envs\\geo_env\\lib\\site-packages\\xgboost\\data.py:112: UserWarning: Use subset (sliced data) of np.ndarray is not recommended because it will generate extra copies and increase memory consumption\n",
      "  warnings.warn(\n"
     ]
    },
    {
     "name": "stdout",
     "output_type": "stream",
     "text": [
      "[CV 1/5; 1/2] END xgb__colsample_bytree=0.7, xgb__gamma=0.1, xgb__learning_rate=0.03, xgb__max_depth=6, xgb__n_estimators=50, xgb__reg_lambda=0.001;, score=(train=-4.617, test=-6.766) total time=   0.3s\n",
      "[CV 2/5; 1/2] START xgb__colsample_bytree=0.7, xgb__gamma=0.1, xgb__learning_rate=0.03, xgb__max_depth=6, xgb__n_estimators=50, xgb__reg_lambda=0.001\n"
     ]
    },
    {
     "name": "stderr",
     "output_type": "stream",
     "text": [
      "C:\\Users\\ATeklesadik\\Miniconda3\\envs\\geo_env\\lib\\site-packages\\xgboost\\data.py:112: UserWarning: Use subset (sliced data) of np.ndarray is not recommended because it will generate extra copies and increase memory consumption\n",
      "  warnings.warn(\n",
      "C:\\Users\\ATeklesadik\\Miniconda3\\envs\\geo_env\\lib\\site-packages\\xgboost\\data.py:112: UserWarning: Use subset (sliced data) of np.ndarray is not recommended because it will generate extra copies and increase memory consumption\n",
      "  warnings.warn(\n"
     ]
    },
    {
     "name": "stdout",
     "output_type": "stream",
     "text": [
      "[CV 2/5; 1/2] END xgb__colsample_bytree=0.7, xgb__gamma=0.1, xgb__learning_rate=0.03, xgb__max_depth=6, xgb__n_estimators=50, xgb__reg_lambda=0.001;, score=(train=-4.689, test=-5.147) total time=   0.4s\n",
      "[CV 3/5; 1/2] START xgb__colsample_bytree=0.7, xgb__gamma=0.1, xgb__learning_rate=0.03, xgb__max_depth=6, xgb__n_estimators=50, xgb__reg_lambda=0.001\n"
     ]
    },
    {
     "name": "stderr",
     "output_type": "stream",
     "text": [
      "C:\\Users\\ATeklesadik\\Miniconda3\\envs\\geo_env\\lib\\site-packages\\xgboost\\data.py:112: UserWarning: Use subset (sliced data) of np.ndarray is not recommended because it will generate extra copies and increase memory consumption\n",
      "  warnings.warn(\n",
      "C:\\Users\\ATeklesadik\\Miniconda3\\envs\\geo_env\\lib\\site-packages\\xgboost\\data.py:112: UserWarning: Use subset (sliced data) of np.ndarray is not recommended because it will generate extra copies and increase memory consumption\n",
      "  warnings.warn(\n"
     ]
    },
    {
     "name": "stdout",
     "output_type": "stream",
     "text": [
      "[CV 3/5; 1/2] END xgb__colsample_bytree=0.7, xgb__gamma=0.1, xgb__learning_rate=0.03, xgb__max_depth=6, xgb__n_estimators=50, xgb__reg_lambda=0.001;, score=(train=-4.591, test=-6.119) total time=   0.3s\n",
      "[CV 4/5; 1/2] START xgb__colsample_bytree=0.7, xgb__gamma=0.1, xgb__learning_rate=0.03, xgb__max_depth=6, xgb__n_estimators=50, xgb__reg_lambda=0.001\n"
     ]
    },
    {
     "name": "stderr",
     "output_type": "stream",
     "text": [
      "C:\\Users\\ATeklesadik\\Miniconda3\\envs\\geo_env\\lib\\site-packages\\xgboost\\data.py:112: UserWarning: Use subset (sliced data) of np.ndarray is not recommended because it will generate extra copies and increase memory consumption\n",
      "  warnings.warn(\n",
      "C:\\Users\\ATeklesadik\\Miniconda3\\envs\\geo_env\\lib\\site-packages\\xgboost\\data.py:112: UserWarning: Use subset (sliced data) of np.ndarray is not recommended because it will generate extra copies and increase memory consumption\n",
      "  warnings.warn(\n"
     ]
    },
    {
     "name": "stdout",
     "output_type": "stream",
     "text": [
      "[CV 4/5; 1/2] END xgb__colsample_bytree=0.7, xgb__gamma=0.1, xgb__learning_rate=0.03, xgb__max_depth=6, xgb__n_estimators=50, xgb__reg_lambda=0.001;, score=(train=-4.725, test=-5.829) total time=   0.3s\n",
      "[CV 5/5; 1/2] START xgb__colsample_bytree=0.7, xgb__gamma=0.1, xgb__learning_rate=0.03, xgb__max_depth=6, xgb__n_estimators=50, xgb__reg_lambda=0.001\n"
     ]
    },
    {
     "name": "stderr",
     "output_type": "stream",
     "text": [
      "C:\\Users\\ATeklesadik\\Miniconda3\\envs\\geo_env\\lib\\site-packages\\xgboost\\data.py:112: UserWarning: Use subset (sliced data) of np.ndarray is not recommended because it will generate extra copies and increase memory consumption\n",
      "  warnings.warn(\n",
      "C:\\Users\\ATeklesadik\\Miniconda3\\envs\\geo_env\\lib\\site-packages\\xgboost\\data.py:112: UserWarning: Use subset (sliced data) of np.ndarray is not recommended because it will generate extra copies and increase memory consumption\n",
      "  warnings.warn(\n"
     ]
    },
    {
     "name": "stdout",
     "output_type": "stream",
     "text": [
      "[CV 5/5; 1/2] END xgb__colsample_bytree=0.7, xgb__gamma=0.1, xgb__learning_rate=0.03, xgb__max_depth=6, xgb__n_estimators=50, xgb__reg_lambda=0.001;, score=(train=-4.545, test=-6.997) total time=   0.3s\n",
      "[CV 1/5; 2/2] START xgb__colsample_bytree=0.7, xgb__gamma=0.1, xgb__learning_rate=0.03, xgb__max_depth=8, xgb__n_estimators=50, xgb__reg_lambda=0.001\n"
     ]
    },
    {
     "name": "stderr",
     "output_type": "stream",
     "text": [
      "C:\\Users\\ATeklesadik\\Miniconda3\\envs\\geo_env\\lib\\site-packages\\xgboost\\data.py:112: UserWarning: Use subset (sliced data) of np.ndarray is not recommended because it will generate extra copies and increase memory consumption\n",
      "  warnings.warn(\n",
      "C:\\Users\\ATeklesadik\\Miniconda3\\envs\\geo_env\\lib\\site-packages\\xgboost\\data.py:112: UserWarning: Use subset (sliced data) of np.ndarray is not recommended because it will generate extra copies and increase memory consumption\n",
      "  warnings.warn(\n"
     ]
    },
    {
     "name": "stdout",
     "output_type": "stream",
     "text": [
      "[CV 1/5; 2/2] END xgb__colsample_bytree=0.7, xgb__gamma=0.1, xgb__learning_rate=0.03, xgb__max_depth=8, xgb__n_estimators=50, xgb__reg_lambda=0.001;, score=(train=-3.638, test=-6.701) total time=   0.5s\n",
      "[CV 2/5; 2/2] START xgb__colsample_bytree=0.7, xgb__gamma=0.1, xgb__learning_rate=0.03, xgb__max_depth=8, xgb__n_estimators=50, xgb__reg_lambda=0.001\n"
     ]
    },
    {
     "name": "stderr",
     "output_type": "stream",
     "text": [
      "C:\\Users\\ATeklesadik\\Miniconda3\\envs\\geo_env\\lib\\site-packages\\xgboost\\data.py:112: UserWarning: Use subset (sliced data) of np.ndarray is not recommended because it will generate extra copies and increase memory consumption\n",
      "  warnings.warn(\n",
      "C:\\Users\\ATeklesadik\\Miniconda3\\envs\\geo_env\\lib\\site-packages\\xgboost\\data.py:112: UserWarning: Use subset (sliced data) of np.ndarray is not recommended because it will generate extra copies and increase memory consumption\n",
      "  warnings.warn(\n"
     ]
    },
    {
     "name": "stdout",
     "output_type": "stream",
     "text": [
      "[CV 2/5; 2/2] END xgb__colsample_bytree=0.7, xgb__gamma=0.1, xgb__learning_rate=0.03, xgb__max_depth=8, xgb__n_estimators=50, xgb__reg_lambda=0.001;, score=(train=-3.691, test=-5.086) total time=   0.6s\n",
      "[CV 3/5; 2/2] START xgb__colsample_bytree=0.7, xgb__gamma=0.1, xgb__learning_rate=0.03, xgb__max_depth=8, xgb__n_estimators=50, xgb__reg_lambda=0.001\n"
     ]
    },
    {
     "name": "stderr",
     "output_type": "stream",
     "text": [
      "C:\\Users\\ATeklesadik\\Miniconda3\\envs\\geo_env\\lib\\site-packages\\xgboost\\data.py:112: UserWarning: Use subset (sliced data) of np.ndarray is not recommended because it will generate extra copies and increase memory consumption\n",
      "  warnings.warn(\n",
      "C:\\Users\\ATeklesadik\\Miniconda3\\envs\\geo_env\\lib\\site-packages\\xgboost\\data.py:112: UserWarning: Use subset (sliced data) of np.ndarray is not recommended because it will generate extra copies and increase memory consumption\n",
      "  warnings.warn(\n"
     ]
    },
    {
     "name": "stdout",
     "output_type": "stream",
     "text": [
      "[CV 3/5; 2/2] END xgb__colsample_bytree=0.7, xgb__gamma=0.1, xgb__learning_rate=0.03, xgb__max_depth=8, xgb__n_estimators=50, xgb__reg_lambda=0.001;, score=(train=-3.600, test=-6.014) total time=   0.6s\n",
      "[CV 4/5; 2/2] START xgb__colsample_bytree=0.7, xgb__gamma=0.1, xgb__learning_rate=0.03, xgb__max_depth=8, xgb__n_estimators=50, xgb__reg_lambda=0.001\n"
     ]
    },
    {
     "name": "stderr",
     "output_type": "stream",
     "text": [
      "C:\\Users\\ATeklesadik\\Miniconda3\\envs\\geo_env\\lib\\site-packages\\xgboost\\data.py:112: UserWarning: Use subset (sliced data) of np.ndarray is not recommended because it will generate extra copies and increase memory consumption\n",
      "  warnings.warn(\n",
      "C:\\Users\\ATeklesadik\\Miniconda3\\envs\\geo_env\\lib\\site-packages\\xgboost\\data.py:112: UserWarning: Use subset (sliced data) of np.ndarray is not recommended because it will generate extra copies and increase memory consumption\n",
      "  warnings.warn(\n"
     ]
    },
    {
     "name": "stdout",
     "output_type": "stream",
     "text": [
      "[CV 4/5; 2/2] END xgb__colsample_bytree=0.7, xgb__gamma=0.1, xgb__learning_rate=0.03, xgb__max_depth=8, xgb__n_estimators=50, xgb__reg_lambda=0.001;, score=(train=-3.765, test=-5.741) total time=   0.5s\n",
      "[CV 5/5; 2/2] START xgb__colsample_bytree=0.7, xgb__gamma=0.1, xgb__learning_rate=0.03, xgb__max_depth=8, xgb__n_estimators=50, xgb__reg_lambda=0.001\n"
     ]
    },
    {
     "name": "stderr",
     "output_type": "stream",
     "text": [
      "C:\\Users\\ATeklesadik\\Miniconda3\\envs\\geo_env\\lib\\site-packages\\xgboost\\data.py:112: UserWarning: Use subset (sliced data) of np.ndarray is not recommended because it will generate extra copies and increase memory consumption\n",
      "  warnings.warn(\n",
      "C:\\Users\\ATeklesadik\\Miniconda3\\envs\\geo_env\\lib\\site-packages\\xgboost\\data.py:112: UserWarning: Use subset (sliced data) of np.ndarray is not recommended because it will generate extra copies and increase memory consumption\n",
      "  warnings.warn(\n"
     ]
    },
    {
     "name": "stdout",
     "output_type": "stream",
     "text": [
      "[CV 5/5; 2/2] END xgb__colsample_bytree=0.7, xgb__gamma=0.1, xgb__learning_rate=0.03, xgb__max_depth=8, xgb__n_estimators=50, xgb__reg_lambda=0.001;, score=(train=-3.553, test=-6.954) total time=   0.6s\n"
     ]
    },
    {
     "name": "stderr",
     "output_type": "stream",
     "text": [
      "C:\\Users\\ATeklesadik\\Miniconda3\\envs\\geo_env\\lib\\site-packages\\xgboost\\data.py:112: UserWarning: Use subset (sliced data) of np.ndarray is not recommended because it will generate extra copies and increase memory consumption\n",
      "  warnings.warn(\n",
      "C:\\Users\\ATeklesadik\\Miniconda3\\envs\\geo_env\\lib\\site-packages\\sklearn\\model_selection\\_search.py:285: UserWarning: The total space of parameters 2 is smaller than n_iter=500. Running 2 iterations. For exhaustive searches, use GridSearchCV.\n",
      "  warnings.warn(\n"
     ]
    },
    {
     "name": "stdout",
     "output_type": "stream",
     "text": [
      "Selected Parameters {'xgb__reg_lambda': 0.001, 'xgb__n_estimators': 50, 'xgb__max_depth': 8, 'xgb__learning_rate': 0.03, 'xgb__gamma': 0.1, 'xgb__colsample_bytree': 0.7}\n",
      "Train score: 1.3612429743918841\n",
      "Test score: 1.0362376467589594\n",
      "Running for 19 out of a total of 39\n",
      "Fitting 5 folds for each of 2 candidates, totalling 10 fits\n",
      "[CV 1/5; 1/2] START xgb__colsample_bytree=0.7, xgb__gamma=0.1, xgb__learning_rate=0.03, xgb__max_depth=6, xgb__n_estimators=50, xgb__reg_lambda=0.001\n"
     ]
    },
    {
     "name": "stderr",
     "output_type": "stream",
     "text": [
      "C:\\Users\\ATeklesadik\\Miniconda3\\envs\\geo_env\\lib\\site-packages\\xgboost\\data.py:112: UserWarning: Use subset (sliced data) of np.ndarray is not recommended because it will generate extra copies and increase memory consumption\n",
      "  warnings.warn(\n",
      "C:\\Users\\ATeklesadik\\Miniconda3\\envs\\geo_env\\lib\\site-packages\\xgboost\\data.py:112: UserWarning: Use subset (sliced data) of np.ndarray is not recommended because it will generate extra copies and increase memory consumption\n",
      "  warnings.warn(\n"
     ]
    },
    {
     "name": "stdout",
     "output_type": "stream",
     "text": [
      "[CV 1/5; 1/2] END xgb__colsample_bytree=0.7, xgb__gamma=0.1, xgb__learning_rate=0.03, xgb__max_depth=6, xgb__n_estimators=50, xgb__reg_lambda=0.001;, score=(train=-4.728, test=-6.802) total time=   0.3s\n",
      "[CV 2/5; 1/2] START xgb__colsample_bytree=0.7, xgb__gamma=0.1, xgb__learning_rate=0.03, xgb__max_depth=6, xgb__n_estimators=50, xgb__reg_lambda=0.001\n"
     ]
    },
    {
     "name": "stderr",
     "output_type": "stream",
     "text": [
      "C:\\Users\\ATeklesadik\\Miniconda3\\envs\\geo_env\\lib\\site-packages\\xgboost\\data.py:112: UserWarning: Use subset (sliced data) of np.ndarray is not recommended because it will generate extra copies and increase memory consumption\n",
      "  warnings.warn(\n",
      "C:\\Users\\ATeklesadik\\Miniconda3\\envs\\geo_env\\lib\\site-packages\\xgboost\\data.py:112: UserWarning: Use subset (sliced data) of np.ndarray is not recommended because it will generate extra copies and increase memory consumption\n",
      "  warnings.warn(\n"
     ]
    },
    {
     "name": "stdout",
     "output_type": "stream",
     "text": [
      "[CV 2/5; 1/2] END xgb__colsample_bytree=0.7, xgb__gamma=0.1, xgb__learning_rate=0.03, xgb__max_depth=6, xgb__n_estimators=50, xgb__reg_lambda=0.001;, score=(train=-4.756, test=-5.938) total time=   0.3s\n",
      "[CV 3/5; 1/2] START xgb__colsample_bytree=0.7, xgb__gamma=0.1, xgb__learning_rate=0.03, xgb__max_depth=6, xgb__n_estimators=50, xgb__reg_lambda=0.001\n"
     ]
    },
    {
     "name": "stderr",
     "output_type": "stream",
     "text": [
      "C:\\Users\\ATeklesadik\\Miniconda3\\envs\\geo_env\\lib\\site-packages\\xgboost\\data.py:112: UserWarning: Use subset (sliced data) of np.ndarray is not recommended because it will generate extra copies and increase memory consumption\n",
      "  warnings.warn(\n",
      "C:\\Users\\ATeklesadik\\Miniconda3\\envs\\geo_env\\lib\\site-packages\\xgboost\\data.py:112: UserWarning: Use subset (sliced data) of np.ndarray is not recommended because it will generate extra copies and increase memory consumption\n",
      "  warnings.warn(\n"
     ]
    },
    {
     "name": "stdout",
     "output_type": "stream",
     "text": [
      "[CV 3/5; 1/2] END xgb__colsample_bytree=0.7, xgb__gamma=0.1, xgb__learning_rate=0.03, xgb__max_depth=6, xgb__n_estimators=50, xgb__reg_lambda=0.001;, score=(train=-4.755, test=-6.236) total time=   0.3s\n",
      "[CV 4/5; 1/2] START xgb__colsample_bytree=0.7, xgb__gamma=0.1, xgb__learning_rate=0.03, xgb__max_depth=6, xgb__n_estimators=50, xgb__reg_lambda=0.001\n"
     ]
    },
    {
     "name": "stderr",
     "output_type": "stream",
     "text": [
      "C:\\Users\\ATeklesadik\\Miniconda3\\envs\\geo_env\\lib\\site-packages\\xgboost\\data.py:112: UserWarning: Use subset (sliced data) of np.ndarray is not recommended because it will generate extra copies and increase memory consumption\n",
      "  warnings.warn(\n",
      "C:\\Users\\ATeklesadik\\Miniconda3\\envs\\geo_env\\lib\\site-packages\\xgboost\\data.py:112: UserWarning: Use subset (sliced data) of np.ndarray is not recommended because it will generate extra copies and increase memory consumption\n",
      "  warnings.warn(\n"
     ]
    },
    {
     "name": "stdout",
     "output_type": "stream",
     "text": [
      "[CV 4/5; 1/2] END xgb__colsample_bytree=0.7, xgb__gamma=0.1, xgb__learning_rate=0.03, xgb__max_depth=6, xgb__n_estimators=50, xgb__reg_lambda=0.001;, score=(train=-4.688, test=-5.810) total time=   0.4s\n",
      "[CV 5/5; 1/2] START xgb__colsample_bytree=0.7, xgb__gamma=0.1, xgb__learning_rate=0.03, xgb__max_depth=6, xgb__n_estimators=50, xgb__reg_lambda=0.001\n"
     ]
    },
    {
     "name": "stderr",
     "output_type": "stream",
     "text": [
      "C:\\Users\\ATeklesadik\\Miniconda3\\envs\\geo_env\\lib\\site-packages\\xgboost\\data.py:112: UserWarning: Use subset (sliced data) of np.ndarray is not recommended because it will generate extra copies and increase memory consumption\n",
      "  warnings.warn(\n",
      "C:\\Users\\ATeklesadik\\Miniconda3\\envs\\geo_env\\lib\\site-packages\\xgboost\\data.py:112: UserWarning: Use subset (sliced data) of np.ndarray is not recommended because it will generate extra copies and increase memory consumption\n",
      "  warnings.warn(\n"
     ]
    },
    {
     "name": "stdout",
     "output_type": "stream",
     "text": [
      "[CV 5/5; 1/2] END xgb__colsample_bytree=0.7, xgb__gamma=0.1, xgb__learning_rate=0.03, xgb__max_depth=6, xgb__n_estimators=50, xgb__reg_lambda=0.001;, score=(train=-4.630, test=-6.584) total time=   0.3s\n",
      "[CV 1/5; 2/2] START xgb__colsample_bytree=0.7, xgb__gamma=0.1, xgb__learning_rate=0.03, xgb__max_depth=8, xgb__n_estimators=50, xgb__reg_lambda=0.001\n"
     ]
    },
    {
     "name": "stderr",
     "output_type": "stream",
     "text": [
      "C:\\Users\\ATeklesadik\\Miniconda3\\envs\\geo_env\\lib\\site-packages\\xgboost\\data.py:112: UserWarning: Use subset (sliced data) of np.ndarray is not recommended because it will generate extra copies and increase memory consumption\n",
      "  warnings.warn(\n",
      "C:\\Users\\ATeklesadik\\Miniconda3\\envs\\geo_env\\lib\\site-packages\\xgboost\\data.py:112: UserWarning: Use subset (sliced data) of np.ndarray is not recommended because it will generate extra copies and increase memory consumption\n",
      "  warnings.warn(\n"
     ]
    },
    {
     "name": "stdout",
     "output_type": "stream",
     "text": [
      "[CV 1/5; 2/2] END xgb__colsample_bytree=0.7, xgb__gamma=0.1, xgb__learning_rate=0.03, xgb__max_depth=8, xgb__n_estimators=50, xgb__reg_lambda=0.001;, score=(train=-3.841, test=-6.604) total time=   0.5s\n",
      "[CV 2/5; 2/2] START xgb__colsample_bytree=0.7, xgb__gamma=0.1, xgb__learning_rate=0.03, xgb__max_depth=8, xgb__n_estimators=50, xgb__reg_lambda=0.001\n"
     ]
    },
    {
     "name": "stderr",
     "output_type": "stream",
     "text": [
      "C:\\Users\\ATeklesadik\\Miniconda3\\envs\\geo_env\\lib\\site-packages\\xgboost\\data.py:112: UserWarning: Use subset (sliced data) of np.ndarray is not recommended because it will generate extra copies and increase memory consumption\n",
      "  warnings.warn(\n",
      "C:\\Users\\ATeklesadik\\Miniconda3\\envs\\geo_env\\lib\\site-packages\\xgboost\\data.py:112: UserWarning: Use subset (sliced data) of np.ndarray is not recommended because it will generate extra copies and increase memory consumption\n",
      "  warnings.warn(\n"
     ]
    },
    {
     "name": "stdout",
     "output_type": "stream",
     "text": [
      "[CV 2/5; 2/2] END xgb__colsample_bytree=0.7, xgb__gamma=0.1, xgb__learning_rate=0.03, xgb__max_depth=8, xgb__n_estimators=50, xgb__reg_lambda=0.001;, score=(train=-3.863, test=-5.944) total time=   0.5s\n",
      "[CV 3/5; 2/2] START xgb__colsample_bytree=0.7, xgb__gamma=0.1, xgb__learning_rate=0.03, xgb__max_depth=8, xgb__n_estimators=50, xgb__reg_lambda=0.001\n"
     ]
    },
    {
     "name": "stderr",
     "output_type": "stream",
     "text": [
      "C:\\Users\\ATeklesadik\\Miniconda3\\envs\\geo_env\\lib\\site-packages\\xgboost\\data.py:112: UserWarning: Use subset (sliced data) of np.ndarray is not recommended because it will generate extra copies and increase memory consumption\n",
      "  warnings.warn(\n",
      "C:\\Users\\ATeklesadik\\Miniconda3\\envs\\geo_env\\lib\\site-packages\\xgboost\\data.py:112: UserWarning: Use subset (sliced data) of np.ndarray is not recommended because it will generate extra copies and increase memory consumption\n",
      "  warnings.warn(\n"
     ]
    },
    {
     "name": "stdout",
     "output_type": "stream",
     "text": [
      "[CV 3/5; 2/2] END xgb__colsample_bytree=0.7, xgb__gamma=0.1, xgb__learning_rate=0.03, xgb__max_depth=8, xgb__n_estimators=50, xgb__reg_lambda=0.001;, score=(train=-3.727, test=-6.279) total time=   0.6s\n",
      "[CV 4/5; 2/2] START xgb__colsample_bytree=0.7, xgb__gamma=0.1, xgb__learning_rate=0.03, xgb__max_depth=8, xgb__n_estimators=50, xgb__reg_lambda=0.001\n"
     ]
    },
    {
     "name": "stderr",
     "output_type": "stream",
     "text": [
      "C:\\Users\\ATeklesadik\\Miniconda3\\envs\\geo_env\\lib\\site-packages\\xgboost\\data.py:112: UserWarning: Use subset (sliced data) of np.ndarray is not recommended because it will generate extra copies and increase memory consumption\n",
      "  warnings.warn(\n",
      "C:\\Users\\ATeklesadik\\Miniconda3\\envs\\geo_env\\lib\\site-packages\\xgboost\\data.py:112: UserWarning: Use subset (sliced data) of np.ndarray is not recommended because it will generate extra copies and increase memory consumption\n",
      "  warnings.warn(\n"
     ]
    },
    {
     "name": "stdout",
     "output_type": "stream",
     "text": [
      "[CV 4/5; 2/2] END xgb__colsample_bytree=0.7, xgb__gamma=0.1, xgb__learning_rate=0.03, xgb__max_depth=8, xgb__n_estimators=50, xgb__reg_lambda=0.001;, score=(train=-3.685, test=-5.778) total time=   0.5s\n",
      "[CV 5/5; 2/2] START xgb__colsample_bytree=0.7, xgb__gamma=0.1, xgb__learning_rate=0.03, xgb__max_depth=8, xgb__n_estimators=50, xgb__reg_lambda=0.001\n"
     ]
    },
    {
     "name": "stderr",
     "output_type": "stream",
     "text": [
      "C:\\Users\\ATeklesadik\\Miniconda3\\envs\\geo_env\\lib\\site-packages\\xgboost\\data.py:112: UserWarning: Use subset (sliced data) of np.ndarray is not recommended because it will generate extra copies and increase memory consumption\n",
      "  warnings.warn(\n",
      "C:\\Users\\ATeklesadik\\Miniconda3\\envs\\geo_env\\lib\\site-packages\\xgboost\\data.py:112: UserWarning: Use subset (sliced data) of np.ndarray is not recommended because it will generate extra copies and increase memory consumption\n",
      "  warnings.warn(\n"
     ]
    },
    {
     "name": "stdout",
     "output_type": "stream",
     "text": [
      "[CV 5/5; 2/2] END xgb__colsample_bytree=0.7, xgb__gamma=0.1, xgb__learning_rate=0.03, xgb__max_depth=8, xgb__n_estimators=50, xgb__reg_lambda=0.001;, score=(train=-3.682, test=-6.610) total time=   0.5s\n"
     ]
    },
    {
     "name": "stderr",
     "output_type": "stream",
     "text": [
      "C:\\Users\\ATeklesadik\\Miniconda3\\envs\\geo_env\\lib\\site-packages\\xgboost\\data.py:112: UserWarning: Use subset (sliced data) of np.ndarray is not recommended because it will generate extra copies and increase memory consumption\n",
      "  warnings.warn(\n",
      "C:\\Users\\ATeklesadik\\Miniconda3\\envs\\geo_env\\lib\\site-packages\\sklearn\\model_selection\\_search.py:285: UserWarning: The total space of parameters 2 is smaller than n_iter=500. Running 2 iterations. For exhaustive searches, use GridSearchCV.\n",
      "  warnings.warn(\n"
     ]
    },
    {
     "name": "stdout",
     "output_type": "stream",
     "text": [
      "Selected Parameters {'xgb__reg_lambda': 0.001, 'xgb__n_estimators': 50, 'xgb__max_depth': 8, 'xgb__learning_rate': 0.03, 'xgb__gamma': 0.1, 'xgb__colsample_bytree': 0.7}\n",
      "Train score: 1.380727771713044\n",
      "Test score: 1.8653690201047803\n",
      "Running for 20 out of a total of 39\n",
      "Fitting 5 folds for each of 2 candidates, totalling 10 fits\n",
      "[CV 1/5; 1/2] START xgb__colsample_bytree=0.7, xgb__gamma=0.1, xgb__learning_rate=0.03, xgb__max_depth=6, xgb__n_estimators=50, xgb__reg_lambda=0.001\n"
     ]
    },
    {
     "name": "stderr",
     "output_type": "stream",
     "text": [
      "C:\\Users\\ATeklesadik\\Miniconda3\\envs\\geo_env\\lib\\site-packages\\xgboost\\data.py:112: UserWarning: Use subset (sliced data) of np.ndarray is not recommended because it will generate extra copies and increase memory consumption\n",
      "  warnings.warn(\n",
      "C:\\Users\\ATeklesadik\\Miniconda3\\envs\\geo_env\\lib\\site-packages\\xgboost\\data.py:112: UserWarning: Use subset (sliced data) of np.ndarray is not recommended because it will generate extra copies and increase memory consumption\n",
      "  warnings.warn(\n"
     ]
    },
    {
     "name": "stdout",
     "output_type": "stream",
     "text": [
      "[CV 1/5; 1/2] END xgb__colsample_bytree=0.7, xgb__gamma=0.1, xgb__learning_rate=0.03, xgb__max_depth=6, xgb__n_estimators=50, xgb__reg_lambda=0.001;, score=(train=-4.768, test=-5.648) total time=   0.4s\n",
      "[CV 2/5; 1/2] START xgb__colsample_bytree=0.7, xgb__gamma=0.1, xgb__learning_rate=0.03, xgb__max_depth=6, xgb__n_estimators=50, xgb__reg_lambda=0.001\n"
     ]
    },
    {
     "name": "stderr",
     "output_type": "stream",
     "text": [
      "C:\\Users\\ATeklesadik\\Miniconda3\\envs\\geo_env\\lib\\site-packages\\xgboost\\data.py:112: UserWarning: Use subset (sliced data) of np.ndarray is not recommended because it will generate extra copies and increase memory consumption\n",
      "  warnings.warn(\n",
      "C:\\Users\\ATeklesadik\\Miniconda3\\envs\\geo_env\\lib\\site-packages\\xgboost\\data.py:112: UserWarning: Use subset (sliced data) of np.ndarray is not recommended because it will generate extra copies and increase memory consumption\n",
      "  warnings.warn(\n"
     ]
    },
    {
     "name": "stdout",
     "output_type": "stream",
     "text": [
      "[CV 2/5; 1/2] END xgb__colsample_bytree=0.7, xgb__gamma=0.1, xgb__learning_rate=0.03, xgb__max_depth=6, xgb__n_estimators=50, xgb__reg_lambda=0.001;, score=(train=-4.545, test=-6.667) total time=   0.3s\n",
      "[CV 3/5; 1/2] START xgb__colsample_bytree=0.7, xgb__gamma=0.1, xgb__learning_rate=0.03, xgb__max_depth=6, xgb__n_estimators=50, xgb__reg_lambda=0.001\n"
     ]
    },
    {
     "name": "stderr",
     "output_type": "stream",
     "text": [
      "C:\\Users\\ATeklesadik\\Miniconda3\\envs\\geo_env\\lib\\site-packages\\xgboost\\data.py:112: UserWarning: Use subset (sliced data) of np.ndarray is not recommended because it will generate extra copies and increase memory consumption\n",
      "  warnings.warn(\n",
      "C:\\Users\\ATeklesadik\\Miniconda3\\envs\\geo_env\\lib\\site-packages\\xgboost\\data.py:112: UserWarning: Use subset (sliced data) of np.ndarray is not recommended because it will generate extra copies and increase memory consumption\n",
      "  warnings.warn(\n"
     ]
    },
    {
     "name": "stdout",
     "output_type": "stream",
     "text": [
      "[CV 3/5; 1/2] END xgb__colsample_bytree=0.7, xgb__gamma=0.1, xgb__learning_rate=0.03, xgb__max_depth=6, xgb__n_estimators=50, xgb__reg_lambda=0.001;, score=(train=-4.631, test=-6.781) total time=   0.3s\n",
      "[CV 4/5; 1/2] START xgb__colsample_bytree=0.7, xgb__gamma=0.1, xgb__learning_rate=0.03, xgb__max_depth=6, xgb__n_estimators=50, xgb__reg_lambda=0.001\n"
     ]
    },
    {
     "name": "stderr",
     "output_type": "stream",
     "text": [
      "C:\\Users\\ATeklesadik\\Miniconda3\\envs\\geo_env\\lib\\site-packages\\xgboost\\data.py:112: UserWarning: Use subset (sliced data) of np.ndarray is not recommended because it will generate extra copies and increase memory consumption\n",
      "  warnings.warn(\n",
      "C:\\Users\\ATeklesadik\\Miniconda3\\envs\\geo_env\\lib\\site-packages\\xgboost\\data.py:112: UserWarning: Use subset (sliced data) of np.ndarray is not recommended because it will generate extra copies and increase memory consumption\n",
      "  warnings.warn(\n"
     ]
    },
    {
     "name": "stdout",
     "output_type": "stream",
     "text": [
      "[CV 4/5; 1/2] END xgb__colsample_bytree=0.7, xgb__gamma=0.1, xgb__learning_rate=0.03, xgb__max_depth=6, xgb__n_estimators=50, xgb__reg_lambda=0.001;, score=(train=-4.915, test=-5.125) total time=   0.3s\n",
      "[CV 5/5; 1/2] START xgb__colsample_bytree=0.7, xgb__gamma=0.1, xgb__learning_rate=0.03, xgb__max_depth=6, xgb__n_estimators=50, xgb__reg_lambda=0.001\n"
     ]
    },
    {
     "name": "stderr",
     "output_type": "stream",
     "text": [
      "C:\\Users\\ATeklesadik\\Miniconda3\\envs\\geo_env\\lib\\site-packages\\xgboost\\data.py:112: UserWarning: Use subset (sliced data) of np.ndarray is not recommended because it will generate extra copies and increase memory consumption\n",
      "  warnings.warn(\n",
      "C:\\Users\\ATeklesadik\\Miniconda3\\envs\\geo_env\\lib\\site-packages\\xgboost\\data.py:112: UserWarning: Use subset (sliced data) of np.ndarray is not recommended because it will generate extra copies and increase memory consumption\n",
      "  warnings.warn(\n"
     ]
    },
    {
     "name": "stdout",
     "output_type": "stream",
     "text": [
      "[CV 5/5; 1/2] END xgb__colsample_bytree=0.7, xgb__gamma=0.1, xgb__learning_rate=0.03, xgb__max_depth=6, xgb__n_estimators=50, xgb__reg_lambda=0.001;, score=(train=-4.574, test=-6.704) total time=   0.3s\n",
      "[CV 1/5; 2/2] START xgb__colsample_bytree=0.7, xgb__gamma=0.1, xgb__learning_rate=0.03, xgb__max_depth=8, xgb__n_estimators=50, xgb__reg_lambda=0.001\n"
     ]
    },
    {
     "name": "stderr",
     "output_type": "stream",
     "text": [
      "C:\\Users\\ATeklesadik\\Miniconda3\\envs\\geo_env\\lib\\site-packages\\xgboost\\data.py:112: UserWarning: Use subset (sliced data) of np.ndarray is not recommended because it will generate extra copies and increase memory consumption\n",
      "  warnings.warn(\n",
      "C:\\Users\\ATeklesadik\\Miniconda3\\envs\\geo_env\\lib\\site-packages\\xgboost\\data.py:112: UserWarning: Use subset (sliced data) of np.ndarray is not recommended because it will generate extra copies and increase memory consumption\n",
      "  warnings.warn(\n"
     ]
    },
    {
     "name": "stdout",
     "output_type": "stream",
     "text": [
      "[CV 1/5; 2/2] END xgb__colsample_bytree=0.7, xgb__gamma=0.1, xgb__learning_rate=0.03, xgb__max_depth=8, xgb__n_estimators=50, xgb__reg_lambda=0.001;, score=(train=-3.813, test=-5.559) total time=   0.6s\n",
      "[CV 2/5; 2/2] START xgb__colsample_bytree=0.7, xgb__gamma=0.1, xgb__learning_rate=0.03, xgb__max_depth=8, xgb__n_estimators=50, xgb__reg_lambda=0.001\n"
     ]
    },
    {
     "name": "stderr",
     "output_type": "stream",
     "text": [
      "C:\\Users\\ATeklesadik\\Miniconda3\\envs\\geo_env\\lib\\site-packages\\xgboost\\data.py:112: UserWarning: Use subset (sliced data) of np.ndarray is not recommended because it will generate extra copies and increase memory consumption\n",
      "  warnings.warn(\n",
      "C:\\Users\\ATeklesadik\\Miniconda3\\envs\\geo_env\\lib\\site-packages\\xgboost\\data.py:112: UserWarning: Use subset (sliced data) of np.ndarray is not recommended because it will generate extra copies and increase memory consumption\n",
      "  warnings.warn(\n"
     ]
    },
    {
     "name": "stdout",
     "output_type": "stream",
     "text": [
      "[CV 2/5; 2/2] END xgb__colsample_bytree=0.7, xgb__gamma=0.1, xgb__learning_rate=0.03, xgb__max_depth=8, xgb__n_estimators=50, xgb__reg_lambda=0.001;, score=(train=-3.601, test=-6.610) total time=   0.5s\n",
      "[CV 3/5; 2/2] START xgb__colsample_bytree=0.7, xgb__gamma=0.1, xgb__learning_rate=0.03, xgb__max_depth=8, xgb__n_estimators=50, xgb__reg_lambda=0.001\n"
     ]
    },
    {
     "name": "stderr",
     "output_type": "stream",
     "text": [
      "C:\\Users\\ATeklesadik\\Miniconda3\\envs\\geo_env\\lib\\site-packages\\xgboost\\data.py:112: UserWarning: Use subset (sliced data) of np.ndarray is not recommended because it will generate extra copies and increase memory consumption\n",
      "  warnings.warn(\n",
      "C:\\Users\\ATeklesadik\\Miniconda3\\envs\\geo_env\\lib\\site-packages\\xgboost\\data.py:112: UserWarning: Use subset (sliced data) of np.ndarray is not recommended because it will generate extra copies and increase memory consumption\n",
      "  warnings.warn(\n"
     ]
    },
    {
     "name": "stdout",
     "output_type": "stream",
     "text": [
      "[CV 3/5; 2/2] END xgb__colsample_bytree=0.7, xgb__gamma=0.1, xgb__learning_rate=0.03, xgb__max_depth=8, xgb__n_estimators=50, xgb__reg_lambda=0.001;, score=(train=-3.738, test=-6.600) total time=   0.5s\n",
      "[CV 4/5; 2/2] START xgb__colsample_bytree=0.7, xgb__gamma=0.1, xgb__learning_rate=0.03, xgb__max_depth=8, xgb__n_estimators=50, xgb__reg_lambda=0.001\n"
     ]
    },
    {
     "name": "stderr",
     "output_type": "stream",
     "text": [
      "C:\\Users\\ATeklesadik\\Miniconda3\\envs\\geo_env\\lib\\site-packages\\xgboost\\data.py:112: UserWarning: Use subset (sliced data) of np.ndarray is not recommended because it will generate extra copies and increase memory consumption\n",
      "  warnings.warn(\n",
      "C:\\Users\\ATeklesadik\\Miniconda3\\envs\\geo_env\\lib\\site-packages\\xgboost\\data.py:112: UserWarning: Use subset (sliced data) of np.ndarray is not recommended because it will generate extra copies and increase memory consumption\n",
      "  warnings.warn(\n"
     ]
    },
    {
     "name": "stdout",
     "output_type": "stream",
     "text": [
      "[CV 4/5; 2/2] END xgb__colsample_bytree=0.7, xgb__gamma=0.1, xgb__learning_rate=0.03, xgb__max_depth=8, xgb__n_estimators=50, xgb__reg_lambda=0.001;, score=(train=-3.897, test=-5.216) total time=   0.5s\n",
      "[CV 5/5; 2/2] START xgb__colsample_bytree=0.7, xgb__gamma=0.1, xgb__learning_rate=0.03, xgb__max_depth=8, xgb__n_estimators=50, xgb__reg_lambda=0.001\n"
     ]
    },
    {
     "name": "stderr",
     "output_type": "stream",
     "text": [
      "C:\\Users\\ATeklesadik\\Miniconda3\\envs\\geo_env\\lib\\site-packages\\xgboost\\data.py:112: UserWarning: Use subset (sliced data) of np.ndarray is not recommended because it will generate extra copies and increase memory consumption\n",
      "  warnings.warn(\n",
      "C:\\Users\\ATeklesadik\\Miniconda3\\envs\\geo_env\\lib\\site-packages\\xgboost\\data.py:112: UserWarning: Use subset (sliced data) of np.ndarray is not recommended because it will generate extra copies and increase memory consumption\n",
      "  warnings.warn(\n"
     ]
    },
    {
     "name": "stdout",
     "output_type": "stream",
     "text": [
      "[CV 5/5; 2/2] END xgb__colsample_bytree=0.7, xgb__gamma=0.1, xgb__learning_rate=0.03, xgb__max_depth=8, xgb__n_estimators=50, xgb__reg_lambda=0.001;, score=(train=-3.544, test=-6.785) total time=   0.6s\n"
     ]
    },
    {
     "name": "stderr",
     "output_type": "stream",
     "text": [
      "C:\\Users\\ATeklesadik\\Miniconda3\\envs\\geo_env\\lib\\site-packages\\xgboost\\data.py:112: UserWarning: Use subset (sliced data) of np.ndarray is not recommended because it will generate extra copies and increase memory consumption\n",
      "  warnings.warn(\n",
      "C:\\Users\\ATeklesadik\\Miniconda3\\envs\\geo_env\\lib\\site-packages\\sklearn\\model_selection\\_search.py:285: UserWarning: The total space of parameters 2 is smaller than n_iter=500. Running 2 iterations. For exhaustive searches, use GridSearchCV.\n",
      "  warnings.warn(\n"
     ]
    },
    {
     "name": "stdout",
     "output_type": "stream",
     "text": [
      "Selected Parameters {'xgb__reg_lambda': 0.001, 'xgb__n_estimators': 50, 'xgb__max_depth': 8, 'xgb__learning_rate': 0.03, 'xgb__gamma': 0.1, 'xgb__colsample_bytree': 0.7}\n",
      "Train score: 1.4029826208070184\n",
      "Test score: 0.7911281845935817\n",
      "Running for 21 out of a total of 39\n",
      "Fitting 5 folds for each of 2 candidates, totalling 10 fits\n",
      "[CV 1/5; 1/2] START xgb__colsample_bytree=0.7, xgb__gamma=0.1, xgb__learning_rate=0.03, xgb__max_depth=6, xgb__n_estimators=50, xgb__reg_lambda=0.001\n"
     ]
    },
    {
     "name": "stderr",
     "output_type": "stream",
     "text": [
      "C:\\Users\\ATeklesadik\\Miniconda3\\envs\\geo_env\\lib\\site-packages\\xgboost\\data.py:112: UserWarning: Use subset (sliced data) of np.ndarray is not recommended because it will generate extra copies and increase memory consumption\n",
      "  warnings.warn(\n",
      "C:\\Users\\ATeklesadik\\Miniconda3\\envs\\geo_env\\lib\\site-packages\\xgboost\\data.py:112: UserWarning: Use subset (sliced data) of np.ndarray is not recommended because it will generate extra copies and increase memory consumption\n",
      "  warnings.warn(\n"
     ]
    },
    {
     "name": "stdout",
     "output_type": "stream",
     "text": [
      "[CV 1/5; 1/2] END xgb__colsample_bytree=0.7, xgb__gamma=0.1, xgb__learning_rate=0.03, xgb__max_depth=6, xgb__n_estimators=50, xgb__reg_lambda=0.001;, score=(train=-4.451, test=-5.724) total time=   0.3s\n",
      "[CV 2/5; 1/2] START xgb__colsample_bytree=0.7, xgb__gamma=0.1, xgb__learning_rate=0.03, xgb__max_depth=6, xgb__n_estimators=50, xgb__reg_lambda=0.001\n"
     ]
    },
    {
     "name": "stderr",
     "output_type": "stream",
     "text": [
      "C:\\Users\\ATeklesadik\\Miniconda3\\envs\\geo_env\\lib\\site-packages\\xgboost\\data.py:112: UserWarning: Use subset (sliced data) of np.ndarray is not recommended because it will generate extra copies and increase memory consumption\n",
      "  warnings.warn(\n",
      "C:\\Users\\ATeklesadik\\Miniconda3\\envs\\geo_env\\lib\\site-packages\\xgboost\\data.py:112: UserWarning: Use subset (sliced data) of np.ndarray is not recommended because it will generate extra copies and increase memory consumption\n",
      "  warnings.warn(\n"
     ]
    },
    {
     "name": "stdout",
     "output_type": "stream",
     "text": [
      "[CV 2/5; 1/2] END xgb__colsample_bytree=0.7, xgb__gamma=0.1, xgb__learning_rate=0.03, xgb__max_depth=6, xgb__n_estimators=50, xgb__reg_lambda=0.001;, score=(train=-4.410, test=-6.839) total time=   0.3s\n",
      "[CV 3/5; 1/2] START xgb__colsample_bytree=0.7, xgb__gamma=0.1, xgb__learning_rate=0.03, xgb__max_depth=6, xgb__n_estimators=50, xgb__reg_lambda=0.001\n"
     ]
    },
    {
     "name": "stderr",
     "output_type": "stream",
     "text": [
      "C:\\Users\\ATeklesadik\\Miniconda3\\envs\\geo_env\\lib\\site-packages\\xgboost\\data.py:112: UserWarning: Use subset (sliced data) of np.ndarray is not recommended because it will generate extra copies and increase memory consumption\n",
      "  warnings.warn(\n",
      "C:\\Users\\ATeklesadik\\Miniconda3\\envs\\geo_env\\lib\\site-packages\\xgboost\\data.py:112: UserWarning: Use subset (sliced data) of np.ndarray is not recommended because it will generate extra copies and increase memory consumption\n",
      "  warnings.warn(\n"
     ]
    },
    {
     "name": "stdout",
     "output_type": "stream",
     "text": [
      "[CV 3/5; 1/2] END xgb__colsample_bytree=0.7, xgb__gamma=0.1, xgb__learning_rate=0.03, xgb__max_depth=6, xgb__n_estimators=50, xgb__reg_lambda=0.001;, score=(train=-4.497, test=-5.677) total time=   0.4s\n",
      "[CV 4/5; 1/2] START xgb__colsample_bytree=0.7, xgb__gamma=0.1, xgb__learning_rate=0.03, xgb__max_depth=6, xgb__n_estimators=50, xgb__reg_lambda=0.001\n"
     ]
    },
    {
     "name": "stderr",
     "output_type": "stream",
     "text": [
      "C:\\Users\\ATeklesadik\\Miniconda3\\envs\\geo_env\\lib\\site-packages\\xgboost\\data.py:112: UserWarning: Use subset (sliced data) of np.ndarray is not recommended because it will generate extra copies and increase memory consumption\n",
      "  warnings.warn(\n",
      "C:\\Users\\ATeklesadik\\Miniconda3\\envs\\geo_env\\lib\\site-packages\\xgboost\\data.py:112: UserWarning: Use subset (sliced data) of np.ndarray is not recommended because it will generate extra copies and increase memory consumption\n",
      "  warnings.warn(\n"
     ]
    },
    {
     "name": "stdout",
     "output_type": "stream",
     "text": [
      "[CV 4/5; 1/2] END xgb__colsample_bytree=0.7, xgb__gamma=0.1, xgb__learning_rate=0.03, xgb__max_depth=6, xgb__n_estimators=50, xgb__reg_lambda=0.001;, score=(train=-4.509, test=-5.939) total time=   0.3s\n",
      "[CV 5/5; 1/2] START xgb__colsample_bytree=0.7, xgb__gamma=0.1, xgb__learning_rate=0.03, xgb__max_depth=6, xgb__n_estimators=50, xgb__reg_lambda=0.001\n"
     ]
    },
    {
     "name": "stderr",
     "output_type": "stream",
     "text": [
      "C:\\Users\\ATeklesadik\\Miniconda3\\envs\\geo_env\\lib\\site-packages\\xgboost\\data.py:112: UserWarning: Use subset (sliced data) of np.ndarray is not recommended because it will generate extra copies and increase memory consumption\n",
      "  warnings.warn(\n",
      "C:\\Users\\ATeklesadik\\Miniconda3\\envs\\geo_env\\lib\\site-packages\\xgboost\\data.py:112: UserWarning: Use subset (sliced data) of np.ndarray is not recommended because it will generate extra copies and increase memory consumption\n",
      "  warnings.warn(\n"
     ]
    },
    {
     "name": "stdout",
     "output_type": "stream",
     "text": [
      "[CV 5/5; 1/2] END xgb__colsample_bytree=0.7, xgb__gamma=0.1, xgb__learning_rate=0.03, xgb__max_depth=6, xgb__n_estimators=50, xgb__reg_lambda=0.001;, score=(train=-4.526, test=-5.385) total time=   0.3s\n",
      "[CV 1/5; 2/2] START xgb__colsample_bytree=0.7, xgb__gamma=0.1, xgb__learning_rate=0.03, xgb__max_depth=8, xgb__n_estimators=50, xgb__reg_lambda=0.001\n"
     ]
    },
    {
     "name": "stderr",
     "output_type": "stream",
     "text": [
      "C:\\Users\\ATeklesadik\\Miniconda3\\envs\\geo_env\\lib\\site-packages\\xgboost\\data.py:112: UserWarning: Use subset (sliced data) of np.ndarray is not recommended because it will generate extra copies and increase memory consumption\n",
      "  warnings.warn(\n",
      "C:\\Users\\ATeklesadik\\Miniconda3\\envs\\geo_env\\lib\\site-packages\\xgboost\\data.py:112: UserWarning: Use subset (sliced data) of np.ndarray is not recommended because it will generate extra copies and increase memory consumption\n",
      "  warnings.warn(\n"
     ]
    },
    {
     "name": "stdout",
     "output_type": "stream",
     "text": [
      "[CV 1/5; 2/2] END xgb__colsample_bytree=0.7, xgb__gamma=0.1, xgb__learning_rate=0.03, xgb__max_depth=8, xgb__n_estimators=50, xgb__reg_lambda=0.001;, score=(train=-3.631, test=-5.673) total time=   0.5s\n",
      "[CV 2/5; 2/2] START xgb__colsample_bytree=0.7, xgb__gamma=0.1, xgb__learning_rate=0.03, xgb__max_depth=8, xgb__n_estimators=50, xgb__reg_lambda=0.001\n"
     ]
    },
    {
     "name": "stderr",
     "output_type": "stream",
     "text": [
      "C:\\Users\\ATeklesadik\\Miniconda3\\envs\\geo_env\\lib\\site-packages\\xgboost\\data.py:112: UserWarning: Use subset (sliced data) of np.ndarray is not recommended because it will generate extra copies and increase memory consumption\n",
      "  warnings.warn(\n",
      "C:\\Users\\ATeklesadik\\Miniconda3\\envs\\geo_env\\lib\\site-packages\\xgboost\\data.py:112: UserWarning: Use subset (sliced data) of np.ndarray is not recommended because it will generate extra copies and increase memory consumption\n",
      "  warnings.warn(\n"
     ]
    },
    {
     "name": "stdout",
     "output_type": "stream",
     "text": [
      "[CV 2/5; 2/2] END xgb__colsample_bytree=0.7, xgb__gamma=0.1, xgb__learning_rate=0.03, xgb__max_depth=8, xgb__n_estimators=50, xgb__reg_lambda=0.001;, score=(train=-3.530, test=-6.863) total time=   0.5s\n",
      "[CV 3/5; 2/2] START xgb__colsample_bytree=0.7, xgb__gamma=0.1, xgb__learning_rate=0.03, xgb__max_depth=8, xgb__n_estimators=50, xgb__reg_lambda=0.001\n"
     ]
    },
    {
     "name": "stderr",
     "output_type": "stream",
     "text": [
      "C:\\Users\\ATeklesadik\\Miniconda3\\envs\\geo_env\\lib\\site-packages\\xgboost\\data.py:112: UserWarning: Use subset (sliced data) of np.ndarray is not recommended because it will generate extra copies and increase memory consumption\n",
      "  warnings.warn(\n",
      "C:\\Users\\ATeklesadik\\Miniconda3\\envs\\geo_env\\lib\\site-packages\\xgboost\\data.py:112: UserWarning: Use subset (sliced data) of np.ndarray is not recommended because it will generate extra copies and increase memory consumption\n",
      "  warnings.warn(\n"
     ]
    },
    {
     "name": "stdout",
     "output_type": "stream",
     "text": [
      "[CV 3/5; 2/2] END xgb__colsample_bytree=0.7, xgb__gamma=0.1, xgb__learning_rate=0.03, xgb__max_depth=8, xgb__n_estimators=50, xgb__reg_lambda=0.001;, score=(train=-3.547, test=-5.704) total time=   0.6s\n",
      "[CV 4/5; 2/2] START xgb__colsample_bytree=0.7, xgb__gamma=0.1, xgb__learning_rate=0.03, xgb__max_depth=8, xgb__n_estimators=50, xgb__reg_lambda=0.001\n"
     ]
    },
    {
     "name": "stderr",
     "output_type": "stream",
     "text": [
      "C:\\Users\\ATeklesadik\\Miniconda3\\envs\\geo_env\\lib\\site-packages\\xgboost\\data.py:112: UserWarning: Use subset (sliced data) of np.ndarray is not recommended because it will generate extra copies and increase memory consumption\n",
      "  warnings.warn(\n",
      "C:\\Users\\ATeklesadik\\Miniconda3\\envs\\geo_env\\lib\\site-packages\\xgboost\\data.py:112: UserWarning: Use subset (sliced data) of np.ndarray is not recommended because it will generate extra copies and increase memory consumption\n",
      "  warnings.warn(\n"
     ]
    },
    {
     "name": "stdout",
     "output_type": "stream",
     "text": [
      "[CV 4/5; 2/2] END xgb__colsample_bytree=0.7, xgb__gamma=0.1, xgb__learning_rate=0.03, xgb__max_depth=8, xgb__n_estimators=50, xgb__reg_lambda=0.001;, score=(train=-3.619, test=-5.827) total time=   0.5s\n",
      "[CV 5/5; 2/2] START xgb__colsample_bytree=0.7, xgb__gamma=0.1, xgb__learning_rate=0.03, xgb__max_depth=8, xgb__n_estimators=50, xgb__reg_lambda=0.001\n"
     ]
    },
    {
     "name": "stderr",
     "output_type": "stream",
     "text": [
      "C:\\Users\\ATeklesadik\\Miniconda3\\envs\\geo_env\\lib\\site-packages\\xgboost\\data.py:112: UserWarning: Use subset (sliced data) of np.ndarray is not recommended because it will generate extra copies and increase memory consumption\n",
      "  warnings.warn(\n",
      "C:\\Users\\ATeklesadik\\Miniconda3\\envs\\geo_env\\lib\\site-packages\\xgboost\\data.py:112: UserWarning: Use subset (sliced data) of np.ndarray is not recommended because it will generate extra copies and increase memory consumption\n",
      "  warnings.warn(\n"
     ]
    },
    {
     "name": "stdout",
     "output_type": "stream",
     "text": [
      "[CV 5/5; 2/2] END xgb__colsample_bytree=0.7, xgb__gamma=0.1, xgb__learning_rate=0.03, xgb__max_depth=8, xgb__n_estimators=50, xgb__reg_lambda=0.001;, score=(train=-3.622, test=-5.300) total time=   0.5s\n"
     ]
    },
    {
     "name": "stderr",
     "output_type": "stream",
     "text": [
      "C:\\Users\\ATeklesadik\\Miniconda3\\envs\\geo_env\\lib\\site-packages\\xgboost\\data.py:112: UserWarning: Use subset (sliced data) of np.ndarray is not recommended because it will generate extra copies and increase memory consumption\n",
      "  warnings.warn(\n",
      "C:\\Users\\ATeklesadik\\Miniconda3\\envs\\geo_env\\lib\\site-packages\\sklearn\\model_selection\\_search.py:285: UserWarning: The total space of parameters 2 is smaller than n_iter=500. Running 2 iterations. For exhaustive searches, use GridSearchCV.\n",
      "  warnings.warn(\n"
     ]
    },
    {
     "name": "stdout",
     "output_type": "stream",
     "text": [
      "Selected Parameters {'xgb__reg_lambda': 0.001, 'xgb__n_estimators': 50, 'xgb__max_depth': 8, 'xgb__learning_rate': 0.03, 'xgb__gamma': 0.1, 'xgb__colsample_bytree': 0.7}\n",
      "Train score: 1.3075971583873895\n",
      "Test score: 5.716772915789136\n",
      "Running for 22 out of a total of 39\n",
      "Fitting 5 folds for each of 2 candidates, totalling 10 fits\n",
      "[CV 1/5; 1/2] START xgb__colsample_bytree=0.7, xgb__gamma=0.1, xgb__learning_rate=0.03, xgb__max_depth=6, xgb__n_estimators=50, xgb__reg_lambda=0.001\n"
     ]
    },
    {
     "name": "stderr",
     "output_type": "stream",
     "text": [
      "C:\\Users\\ATeklesadik\\Miniconda3\\envs\\geo_env\\lib\\site-packages\\xgboost\\data.py:112: UserWarning: Use subset (sliced data) of np.ndarray is not recommended because it will generate extra copies and increase memory consumption\n",
      "  warnings.warn(\n",
      "C:\\Users\\ATeklesadik\\Miniconda3\\envs\\geo_env\\lib\\site-packages\\xgboost\\data.py:112: UserWarning: Use subset (sliced data) of np.ndarray is not recommended because it will generate extra copies and increase memory consumption\n",
      "  warnings.warn(\n"
     ]
    },
    {
     "name": "stdout",
     "output_type": "stream",
     "text": [
      "[CV 1/5; 1/2] END xgb__colsample_bytree=0.7, xgb__gamma=0.1, xgb__learning_rate=0.03, xgb__max_depth=6, xgb__n_estimators=50, xgb__reg_lambda=0.001;, score=(train=-4.455, test=-7.574) total time=   0.3s\n",
      "[CV 2/5; 1/2] START xgb__colsample_bytree=0.7, xgb__gamma=0.1, xgb__learning_rate=0.03, xgb__max_depth=6, xgb__n_estimators=50, xgb__reg_lambda=0.001\n"
     ]
    },
    {
     "name": "stderr",
     "output_type": "stream",
     "text": [
      "C:\\Users\\ATeklesadik\\Miniconda3\\envs\\geo_env\\lib\\site-packages\\xgboost\\data.py:112: UserWarning: Use subset (sliced data) of np.ndarray is not recommended because it will generate extra copies and increase memory consumption\n",
      "  warnings.warn(\n",
      "C:\\Users\\ATeklesadik\\Miniconda3\\envs\\geo_env\\lib\\site-packages\\xgboost\\data.py:112: UserWarning: Use subset (sliced data) of np.ndarray is not recommended because it will generate extra copies and increase memory consumption\n",
      "  warnings.warn(\n"
     ]
    },
    {
     "name": "stdout",
     "output_type": "stream",
     "text": [
      "[CV 2/5; 1/2] END xgb__colsample_bytree=0.7, xgb__gamma=0.1, xgb__learning_rate=0.03, xgb__max_depth=6, xgb__n_estimators=50, xgb__reg_lambda=0.001;, score=(train=-4.632, test=-5.841) total time=   0.3s\n",
      "[CV 3/5; 1/2] START xgb__colsample_bytree=0.7, xgb__gamma=0.1, xgb__learning_rate=0.03, xgb__max_depth=6, xgb__n_estimators=50, xgb__reg_lambda=0.001\n"
     ]
    },
    {
     "name": "stderr",
     "output_type": "stream",
     "text": [
      "C:\\Users\\ATeklesadik\\Miniconda3\\envs\\geo_env\\lib\\site-packages\\xgboost\\data.py:112: UserWarning: Use subset (sliced data) of np.ndarray is not recommended because it will generate extra copies and increase memory consumption\n",
      "  warnings.warn(\n",
      "C:\\Users\\ATeklesadik\\Miniconda3\\envs\\geo_env\\lib\\site-packages\\xgboost\\data.py:112: UserWarning: Use subset (sliced data) of np.ndarray is not recommended because it will generate extra copies and increase memory consumption\n",
      "  warnings.warn(\n"
     ]
    },
    {
     "name": "stdout",
     "output_type": "stream",
     "text": [
      "[CV 3/5; 1/2] END xgb__colsample_bytree=0.7, xgb__gamma=0.1, xgb__learning_rate=0.03, xgb__max_depth=6, xgb__n_estimators=50, xgb__reg_lambda=0.001;, score=(train=-4.769, test=-5.622) total time=   0.3s\n",
      "[CV 4/5; 1/2] START xgb__colsample_bytree=0.7, xgb__gamma=0.1, xgb__learning_rate=0.03, xgb__max_depth=6, xgb__n_estimators=50, xgb__reg_lambda=0.001\n"
     ]
    },
    {
     "name": "stderr",
     "output_type": "stream",
     "text": [
      "C:\\Users\\ATeklesadik\\Miniconda3\\envs\\geo_env\\lib\\site-packages\\xgboost\\data.py:112: UserWarning: Use subset (sliced data) of np.ndarray is not recommended because it will generate extra copies and increase memory consumption\n",
      "  warnings.warn(\n",
      "C:\\Users\\ATeklesadik\\Miniconda3\\envs\\geo_env\\lib\\site-packages\\xgboost\\data.py:112: UserWarning: Use subset (sliced data) of np.ndarray is not recommended because it will generate extra copies and increase memory consumption\n",
      "  warnings.warn(\n"
     ]
    },
    {
     "name": "stdout",
     "output_type": "stream",
     "text": [
      "[CV 4/5; 1/2] END xgb__colsample_bytree=0.7, xgb__gamma=0.1, xgb__learning_rate=0.03, xgb__max_depth=6, xgb__n_estimators=50, xgb__reg_lambda=0.001;, score=(train=-4.569, test=-6.273) total time=   0.3s\n",
      "[CV 5/5; 1/2] START xgb__colsample_bytree=0.7, xgb__gamma=0.1, xgb__learning_rate=0.03, xgb__max_depth=6, xgb__n_estimators=50, xgb__reg_lambda=0.001\n"
     ]
    },
    {
     "name": "stderr",
     "output_type": "stream",
     "text": [
      "C:\\Users\\ATeklesadik\\Miniconda3\\envs\\geo_env\\lib\\site-packages\\xgboost\\data.py:112: UserWarning: Use subset (sliced data) of np.ndarray is not recommended because it will generate extra copies and increase memory consumption\n",
      "  warnings.warn(\n",
      "C:\\Users\\ATeklesadik\\Miniconda3\\envs\\geo_env\\lib\\site-packages\\xgboost\\data.py:112: UserWarning: Use subset (sliced data) of np.ndarray is not recommended because it will generate extra copies and increase memory consumption\n",
      "  warnings.warn(\n"
     ]
    },
    {
     "name": "stdout",
     "output_type": "stream",
     "text": [
      "[CV 5/5; 1/2] END xgb__colsample_bytree=0.7, xgb__gamma=0.1, xgb__learning_rate=0.03, xgb__max_depth=6, xgb__n_estimators=50, xgb__reg_lambda=0.001;, score=(train=-4.681, test=-5.124) total time=   0.4s\n",
      "[CV 1/5; 2/2] START xgb__colsample_bytree=0.7, xgb__gamma=0.1, xgb__learning_rate=0.03, xgb__max_depth=8, xgb__n_estimators=50, xgb__reg_lambda=0.001\n"
     ]
    },
    {
     "name": "stderr",
     "output_type": "stream",
     "text": [
      "C:\\Users\\ATeklesadik\\Miniconda3\\envs\\geo_env\\lib\\site-packages\\xgboost\\data.py:112: UserWarning: Use subset (sliced data) of np.ndarray is not recommended because it will generate extra copies and increase memory consumption\n",
      "  warnings.warn(\n",
      "C:\\Users\\ATeklesadik\\Miniconda3\\envs\\geo_env\\lib\\site-packages\\xgboost\\data.py:112: UserWarning: Use subset (sliced data) of np.ndarray is not recommended because it will generate extra copies and increase memory consumption\n",
      "  warnings.warn(\n"
     ]
    },
    {
     "name": "stdout",
     "output_type": "stream",
     "text": [
      "[CV 1/5; 2/2] END xgb__colsample_bytree=0.7, xgb__gamma=0.1, xgb__learning_rate=0.03, xgb__max_depth=8, xgb__n_estimators=50, xgb__reg_lambda=0.001;, score=(train=-3.593, test=-7.494) total time=   0.6s\n",
      "[CV 2/5; 2/2] START xgb__colsample_bytree=0.7, xgb__gamma=0.1, xgb__learning_rate=0.03, xgb__max_depth=8, xgb__n_estimators=50, xgb__reg_lambda=0.001\n"
     ]
    },
    {
     "name": "stderr",
     "output_type": "stream",
     "text": [
      "C:\\Users\\ATeklesadik\\Miniconda3\\envs\\geo_env\\lib\\site-packages\\xgboost\\data.py:112: UserWarning: Use subset (sliced data) of np.ndarray is not recommended because it will generate extra copies and increase memory consumption\n",
      "  warnings.warn(\n",
      "C:\\Users\\ATeklesadik\\Miniconda3\\envs\\geo_env\\lib\\site-packages\\xgboost\\data.py:112: UserWarning: Use subset (sliced data) of np.ndarray is not recommended because it will generate extra copies and increase memory consumption\n",
      "  warnings.warn(\n"
     ]
    },
    {
     "name": "stdout",
     "output_type": "stream",
     "text": [
      "[CV 2/5; 2/2] END xgb__colsample_bytree=0.7, xgb__gamma=0.1, xgb__learning_rate=0.03, xgb__max_depth=8, xgb__n_estimators=50, xgb__reg_lambda=0.001;, score=(train=-3.687, test=-5.696) total time=   0.5s\n",
      "[CV 3/5; 2/2] START xgb__colsample_bytree=0.7, xgb__gamma=0.1, xgb__learning_rate=0.03, xgb__max_depth=8, xgb__n_estimators=50, xgb__reg_lambda=0.001\n"
     ]
    },
    {
     "name": "stderr",
     "output_type": "stream",
     "text": [
      "C:\\Users\\ATeklesadik\\Miniconda3\\envs\\geo_env\\lib\\site-packages\\xgboost\\data.py:112: UserWarning: Use subset (sliced data) of np.ndarray is not recommended because it will generate extra copies and increase memory consumption\n",
      "  warnings.warn(\n",
      "C:\\Users\\ATeklesadik\\Miniconda3\\envs\\geo_env\\lib\\site-packages\\xgboost\\data.py:112: UserWarning: Use subset (sliced data) of np.ndarray is not recommended because it will generate extra copies and increase memory consumption\n",
      "  warnings.warn(\n"
     ]
    },
    {
     "name": "stdout",
     "output_type": "stream",
     "text": [
      "[CV 3/5; 2/2] END xgb__colsample_bytree=0.7, xgb__gamma=0.1, xgb__learning_rate=0.03, xgb__max_depth=8, xgb__n_estimators=50, xgb__reg_lambda=0.001;, score=(train=-3.776, test=-5.529) total time=   0.5s\n",
      "[CV 4/5; 2/2] START xgb__colsample_bytree=0.7, xgb__gamma=0.1, xgb__learning_rate=0.03, xgb__max_depth=8, xgb__n_estimators=50, xgb__reg_lambda=0.001\n"
     ]
    },
    {
     "name": "stderr",
     "output_type": "stream",
     "text": [
      "C:\\Users\\ATeklesadik\\Miniconda3\\envs\\geo_env\\lib\\site-packages\\xgboost\\data.py:112: UserWarning: Use subset (sliced data) of np.ndarray is not recommended because it will generate extra copies and increase memory consumption\n",
      "  warnings.warn(\n",
      "C:\\Users\\ATeklesadik\\Miniconda3\\envs\\geo_env\\lib\\site-packages\\xgboost\\data.py:112: UserWarning: Use subset (sliced data) of np.ndarray is not recommended because it will generate extra copies and increase memory consumption\n",
      "  warnings.warn(\n"
     ]
    },
    {
     "name": "stdout",
     "output_type": "stream",
     "text": [
      "[CV 4/5; 2/2] END xgb__colsample_bytree=0.7, xgb__gamma=0.1, xgb__learning_rate=0.03, xgb__max_depth=8, xgb__n_estimators=50, xgb__reg_lambda=0.001;, score=(train=-3.608, test=-6.181) total time=   0.6s\n",
      "[CV 5/5; 2/2] START xgb__colsample_bytree=0.7, xgb__gamma=0.1, xgb__learning_rate=0.03, xgb__max_depth=8, xgb__n_estimators=50, xgb__reg_lambda=0.001\n"
     ]
    },
    {
     "name": "stderr",
     "output_type": "stream",
     "text": [
      "C:\\Users\\ATeklesadik\\Miniconda3\\envs\\geo_env\\lib\\site-packages\\xgboost\\data.py:112: UserWarning: Use subset (sliced data) of np.ndarray is not recommended because it will generate extra copies and increase memory consumption\n",
      "  warnings.warn(\n",
      "C:\\Users\\ATeklesadik\\Miniconda3\\envs\\geo_env\\lib\\site-packages\\xgboost\\data.py:112: UserWarning: Use subset (sliced data) of np.ndarray is not recommended because it will generate extra copies and increase memory consumption\n",
      "  warnings.warn(\n"
     ]
    },
    {
     "name": "stdout",
     "output_type": "stream",
     "text": [
      "[CV 5/5; 2/2] END xgb__colsample_bytree=0.7, xgb__gamma=0.1, xgb__learning_rate=0.03, xgb__max_depth=8, xgb__n_estimators=50, xgb__reg_lambda=0.001;, score=(train=-3.618, test=-5.117) total time=   0.6s\n"
     ]
    },
    {
     "name": "stderr",
     "output_type": "stream",
     "text": [
      "C:\\Users\\ATeklesadik\\Miniconda3\\envs\\geo_env\\lib\\site-packages\\xgboost\\data.py:112: UserWarning: Use subset (sliced data) of np.ndarray is not recommended because it will generate extra copies and increase memory consumption\n",
      "  warnings.warn(\n",
      "C:\\Users\\ATeklesadik\\Miniconda3\\envs\\geo_env\\lib\\site-packages\\sklearn\\model_selection\\_search.py:285: UserWarning: The total space of parameters 2 is smaller than n_iter=500. Running 2 iterations. For exhaustive searches, use GridSearchCV.\n",
      "  warnings.warn(\n"
     ]
    },
    {
     "name": "stdout",
     "output_type": "stream",
     "text": [
      "Selected Parameters {'xgb__reg_lambda': 0.001, 'xgb__n_estimators': 50, 'xgb__max_depth': 8, 'xgb__learning_rate': 0.03, 'xgb__gamma': 0.1, 'xgb__colsample_bytree': 0.7}\n",
      "Train score: 1.3560259933492824\n",
      "Test score: 1.5038342997027336\n",
      "Running for 23 out of a total of 39\n",
      "Fitting 5 folds for each of 2 candidates, totalling 10 fits\n",
      "[CV 1/5; 1/2] START xgb__colsample_bytree=0.7, xgb__gamma=0.1, xgb__learning_rate=0.03, xgb__max_depth=6, xgb__n_estimators=50, xgb__reg_lambda=0.001\n"
     ]
    },
    {
     "name": "stderr",
     "output_type": "stream",
     "text": [
      "C:\\Users\\ATeklesadik\\Miniconda3\\envs\\geo_env\\lib\\site-packages\\xgboost\\data.py:112: UserWarning: Use subset (sliced data) of np.ndarray is not recommended because it will generate extra copies and increase memory consumption\n",
      "  warnings.warn(\n",
      "C:\\Users\\ATeklesadik\\Miniconda3\\envs\\geo_env\\lib\\site-packages\\xgboost\\data.py:112: UserWarning: Use subset (sliced data) of np.ndarray is not recommended because it will generate extra copies and increase memory consumption\n",
      "  warnings.warn(\n"
     ]
    },
    {
     "name": "stdout",
     "output_type": "stream",
     "text": [
      "[CV 1/5; 1/2] END xgb__colsample_bytree=0.7, xgb__gamma=0.1, xgb__learning_rate=0.03, xgb__max_depth=6, xgb__n_estimators=50, xgb__reg_lambda=0.001;, score=(train=-4.549, test=-6.641) total time=   0.3s\n",
      "[CV 2/5; 1/2] START xgb__colsample_bytree=0.7, xgb__gamma=0.1, xgb__learning_rate=0.03, xgb__max_depth=6, xgb__n_estimators=50, xgb__reg_lambda=0.001\n"
     ]
    },
    {
     "name": "stderr",
     "output_type": "stream",
     "text": [
      "C:\\Users\\ATeklesadik\\Miniconda3\\envs\\geo_env\\lib\\site-packages\\xgboost\\data.py:112: UserWarning: Use subset (sliced data) of np.ndarray is not recommended because it will generate extra copies and increase memory consumption\n",
      "  warnings.warn(\n",
      "C:\\Users\\ATeklesadik\\Miniconda3\\envs\\geo_env\\lib\\site-packages\\xgboost\\data.py:112: UserWarning: Use subset (sliced data) of np.ndarray is not recommended because it will generate extra copies and increase memory consumption\n",
      "  warnings.warn(\n"
     ]
    },
    {
     "name": "stdout",
     "output_type": "stream",
     "text": [
      "[CV 2/5; 1/2] END xgb__colsample_bytree=0.7, xgb__gamma=0.1, xgb__learning_rate=0.03, xgb__max_depth=6, xgb__n_estimators=50, xgb__reg_lambda=0.001;, score=(train=-4.803, test=-6.181) total time=   0.4s\n",
      "[CV 3/5; 1/2] START xgb__colsample_bytree=0.7, xgb__gamma=0.1, xgb__learning_rate=0.03, xgb__max_depth=6, xgb__n_estimators=50, xgb__reg_lambda=0.001\n"
     ]
    },
    {
     "name": "stderr",
     "output_type": "stream",
     "text": [
      "C:\\Users\\ATeklesadik\\Miniconda3\\envs\\geo_env\\lib\\site-packages\\xgboost\\data.py:112: UserWarning: Use subset (sliced data) of np.ndarray is not recommended because it will generate extra copies and increase memory consumption\n",
      "  warnings.warn(\n",
      "C:\\Users\\ATeklesadik\\Miniconda3\\envs\\geo_env\\lib\\site-packages\\xgboost\\data.py:112: UserWarning: Use subset (sliced data) of np.ndarray is not recommended because it will generate extra copies and increase memory consumption\n",
      "  warnings.warn(\n"
     ]
    },
    {
     "name": "stdout",
     "output_type": "stream",
     "text": [
      "[CV 3/5; 1/2] END xgb__colsample_bytree=0.7, xgb__gamma=0.1, xgb__learning_rate=0.03, xgb__max_depth=6, xgb__n_estimators=50, xgb__reg_lambda=0.001;, score=(train=-4.654, test=-5.556) total time=   0.3s\n",
      "[CV 4/5; 1/2] START xgb__colsample_bytree=0.7, xgb__gamma=0.1, xgb__learning_rate=0.03, xgb__max_depth=6, xgb__n_estimators=50, xgb__reg_lambda=0.001\n"
     ]
    },
    {
     "name": "stderr",
     "output_type": "stream",
     "text": [
      "C:\\Users\\ATeklesadik\\Miniconda3\\envs\\geo_env\\lib\\site-packages\\xgboost\\data.py:112: UserWarning: Use subset (sliced data) of np.ndarray is not recommended because it will generate extra copies and increase memory consumption\n",
      "  warnings.warn(\n",
      "C:\\Users\\ATeklesadik\\Miniconda3\\envs\\geo_env\\lib\\site-packages\\xgboost\\data.py:112: UserWarning: Use subset (sliced data) of np.ndarray is not recommended because it will generate extra copies and increase memory consumption\n",
      "  warnings.warn(\n"
     ]
    },
    {
     "name": "stdout",
     "output_type": "stream",
     "text": [
      "[CV 4/5; 1/2] END xgb__colsample_bytree=0.7, xgb__gamma=0.1, xgb__learning_rate=0.03, xgb__max_depth=6, xgb__n_estimators=50, xgb__reg_lambda=0.001;, score=(train=-4.711, test=-6.573) total time=   0.3s\n",
      "[CV 5/5; 1/2] START xgb__colsample_bytree=0.7, xgb__gamma=0.1, xgb__learning_rate=0.03, xgb__max_depth=6, xgb__n_estimators=50, xgb__reg_lambda=0.001\n"
     ]
    },
    {
     "name": "stderr",
     "output_type": "stream",
     "text": [
      "C:\\Users\\ATeklesadik\\Miniconda3\\envs\\geo_env\\lib\\site-packages\\xgboost\\data.py:112: UserWarning: Use subset (sliced data) of np.ndarray is not recommended because it will generate extra copies and increase memory consumption\n",
      "  warnings.warn(\n",
      "C:\\Users\\ATeklesadik\\Miniconda3\\envs\\geo_env\\lib\\site-packages\\xgboost\\data.py:112: UserWarning: Use subset (sliced data) of np.ndarray is not recommended because it will generate extra copies and increase memory consumption\n",
      "  warnings.warn(\n"
     ]
    },
    {
     "name": "stdout",
     "output_type": "stream",
     "text": [
      "[CV 5/5; 1/2] END xgb__colsample_bytree=0.7, xgb__gamma=0.1, xgb__learning_rate=0.03, xgb__max_depth=6, xgb__n_estimators=50, xgb__reg_lambda=0.001;, score=(train=-4.752, test=-5.533) total time=   0.3s\n",
      "[CV 1/5; 2/2] START xgb__colsample_bytree=0.7, xgb__gamma=0.1, xgb__learning_rate=0.03, xgb__max_depth=8, xgb__n_estimators=50, xgb__reg_lambda=0.001\n"
     ]
    },
    {
     "name": "stderr",
     "output_type": "stream",
     "text": [
      "C:\\Users\\ATeklesadik\\Miniconda3\\envs\\geo_env\\lib\\site-packages\\xgboost\\data.py:112: UserWarning: Use subset (sliced data) of np.ndarray is not recommended because it will generate extra copies and increase memory consumption\n",
      "  warnings.warn(\n",
      "C:\\Users\\ATeklesadik\\Miniconda3\\envs\\geo_env\\lib\\site-packages\\xgboost\\data.py:112: UserWarning: Use subset (sliced data) of np.ndarray is not recommended because it will generate extra copies and increase memory consumption\n",
      "  warnings.warn(\n"
     ]
    },
    {
     "name": "stdout",
     "output_type": "stream",
     "text": [
      "[CV 1/5; 2/2] END xgb__colsample_bytree=0.7, xgb__gamma=0.1, xgb__learning_rate=0.03, xgb__max_depth=8, xgb__n_estimators=50, xgb__reg_lambda=0.001;, score=(train=-3.623, test=-6.513) total time=   0.5s\n",
      "[CV 2/5; 2/2] START xgb__colsample_bytree=0.7, xgb__gamma=0.1, xgb__learning_rate=0.03, xgb__max_depth=8, xgb__n_estimators=50, xgb__reg_lambda=0.001\n"
     ]
    },
    {
     "name": "stderr",
     "output_type": "stream",
     "text": [
      "C:\\Users\\ATeklesadik\\Miniconda3\\envs\\geo_env\\lib\\site-packages\\xgboost\\data.py:112: UserWarning: Use subset (sliced data) of np.ndarray is not recommended because it will generate extra copies and increase memory consumption\n",
      "  warnings.warn(\n",
      "C:\\Users\\ATeklesadik\\Miniconda3\\envs\\geo_env\\lib\\site-packages\\xgboost\\data.py:112: UserWarning: Use subset (sliced data) of np.ndarray is not recommended because it will generate extra copies and increase memory consumption\n",
      "  warnings.warn(\n"
     ]
    },
    {
     "name": "stdout",
     "output_type": "stream",
     "text": [
      "[CV 2/5; 2/2] END xgb__colsample_bytree=0.7, xgb__gamma=0.1, xgb__learning_rate=0.03, xgb__max_depth=8, xgb__n_estimators=50, xgb__reg_lambda=0.001;, score=(train=-3.858, test=-6.174) total time=   0.5s\n",
      "[CV 3/5; 2/2] START xgb__colsample_bytree=0.7, xgb__gamma=0.1, xgb__learning_rate=0.03, xgb__max_depth=8, xgb__n_estimators=50, xgb__reg_lambda=0.001\n"
     ]
    },
    {
     "name": "stderr",
     "output_type": "stream",
     "text": [
      "C:\\Users\\ATeklesadik\\Miniconda3\\envs\\geo_env\\lib\\site-packages\\xgboost\\data.py:112: UserWarning: Use subset (sliced data) of np.ndarray is not recommended because it will generate extra copies and increase memory consumption\n",
      "  warnings.warn(\n",
      "C:\\Users\\ATeklesadik\\Miniconda3\\envs\\geo_env\\lib\\site-packages\\xgboost\\data.py:112: UserWarning: Use subset (sliced data) of np.ndarray is not recommended because it will generate extra copies and increase memory consumption\n",
      "  warnings.warn(\n"
     ]
    },
    {
     "name": "stdout",
     "output_type": "stream",
     "text": [
      "[CV 3/5; 2/2] END xgb__colsample_bytree=0.7, xgb__gamma=0.1, xgb__learning_rate=0.03, xgb__max_depth=8, xgb__n_estimators=50, xgb__reg_lambda=0.001;, score=(train=-3.632, test=-5.458) total time=   0.5s\n",
      "[CV 4/5; 2/2] START xgb__colsample_bytree=0.7, xgb__gamma=0.1, xgb__learning_rate=0.03, xgb__max_depth=8, xgb__n_estimators=50, xgb__reg_lambda=0.001\n"
     ]
    },
    {
     "name": "stderr",
     "output_type": "stream",
     "text": [
      "C:\\Users\\ATeklesadik\\Miniconda3\\envs\\geo_env\\lib\\site-packages\\xgboost\\data.py:112: UserWarning: Use subset (sliced data) of np.ndarray is not recommended because it will generate extra copies and increase memory consumption\n",
      "  warnings.warn(\n",
      "C:\\Users\\ATeklesadik\\Miniconda3\\envs\\geo_env\\lib\\site-packages\\xgboost\\data.py:112: UserWarning: Use subset (sliced data) of np.ndarray is not recommended because it will generate extra copies and increase memory consumption\n",
      "  warnings.warn(\n"
     ]
    },
    {
     "name": "stdout",
     "output_type": "stream",
     "text": [
      "[CV 4/5; 2/2] END xgb__colsample_bytree=0.7, xgb__gamma=0.1, xgb__learning_rate=0.03, xgb__max_depth=8, xgb__n_estimators=50, xgb__reg_lambda=0.001;, score=(train=-3.770, test=-6.540) total time=   0.5s\n",
      "[CV 5/5; 2/2] START xgb__colsample_bytree=0.7, xgb__gamma=0.1, xgb__learning_rate=0.03, xgb__max_depth=8, xgb__n_estimators=50, xgb__reg_lambda=0.001\n"
     ]
    },
    {
     "name": "stderr",
     "output_type": "stream",
     "text": [
      "C:\\Users\\ATeklesadik\\Miniconda3\\envs\\geo_env\\lib\\site-packages\\xgboost\\data.py:112: UserWarning: Use subset (sliced data) of np.ndarray is not recommended because it will generate extra copies and increase memory consumption\n",
      "  warnings.warn(\n",
      "C:\\Users\\ATeklesadik\\Miniconda3\\envs\\geo_env\\lib\\site-packages\\xgboost\\data.py:112: UserWarning: Use subset (sliced data) of np.ndarray is not recommended because it will generate extra copies and increase memory consumption\n",
      "  warnings.warn(\n"
     ]
    },
    {
     "name": "stdout",
     "output_type": "stream",
     "text": [
      "[CV 5/5; 2/2] END xgb__colsample_bytree=0.7, xgb__gamma=0.1, xgb__learning_rate=0.03, xgb__max_depth=8, xgb__n_estimators=50, xgb__reg_lambda=0.001;, score=(train=-3.671, test=-5.473) total time=   0.6s\n"
     ]
    },
    {
     "name": "stderr",
     "output_type": "stream",
     "text": [
      "C:\\Users\\ATeklesadik\\Miniconda3\\envs\\geo_env\\lib\\site-packages\\xgboost\\data.py:112: UserWarning: Use subset (sliced data) of np.ndarray is not recommended because it will generate extra copies and increase memory consumption\n",
      "  warnings.warn(\n",
      "C:\\Users\\ATeklesadik\\Miniconda3\\envs\\geo_env\\lib\\site-packages\\sklearn\\model_selection\\_search.py:285: UserWarning: The total space of parameters 2 is smaller than n_iter=500. Running 2 iterations. For exhaustive searches, use GridSearchCV.\n",
      "  warnings.warn(\n"
     ]
    },
    {
     "name": "stdout",
     "output_type": "stream",
     "text": [
      "Selected Parameters {'xgb__reg_lambda': 0.001, 'xgb__n_estimators': 50, 'xgb__max_depth': 8, 'xgb__learning_rate': 0.03, 'xgb__gamma': 0.1, 'xgb__colsample_bytree': 0.7}\n",
      "Train score: 1.350020692588724\n",
      "Test score: 1.6907861871318355\n",
      "Running for 24 out of a total of 39\n",
      "Fitting 5 folds for each of 2 candidates, totalling 10 fits\n",
      "[CV 1/5; 1/2] START xgb__colsample_bytree=0.7, xgb__gamma=0.1, xgb__learning_rate=0.03, xgb__max_depth=6, xgb__n_estimators=50, xgb__reg_lambda=0.001\n"
     ]
    },
    {
     "name": "stderr",
     "output_type": "stream",
     "text": [
      "C:\\Users\\ATeklesadik\\Miniconda3\\envs\\geo_env\\lib\\site-packages\\xgboost\\data.py:112: UserWarning: Use subset (sliced data) of np.ndarray is not recommended because it will generate extra copies and increase memory consumption\n",
      "  warnings.warn(\n",
      "C:\\Users\\ATeklesadik\\Miniconda3\\envs\\geo_env\\lib\\site-packages\\xgboost\\data.py:112: UserWarning: Use subset (sliced data) of np.ndarray is not recommended because it will generate extra copies and increase memory consumption\n",
      "  warnings.warn(\n"
     ]
    },
    {
     "name": "stdout",
     "output_type": "stream",
     "text": [
      "[CV 1/5; 1/2] END xgb__colsample_bytree=0.7, xgb__gamma=0.1, xgb__learning_rate=0.03, xgb__max_depth=6, xgb__n_estimators=50, xgb__reg_lambda=0.001;, score=(train=-4.545, test=-5.804) total time=   0.3s\n",
      "[CV 2/5; 1/2] START xgb__colsample_bytree=0.7, xgb__gamma=0.1, xgb__learning_rate=0.03, xgb__max_depth=6, xgb__n_estimators=50, xgb__reg_lambda=0.001\n"
     ]
    },
    {
     "name": "stderr",
     "output_type": "stream",
     "text": [
      "C:\\Users\\ATeklesadik\\Miniconda3\\envs\\geo_env\\lib\\site-packages\\xgboost\\data.py:112: UserWarning: Use subset (sliced data) of np.ndarray is not recommended because it will generate extra copies and increase memory consumption\n",
      "  warnings.warn(\n",
      "C:\\Users\\ATeklesadik\\Miniconda3\\envs\\geo_env\\lib\\site-packages\\xgboost\\data.py:112: UserWarning: Use subset (sliced data) of np.ndarray is not recommended because it will generate extra copies and increase memory consumption\n",
      "  warnings.warn(\n"
     ]
    },
    {
     "name": "stdout",
     "output_type": "stream",
     "text": [
      "[CV 2/5; 1/2] END xgb__colsample_bytree=0.7, xgb__gamma=0.1, xgb__learning_rate=0.03, xgb__max_depth=6, xgb__n_estimators=50, xgb__reg_lambda=0.001;, score=(train=-4.699, test=-5.898) total time=   0.3s\n",
      "[CV 3/5; 1/2] START xgb__colsample_bytree=0.7, xgb__gamma=0.1, xgb__learning_rate=0.03, xgb__max_depth=6, xgb__n_estimators=50, xgb__reg_lambda=0.001\n"
     ]
    },
    {
     "name": "stderr",
     "output_type": "stream",
     "text": [
      "C:\\Users\\ATeklesadik\\Miniconda3\\envs\\geo_env\\lib\\site-packages\\xgboost\\data.py:112: UserWarning: Use subset (sliced data) of np.ndarray is not recommended because it will generate extra copies and increase memory consumption\n",
      "  warnings.warn(\n",
      "C:\\Users\\ATeklesadik\\Miniconda3\\envs\\geo_env\\lib\\site-packages\\xgboost\\data.py:112: UserWarning: Use subset (sliced data) of np.ndarray is not recommended because it will generate extra copies and increase memory consumption\n",
      "  warnings.warn(\n"
     ]
    },
    {
     "name": "stdout",
     "output_type": "stream",
     "text": [
      "[CV 3/5; 1/2] END xgb__colsample_bytree=0.7, xgb__gamma=0.1, xgb__learning_rate=0.03, xgb__max_depth=6, xgb__n_estimators=50, xgb__reg_lambda=0.001;, score=(train=-4.850, test=-5.880) total time=   0.3s\n",
      "[CV 4/5; 1/2] START xgb__colsample_bytree=0.7, xgb__gamma=0.1, xgb__learning_rate=0.03, xgb__max_depth=6, xgb__n_estimators=50, xgb__reg_lambda=0.001\n"
     ]
    },
    {
     "name": "stderr",
     "output_type": "stream",
     "text": [
      "C:\\Users\\ATeklesadik\\Miniconda3\\envs\\geo_env\\lib\\site-packages\\xgboost\\data.py:112: UserWarning: Use subset (sliced data) of np.ndarray is not recommended because it will generate extra copies and increase memory consumption\n",
      "  warnings.warn(\n",
      "C:\\Users\\ATeklesadik\\Miniconda3\\envs\\geo_env\\lib\\site-packages\\xgboost\\data.py:112: UserWarning: Use subset (sliced data) of np.ndarray is not recommended because it will generate extra copies and increase memory consumption\n",
      "  warnings.warn(\n"
     ]
    },
    {
     "name": "stdout",
     "output_type": "stream",
     "text": [
      "[CV 4/5; 1/2] END xgb__colsample_bytree=0.7, xgb__gamma=0.1, xgb__learning_rate=0.03, xgb__max_depth=6, xgb__n_estimators=50, xgb__reg_lambda=0.001;, score=(train=-4.541, test=-7.001) total time=   0.4s\n",
      "[CV 5/5; 1/2] START xgb__colsample_bytree=0.7, xgb__gamma=0.1, xgb__learning_rate=0.03, xgb__max_depth=6, xgb__n_estimators=50, xgb__reg_lambda=0.001\n"
     ]
    },
    {
     "name": "stderr",
     "output_type": "stream",
     "text": [
      "C:\\Users\\ATeklesadik\\Miniconda3\\envs\\geo_env\\lib\\site-packages\\xgboost\\data.py:112: UserWarning: Use subset (sliced data) of np.ndarray is not recommended because it will generate extra copies and increase memory consumption\n",
      "  warnings.warn(\n",
      "C:\\Users\\ATeklesadik\\Miniconda3\\envs\\geo_env\\lib\\site-packages\\xgboost\\data.py:112: UserWarning: Use subset (sliced data) of np.ndarray is not recommended because it will generate extra copies and increase memory consumption\n",
      "  warnings.warn(\n"
     ]
    },
    {
     "name": "stdout",
     "output_type": "stream",
     "text": [
      "[CV 5/5; 1/2] END xgb__colsample_bytree=0.7, xgb__gamma=0.1, xgb__learning_rate=0.03, xgb__max_depth=6, xgb__n_estimators=50, xgb__reg_lambda=0.001;, score=(train=-4.728, test=-6.264) total time=   0.3s\n",
      "[CV 1/5; 2/2] START xgb__colsample_bytree=0.7, xgb__gamma=0.1, xgb__learning_rate=0.03, xgb__max_depth=8, xgb__n_estimators=50, xgb__reg_lambda=0.001\n"
     ]
    },
    {
     "name": "stderr",
     "output_type": "stream",
     "text": [
      "C:\\Users\\ATeklesadik\\Miniconda3\\envs\\geo_env\\lib\\site-packages\\xgboost\\data.py:112: UserWarning: Use subset (sliced data) of np.ndarray is not recommended because it will generate extra copies and increase memory consumption\n",
      "  warnings.warn(\n",
      "C:\\Users\\ATeklesadik\\Miniconda3\\envs\\geo_env\\lib\\site-packages\\xgboost\\data.py:112: UserWarning: Use subset (sliced data) of np.ndarray is not recommended because it will generate extra copies and increase memory consumption\n",
      "  warnings.warn(\n"
     ]
    },
    {
     "name": "stdout",
     "output_type": "stream",
     "text": [
      "[CV 1/5; 2/2] END xgb__colsample_bytree=0.7, xgb__gamma=0.1, xgb__learning_rate=0.03, xgb__max_depth=8, xgb__n_estimators=50, xgb__reg_lambda=0.001;, score=(train=-3.529, test=-5.828) total time=   0.5s\n",
      "[CV 2/5; 2/2] START xgb__colsample_bytree=0.7, xgb__gamma=0.1, xgb__learning_rate=0.03, xgb__max_depth=8, xgb__n_estimators=50, xgb__reg_lambda=0.001\n"
     ]
    },
    {
     "name": "stderr",
     "output_type": "stream",
     "text": [
      "C:\\Users\\ATeklesadik\\Miniconda3\\envs\\geo_env\\lib\\site-packages\\xgboost\\data.py:112: UserWarning: Use subset (sliced data) of np.ndarray is not recommended because it will generate extra copies and increase memory consumption\n",
      "  warnings.warn(\n",
      "C:\\Users\\ATeklesadik\\Miniconda3\\envs\\geo_env\\lib\\site-packages\\xgboost\\data.py:112: UserWarning: Use subset (sliced data) of np.ndarray is not recommended because it will generate extra copies and increase memory consumption\n",
      "  warnings.warn(\n"
     ]
    },
    {
     "name": "stdout",
     "output_type": "stream",
     "text": [
      "[CV 2/5; 2/2] END xgb__colsample_bytree=0.7, xgb__gamma=0.1, xgb__learning_rate=0.03, xgb__max_depth=8, xgb__n_estimators=50, xgb__reg_lambda=0.001;, score=(train=-3.735, test=-5.951) total time=   0.5s\n",
      "[CV 3/5; 2/2] START xgb__colsample_bytree=0.7, xgb__gamma=0.1, xgb__learning_rate=0.03, xgb__max_depth=8, xgb__n_estimators=50, xgb__reg_lambda=0.001\n"
     ]
    },
    {
     "name": "stderr",
     "output_type": "stream",
     "text": [
      "C:\\Users\\ATeklesadik\\Miniconda3\\envs\\geo_env\\lib\\site-packages\\xgboost\\data.py:112: UserWarning: Use subset (sliced data) of np.ndarray is not recommended because it will generate extra copies and increase memory consumption\n",
      "  warnings.warn(\n",
      "C:\\Users\\ATeklesadik\\Miniconda3\\envs\\geo_env\\lib\\site-packages\\xgboost\\data.py:112: UserWarning: Use subset (sliced data) of np.ndarray is not recommended because it will generate extra copies and increase memory consumption\n",
      "  warnings.warn(\n"
     ]
    },
    {
     "name": "stdout",
     "output_type": "stream",
     "text": [
      "[CV 3/5; 2/2] END xgb__colsample_bytree=0.7, xgb__gamma=0.1, xgb__learning_rate=0.03, xgb__max_depth=8, xgb__n_estimators=50, xgb__reg_lambda=0.001;, score=(train=-3.866, test=-5.760) total time=   0.6s\n",
      "[CV 4/5; 2/2] START xgb__colsample_bytree=0.7, xgb__gamma=0.1, xgb__learning_rate=0.03, xgb__max_depth=8, xgb__n_estimators=50, xgb__reg_lambda=0.001\n"
     ]
    },
    {
     "name": "stderr",
     "output_type": "stream",
     "text": [
      "C:\\Users\\ATeklesadik\\Miniconda3\\envs\\geo_env\\lib\\site-packages\\xgboost\\data.py:112: UserWarning: Use subset (sliced data) of np.ndarray is not recommended because it will generate extra copies and increase memory consumption\n",
      "  warnings.warn(\n",
      "C:\\Users\\ATeklesadik\\Miniconda3\\envs\\geo_env\\lib\\site-packages\\xgboost\\data.py:112: UserWarning: Use subset (sliced data) of np.ndarray is not recommended because it will generate extra copies and increase memory consumption\n",
      "  warnings.warn(\n"
     ]
    },
    {
     "name": "stdout",
     "output_type": "stream",
     "text": [
      "[CV 4/5; 2/2] END xgb__colsample_bytree=0.7, xgb__gamma=0.1, xgb__learning_rate=0.03, xgb__max_depth=8, xgb__n_estimators=50, xgb__reg_lambda=0.001;, score=(train=-3.549, test=-6.946) total time=   0.7s\n",
      "[CV 5/5; 2/2] START xgb__colsample_bytree=0.7, xgb__gamma=0.1, xgb__learning_rate=0.03, xgb__max_depth=8, xgb__n_estimators=50, xgb__reg_lambda=0.001\n"
     ]
    },
    {
     "name": "stderr",
     "output_type": "stream",
     "text": [
      "C:\\Users\\ATeklesadik\\Miniconda3\\envs\\geo_env\\lib\\site-packages\\xgboost\\data.py:112: UserWarning: Use subset (sliced data) of np.ndarray is not recommended because it will generate extra copies and increase memory consumption\n",
      "  warnings.warn(\n",
      "C:\\Users\\ATeklesadik\\Miniconda3\\envs\\geo_env\\lib\\site-packages\\xgboost\\data.py:112: UserWarning: Use subset (sliced data) of np.ndarray is not recommended because it will generate extra copies and increase memory consumption\n",
      "  warnings.warn(\n"
     ]
    },
    {
     "name": "stdout",
     "output_type": "stream",
     "text": [
      "[CV 5/5; 2/2] END xgb__colsample_bytree=0.7, xgb__gamma=0.1, xgb__learning_rate=0.03, xgb__max_depth=8, xgb__n_estimators=50, xgb__reg_lambda=0.001;, score=(train=-3.814, test=-6.295) total time=   0.5s\n"
     ]
    },
    {
     "name": "stderr",
     "output_type": "stream",
     "text": [
      "C:\\Users\\ATeklesadik\\Miniconda3\\envs\\geo_env\\lib\\site-packages\\xgboost\\data.py:112: UserWarning: Use subset (sliced data) of np.ndarray is not recommended because it will generate extra copies and increase memory consumption\n",
      "  warnings.warn(\n",
      "C:\\Users\\ATeklesadik\\Miniconda3\\envs\\geo_env\\lib\\site-packages\\sklearn\\model_selection\\_search.py:285: UserWarning: The total space of parameters 2 is smaller than n_iter=500. Running 2 iterations. For exhaustive searches, use GridSearchCV.\n",
      "  warnings.warn(\n"
     ]
    },
    {
     "name": "stdout",
     "output_type": "stream",
     "text": [
      "Selected Parameters {'xgb__reg_lambda': 0.001, 'xgb__n_estimators': 50, 'xgb__max_depth': 8, 'xgb__learning_rate': 0.03, 'xgb__gamma': 0.1, 'xgb__colsample_bytree': 0.7}\n",
      "Train score: 1.3700635075842411\n",
      "Test score: 0.2341133974695387\n",
      "Running for 25 out of a total of 39\n",
      "Fitting 5 folds for each of 2 candidates, totalling 10 fits\n",
      "[CV 1/5; 1/2] START xgb__colsample_bytree=0.7, xgb__gamma=0.1, xgb__learning_rate=0.03, xgb__max_depth=6, xgb__n_estimators=50, xgb__reg_lambda=0.001\n"
     ]
    },
    {
     "name": "stderr",
     "output_type": "stream",
     "text": [
      "C:\\Users\\ATeklesadik\\Miniconda3\\envs\\geo_env\\lib\\site-packages\\xgboost\\data.py:112: UserWarning: Use subset (sliced data) of np.ndarray is not recommended because it will generate extra copies and increase memory consumption\n",
      "  warnings.warn(\n",
      "C:\\Users\\ATeklesadik\\Miniconda3\\envs\\geo_env\\lib\\site-packages\\xgboost\\data.py:112: UserWarning: Use subset (sliced data) of np.ndarray is not recommended because it will generate extra copies and increase memory consumption\n",
      "  warnings.warn(\n"
     ]
    },
    {
     "name": "stdout",
     "output_type": "stream",
     "text": [
      "[CV 1/5; 1/2] END xgb__colsample_bytree=0.7, xgb__gamma=0.1, xgb__learning_rate=0.03, xgb__max_depth=6, xgb__n_estimators=50, xgb__reg_lambda=0.001;, score=(train=-4.646, test=-6.575) total time=   0.3s\n",
      "[CV 2/5; 1/2] START xgb__colsample_bytree=0.7, xgb__gamma=0.1, xgb__learning_rate=0.03, xgb__max_depth=6, xgb__n_estimators=50, xgb__reg_lambda=0.001\n"
     ]
    },
    {
     "name": "stderr",
     "output_type": "stream",
     "text": [
      "C:\\Users\\ATeklesadik\\Miniconda3\\envs\\geo_env\\lib\\site-packages\\xgboost\\data.py:112: UserWarning: Use subset (sliced data) of np.ndarray is not recommended because it will generate extra copies and increase memory consumption\n",
      "  warnings.warn(\n",
      "C:\\Users\\ATeklesadik\\Miniconda3\\envs\\geo_env\\lib\\site-packages\\xgboost\\data.py:112: UserWarning: Use subset (sliced data) of np.ndarray is not recommended because it will generate extra copies and increase memory consumption\n",
      "  warnings.warn(\n"
     ]
    },
    {
     "name": "stdout",
     "output_type": "stream",
     "text": [
      "[CV 2/5; 1/2] END xgb__colsample_bytree=0.7, xgb__gamma=0.1, xgb__learning_rate=0.03, xgb__max_depth=6, xgb__n_estimators=50, xgb__reg_lambda=0.001;, score=(train=-4.664, test=-5.095) total time=   0.4s\n",
      "[CV 3/5; 1/2] START xgb__colsample_bytree=0.7, xgb__gamma=0.1, xgb__learning_rate=0.03, xgb__max_depth=6, xgb__n_estimators=50, xgb__reg_lambda=0.001\n"
     ]
    },
    {
     "name": "stderr",
     "output_type": "stream",
     "text": [
      "C:\\Users\\ATeklesadik\\Miniconda3\\envs\\geo_env\\lib\\site-packages\\xgboost\\data.py:112: UserWarning: Use subset (sliced data) of np.ndarray is not recommended because it will generate extra copies and increase memory consumption\n",
      "  warnings.warn(\n",
      "C:\\Users\\ATeklesadik\\Miniconda3\\envs\\geo_env\\lib\\site-packages\\xgboost\\data.py:112: UserWarning: Use subset (sliced data) of np.ndarray is not recommended because it will generate extra copies and increase memory consumption\n",
      "  warnings.warn(\n"
     ]
    },
    {
     "name": "stdout",
     "output_type": "stream",
     "text": [
      "[CV 3/5; 1/2] END xgb__colsample_bytree=0.7, xgb__gamma=0.1, xgb__learning_rate=0.03, xgb__max_depth=6, xgb__n_estimators=50, xgb__reg_lambda=0.001;, score=(train=-4.663, test=-6.664) total time=   0.3s\n",
      "[CV 4/5; 1/2] START xgb__colsample_bytree=0.7, xgb__gamma=0.1, xgb__learning_rate=0.03, xgb__max_depth=6, xgb__n_estimators=50, xgb__reg_lambda=0.001\n"
     ]
    },
    {
     "name": "stderr",
     "output_type": "stream",
     "text": [
      "C:\\Users\\ATeklesadik\\Miniconda3\\envs\\geo_env\\lib\\site-packages\\xgboost\\data.py:112: UserWarning: Use subset (sliced data) of np.ndarray is not recommended because it will generate extra copies and increase memory consumption\n",
      "  warnings.warn(\n",
      "C:\\Users\\ATeklesadik\\Miniconda3\\envs\\geo_env\\lib\\site-packages\\xgboost\\data.py:112: UserWarning: Use subset (sliced data) of np.ndarray is not recommended because it will generate extra copies and increase memory consumption\n",
      "  warnings.warn(\n"
     ]
    },
    {
     "name": "stdout",
     "output_type": "stream",
     "text": [
      "[CV 4/5; 1/2] END xgb__colsample_bytree=0.7, xgb__gamma=0.1, xgb__learning_rate=0.03, xgb__max_depth=6, xgb__n_estimators=50, xgb__reg_lambda=0.001;, score=(train=-4.629, test=-5.984) total time=   0.3s\n",
      "[CV 5/5; 1/2] START xgb__colsample_bytree=0.7, xgb__gamma=0.1, xgb__learning_rate=0.03, xgb__max_depth=6, xgb__n_estimators=50, xgb__reg_lambda=0.001\n"
     ]
    },
    {
     "name": "stderr",
     "output_type": "stream",
     "text": [
      "C:\\Users\\ATeklesadik\\Miniconda3\\envs\\geo_env\\lib\\site-packages\\xgboost\\data.py:112: UserWarning: Use subset (sliced data) of np.ndarray is not recommended because it will generate extra copies and increase memory consumption\n",
      "  warnings.warn(\n",
      "C:\\Users\\ATeklesadik\\Miniconda3\\envs\\geo_env\\lib\\site-packages\\xgboost\\data.py:112: UserWarning: Use subset (sliced data) of np.ndarray is not recommended because it will generate extra copies and increase memory consumption\n",
      "  warnings.warn(\n"
     ]
    },
    {
     "name": "stdout",
     "output_type": "stream",
     "text": [
      "[CV 5/5; 1/2] END xgb__colsample_bytree=0.7, xgb__gamma=0.1, xgb__learning_rate=0.03, xgb__max_depth=6, xgb__n_estimators=50, xgb__reg_lambda=0.001;, score=(train=-4.604, test=-6.197) total time=   0.4s\n",
      "[CV 1/5; 2/2] START xgb__colsample_bytree=0.7, xgb__gamma=0.1, xgb__learning_rate=0.03, xgb__max_depth=8, xgb__n_estimators=50, xgb__reg_lambda=0.001\n"
     ]
    },
    {
     "name": "stderr",
     "output_type": "stream",
     "text": [
      "C:\\Users\\ATeklesadik\\Miniconda3\\envs\\geo_env\\lib\\site-packages\\xgboost\\data.py:112: UserWarning: Use subset (sliced data) of np.ndarray is not recommended because it will generate extra copies and increase memory consumption\n",
      "  warnings.warn(\n",
      "C:\\Users\\ATeklesadik\\Miniconda3\\envs\\geo_env\\lib\\site-packages\\xgboost\\data.py:112: UserWarning: Use subset (sliced data) of np.ndarray is not recommended because it will generate extra copies and increase memory consumption\n",
      "  warnings.warn(\n"
     ]
    },
    {
     "name": "stdout",
     "output_type": "stream",
     "text": [
      "[CV 1/5; 2/2] END xgb__colsample_bytree=0.7, xgb__gamma=0.1, xgb__learning_rate=0.03, xgb__max_depth=8, xgb__n_estimators=50, xgb__reg_lambda=0.001;, score=(train=-3.737, test=-6.411) total time=   0.5s\n",
      "[CV 2/5; 2/2] START xgb__colsample_bytree=0.7, xgb__gamma=0.1, xgb__learning_rate=0.03, xgb__max_depth=8, xgb__n_estimators=50, xgb__reg_lambda=0.001\n"
     ]
    },
    {
     "name": "stderr",
     "output_type": "stream",
     "text": [
      "C:\\Users\\ATeklesadik\\Miniconda3\\envs\\geo_env\\lib\\site-packages\\xgboost\\data.py:112: UserWarning: Use subset (sliced data) of np.ndarray is not recommended because it will generate extra copies and increase memory consumption\n",
      "  warnings.warn(\n",
      "C:\\Users\\ATeklesadik\\Miniconda3\\envs\\geo_env\\lib\\site-packages\\xgboost\\data.py:112: UserWarning: Use subset (sliced data) of np.ndarray is not recommended because it will generate extra copies and increase memory consumption\n",
      "  warnings.warn(\n"
     ]
    },
    {
     "name": "stdout",
     "output_type": "stream",
     "text": [
      "[CV 2/5; 2/2] END xgb__colsample_bytree=0.7, xgb__gamma=0.1, xgb__learning_rate=0.03, xgb__max_depth=8, xgb__n_estimators=50, xgb__reg_lambda=0.001;, score=(train=-3.653, test=-4.979) total time=   0.6s\n",
      "[CV 3/5; 2/2] START xgb__colsample_bytree=0.7, xgb__gamma=0.1, xgb__learning_rate=0.03, xgb__max_depth=8, xgb__n_estimators=50, xgb__reg_lambda=0.001\n"
     ]
    },
    {
     "name": "stderr",
     "output_type": "stream",
     "text": [
      "C:\\Users\\ATeklesadik\\Miniconda3\\envs\\geo_env\\lib\\site-packages\\xgboost\\data.py:112: UserWarning: Use subset (sliced data) of np.ndarray is not recommended because it will generate extra copies and increase memory consumption\n",
      "  warnings.warn(\n",
      "C:\\Users\\ATeklesadik\\Miniconda3\\envs\\geo_env\\lib\\site-packages\\xgboost\\data.py:112: UserWarning: Use subset (sliced data) of np.ndarray is not recommended because it will generate extra copies and increase memory consumption\n",
      "  warnings.warn(\n"
     ]
    },
    {
     "name": "stdout",
     "output_type": "stream",
     "text": [
      "[CV 3/5; 2/2] END xgb__colsample_bytree=0.7, xgb__gamma=0.1, xgb__learning_rate=0.03, xgb__max_depth=8, xgb__n_estimators=50, xgb__reg_lambda=0.001;, score=(train=-3.678, test=-6.573) total time=   0.5s\n",
      "[CV 4/5; 2/2] START xgb__colsample_bytree=0.7, xgb__gamma=0.1, xgb__learning_rate=0.03, xgb__max_depth=8, xgb__n_estimators=50, xgb__reg_lambda=0.001\n"
     ]
    },
    {
     "name": "stderr",
     "output_type": "stream",
     "text": [
      "C:\\Users\\ATeklesadik\\Miniconda3\\envs\\geo_env\\lib\\site-packages\\xgboost\\data.py:112: UserWarning: Use subset (sliced data) of np.ndarray is not recommended because it will generate extra copies and increase memory consumption\n",
      "  warnings.warn(\n",
      "C:\\Users\\ATeklesadik\\Miniconda3\\envs\\geo_env\\lib\\site-packages\\xgboost\\data.py:112: UserWarning: Use subset (sliced data) of np.ndarray is not recommended because it will generate extra copies and increase memory consumption\n",
      "  warnings.warn(\n"
     ]
    },
    {
     "name": "stdout",
     "output_type": "stream",
     "text": [
      "[CV 4/5; 2/2] END xgb__colsample_bytree=0.7, xgb__gamma=0.1, xgb__learning_rate=0.03, xgb__max_depth=8, xgb__n_estimators=50, xgb__reg_lambda=0.001;, score=(train=-3.654, test=-5.887) total time=   0.6s\n",
      "[CV 5/5; 2/2] START xgb__colsample_bytree=0.7, xgb__gamma=0.1, xgb__learning_rate=0.03, xgb__max_depth=8, xgb__n_estimators=50, xgb__reg_lambda=0.001\n"
     ]
    },
    {
     "name": "stderr",
     "output_type": "stream",
     "text": [
      "C:\\Users\\ATeklesadik\\Miniconda3\\envs\\geo_env\\lib\\site-packages\\xgboost\\data.py:112: UserWarning: Use subset (sliced data) of np.ndarray is not recommended because it will generate extra copies and increase memory consumption\n",
      "  warnings.warn(\n",
      "C:\\Users\\ATeklesadik\\Miniconda3\\envs\\geo_env\\lib\\site-packages\\xgboost\\data.py:112: UserWarning: Use subset (sliced data) of np.ndarray is not recommended because it will generate extra copies and increase memory consumption\n",
      "  warnings.warn(\n"
     ]
    },
    {
     "name": "stdout",
     "output_type": "stream",
     "text": [
      "[CV 5/5; 2/2] END xgb__colsample_bytree=0.7, xgb__gamma=0.1, xgb__learning_rate=0.03, xgb__max_depth=8, xgb__n_estimators=50, xgb__reg_lambda=0.001;, score=(train=-3.622, test=-6.238) total time=   0.5s\n"
     ]
    },
    {
     "name": "stderr",
     "output_type": "stream",
     "text": [
      "C:\\Users\\ATeklesadik\\Miniconda3\\envs\\geo_env\\lib\\site-packages\\xgboost\\data.py:112: UserWarning: Use subset (sliced data) of np.ndarray is not recommended because it will generate extra copies and increase memory consumption\n",
      "  warnings.warn(\n",
      "C:\\Users\\ATeklesadik\\Miniconda3\\envs\\geo_env\\lib\\site-packages\\sklearn\\model_selection\\_search.py:285: UserWarning: The total space of parameters 2 is smaller than n_iter=500. Running 2 iterations. For exhaustive searches, use GridSearchCV.\n",
      "  warnings.warn(\n"
     ]
    },
    {
     "name": "stdout",
     "output_type": "stream",
     "text": [
      "Selected Parameters {'xgb__reg_lambda': 0.001, 'xgb__n_estimators': 50, 'xgb__max_depth': 8, 'xgb__learning_rate': 0.03, 'xgb__gamma': 0.1, 'xgb__colsample_bytree': 0.7}\n",
      "Train score: 1.3579302325715807\n",
      "Test score: 0.13206444680690765\n",
      "Running for 26 out of a total of 39\n",
      "Fitting 5 folds for each of 2 candidates, totalling 10 fits\n",
      "[CV 1/5; 1/2] START xgb__colsample_bytree=0.7, xgb__gamma=0.1, xgb__learning_rate=0.03, xgb__max_depth=6, xgb__n_estimators=50, xgb__reg_lambda=0.001\n"
     ]
    },
    {
     "name": "stderr",
     "output_type": "stream",
     "text": [
      "C:\\Users\\ATeklesadik\\Miniconda3\\envs\\geo_env\\lib\\site-packages\\xgboost\\data.py:112: UserWarning: Use subset (sliced data) of np.ndarray is not recommended because it will generate extra copies and increase memory consumption\n",
      "  warnings.warn(\n",
      "C:\\Users\\ATeklesadik\\Miniconda3\\envs\\geo_env\\lib\\site-packages\\xgboost\\data.py:112: UserWarning: Use subset (sliced data) of np.ndarray is not recommended because it will generate extra copies and increase memory consumption\n",
      "  warnings.warn(\n"
     ]
    },
    {
     "name": "stdout",
     "output_type": "stream",
     "text": [
      "[CV 1/5; 1/2] END xgb__colsample_bytree=0.7, xgb__gamma=0.1, xgb__learning_rate=0.03, xgb__max_depth=6, xgb__n_estimators=50, xgb__reg_lambda=0.001;, score=(train=-4.708, test=-6.655) total time=   0.3s\n",
      "[CV 2/5; 1/2] START xgb__colsample_bytree=0.7, xgb__gamma=0.1, xgb__learning_rate=0.03, xgb__max_depth=6, xgb__n_estimators=50, xgb__reg_lambda=0.001\n"
     ]
    },
    {
     "name": "stderr",
     "output_type": "stream",
     "text": [
      "C:\\Users\\ATeklesadik\\Miniconda3\\envs\\geo_env\\lib\\site-packages\\xgboost\\data.py:112: UserWarning: Use subset (sliced data) of np.ndarray is not recommended because it will generate extra copies and increase memory consumption\n",
      "  warnings.warn(\n",
      "C:\\Users\\ATeklesadik\\Miniconda3\\envs\\geo_env\\lib\\site-packages\\xgboost\\data.py:112: UserWarning: Use subset (sliced data) of np.ndarray is not recommended because it will generate extra copies and increase memory consumption\n",
      "  warnings.warn(\n"
     ]
    },
    {
     "name": "stdout",
     "output_type": "stream",
     "text": [
      "[CV 2/5; 1/2] END xgb__colsample_bytree=0.7, xgb__gamma=0.1, xgb__learning_rate=0.03, xgb__max_depth=6, xgb__n_estimators=50, xgb__reg_lambda=0.001;, score=(train=-4.807, test=-5.683) total time=   0.4s\n",
      "[CV 3/5; 1/2] START xgb__colsample_bytree=0.7, xgb__gamma=0.1, xgb__learning_rate=0.03, xgb__max_depth=6, xgb__n_estimators=50, xgb__reg_lambda=0.001\n"
     ]
    },
    {
     "name": "stderr",
     "output_type": "stream",
     "text": [
      "C:\\Users\\ATeklesadik\\Miniconda3\\envs\\geo_env\\lib\\site-packages\\xgboost\\data.py:112: UserWarning: Use subset (sliced data) of np.ndarray is not recommended because it will generate extra copies and increase memory consumption\n",
      "  warnings.warn(\n",
      "C:\\Users\\ATeklesadik\\Miniconda3\\envs\\geo_env\\lib\\site-packages\\xgboost\\data.py:112: UserWarning: Use subset (sliced data) of np.ndarray is not recommended because it will generate extra copies and increase memory consumption\n",
      "  warnings.warn(\n"
     ]
    },
    {
     "name": "stdout",
     "output_type": "stream",
     "text": [
      "[CV 3/5; 1/2] END xgb__colsample_bytree=0.7, xgb__gamma=0.1, xgb__learning_rate=0.03, xgb__max_depth=6, xgb__n_estimators=50, xgb__reg_lambda=0.001;, score=(train=-4.662, test=-6.488) total time=   0.3s\n",
      "[CV 4/5; 1/2] START xgb__colsample_bytree=0.7, xgb__gamma=0.1, xgb__learning_rate=0.03, xgb__max_depth=6, xgb__n_estimators=50, xgb__reg_lambda=0.001\n"
     ]
    },
    {
     "name": "stderr",
     "output_type": "stream",
     "text": [
      "C:\\Users\\ATeklesadik\\Miniconda3\\envs\\geo_env\\lib\\site-packages\\xgboost\\data.py:112: UserWarning: Use subset (sliced data) of np.ndarray is not recommended because it will generate extra copies and increase memory consumption\n",
      "  warnings.warn(\n",
      "C:\\Users\\ATeklesadik\\Miniconda3\\envs\\geo_env\\lib\\site-packages\\xgboost\\data.py:112: UserWarning: Use subset (sliced data) of np.ndarray is not recommended because it will generate extra copies and increase memory consumption\n",
      "  warnings.warn(\n"
     ]
    },
    {
     "name": "stdout",
     "output_type": "stream",
     "text": [
      "[CV 4/5; 1/2] END xgb__colsample_bytree=0.7, xgb__gamma=0.1, xgb__learning_rate=0.03, xgb__max_depth=6, xgb__n_estimators=50, xgb__reg_lambda=0.001;, score=(train=-4.539, test=-6.176) total time=   0.3s\n",
      "[CV 5/5; 1/2] START xgb__colsample_bytree=0.7, xgb__gamma=0.1, xgb__learning_rate=0.03, xgb__max_depth=6, xgb__n_estimators=50, xgb__reg_lambda=0.001\n"
     ]
    },
    {
     "name": "stderr",
     "output_type": "stream",
     "text": [
      "C:\\Users\\ATeklesadik\\Miniconda3\\envs\\geo_env\\lib\\site-packages\\xgboost\\data.py:112: UserWarning: Use subset (sliced data) of np.ndarray is not recommended because it will generate extra copies and increase memory consumption\n",
      "  warnings.warn(\n",
      "C:\\Users\\ATeklesadik\\Miniconda3\\envs\\geo_env\\lib\\site-packages\\xgboost\\data.py:112: UserWarning: Use subset (sliced data) of np.ndarray is not recommended because it will generate extra copies and increase memory consumption\n",
      "  warnings.warn(\n"
     ]
    },
    {
     "name": "stdout",
     "output_type": "stream",
     "text": [
      "[CV 5/5; 1/2] END xgb__colsample_bytree=0.7, xgb__gamma=0.1, xgb__learning_rate=0.03, xgb__max_depth=6, xgb__n_estimators=50, xgb__reg_lambda=0.001;, score=(train=-4.563, test=-5.856) total time=   0.3s\n",
      "[CV 1/5; 2/2] START xgb__colsample_bytree=0.7, xgb__gamma=0.1, xgb__learning_rate=0.03, xgb__max_depth=8, xgb__n_estimators=50, xgb__reg_lambda=0.001\n"
     ]
    },
    {
     "name": "stderr",
     "output_type": "stream",
     "text": [
      "C:\\Users\\ATeklesadik\\Miniconda3\\envs\\geo_env\\lib\\site-packages\\xgboost\\data.py:112: UserWarning: Use subset (sliced data) of np.ndarray is not recommended because it will generate extra copies and increase memory consumption\n",
      "  warnings.warn(\n",
      "C:\\Users\\ATeklesadik\\Miniconda3\\envs\\geo_env\\lib\\site-packages\\xgboost\\data.py:112: UserWarning: Use subset (sliced data) of np.ndarray is not recommended because it will generate extra copies and increase memory consumption\n",
      "  warnings.warn(\n"
     ]
    },
    {
     "name": "stdout",
     "output_type": "stream",
     "text": [
      "[CV 1/5; 2/2] END xgb__colsample_bytree=0.7, xgb__gamma=0.1, xgb__learning_rate=0.03, xgb__max_depth=8, xgb__n_estimators=50, xgb__reg_lambda=0.001;, score=(train=-3.823, test=-6.471) total time=   0.5s\n",
      "[CV 2/5; 2/2] START xgb__colsample_bytree=0.7, xgb__gamma=0.1, xgb__learning_rate=0.03, xgb__max_depth=8, xgb__n_estimators=50, xgb__reg_lambda=0.001\n"
     ]
    },
    {
     "name": "stderr",
     "output_type": "stream",
     "text": [
      "C:\\Users\\ATeklesadik\\Miniconda3\\envs\\geo_env\\lib\\site-packages\\xgboost\\data.py:112: UserWarning: Use subset (sliced data) of np.ndarray is not recommended because it will generate extra copies and increase memory consumption\n",
      "  warnings.warn(\n",
      "C:\\Users\\ATeklesadik\\Miniconda3\\envs\\geo_env\\lib\\site-packages\\xgboost\\data.py:112: UserWarning: Use subset (sliced data) of np.ndarray is not recommended because it will generate extra copies and increase memory consumption\n",
      "  warnings.warn(\n"
     ]
    },
    {
     "name": "stdout",
     "output_type": "stream",
     "text": [
      "[CV 2/5; 2/2] END xgb__colsample_bytree=0.7, xgb__gamma=0.1, xgb__learning_rate=0.03, xgb__max_depth=8, xgb__n_estimators=50, xgb__reg_lambda=0.001;, score=(train=-3.733, test=-5.621) total time=   0.6s\n",
      "[CV 3/5; 2/2] START xgb__colsample_bytree=0.7, xgb__gamma=0.1, xgb__learning_rate=0.03, xgb__max_depth=8, xgb__n_estimators=50, xgb__reg_lambda=0.001\n"
     ]
    },
    {
     "name": "stderr",
     "output_type": "stream",
     "text": [
      "C:\\Users\\ATeklesadik\\Miniconda3\\envs\\geo_env\\lib\\site-packages\\xgboost\\data.py:112: UserWarning: Use subset (sliced data) of np.ndarray is not recommended because it will generate extra copies and increase memory consumption\n",
      "  warnings.warn(\n",
      "C:\\Users\\ATeklesadik\\Miniconda3\\envs\\geo_env\\lib\\site-packages\\xgboost\\data.py:112: UserWarning: Use subset (sliced data) of np.ndarray is not recommended because it will generate extra copies and increase memory consumption\n",
      "  warnings.warn(\n"
     ]
    },
    {
     "name": "stdout",
     "output_type": "stream",
     "text": [
      "[CV 3/5; 2/2] END xgb__colsample_bytree=0.7, xgb__gamma=0.1, xgb__learning_rate=0.03, xgb__max_depth=8, xgb__n_estimators=50, xgb__reg_lambda=0.001;, score=(train=-3.697, test=-6.485) total time=   0.5s\n",
      "[CV 4/5; 2/2] START xgb__colsample_bytree=0.7, xgb__gamma=0.1, xgb__learning_rate=0.03, xgb__max_depth=8, xgb__n_estimators=50, xgb__reg_lambda=0.001\n"
     ]
    },
    {
     "name": "stderr",
     "output_type": "stream",
     "text": [
      "C:\\Users\\ATeklesadik\\Miniconda3\\envs\\geo_env\\lib\\site-packages\\xgboost\\data.py:112: UserWarning: Use subset (sliced data) of np.ndarray is not recommended because it will generate extra copies and increase memory consumption\n",
      "  warnings.warn(\n",
      "C:\\Users\\ATeklesadik\\Miniconda3\\envs\\geo_env\\lib\\site-packages\\xgboost\\data.py:112: UserWarning: Use subset (sliced data) of np.ndarray is not recommended because it will generate extra copies and increase memory consumption\n",
      "  warnings.warn(\n"
     ]
    },
    {
     "name": "stdout",
     "output_type": "stream",
     "text": [
      "[CV 4/5; 2/2] END xgb__colsample_bytree=0.7, xgb__gamma=0.1, xgb__learning_rate=0.03, xgb__max_depth=8, xgb__n_estimators=50, xgb__reg_lambda=0.001;, score=(train=-3.543, test=-6.214) total time=   0.5s\n",
      "[CV 5/5; 2/2] START xgb__colsample_bytree=0.7, xgb__gamma=0.1, xgb__learning_rate=0.03, xgb__max_depth=8, xgb__n_estimators=50, xgb__reg_lambda=0.001\n"
     ]
    },
    {
     "name": "stderr",
     "output_type": "stream",
     "text": [
      "C:\\Users\\ATeklesadik\\Miniconda3\\envs\\geo_env\\lib\\site-packages\\xgboost\\data.py:112: UserWarning: Use subset (sliced data) of np.ndarray is not recommended because it will generate extra copies and increase memory consumption\n",
      "  warnings.warn(\n",
      "C:\\Users\\ATeklesadik\\Miniconda3\\envs\\geo_env\\lib\\site-packages\\xgboost\\data.py:112: UserWarning: Use subset (sliced data) of np.ndarray is not recommended because it will generate extra copies and increase memory consumption\n",
      "  warnings.warn(\n"
     ]
    },
    {
     "name": "stdout",
     "output_type": "stream",
     "text": [
      "[CV 5/5; 2/2] END xgb__colsample_bytree=0.7, xgb__gamma=0.1, xgb__learning_rate=0.03, xgb__max_depth=8, xgb__n_estimators=50, xgb__reg_lambda=0.001;, score=(train=-3.552, test=-5.873) total time=   0.6s\n"
     ]
    },
    {
     "name": "stderr",
     "output_type": "stream",
     "text": [
      "C:\\Users\\ATeklesadik\\Miniconda3\\envs\\geo_env\\lib\\site-packages\\xgboost\\data.py:112: UserWarning: Use subset (sliced data) of np.ndarray is not recommended because it will generate extra copies and increase memory consumption\n",
      "  warnings.warn(\n",
      "C:\\Users\\ATeklesadik\\Miniconda3\\envs\\geo_env\\lib\\site-packages\\sklearn\\model_selection\\_search.py:285: UserWarning: The total space of parameters 2 is smaller than n_iter=500. Running 2 iterations. For exhaustive searches, use GridSearchCV.\n",
      "  warnings.warn(\n"
     ]
    },
    {
     "name": "stdout",
     "output_type": "stream",
     "text": [
      "Selected Parameters {'xgb__reg_lambda': 0.001, 'xgb__n_estimators': 50, 'xgb__max_depth': 8, 'xgb__learning_rate': 0.03, 'xgb__gamma': 0.1, 'xgb__colsample_bytree': 0.7}\n",
      "Train score: 1.3546765200592543\n",
      "Test score: 2.3074726000183285\n",
      "Running for 27 out of a total of 39\n",
      "Fitting 5 folds for each of 2 candidates, totalling 10 fits\n",
      "[CV 1/5; 1/2] START xgb__colsample_bytree=0.7, xgb__gamma=0.1, xgb__learning_rate=0.03, xgb__max_depth=6, xgb__n_estimators=50, xgb__reg_lambda=0.001\n"
     ]
    },
    {
     "name": "stderr",
     "output_type": "stream",
     "text": [
      "C:\\Users\\ATeklesadik\\Miniconda3\\envs\\geo_env\\lib\\site-packages\\xgboost\\data.py:112: UserWarning: Use subset (sliced data) of np.ndarray is not recommended because it will generate extra copies and increase memory consumption\n",
      "  warnings.warn(\n",
      "C:\\Users\\ATeklesadik\\Miniconda3\\envs\\geo_env\\lib\\site-packages\\xgboost\\data.py:112: UserWarning: Use subset (sliced data) of np.ndarray is not recommended because it will generate extra copies and increase memory consumption\n",
      "  warnings.warn(\n"
     ]
    },
    {
     "name": "stdout",
     "output_type": "stream",
     "text": [
      "[CV 1/5; 1/2] END xgb__colsample_bytree=0.7, xgb__gamma=0.1, xgb__learning_rate=0.03, xgb__max_depth=6, xgb__n_estimators=50, xgb__reg_lambda=0.001;, score=(train=-4.706, test=-5.863) total time=   0.3s\n",
      "[CV 2/5; 1/2] START xgb__colsample_bytree=0.7, xgb__gamma=0.1, xgb__learning_rate=0.03, xgb__max_depth=6, xgb__n_estimators=50, xgb__reg_lambda=0.001\n"
     ]
    },
    {
     "name": "stderr",
     "output_type": "stream",
     "text": [
      "C:\\Users\\ATeklesadik\\Miniconda3\\envs\\geo_env\\lib\\site-packages\\xgboost\\data.py:112: UserWarning: Use subset (sliced data) of np.ndarray is not recommended because it will generate extra copies and increase memory consumption\n",
      "  warnings.warn(\n",
      "C:\\Users\\ATeklesadik\\Miniconda3\\envs\\geo_env\\lib\\site-packages\\xgboost\\data.py:112: UserWarning: Use subset (sliced data) of np.ndarray is not recommended because it will generate extra copies and increase memory consumption\n",
      "  warnings.warn(\n"
     ]
    },
    {
     "name": "stdout",
     "output_type": "stream",
     "text": [
      "[CV 2/5; 1/2] END xgb__colsample_bytree=0.7, xgb__gamma=0.1, xgb__learning_rate=0.03, xgb__max_depth=6, xgb__n_estimators=50, xgb__reg_lambda=0.001;, score=(train=-4.508, test=-6.720) total time=   0.3s\n",
      "[CV 3/5; 1/2] START xgb__colsample_bytree=0.7, xgb__gamma=0.1, xgb__learning_rate=0.03, xgb__max_depth=6, xgb__n_estimators=50, xgb__reg_lambda=0.001\n"
     ]
    },
    {
     "name": "stderr",
     "output_type": "stream",
     "text": [
      "C:\\Users\\ATeklesadik\\Miniconda3\\envs\\geo_env\\lib\\site-packages\\xgboost\\data.py:112: UserWarning: Use subset (sliced data) of np.ndarray is not recommended because it will generate extra copies and increase memory consumption\n",
      "  warnings.warn(\n",
      "C:\\Users\\ATeklesadik\\Miniconda3\\envs\\geo_env\\lib\\site-packages\\xgboost\\data.py:112: UserWarning: Use subset (sliced data) of np.ndarray is not recommended because it will generate extra copies and increase memory consumption\n",
      "  warnings.warn(\n"
     ]
    },
    {
     "name": "stdout",
     "output_type": "stream",
     "text": [
      "[CV 3/5; 1/2] END xgb__colsample_bytree=0.7, xgb__gamma=0.1, xgb__learning_rate=0.03, xgb__max_depth=6, xgb__n_estimators=50, xgb__reg_lambda=0.001;, score=(train=-4.633, test=-6.648) total time=   0.3s\n",
      "[CV 4/5; 1/2] START xgb__colsample_bytree=0.7, xgb__gamma=0.1, xgb__learning_rate=0.03, xgb__max_depth=6, xgb__n_estimators=50, xgb__reg_lambda=0.001\n"
     ]
    },
    {
     "name": "stderr",
     "output_type": "stream",
     "text": [
      "C:\\Users\\ATeklesadik\\Miniconda3\\envs\\geo_env\\lib\\site-packages\\xgboost\\data.py:112: UserWarning: Use subset (sliced data) of np.ndarray is not recommended because it will generate extra copies and increase memory consumption\n",
      "  warnings.warn(\n",
      "C:\\Users\\ATeklesadik\\Miniconda3\\envs\\geo_env\\lib\\site-packages\\xgboost\\data.py:112: UserWarning: Use subset (sliced data) of np.ndarray is not recommended because it will generate extra copies and increase memory consumption\n",
      "  warnings.warn(\n"
     ]
    },
    {
     "name": "stdout",
     "output_type": "stream",
     "text": [
      "[CV 4/5; 1/2] END xgb__colsample_bytree=0.7, xgb__gamma=0.1, xgb__learning_rate=0.03, xgb__max_depth=6, xgb__n_estimators=50, xgb__reg_lambda=0.001;, score=(train=-4.693, test=-6.614) total time=   0.4s\n",
      "[CV 5/5; 1/2] START xgb__colsample_bytree=0.7, xgb__gamma=0.1, xgb__learning_rate=0.03, xgb__max_depth=6, xgb__n_estimators=50, xgb__reg_lambda=0.001\n"
     ]
    },
    {
     "name": "stderr",
     "output_type": "stream",
     "text": [
      "C:\\Users\\ATeklesadik\\Miniconda3\\envs\\geo_env\\lib\\site-packages\\xgboost\\data.py:112: UserWarning: Use subset (sliced data) of np.ndarray is not recommended because it will generate extra copies and increase memory consumption\n",
      "  warnings.warn(\n",
      "C:\\Users\\ATeklesadik\\Miniconda3\\envs\\geo_env\\lib\\site-packages\\xgboost\\data.py:112: UserWarning: Use subset (sliced data) of np.ndarray is not recommended because it will generate extra copies and increase memory consumption\n",
      "  warnings.warn(\n"
     ]
    },
    {
     "name": "stdout",
     "output_type": "stream",
     "text": [
      "[CV 5/5; 1/2] END xgb__colsample_bytree=0.7, xgb__gamma=0.1, xgb__learning_rate=0.03, xgb__max_depth=6, xgb__n_estimators=50, xgb__reg_lambda=0.001;, score=(train=-4.807, test=-5.545) total time=   0.3s\n",
      "[CV 1/5; 2/2] START xgb__colsample_bytree=0.7, xgb__gamma=0.1, xgb__learning_rate=0.03, xgb__max_depth=8, xgb__n_estimators=50, xgb__reg_lambda=0.001\n"
     ]
    },
    {
     "name": "stderr",
     "output_type": "stream",
     "text": [
      "C:\\Users\\ATeklesadik\\Miniconda3\\envs\\geo_env\\lib\\site-packages\\xgboost\\data.py:112: UserWarning: Use subset (sliced data) of np.ndarray is not recommended because it will generate extra copies and increase memory consumption\n",
      "  warnings.warn(\n",
      "C:\\Users\\ATeklesadik\\Miniconda3\\envs\\geo_env\\lib\\site-packages\\xgboost\\data.py:112: UserWarning: Use subset (sliced data) of np.ndarray is not recommended because it will generate extra copies and increase memory consumption\n",
      "  warnings.warn(\n"
     ]
    },
    {
     "name": "stdout",
     "output_type": "stream",
     "text": [
      "[CV 1/5; 2/2] END xgb__colsample_bytree=0.7, xgb__gamma=0.1, xgb__learning_rate=0.03, xgb__max_depth=8, xgb__n_estimators=50, xgb__reg_lambda=0.001;, score=(train=-3.671, test=-5.828) total time=   0.5s\n",
      "[CV 2/5; 2/2] START xgb__colsample_bytree=0.7, xgb__gamma=0.1, xgb__learning_rate=0.03, xgb__max_depth=8, xgb__n_estimators=50, xgb__reg_lambda=0.001\n"
     ]
    },
    {
     "name": "stderr",
     "output_type": "stream",
     "text": [
      "C:\\Users\\ATeklesadik\\Miniconda3\\envs\\geo_env\\lib\\site-packages\\xgboost\\data.py:112: UserWarning: Use subset (sliced data) of np.ndarray is not recommended because it will generate extra copies and increase memory consumption\n",
      "  warnings.warn(\n",
      "C:\\Users\\ATeklesadik\\Miniconda3\\envs\\geo_env\\lib\\site-packages\\xgboost\\data.py:112: UserWarning: Use subset (sliced data) of np.ndarray is not recommended because it will generate extra copies and increase memory consumption\n",
      "  warnings.warn(\n"
     ]
    },
    {
     "name": "stdout",
     "output_type": "stream",
     "text": [
      "[CV 2/5; 2/2] END xgb__colsample_bytree=0.7, xgb__gamma=0.1, xgb__learning_rate=0.03, xgb__max_depth=8, xgb__n_estimators=50, xgb__reg_lambda=0.001;, score=(train=-3.571, test=-6.668) total time=   0.5s\n",
      "[CV 3/5; 2/2] START xgb__colsample_bytree=0.7, xgb__gamma=0.1, xgb__learning_rate=0.03, xgb__max_depth=8, xgb__n_estimators=50, xgb__reg_lambda=0.001\n"
     ]
    },
    {
     "name": "stderr",
     "output_type": "stream",
     "text": [
      "C:\\Users\\ATeklesadik\\Miniconda3\\envs\\geo_env\\lib\\site-packages\\xgboost\\data.py:112: UserWarning: Use subset (sliced data) of np.ndarray is not recommended because it will generate extra copies and increase memory consumption\n",
      "  warnings.warn(\n",
      "C:\\Users\\ATeklesadik\\Miniconda3\\envs\\geo_env\\lib\\site-packages\\xgboost\\data.py:112: UserWarning: Use subset (sliced data) of np.ndarray is not recommended because it will generate extra copies and increase memory consumption\n",
      "  warnings.warn(\n"
     ]
    },
    {
     "name": "stdout",
     "output_type": "stream",
     "text": [
      "[CV 3/5; 2/2] END xgb__colsample_bytree=0.7, xgb__gamma=0.1, xgb__learning_rate=0.03, xgb__max_depth=8, xgb__n_estimators=50, xgb__reg_lambda=0.001;, score=(train=-3.694, test=-6.623) total time=   0.6s\n",
      "[CV 4/5; 2/2] START xgb__colsample_bytree=0.7, xgb__gamma=0.1, xgb__learning_rate=0.03, xgb__max_depth=8, xgb__n_estimators=50, xgb__reg_lambda=0.001\n"
     ]
    },
    {
     "name": "stderr",
     "output_type": "stream",
     "text": [
      "C:\\Users\\ATeklesadik\\Miniconda3\\envs\\geo_env\\lib\\site-packages\\xgboost\\data.py:112: UserWarning: Use subset (sliced data) of np.ndarray is not recommended because it will generate extra copies and increase memory consumption\n",
      "  warnings.warn(\n",
      "C:\\Users\\ATeklesadik\\Miniconda3\\envs\\geo_env\\lib\\site-packages\\xgboost\\data.py:112: UserWarning: Use subset (sliced data) of np.ndarray is not recommended because it will generate extra copies and increase memory consumption\n",
      "  warnings.warn(\n"
     ]
    },
    {
     "name": "stdout",
     "output_type": "stream",
     "text": [
      "[CV 4/5; 2/2] END xgb__colsample_bytree=0.7, xgb__gamma=0.1, xgb__learning_rate=0.03, xgb__max_depth=8, xgb__n_estimators=50, xgb__reg_lambda=0.001;, score=(train=-3.739, test=-6.524) total time=   0.5s\n",
      "[CV 5/5; 2/2] START xgb__colsample_bytree=0.7, xgb__gamma=0.1, xgb__learning_rate=0.03, xgb__max_depth=8, xgb__n_estimators=50, xgb__reg_lambda=0.001\n"
     ]
    },
    {
     "name": "stderr",
     "output_type": "stream",
     "text": [
      "C:\\Users\\ATeklesadik\\Miniconda3\\envs\\geo_env\\lib\\site-packages\\xgboost\\data.py:112: UserWarning: Use subset (sliced data) of np.ndarray is not recommended because it will generate extra copies and increase memory consumption\n",
      "  warnings.warn(\n",
      "C:\\Users\\ATeklesadik\\Miniconda3\\envs\\geo_env\\lib\\site-packages\\xgboost\\data.py:112: UserWarning: Use subset (sliced data) of np.ndarray is not recommended because it will generate extra copies and increase memory consumption\n",
      "  warnings.warn(\n"
     ]
    },
    {
     "name": "stdout",
     "output_type": "stream",
     "text": [
      "[CV 5/5; 2/2] END xgb__colsample_bytree=0.7, xgb__gamma=0.1, xgb__learning_rate=0.03, xgb__max_depth=8, xgb__n_estimators=50, xgb__reg_lambda=0.001;, score=(train=-3.797, test=-5.485) total time=   0.5s\n"
     ]
    },
    {
     "name": "stderr",
     "output_type": "stream",
     "text": [
      "C:\\Users\\ATeklesadik\\Miniconda3\\envs\\geo_env\\lib\\site-packages\\xgboost\\data.py:112: UserWarning: Use subset (sliced data) of np.ndarray is not recommended because it will generate extra copies and increase memory consumption\n",
      "  warnings.warn(\n",
      "C:\\Users\\ATeklesadik\\Miniconda3\\envs\\geo_env\\lib\\site-packages\\sklearn\\model_selection\\_search.py:285: UserWarning: The total space of parameters 2 is smaller than n_iter=500. Running 2 iterations. For exhaustive searches, use GridSearchCV.\n",
      "  warnings.warn(\n"
     ]
    },
    {
     "name": "stdout",
     "output_type": "stream",
     "text": [
      "Selected Parameters {'xgb__reg_lambda': 0.001, 'xgb__n_estimators': 50, 'xgb__max_depth': 8, 'xgb__learning_rate': 0.03, 'xgb__gamma': 0.1, 'xgb__colsample_bytree': 0.7}\n",
      "Train score: 1.3771957169493114\n",
      "Test score: 1.2825087108741966\n",
      "Running for 28 out of a total of 39\n",
      "Fitting 5 folds for each of 2 candidates, totalling 10 fits\n",
      "[CV 1/5; 1/2] START xgb__colsample_bytree=0.7, xgb__gamma=0.1, xgb__learning_rate=0.03, xgb__max_depth=6, xgb__n_estimators=50, xgb__reg_lambda=0.001\n"
     ]
    },
    {
     "name": "stderr",
     "output_type": "stream",
     "text": [
      "C:\\Users\\ATeklesadik\\Miniconda3\\envs\\geo_env\\lib\\site-packages\\xgboost\\data.py:112: UserWarning: Use subset (sliced data) of np.ndarray is not recommended because it will generate extra copies and increase memory consumption\n",
      "  warnings.warn(\n",
      "C:\\Users\\ATeklesadik\\Miniconda3\\envs\\geo_env\\lib\\site-packages\\xgboost\\data.py:112: UserWarning: Use subset (sliced data) of np.ndarray is not recommended because it will generate extra copies and increase memory consumption\n",
      "  warnings.warn(\n"
     ]
    },
    {
     "name": "stdout",
     "output_type": "stream",
     "text": [
      "[CV 1/5; 1/2] END xgb__colsample_bytree=0.7, xgb__gamma=0.1, xgb__learning_rate=0.03, xgb__max_depth=6, xgb__n_estimators=50, xgb__reg_lambda=0.001;, score=(train=-4.588, test=-5.841) total time=   0.4s\n",
      "[CV 2/5; 1/2] START xgb__colsample_bytree=0.7, xgb__gamma=0.1, xgb__learning_rate=0.03, xgb__max_depth=6, xgb__n_estimators=50, xgb__reg_lambda=0.001\n"
     ]
    },
    {
     "name": "stderr",
     "output_type": "stream",
     "text": [
      "C:\\Users\\ATeklesadik\\Miniconda3\\envs\\geo_env\\lib\\site-packages\\xgboost\\data.py:112: UserWarning: Use subset (sliced data) of np.ndarray is not recommended because it will generate extra copies and increase memory consumption\n",
      "  warnings.warn(\n",
      "C:\\Users\\ATeklesadik\\Miniconda3\\envs\\geo_env\\lib\\site-packages\\xgboost\\data.py:112: UserWarning: Use subset (sliced data) of np.ndarray is not recommended because it will generate extra copies and increase memory consumption\n",
      "  warnings.warn(\n"
     ]
    },
    {
     "name": "stdout",
     "output_type": "stream",
     "text": [
      "[CV 2/5; 1/2] END xgb__colsample_bytree=0.7, xgb__gamma=0.1, xgb__learning_rate=0.03, xgb__max_depth=6, xgb__n_estimators=50, xgb__reg_lambda=0.001;, score=(train=-4.557, test=-5.808) total time=   0.3s\n",
      "[CV 3/5; 1/2] START xgb__colsample_bytree=0.7, xgb__gamma=0.1, xgb__learning_rate=0.03, xgb__max_depth=6, xgb__n_estimators=50, xgb__reg_lambda=0.001\n"
     ]
    },
    {
     "name": "stderr",
     "output_type": "stream",
     "text": [
      "C:\\Users\\ATeklesadik\\Miniconda3\\envs\\geo_env\\lib\\site-packages\\xgboost\\data.py:112: UserWarning: Use subset (sliced data) of np.ndarray is not recommended because it will generate extra copies and increase memory consumption\n",
      "  warnings.warn(\n",
      "C:\\Users\\ATeklesadik\\Miniconda3\\envs\\geo_env\\lib\\site-packages\\xgboost\\data.py:112: UserWarning: Use subset (sliced data) of np.ndarray is not recommended because it will generate extra copies and increase memory consumption\n",
      "  warnings.warn(\n"
     ]
    },
    {
     "name": "stdout",
     "output_type": "stream",
     "text": [
      "[CV 3/5; 1/2] END xgb__colsample_bytree=0.7, xgb__gamma=0.1, xgb__learning_rate=0.03, xgb__max_depth=6, xgb__n_estimators=50, xgb__reg_lambda=0.001;, score=(train=-4.580, test=-7.083) total time=   0.3s\n",
      "[CV 4/5; 1/2] START xgb__colsample_bytree=0.7, xgb__gamma=0.1, xgb__learning_rate=0.03, xgb__max_depth=6, xgb__n_estimators=50, xgb__reg_lambda=0.001\n"
     ]
    },
    {
     "name": "stderr",
     "output_type": "stream",
     "text": [
      "C:\\Users\\ATeklesadik\\Miniconda3\\envs\\geo_env\\lib\\site-packages\\xgboost\\data.py:112: UserWarning: Use subset (sliced data) of np.ndarray is not recommended because it will generate extra copies and increase memory consumption\n",
      "  warnings.warn(\n",
      "C:\\Users\\ATeklesadik\\Miniconda3\\envs\\geo_env\\lib\\site-packages\\xgboost\\data.py:112: UserWarning: Use subset (sliced data) of np.ndarray is not recommended because it will generate extra copies and increase memory consumption\n",
      "  warnings.warn(\n"
     ]
    },
    {
     "name": "stdout",
     "output_type": "stream",
     "text": [
      "[CV 4/5; 1/2] END xgb__colsample_bytree=0.7, xgb__gamma=0.1, xgb__learning_rate=0.03, xgb__max_depth=6, xgb__n_estimators=50, xgb__reg_lambda=0.001;, score=(train=-4.733, test=-5.940) total time=   0.3s\n",
      "[CV 5/5; 1/2] START xgb__colsample_bytree=0.7, xgb__gamma=0.1, xgb__learning_rate=0.03, xgb__max_depth=6, xgb__n_estimators=50, xgb__reg_lambda=0.001\n"
     ]
    },
    {
     "name": "stderr",
     "output_type": "stream",
     "text": [
      "C:\\Users\\ATeklesadik\\Miniconda3\\envs\\geo_env\\lib\\site-packages\\xgboost\\data.py:112: UserWarning: Use subset (sliced data) of np.ndarray is not recommended because it will generate extra copies and increase memory consumption\n",
      "  warnings.warn(\n",
      "C:\\Users\\ATeklesadik\\Miniconda3\\envs\\geo_env\\lib\\site-packages\\xgboost\\data.py:112: UserWarning: Use subset (sliced data) of np.ndarray is not recommended because it will generate extra copies and increase memory consumption\n",
      "  warnings.warn(\n"
     ]
    },
    {
     "name": "stdout",
     "output_type": "stream",
     "text": [
      "[CV 5/5; 1/2] END xgb__colsample_bytree=0.7, xgb__gamma=0.1, xgb__learning_rate=0.03, xgb__max_depth=6, xgb__n_estimators=50, xgb__reg_lambda=0.001;, score=(train=-4.594, test=-6.020) total time=   0.3s\n",
      "[CV 1/5; 2/2] START xgb__colsample_bytree=0.7, xgb__gamma=0.1, xgb__learning_rate=0.03, xgb__max_depth=8, xgb__n_estimators=50, xgb__reg_lambda=0.001\n"
     ]
    },
    {
     "name": "stderr",
     "output_type": "stream",
     "text": [
      "C:\\Users\\ATeklesadik\\Miniconda3\\envs\\geo_env\\lib\\site-packages\\xgboost\\data.py:112: UserWarning: Use subset (sliced data) of np.ndarray is not recommended because it will generate extra copies and increase memory consumption\n",
      "  warnings.warn(\n",
      "C:\\Users\\ATeklesadik\\Miniconda3\\envs\\geo_env\\lib\\site-packages\\xgboost\\data.py:112: UserWarning: Use subset (sliced data) of np.ndarray is not recommended because it will generate extra copies and increase memory consumption\n",
      "  warnings.warn(\n"
     ]
    },
    {
     "name": "stdout",
     "output_type": "stream",
     "text": [
      "[CV 1/5; 2/2] END xgb__colsample_bytree=0.7, xgb__gamma=0.1, xgb__learning_rate=0.03, xgb__max_depth=8, xgb__n_estimators=50, xgb__reg_lambda=0.001;, score=(train=-3.617, test=-5.724) total time=   0.6s\n",
      "[CV 2/5; 2/2] START xgb__colsample_bytree=0.7, xgb__gamma=0.1, xgb__learning_rate=0.03, xgb__max_depth=8, xgb__n_estimators=50, xgb__reg_lambda=0.001\n"
     ]
    },
    {
     "name": "stderr",
     "output_type": "stream",
     "text": [
      "C:\\Users\\ATeklesadik\\Miniconda3\\envs\\geo_env\\lib\\site-packages\\xgboost\\data.py:112: UserWarning: Use subset (sliced data) of np.ndarray is not recommended because it will generate extra copies and increase memory consumption\n",
      "  warnings.warn(\n",
      "C:\\Users\\ATeklesadik\\Miniconda3\\envs\\geo_env\\lib\\site-packages\\xgboost\\data.py:112: UserWarning: Use subset (sliced data) of np.ndarray is not recommended because it will generate extra copies and increase memory consumption\n",
      "  warnings.warn(\n"
     ]
    },
    {
     "name": "stdout",
     "output_type": "stream",
     "text": [
      "[CV 2/5; 2/2] END xgb__colsample_bytree=0.7, xgb__gamma=0.1, xgb__learning_rate=0.03, xgb__max_depth=8, xgb__n_estimators=50, xgb__reg_lambda=0.001;, score=(train=-3.543, test=-5.904) total time=   0.5s\n",
      "[CV 3/5; 2/2] START xgb__colsample_bytree=0.7, xgb__gamma=0.1, xgb__learning_rate=0.03, xgb__max_depth=8, xgb__n_estimators=50, xgb__reg_lambda=0.001\n"
     ]
    },
    {
     "name": "stderr",
     "output_type": "stream",
     "text": [
      "C:\\Users\\ATeklesadik\\Miniconda3\\envs\\geo_env\\lib\\site-packages\\xgboost\\data.py:112: UserWarning: Use subset (sliced data) of np.ndarray is not recommended because it will generate extra copies and increase memory consumption\n",
      "  warnings.warn(\n",
      "C:\\Users\\ATeklesadik\\Miniconda3\\envs\\geo_env\\lib\\site-packages\\xgboost\\data.py:112: UserWarning: Use subset (sliced data) of np.ndarray is not recommended because it will generate extra copies and increase memory consumption\n",
      "  warnings.warn(\n"
     ]
    },
    {
     "name": "stdout",
     "output_type": "stream",
     "text": [
      "[CV 3/5; 2/2] END xgb__colsample_bytree=0.7, xgb__gamma=0.1, xgb__learning_rate=0.03, xgb__max_depth=8, xgb__n_estimators=50, xgb__reg_lambda=0.001;, score=(train=-3.595, test=-7.010) total time=   0.5s\n",
      "[CV 4/5; 2/2] START xgb__colsample_bytree=0.7, xgb__gamma=0.1, xgb__learning_rate=0.03, xgb__max_depth=8, xgb__n_estimators=50, xgb__reg_lambda=0.001\n"
     ]
    },
    {
     "name": "stderr",
     "output_type": "stream",
     "text": [
      "C:\\Users\\ATeklesadik\\Miniconda3\\envs\\geo_env\\lib\\site-packages\\xgboost\\data.py:112: UserWarning: Use subset (sliced data) of np.ndarray is not recommended because it will generate extra copies and increase memory consumption\n",
      "  warnings.warn(\n",
      "C:\\Users\\ATeklesadik\\Miniconda3\\envs\\geo_env\\lib\\site-packages\\xgboost\\data.py:112: UserWarning: Use subset (sliced data) of np.ndarray is not recommended because it will generate extra copies and increase memory consumption\n",
      "  warnings.warn(\n"
     ]
    },
    {
     "name": "stdout",
     "output_type": "stream",
     "text": [
      "[CV 4/5; 2/2] END xgb__colsample_bytree=0.7, xgb__gamma=0.1, xgb__learning_rate=0.03, xgb__max_depth=8, xgb__n_estimators=50, xgb__reg_lambda=0.001;, score=(train=-3.730, test=-5.900) total time=   0.6s\n",
      "[CV 5/5; 2/2] START xgb__colsample_bytree=0.7, xgb__gamma=0.1, xgb__learning_rate=0.03, xgb__max_depth=8, xgb__n_estimators=50, xgb__reg_lambda=0.001\n"
     ]
    },
    {
     "name": "stderr",
     "output_type": "stream",
     "text": [
      "C:\\Users\\ATeklesadik\\Miniconda3\\envs\\geo_env\\lib\\site-packages\\xgboost\\data.py:112: UserWarning: Use subset (sliced data) of np.ndarray is not recommended because it will generate extra copies and increase memory consumption\n",
      "  warnings.warn(\n",
      "C:\\Users\\ATeklesadik\\Miniconda3\\envs\\geo_env\\lib\\site-packages\\xgboost\\data.py:112: UserWarning: Use subset (sliced data) of np.ndarray is not recommended because it will generate extra copies and increase memory consumption\n",
      "  warnings.warn(\n"
     ]
    },
    {
     "name": "stdout",
     "output_type": "stream",
     "text": [
      "[CV 5/5; 2/2] END xgb__colsample_bytree=0.7, xgb__gamma=0.1, xgb__learning_rate=0.03, xgb__max_depth=8, xgb__n_estimators=50, xgb__reg_lambda=0.001;, score=(train=-3.702, test=-5.927) total time=   0.5s\n"
     ]
    },
    {
     "name": "stderr",
     "output_type": "stream",
     "text": [
      "C:\\Users\\ATeklesadik\\Miniconda3\\envs\\geo_env\\lib\\site-packages\\xgboost\\data.py:112: UserWarning: Use subset (sliced data) of np.ndarray is not recommended because it will generate extra copies and increase memory consumption\n",
      "  warnings.warn(\n",
      "C:\\Users\\ATeklesadik\\Miniconda3\\envs\\geo_env\\lib\\site-packages\\sklearn\\model_selection\\_search.py:285: UserWarning: The total space of parameters 2 is smaller than n_iter=500. Running 2 iterations. For exhaustive searches, use GridSearchCV.\n",
      "  warnings.warn(\n"
     ]
    },
    {
     "name": "stdout",
     "output_type": "stream",
     "text": [
      "Selected Parameters {'xgb__reg_lambda': 0.001, 'xgb__n_estimators': 50, 'xgb__max_depth': 8, 'xgb__learning_rate': 0.03, 'xgb__gamma': 0.1, 'xgb__colsample_bytree': 0.7}\n",
      "Train score: 1.3644540103819474\n",
      "Test score: 1.6238783217424602\n",
      "Running for 29 out of a total of 39\n",
      "Fitting 5 folds for each of 2 candidates, totalling 10 fits\n",
      "[CV 1/5; 1/2] START xgb__colsample_bytree=0.7, xgb__gamma=0.1, xgb__learning_rate=0.03, xgb__max_depth=6, xgb__n_estimators=50, xgb__reg_lambda=0.001\n"
     ]
    },
    {
     "name": "stderr",
     "output_type": "stream",
     "text": [
      "C:\\Users\\ATeklesadik\\Miniconda3\\envs\\geo_env\\lib\\site-packages\\xgboost\\data.py:112: UserWarning: Use subset (sliced data) of np.ndarray is not recommended because it will generate extra copies and increase memory consumption\n",
      "  warnings.warn(\n",
      "C:\\Users\\ATeklesadik\\Miniconda3\\envs\\geo_env\\lib\\site-packages\\xgboost\\data.py:112: UserWarning: Use subset (sliced data) of np.ndarray is not recommended because it will generate extra copies and increase memory consumption\n",
      "  warnings.warn(\n"
     ]
    },
    {
     "name": "stdout",
     "output_type": "stream",
     "text": [
      "[CV 1/5; 1/2] END xgb__colsample_bytree=0.7, xgb__gamma=0.1, xgb__learning_rate=0.03, xgb__max_depth=6, xgb__n_estimators=50, xgb__reg_lambda=0.001;, score=(train=-4.738, test=-5.588) total time=   0.3s\n",
      "[CV 2/5; 1/2] START xgb__colsample_bytree=0.7, xgb__gamma=0.1, xgb__learning_rate=0.03, xgb__max_depth=6, xgb__n_estimators=50, xgb__reg_lambda=0.001\n"
     ]
    },
    {
     "name": "stderr",
     "output_type": "stream",
     "text": [
      "C:\\Users\\ATeklesadik\\Miniconda3\\envs\\geo_env\\lib\\site-packages\\xgboost\\data.py:112: UserWarning: Use subset (sliced data) of np.ndarray is not recommended because it will generate extra copies and increase memory consumption\n",
      "  warnings.warn(\n",
      "C:\\Users\\ATeklesadik\\Miniconda3\\envs\\geo_env\\lib\\site-packages\\xgboost\\data.py:112: UserWarning: Use subset (sliced data) of np.ndarray is not recommended because it will generate extra copies and increase memory consumption\n",
      "  warnings.warn(\n"
     ]
    },
    {
     "name": "stdout",
     "output_type": "stream",
     "text": [
      "[CV 2/5; 1/2] END xgb__colsample_bytree=0.7, xgb__gamma=0.1, xgb__learning_rate=0.03, xgb__max_depth=6, xgb__n_estimators=50, xgb__reg_lambda=0.001;, score=(train=-4.729, test=-6.853) total time=   0.3s\n",
      "[CV 3/5; 1/2] START xgb__colsample_bytree=0.7, xgb__gamma=0.1, xgb__learning_rate=0.03, xgb__max_depth=6, xgb__n_estimators=50, xgb__reg_lambda=0.001\n"
     ]
    },
    {
     "name": "stderr",
     "output_type": "stream",
     "text": [
      "C:\\Users\\ATeklesadik\\Miniconda3\\envs\\geo_env\\lib\\site-packages\\xgboost\\data.py:112: UserWarning: Use subset (sliced data) of np.ndarray is not recommended because it will generate extra copies and increase memory consumption\n",
      "  warnings.warn(\n",
      "C:\\Users\\ATeklesadik\\Miniconda3\\envs\\geo_env\\lib\\site-packages\\xgboost\\data.py:112: UserWarning: Use subset (sliced data) of np.ndarray is not recommended because it will generate extra copies and increase memory consumption\n",
      "  warnings.warn(\n"
     ]
    },
    {
     "name": "stdout",
     "output_type": "stream",
     "text": [
      "[CV 3/5; 1/2] END xgb__colsample_bytree=0.7, xgb__gamma=0.1, xgb__learning_rate=0.03, xgb__max_depth=6, xgb__n_estimators=50, xgb__reg_lambda=0.001;, score=(train=-4.780, test=-6.361) total time=   0.4s\n",
      "[CV 4/5; 1/2] START xgb__colsample_bytree=0.7, xgb__gamma=0.1, xgb__learning_rate=0.03, xgb__max_depth=6, xgb__n_estimators=50, xgb__reg_lambda=0.001\n"
     ]
    },
    {
     "name": "stderr",
     "output_type": "stream",
     "text": [
      "C:\\Users\\ATeklesadik\\Miniconda3\\envs\\geo_env\\lib\\site-packages\\xgboost\\data.py:112: UserWarning: Use subset (sliced data) of np.ndarray is not recommended because it will generate extra copies and increase memory consumption\n",
      "  warnings.warn(\n",
      "C:\\Users\\ATeklesadik\\Miniconda3\\envs\\geo_env\\lib\\site-packages\\xgboost\\data.py:112: UserWarning: Use subset (sliced data) of np.ndarray is not recommended because it will generate extra copies and increase memory consumption\n",
      "  warnings.warn(\n"
     ]
    },
    {
     "name": "stdout",
     "output_type": "stream",
     "text": [
      "[CV 4/5; 1/2] END xgb__colsample_bytree=0.7, xgb__gamma=0.1, xgb__learning_rate=0.03, xgb__max_depth=6, xgb__n_estimators=50, xgb__reg_lambda=0.001;, score=(train=-4.646, test=-6.283) total time=   0.3s\n",
      "[CV 5/5; 1/2] START xgb__colsample_bytree=0.7, xgb__gamma=0.1, xgb__learning_rate=0.03, xgb__max_depth=6, xgb__n_estimators=50, xgb__reg_lambda=0.001\n"
     ]
    },
    {
     "name": "stderr",
     "output_type": "stream",
     "text": [
      "C:\\Users\\ATeklesadik\\Miniconda3\\envs\\geo_env\\lib\\site-packages\\xgboost\\data.py:112: UserWarning: Use subset (sliced data) of np.ndarray is not recommended because it will generate extra copies and increase memory consumption\n",
      "  warnings.warn(\n",
      "C:\\Users\\ATeklesadik\\Miniconda3\\envs\\geo_env\\lib\\site-packages\\xgboost\\data.py:112: UserWarning: Use subset (sliced data) of np.ndarray is not recommended because it will generate extra copies and increase memory consumption\n",
      "  warnings.warn(\n"
     ]
    },
    {
     "name": "stdout",
     "output_type": "stream",
     "text": [
      "[CV 5/5; 1/2] END xgb__colsample_bytree=0.7, xgb__gamma=0.1, xgb__learning_rate=0.03, xgb__max_depth=6, xgb__n_estimators=50, xgb__reg_lambda=0.001;, score=(train=-4.794, test=-5.943) total time=   0.3s\n",
      "[CV 1/5; 2/2] START xgb__colsample_bytree=0.7, xgb__gamma=0.1, xgb__learning_rate=0.03, xgb__max_depth=8, xgb__n_estimators=50, xgb__reg_lambda=0.001\n"
     ]
    },
    {
     "name": "stderr",
     "output_type": "stream",
     "text": [
      "C:\\Users\\ATeklesadik\\Miniconda3\\envs\\geo_env\\lib\\site-packages\\xgboost\\data.py:112: UserWarning: Use subset (sliced data) of np.ndarray is not recommended because it will generate extra copies and increase memory consumption\n",
      "  warnings.warn(\n",
      "C:\\Users\\ATeklesadik\\Miniconda3\\envs\\geo_env\\lib\\site-packages\\xgboost\\data.py:112: UserWarning: Use subset (sliced data) of np.ndarray is not recommended because it will generate extra copies and increase memory consumption\n",
      "  warnings.warn(\n"
     ]
    },
    {
     "name": "stdout",
     "output_type": "stream",
     "text": [
      "[CV 1/5; 2/2] END xgb__colsample_bytree=0.7, xgb__gamma=0.1, xgb__learning_rate=0.03, xgb__max_depth=8, xgb__n_estimators=50, xgb__reg_lambda=0.001;, score=(train=-3.702, test=-5.526) total time=   0.5s\n",
      "[CV 2/5; 2/2] START xgb__colsample_bytree=0.7, xgb__gamma=0.1, xgb__learning_rate=0.03, xgb__max_depth=8, xgb__n_estimators=50, xgb__reg_lambda=0.001\n"
     ]
    },
    {
     "name": "stderr",
     "output_type": "stream",
     "text": [
      "C:\\Users\\ATeklesadik\\Miniconda3\\envs\\geo_env\\lib\\site-packages\\xgboost\\data.py:112: UserWarning: Use subset (sliced data) of np.ndarray is not recommended because it will generate extra copies and increase memory consumption\n",
      "  warnings.warn(\n",
      "C:\\Users\\ATeklesadik\\Miniconda3\\envs\\geo_env\\lib\\site-packages\\xgboost\\data.py:112: UserWarning: Use subset (sliced data) of np.ndarray is not recommended because it will generate extra copies and increase memory consumption\n",
      "  warnings.warn(\n"
     ]
    },
    {
     "name": "stdout",
     "output_type": "stream",
     "text": [
      "[CV 2/5; 2/2] END xgb__colsample_bytree=0.7, xgb__gamma=0.1, xgb__learning_rate=0.03, xgb__max_depth=8, xgb__n_estimators=50, xgb__reg_lambda=0.001;, score=(train=-3.827, test=-6.769) total time=   0.6s\n",
      "[CV 3/5; 2/2] START xgb__colsample_bytree=0.7, xgb__gamma=0.1, xgb__learning_rate=0.03, xgb__max_depth=8, xgb__n_estimators=50, xgb__reg_lambda=0.001\n"
     ]
    },
    {
     "name": "stderr",
     "output_type": "stream",
     "text": [
      "C:\\Users\\ATeklesadik\\Miniconda3\\envs\\geo_env\\lib\\site-packages\\xgboost\\data.py:112: UserWarning: Use subset (sliced data) of np.ndarray is not recommended because it will generate extra copies and increase memory consumption\n",
      "  warnings.warn(\n",
      "C:\\Users\\ATeklesadik\\Miniconda3\\envs\\geo_env\\lib\\site-packages\\xgboost\\data.py:112: UserWarning: Use subset (sliced data) of np.ndarray is not recommended because it will generate extra copies and increase memory consumption\n",
      "  warnings.warn(\n"
     ]
    },
    {
     "name": "stdout",
     "output_type": "stream",
     "text": [
      "[CV 3/5; 2/2] END xgb__colsample_bytree=0.7, xgb__gamma=0.1, xgb__learning_rate=0.03, xgb__max_depth=8, xgb__n_estimators=50, xgb__reg_lambda=0.001;, score=(train=-3.831, test=-6.216) total time=   0.5s\n",
      "[CV 4/5; 2/2] START xgb__colsample_bytree=0.7, xgb__gamma=0.1, xgb__learning_rate=0.03, xgb__max_depth=8, xgb__n_estimators=50, xgb__reg_lambda=0.001\n"
     ]
    },
    {
     "name": "stderr",
     "output_type": "stream",
     "text": [
      "C:\\Users\\ATeklesadik\\Miniconda3\\envs\\geo_env\\lib\\site-packages\\xgboost\\data.py:112: UserWarning: Use subset (sliced data) of np.ndarray is not recommended because it will generate extra copies and increase memory consumption\n",
      "  warnings.warn(\n",
      "C:\\Users\\ATeklesadik\\Miniconda3\\envs\\geo_env\\lib\\site-packages\\xgboost\\data.py:112: UserWarning: Use subset (sliced data) of np.ndarray is not recommended because it will generate extra copies and increase memory consumption\n",
      "  warnings.warn(\n"
     ]
    },
    {
     "name": "stdout",
     "output_type": "stream",
     "text": [
      "[CV 4/5; 2/2] END xgb__colsample_bytree=0.7, xgb__gamma=0.1, xgb__learning_rate=0.03, xgb__max_depth=8, xgb__n_estimators=50, xgb__reg_lambda=0.001;, score=(train=-3.673, test=-6.366) total time=   0.6s\n",
      "[CV 5/5; 2/2] START xgb__colsample_bytree=0.7, xgb__gamma=0.1, xgb__learning_rate=0.03, xgb__max_depth=8, xgb__n_estimators=50, xgb__reg_lambda=0.001\n"
     ]
    },
    {
     "name": "stderr",
     "output_type": "stream",
     "text": [
      "C:\\Users\\ATeklesadik\\Miniconda3\\envs\\geo_env\\lib\\site-packages\\xgboost\\data.py:112: UserWarning: Use subset (sliced data) of np.ndarray is not recommended because it will generate extra copies and increase memory consumption\n",
      "  warnings.warn(\n",
      "C:\\Users\\ATeklesadik\\Miniconda3\\envs\\geo_env\\lib\\site-packages\\xgboost\\data.py:112: UserWarning: Use subset (sliced data) of np.ndarray is not recommended because it will generate extra copies and increase memory consumption\n",
      "  warnings.warn(\n"
     ]
    },
    {
     "name": "stdout",
     "output_type": "stream",
     "text": [
      "[CV 5/5; 2/2] END xgb__colsample_bytree=0.7, xgb__gamma=0.1, xgb__learning_rate=0.03, xgb__max_depth=8, xgb__n_estimators=50, xgb__reg_lambda=0.001;, score=(train=-3.714, test=-5.939) total time=   0.5s\n"
     ]
    },
    {
     "name": "stderr",
     "output_type": "stream",
     "text": [
      "C:\\Users\\ATeklesadik\\Miniconda3\\envs\\geo_env\\lib\\site-packages\\xgboost\\data.py:112: UserWarning: Use subset (sliced data) of np.ndarray is not recommended because it will generate extra copies and increase memory consumption\n",
      "  warnings.warn(\n",
      "C:\\Users\\ATeklesadik\\Miniconda3\\envs\\geo_env\\lib\\site-packages\\sklearn\\model_selection\\_search.py:285: UserWarning: The total space of parameters 2 is smaller than n_iter=500. Running 2 iterations. For exhaustive searches, use GridSearchCV.\n",
      "  warnings.warn(\n"
     ]
    },
    {
     "name": "stdout",
     "output_type": "stream",
     "text": [
      "Selected Parameters {'xgb__reg_lambda': 0.001, 'xgb__n_estimators': 50, 'xgb__max_depth': 8, 'xgb__learning_rate': 0.03, 'xgb__gamma': 0.1, 'xgb__colsample_bytree': 0.7}\n",
      "Train score: 1.404375739176222\n",
      "Test score: 0.157559270931276\n",
      "Running for 30 out of a total of 39\n",
      "Fitting 5 folds for each of 2 candidates, totalling 10 fits\n",
      "[CV 1/5; 1/2] START xgb__colsample_bytree=0.7, xgb__gamma=0.1, xgb__learning_rate=0.03, xgb__max_depth=6, xgb__n_estimators=50, xgb__reg_lambda=0.001\n"
     ]
    },
    {
     "name": "stderr",
     "output_type": "stream",
     "text": [
      "C:\\Users\\ATeklesadik\\Miniconda3\\envs\\geo_env\\lib\\site-packages\\xgboost\\data.py:112: UserWarning: Use subset (sliced data) of np.ndarray is not recommended because it will generate extra copies and increase memory consumption\n",
      "  warnings.warn(\n",
      "C:\\Users\\ATeklesadik\\Miniconda3\\envs\\geo_env\\lib\\site-packages\\xgboost\\data.py:112: UserWarning: Use subset (sliced data) of np.ndarray is not recommended because it will generate extra copies and increase memory consumption\n",
      "  warnings.warn(\n"
     ]
    },
    {
     "name": "stdout",
     "output_type": "stream",
     "text": [
      "[CV 1/5; 1/2] END xgb__colsample_bytree=0.7, xgb__gamma=0.1, xgb__learning_rate=0.03, xgb__max_depth=6, xgb__n_estimators=50, xgb__reg_lambda=0.001;, score=(train=-4.584, test=-5.996) total time=   0.3s\n",
      "[CV 2/5; 1/2] START xgb__colsample_bytree=0.7, xgb__gamma=0.1, xgb__learning_rate=0.03, xgb__max_depth=6, xgb__n_estimators=50, xgb__reg_lambda=0.001\n"
     ]
    },
    {
     "name": "stderr",
     "output_type": "stream",
     "text": [
      "C:\\Users\\ATeklesadik\\Miniconda3\\envs\\geo_env\\lib\\site-packages\\xgboost\\data.py:112: UserWarning: Use subset (sliced data) of np.ndarray is not recommended because it will generate extra copies and increase memory consumption\n",
      "  warnings.warn(\n",
      "C:\\Users\\ATeklesadik\\Miniconda3\\envs\\geo_env\\lib\\site-packages\\xgboost\\data.py:112: UserWarning: Use subset (sliced data) of np.ndarray is not recommended because it will generate extra copies and increase memory consumption\n",
      "  warnings.warn(\n"
     ]
    },
    {
     "name": "stdout",
     "output_type": "stream",
     "text": [
      "[CV 2/5; 1/2] END xgb__colsample_bytree=0.7, xgb__gamma=0.1, xgb__learning_rate=0.03, xgb__max_depth=6, xgb__n_estimators=50, xgb__reg_lambda=0.001;, score=(train=-4.789, test=-5.225) total time=   0.3s\n",
      "[CV 3/5; 1/2] START xgb__colsample_bytree=0.7, xgb__gamma=0.1, xgb__learning_rate=0.03, xgb__max_depth=6, xgb__n_estimators=50, xgb__reg_lambda=0.001\n"
     ]
    },
    {
     "name": "stderr",
     "output_type": "stream",
     "text": [
      "C:\\Users\\ATeklesadik\\Miniconda3\\envs\\geo_env\\lib\\site-packages\\xgboost\\data.py:112: UserWarning: Use subset (sliced data) of np.ndarray is not recommended because it will generate extra copies and increase memory consumption\n",
      "  warnings.warn(\n",
      "C:\\Users\\ATeklesadik\\Miniconda3\\envs\\geo_env\\lib\\site-packages\\xgboost\\data.py:112: UserWarning: Use subset (sliced data) of np.ndarray is not recommended because it will generate extra copies and increase memory consumption\n",
      "  warnings.warn(\n"
     ]
    },
    {
     "name": "stdout",
     "output_type": "stream",
     "text": [
      "[CV 3/5; 1/2] END xgb__colsample_bytree=0.7, xgb__gamma=0.1, xgb__learning_rate=0.03, xgb__max_depth=6, xgb__n_estimators=50, xgb__reg_lambda=0.001;, score=(train=-4.733, test=-5.288) total time=   0.3s\n",
      "[CV 4/5; 1/2] START xgb__colsample_bytree=0.7, xgb__gamma=0.1, xgb__learning_rate=0.03, xgb__max_depth=6, xgb__n_estimators=50, xgb__reg_lambda=0.001\n"
     ]
    },
    {
     "name": "stderr",
     "output_type": "stream",
     "text": [
      "C:\\Users\\ATeklesadik\\Miniconda3\\envs\\geo_env\\lib\\site-packages\\xgboost\\data.py:112: UserWarning: Use subset (sliced data) of np.ndarray is not recommended because it will generate extra copies and increase memory consumption\n",
      "  warnings.warn(\n",
      "C:\\Users\\ATeklesadik\\Miniconda3\\envs\\geo_env\\lib\\site-packages\\xgboost\\data.py:112: UserWarning: Use subset (sliced data) of np.ndarray is not recommended because it will generate extra copies and increase memory consumption\n",
      "  warnings.warn(\n"
     ]
    },
    {
     "name": "stdout",
     "output_type": "stream",
     "text": [
      "[CV 4/5; 1/2] END xgb__colsample_bytree=0.7, xgb__gamma=0.1, xgb__learning_rate=0.03, xgb__max_depth=6, xgb__n_estimators=50, xgb__reg_lambda=0.001;, score=(train=-4.535, test=-6.605) total time=   0.3s\n",
      "[CV 5/5; 1/2] START xgb__colsample_bytree=0.7, xgb__gamma=0.1, xgb__learning_rate=0.03, xgb__max_depth=6, xgb__n_estimators=50, xgb__reg_lambda=0.001\n"
     ]
    },
    {
     "name": "stderr",
     "output_type": "stream",
     "text": [
      "C:\\Users\\ATeklesadik\\Miniconda3\\envs\\geo_env\\lib\\site-packages\\xgboost\\data.py:112: UserWarning: Use subset (sliced data) of np.ndarray is not recommended because it will generate extra copies and increase memory consumption\n",
      "  warnings.warn(\n",
      "C:\\Users\\ATeklesadik\\Miniconda3\\envs\\geo_env\\lib\\site-packages\\xgboost\\data.py:112: UserWarning: Use subset (sliced data) of np.ndarray is not recommended because it will generate extra copies and increase memory consumption\n",
      "  warnings.warn(\n"
     ]
    },
    {
     "name": "stdout",
     "output_type": "stream",
     "text": [
      "[CV 5/5; 1/2] END xgb__colsample_bytree=0.7, xgb__gamma=0.1, xgb__learning_rate=0.03, xgb__max_depth=6, xgb__n_estimators=50, xgb__reg_lambda=0.001;, score=(train=-4.436, test=-7.699) total time=   0.4s\n",
      "[CV 1/5; 2/2] START xgb__colsample_bytree=0.7, xgb__gamma=0.1, xgb__learning_rate=0.03, xgb__max_depth=8, xgb__n_estimators=50, xgb__reg_lambda=0.001\n"
     ]
    },
    {
     "name": "stderr",
     "output_type": "stream",
     "text": [
      "C:\\Users\\ATeklesadik\\Miniconda3\\envs\\geo_env\\lib\\site-packages\\xgboost\\data.py:112: UserWarning: Use subset (sliced data) of np.ndarray is not recommended because it will generate extra copies and increase memory consumption\n",
      "  warnings.warn(\n",
      "C:\\Users\\ATeklesadik\\Miniconda3\\envs\\geo_env\\lib\\site-packages\\xgboost\\data.py:112: UserWarning: Use subset (sliced data) of np.ndarray is not recommended because it will generate extra copies and increase memory consumption\n",
      "  warnings.warn(\n"
     ]
    },
    {
     "name": "stdout",
     "output_type": "stream",
     "text": [
      "[CV 1/5; 2/2] END xgb__colsample_bytree=0.7, xgb__gamma=0.1, xgb__learning_rate=0.03, xgb__max_depth=8, xgb__n_estimators=50, xgb__reg_lambda=0.001;, score=(train=-3.583, test=-5.966) total time=   0.6s\n",
      "[CV 2/5; 2/2] START xgb__colsample_bytree=0.7, xgb__gamma=0.1, xgb__learning_rate=0.03, xgb__max_depth=8, xgb__n_estimators=50, xgb__reg_lambda=0.001\n"
     ]
    },
    {
     "name": "stderr",
     "output_type": "stream",
     "text": [
      "C:\\Users\\ATeklesadik\\Miniconda3\\envs\\geo_env\\lib\\site-packages\\xgboost\\data.py:112: UserWarning: Use subset (sliced data) of np.ndarray is not recommended because it will generate extra copies and increase memory consumption\n",
      "  warnings.warn(\n",
      "C:\\Users\\ATeklesadik\\Miniconda3\\envs\\geo_env\\lib\\site-packages\\xgboost\\data.py:112: UserWarning: Use subset (sliced data) of np.ndarray is not recommended because it will generate extra copies and increase memory consumption\n",
      "  warnings.warn(\n"
     ]
    },
    {
     "name": "stdout",
     "output_type": "stream",
     "text": [
      "[CV 2/5; 2/2] END xgb__colsample_bytree=0.7, xgb__gamma=0.1, xgb__learning_rate=0.03, xgb__max_depth=8, xgb__n_estimators=50, xgb__reg_lambda=0.001;, score=(train=-3.720, test=-5.129) total time=   0.6s\n",
      "[CV 3/5; 2/2] START xgb__colsample_bytree=0.7, xgb__gamma=0.1, xgb__learning_rate=0.03, xgb__max_depth=8, xgb__n_estimators=50, xgb__reg_lambda=0.001\n"
     ]
    },
    {
     "name": "stderr",
     "output_type": "stream",
     "text": [
      "C:\\Users\\ATeklesadik\\Miniconda3\\envs\\geo_env\\lib\\site-packages\\xgboost\\data.py:112: UserWarning: Use subset (sliced data) of np.ndarray is not recommended because it will generate extra copies and increase memory consumption\n",
      "  warnings.warn(\n",
      "C:\\Users\\ATeklesadik\\Miniconda3\\envs\\geo_env\\lib\\site-packages\\xgboost\\data.py:112: UserWarning: Use subset (sliced data) of np.ndarray is not recommended because it will generate extra copies and increase memory consumption\n",
      "  warnings.warn(\n"
     ]
    },
    {
     "name": "stdout",
     "output_type": "stream",
     "text": [
      "[CV 3/5; 2/2] END xgb__colsample_bytree=0.7, xgb__gamma=0.1, xgb__learning_rate=0.03, xgb__max_depth=8, xgb__n_estimators=50, xgb__reg_lambda=0.001;, score=(train=-3.668, test=-5.262) total time=   0.6s\n",
      "[CV 4/5; 2/2] START xgb__colsample_bytree=0.7, xgb__gamma=0.1, xgb__learning_rate=0.03, xgb__max_depth=8, xgb__n_estimators=50, xgb__reg_lambda=0.001\n"
     ]
    },
    {
     "name": "stderr",
     "output_type": "stream",
     "text": [
      "C:\\Users\\ATeklesadik\\Miniconda3\\envs\\geo_env\\lib\\site-packages\\xgboost\\data.py:112: UserWarning: Use subset (sliced data) of np.ndarray is not recommended because it will generate extra copies and increase memory consumption\n",
      "  warnings.warn(\n",
      "C:\\Users\\ATeklesadik\\Miniconda3\\envs\\geo_env\\lib\\site-packages\\xgboost\\data.py:112: UserWarning: Use subset (sliced data) of np.ndarray is not recommended because it will generate extra copies and increase memory consumption\n",
      "  warnings.warn(\n"
     ]
    },
    {
     "name": "stdout",
     "output_type": "stream",
     "text": [
      "[CV 4/5; 2/2] END xgb__colsample_bytree=0.7, xgb__gamma=0.1, xgb__learning_rate=0.03, xgb__max_depth=8, xgb__n_estimators=50, xgb__reg_lambda=0.001;, score=(train=-3.530, test=-6.635) total time=   0.6s\n",
      "[CV 5/5; 2/2] START xgb__colsample_bytree=0.7, xgb__gamma=0.1, xgb__learning_rate=0.03, xgb__max_depth=8, xgb__n_estimators=50, xgb__reg_lambda=0.001\n"
     ]
    },
    {
     "name": "stderr",
     "output_type": "stream",
     "text": [
      "C:\\Users\\ATeklesadik\\Miniconda3\\envs\\geo_env\\lib\\site-packages\\xgboost\\data.py:112: UserWarning: Use subset (sliced data) of np.ndarray is not recommended because it will generate extra copies and increase memory consumption\n",
      "  warnings.warn(\n",
      "C:\\Users\\ATeklesadik\\Miniconda3\\envs\\geo_env\\lib\\site-packages\\xgboost\\data.py:112: UserWarning: Use subset (sliced data) of np.ndarray is not recommended because it will generate extra copies and increase memory consumption\n",
      "  warnings.warn(\n"
     ]
    },
    {
     "name": "stdout",
     "output_type": "stream",
     "text": [
      "[CV 5/5; 2/2] END xgb__colsample_bytree=0.7, xgb__gamma=0.1, xgb__learning_rate=0.03, xgb__max_depth=8, xgb__n_estimators=50, xgb__reg_lambda=0.001;, score=(train=-3.491, test=-7.645) total time=   0.5s\n"
     ]
    },
    {
     "name": "stderr",
     "output_type": "stream",
     "text": [
      "C:\\Users\\ATeklesadik\\Miniconda3\\envs\\geo_env\\lib\\site-packages\\xgboost\\data.py:112: UserWarning: Use subset (sliced data) of np.ndarray is not recommended because it will generate extra copies and increase memory consumption\n",
      "  warnings.warn(\n",
      "C:\\Users\\ATeklesadik\\Miniconda3\\envs\\geo_env\\lib\\site-packages\\sklearn\\model_selection\\_search.py:285: UserWarning: The total space of parameters 2 is smaller than n_iter=500. Running 2 iterations. For exhaustive searches, use GridSearchCV.\n",
      "  warnings.warn(\n"
     ]
    },
    {
     "name": "stdout",
     "output_type": "stream",
     "text": [
      "Selected Parameters {'xgb__reg_lambda': 0.001, 'xgb__n_estimators': 50, 'xgb__max_depth': 8, 'xgb__learning_rate': 0.03, 'xgb__gamma': 0.1, 'xgb__colsample_bytree': 0.7}\n",
      "Train score: 1.3182245754262603\n",
      "Test score: 2.688637994256065\n",
      "Running for 31 out of a total of 39\n",
      "Fitting 5 folds for each of 2 candidates, totalling 10 fits\n",
      "[CV 1/5; 1/2] START xgb__colsample_bytree=0.7, xgb__gamma=0.1, xgb__learning_rate=0.03, xgb__max_depth=6, xgb__n_estimators=50, xgb__reg_lambda=0.001\n"
     ]
    },
    {
     "name": "stderr",
     "output_type": "stream",
     "text": [
      "C:\\Users\\ATeklesadik\\Miniconda3\\envs\\geo_env\\lib\\site-packages\\xgboost\\data.py:112: UserWarning: Use subset (sliced data) of np.ndarray is not recommended because it will generate extra copies and increase memory consumption\n",
      "  warnings.warn(\n",
      "C:\\Users\\ATeklesadik\\Miniconda3\\envs\\geo_env\\lib\\site-packages\\xgboost\\data.py:112: UserWarning: Use subset (sliced data) of np.ndarray is not recommended because it will generate extra copies and increase memory consumption\n",
      "  warnings.warn(\n"
     ]
    },
    {
     "name": "stdout",
     "output_type": "stream",
     "text": [
      "[CV 1/5; 1/2] END xgb__colsample_bytree=0.7, xgb__gamma=0.1, xgb__learning_rate=0.03, xgb__max_depth=6, xgb__n_estimators=50, xgb__reg_lambda=0.001;, score=(train=-4.367, test=-5.222) total time=   0.4s\n",
      "[CV 2/5; 1/2] START xgb__colsample_bytree=0.7, xgb__gamma=0.1, xgb__learning_rate=0.03, xgb__max_depth=6, xgb__n_estimators=50, xgb__reg_lambda=0.001\n"
     ]
    },
    {
     "name": "stderr",
     "output_type": "stream",
     "text": [
      "C:\\Users\\ATeklesadik\\Miniconda3\\envs\\geo_env\\lib\\site-packages\\xgboost\\data.py:112: UserWarning: Use subset (sliced data) of np.ndarray is not recommended because it will generate extra copies and increase memory consumption\n",
      "  warnings.warn(\n",
      "C:\\Users\\ATeklesadik\\Miniconda3\\envs\\geo_env\\lib\\site-packages\\xgboost\\data.py:112: UserWarning: Use subset (sliced data) of np.ndarray is not recommended because it will generate extra copies and increase memory consumption\n",
      "  warnings.warn(\n"
     ]
    },
    {
     "name": "stdout",
     "output_type": "stream",
     "text": [
      "[CV 2/5; 1/2] END xgb__colsample_bytree=0.7, xgb__gamma=0.1, xgb__learning_rate=0.03, xgb__max_depth=6, xgb__n_estimators=50, xgb__reg_lambda=0.001;, score=(train=-4.134, test=-6.942) total time=   0.4s\n",
      "[CV 3/5; 1/2] START xgb__colsample_bytree=0.7, xgb__gamma=0.1, xgb__learning_rate=0.03, xgb__max_depth=6, xgb__n_estimators=50, xgb__reg_lambda=0.001\n"
     ]
    },
    {
     "name": "stderr",
     "output_type": "stream",
     "text": [
      "C:\\Users\\ATeklesadik\\Miniconda3\\envs\\geo_env\\lib\\site-packages\\xgboost\\data.py:112: UserWarning: Use subset (sliced data) of np.ndarray is not recommended because it will generate extra copies and increase memory consumption\n",
      "  warnings.warn(\n",
      "C:\\Users\\ATeklesadik\\Miniconda3\\envs\\geo_env\\lib\\site-packages\\xgboost\\data.py:112: UserWarning: Use subset (sliced data) of np.ndarray is not recommended because it will generate extra copies and increase memory consumption\n",
      "  warnings.warn(\n"
     ]
    },
    {
     "name": "stdout",
     "output_type": "stream",
     "text": [
      "[CV 3/5; 1/2] END xgb__colsample_bytree=0.7, xgb__gamma=0.1, xgb__learning_rate=0.03, xgb__max_depth=6, xgb__n_estimators=50, xgb__reg_lambda=0.001;, score=(train=-4.177, test=-6.025) total time=   0.3s\n",
      "[CV 4/5; 1/2] START xgb__colsample_bytree=0.7, xgb__gamma=0.1, xgb__learning_rate=0.03, xgb__max_depth=6, xgb__n_estimators=50, xgb__reg_lambda=0.001\n"
     ]
    },
    {
     "name": "stderr",
     "output_type": "stream",
     "text": [
      "C:\\Users\\ATeklesadik\\Miniconda3\\envs\\geo_env\\lib\\site-packages\\xgboost\\data.py:112: UserWarning: Use subset (sliced data) of np.ndarray is not recommended because it will generate extra copies and increase memory consumption\n",
      "  warnings.warn(\n",
      "C:\\Users\\ATeklesadik\\Miniconda3\\envs\\geo_env\\lib\\site-packages\\xgboost\\data.py:112: UserWarning: Use subset (sliced data) of np.ndarray is not recommended because it will generate extra copies and increase memory consumption\n",
      "  warnings.warn(\n"
     ]
    },
    {
     "name": "stdout",
     "output_type": "stream",
     "text": [
      "[CV 4/5; 1/2] END xgb__colsample_bytree=0.7, xgb__gamma=0.1, xgb__learning_rate=0.03, xgb__max_depth=6, xgb__n_estimators=50, xgb__reg_lambda=0.001;, score=(train=-4.387, test=-5.676) total time=   0.3s\n",
      "[CV 5/5; 1/2] START xgb__colsample_bytree=0.7, xgb__gamma=0.1, xgb__learning_rate=0.03, xgb__max_depth=6, xgb__n_estimators=50, xgb__reg_lambda=0.001\n"
     ]
    },
    {
     "name": "stderr",
     "output_type": "stream",
     "text": [
      "C:\\Users\\ATeklesadik\\Miniconda3\\envs\\geo_env\\lib\\site-packages\\xgboost\\data.py:112: UserWarning: Use subset (sliced data) of np.ndarray is not recommended because it will generate extra copies and increase memory consumption\n",
      "  warnings.warn(\n",
      "C:\\Users\\ATeklesadik\\Miniconda3\\envs\\geo_env\\lib\\site-packages\\xgboost\\data.py:112: UserWarning: Use subset (sliced data) of np.ndarray is not recommended because it will generate extra copies and increase memory consumption\n",
      "  warnings.warn(\n"
     ]
    },
    {
     "name": "stdout",
     "output_type": "stream",
     "text": [
      "[CV 5/5; 1/2] END xgb__colsample_bytree=0.7, xgb__gamma=0.1, xgb__learning_rate=0.03, xgb__max_depth=6, xgb__n_estimators=50, xgb__reg_lambda=0.001;, score=(train=-3.988, test=-6.613) total time=   0.3s\n",
      "[CV 1/5; 2/2] START xgb__colsample_bytree=0.7, xgb__gamma=0.1, xgb__learning_rate=0.03, xgb__max_depth=8, xgb__n_estimators=50, xgb__reg_lambda=0.001\n"
     ]
    },
    {
     "name": "stderr",
     "output_type": "stream",
     "text": [
      "C:\\Users\\ATeklesadik\\Miniconda3\\envs\\geo_env\\lib\\site-packages\\xgboost\\data.py:112: UserWarning: Use subset (sliced data) of np.ndarray is not recommended because it will generate extra copies and increase memory consumption\n",
      "  warnings.warn(\n",
      "C:\\Users\\ATeklesadik\\Miniconda3\\envs\\geo_env\\lib\\site-packages\\xgboost\\data.py:112: UserWarning: Use subset (sliced data) of np.ndarray is not recommended because it will generate extra copies and increase memory consumption\n",
      "  warnings.warn(\n"
     ]
    },
    {
     "name": "stdout",
     "output_type": "stream",
     "text": [
      "[CV 1/5; 2/2] END xgb__colsample_bytree=0.7, xgb__gamma=0.1, xgb__learning_rate=0.03, xgb__max_depth=8, xgb__n_estimators=50, xgb__reg_lambda=0.001;, score=(train=-3.341, test=-5.156) total time=   0.6s\n",
      "[CV 2/5; 2/2] START xgb__colsample_bytree=0.7, xgb__gamma=0.1, xgb__learning_rate=0.03, xgb__max_depth=8, xgb__n_estimators=50, xgb__reg_lambda=0.001\n"
     ]
    },
    {
     "name": "stderr",
     "output_type": "stream",
     "text": [
      "C:\\Users\\ATeklesadik\\Miniconda3\\envs\\geo_env\\lib\\site-packages\\xgboost\\data.py:112: UserWarning: Use subset (sliced data) of np.ndarray is not recommended because it will generate extra copies and increase memory consumption\n",
      "  warnings.warn(\n",
      "C:\\Users\\ATeklesadik\\Miniconda3\\envs\\geo_env\\lib\\site-packages\\xgboost\\data.py:112: UserWarning: Use subset (sliced data) of np.ndarray is not recommended because it will generate extra copies and increase memory consumption\n",
      "  warnings.warn(\n"
     ]
    },
    {
     "name": "stdout",
     "output_type": "stream",
     "text": [
      "[CV 2/5; 2/2] END xgb__colsample_bytree=0.7, xgb__gamma=0.1, xgb__learning_rate=0.03, xgb__max_depth=8, xgb__n_estimators=50, xgb__reg_lambda=0.001;, score=(train=-3.239, test=-6.886) total time=   0.5s\n",
      "[CV 3/5; 2/2] START xgb__colsample_bytree=0.7, xgb__gamma=0.1, xgb__learning_rate=0.03, xgb__max_depth=8, xgb__n_estimators=50, xgb__reg_lambda=0.001\n"
     ]
    },
    {
     "name": "stderr",
     "output_type": "stream",
     "text": [
      "C:\\Users\\ATeklesadik\\Miniconda3\\envs\\geo_env\\lib\\site-packages\\xgboost\\data.py:112: UserWarning: Use subset (sliced data) of np.ndarray is not recommended because it will generate extra copies and increase memory consumption\n",
      "  warnings.warn(\n",
      "C:\\Users\\ATeklesadik\\Miniconda3\\envs\\geo_env\\lib\\site-packages\\xgboost\\data.py:112: UserWarning: Use subset (sliced data) of np.ndarray is not recommended because it will generate extra copies and increase memory consumption\n",
      "  warnings.warn(\n"
     ]
    },
    {
     "name": "stdout",
     "output_type": "stream",
     "text": [
      "[CV 3/5; 2/2] END xgb__colsample_bytree=0.7, xgb__gamma=0.1, xgb__learning_rate=0.03, xgb__max_depth=8, xgb__n_estimators=50, xgb__reg_lambda=0.001;, score=(train=-3.314, test=-6.009) total time=   0.5s\n",
      "[CV 4/5; 2/2] START xgb__colsample_bytree=0.7, xgb__gamma=0.1, xgb__learning_rate=0.03, xgb__max_depth=8, xgb__n_estimators=50, xgb__reg_lambda=0.001\n"
     ]
    },
    {
     "name": "stderr",
     "output_type": "stream",
     "text": [
      "C:\\Users\\ATeklesadik\\Miniconda3\\envs\\geo_env\\lib\\site-packages\\xgboost\\data.py:112: UserWarning: Use subset (sliced data) of np.ndarray is not recommended because it will generate extra copies and increase memory consumption\n",
      "  warnings.warn(\n",
      "C:\\Users\\ATeklesadik\\Miniconda3\\envs\\geo_env\\lib\\site-packages\\xgboost\\data.py:112: UserWarning: Use subset (sliced data) of np.ndarray is not recommended because it will generate extra copies and increase memory consumption\n",
      "  warnings.warn(\n"
     ]
    },
    {
     "name": "stdout",
     "output_type": "stream",
     "text": [
      "[CV 4/5; 2/2] END xgb__colsample_bytree=0.7, xgb__gamma=0.1, xgb__learning_rate=0.03, xgb__max_depth=8, xgb__n_estimators=50, xgb__reg_lambda=0.001;, score=(train=-3.320, test=-5.544) total time=   0.5s\n",
      "[CV 5/5; 2/2] START xgb__colsample_bytree=0.7, xgb__gamma=0.1, xgb__learning_rate=0.03, xgb__max_depth=8, xgb__n_estimators=50, xgb__reg_lambda=0.001\n"
     ]
    },
    {
     "name": "stderr",
     "output_type": "stream",
     "text": [
      "C:\\Users\\ATeklesadik\\Miniconda3\\envs\\geo_env\\lib\\site-packages\\xgboost\\data.py:112: UserWarning: Use subset (sliced data) of np.ndarray is not recommended because it will generate extra copies and increase memory consumption\n",
      "  warnings.warn(\n",
      "C:\\Users\\ATeklesadik\\Miniconda3\\envs\\geo_env\\lib\\site-packages\\xgboost\\data.py:112: UserWarning: Use subset (sliced data) of np.ndarray is not recommended because it will generate extra copies and increase memory consumption\n",
      "  warnings.warn(\n"
     ]
    },
    {
     "name": "stdout",
     "output_type": "stream",
     "text": [
      "[CV 5/5; 2/2] END xgb__colsample_bytree=0.7, xgb__gamma=0.1, xgb__learning_rate=0.03, xgb__max_depth=8, xgb__n_estimators=50, xgb__reg_lambda=0.001;, score=(train=-3.085, test=-6.619) total time=   0.6s\n"
     ]
    },
    {
     "name": "stderr",
     "output_type": "stream",
     "text": [
      "C:\\Users\\ATeklesadik\\Miniconda3\\envs\\geo_env\\lib\\site-packages\\xgboost\\data.py:112: UserWarning: Use subset (sliced data) of np.ndarray is not recommended because it will generate extra copies and increase memory consumption\n",
      "  warnings.warn(\n",
      "C:\\Users\\ATeklesadik\\Miniconda3\\envs\\geo_env\\lib\\site-packages\\sklearn\\model_selection\\_search.py:285: UserWarning: The total space of parameters 2 is smaller than n_iter=500. Running 2 iterations. For exhaustive searches, use GridSearchCV.\n",
      "  warnings.warn(\n"
     ]
    },
    {
     "name": "stdout",
     "output_type": "stream",
     "text": [
      "Selected Parameters {'xgb__reg_lambda': 0.001, 'xgb__n_estimators': 50, 'xgb__max_depth': 8, 'xgb__learning_rate': 0.03, 'xgb__gamma': 0.1, 'xgb__colsample_bytree': 0.7}\n",
      "Train score: 1.2047510746885677\n",
      "Test score: 4.4061717966897325\n",
      "Running for 32 out of a total of 39\n",
      "Fitting 5 folds for each of 2 candidates, totalling 10 fits\n",
      "[CV 1/5; 1/2] START xgb__colsample_bytree=0.7, xgb__gamma=0.1, xgb__learning_rate=0.03, xgb__max_depth=6, xgb__n_estimators=50, xgb__reg_lambda=0.001\n"
     ]
    },
    {
     "name": "stderr",
     "output_type": "stream",
     "text": [
      "C:\\Users\\ATeklesadik\\Miniconda3\\envs\\geo_env\\lib\\site-packages\\xgboost\\data.py:112: UserWarning: Use subset (sliced data) of np.ndarray is not recommended because it will generate extra copies and increase memory consumption\n",
      "  warnings.warn(\n",
      "C:\\Users\\ATeklesadik\\Miniconda3\\envs\\geo_env\\lib\\site-packages\\xgboost\\data.py:112: UserWarning: Use subset (sliced data) of np.ndarray is not recommended because it will generate extra copies and increase memory consumption\n",
      "  warnings.warn(\n"
     ]
    },
    {
     "name": "stdout",
     "output_type": "stream",
     "text": [
      "[CV 1/5; 1/2] END xgb__colsample_bytree=0.7, xgb__gamma=0.1, xgb__learning_rate=0.03, xgb__max_depth=6, xgb__n_estimators=50, xgb__reg_lambda=0.001;, score=(train=-4.546, test=-6.482) total time=   0.3s\n",
      "[CV 2/5; 1/2] START xgb__colsample_bytree=0.7, xgb__gamma=0.1, xgb__learning_rate=0.03, xgb__max_depth=6, xgb__n_estimators=50, xgb__reg_lambda=0.001\n"
     ]
    },
    {
     "name": "stderr",
     "output_type": "stream",
     "text": [
      "C:\\Users\\ATeklesadik\\Miniconda3\\envs\\geo_env\\lib\\site-packages\\xgboost\\data.py:112: UserWarning: Use subset (sliced data) of np.ndarray is not recommended because it will generate extra copies and increase memory consumption\n",
      "  warnings.warn(\n",
      "C:\\Users\\ATeklesadik\\Miniconda3\\envs\\geo_env\\lib\\site-packages\\xgboost\\data.py:112: UserWarning: Use subset (sliced data) of np.ndarray is not recommended because it will generate extra copies and increase memory consumption\n",
      "  warnings.warn(\n"
     ]
    },
    {
     "name": "stdout",
     "output_type": "stream",
     "text": [
      "[CV 2/5; 1/2] END xgb__colsample_bytree=0.7, xgb__gamma=0.1, xgb__learning_rate=0.03, xgb__max_depth=6, xgb__n_estimators=50, xgb__reg_lambda=0.001;, score=(train=-4.700, test=-5.992) total time=   0.3s\n",
      "[CV 3/5; 1/2] START xgb__colsample_bytree=0.7, xgb__gamma=0.1, xgb__learning_rate=0.03, xgb__max_depth=6, xgb__n_estimators=50, xgb__reg_lambda=0.001\n"
     ]
    },
    {
     "name": "stderr",
     "output_type": "stream",
     "text": [
      "C:\\Users\\ATeklesadik\\Miniconda3\\envs\\geo_env\\lib\\site-packages\\xgboost\\data.py:112: UserWarning: Use subset (sliced data) of np.ndarray is not recommended because it will generate extra copies and increase memory consumption\n",
      "  warnings.warn(\n",
      "C:\\Users\\ATeklesadik\\Miniconda3\\envs\\geo_env\\lib\\site-packages\\xgboost\\data.py:112: UserWarning: Use subset (sliced data) of np.ndarray is not recommended because it will generate extra copies and increase memory consumption\n",
      "  warnings.warn(\n"
     ]
    },
    {
     "name": "stdout",
     "output_type": "stream",
     "text": [
      "[CV 3/5; 1/2] END xgb__colsample_bytree=0.7, xgb__gamma=0.1, xgb__learning_rate=0.03, xgb__max_depth=6, xgb__n_estimators=50, xgb__reg_lambda=0.001;, score=(train=-4.707, test=-6.248) total time=   0.4s\n",
      "[CV 4/5; 1/2] START xgb__colsample_bytree=0.7, xgb__gamma=0.1, xgb__learning_rate=0.03, xgb__max_depth=6, xgb__n_estimators=50, xgb__reg_lambda=0.001\n"
     ]
    },
    {
     "name": "stderr",
     "output_type": "stream",
     "text": [
      "C:\\Users\\ATeklesadik\\Miniconda3\\envs\\geo_env\\lib\\site-packages\\xgboost\\data.py:112: UserWarning: Use subset (sliced data) of np.ndarray is not recommended because it will generate extra copies and increase memory consumption\n",
      "  warnings.warn(\n",
      "C:\\Users\\ATeklesadik\\Miniconda3\\envs\\geo_env\\lib\\site-packages\\xgboost\\data.py:112: UserWarning: Use subset (sliced data) of np.ndarray is not recommended because it will generate extra copies and increase memory consumption\n",
      "  warnings.warn(\n"
     ]
    },
    {
     "name": "stdout",
     "output_type": "stream",
     "text": [
      "[CV 4/5; 1/2] END xgb__colsample_bytree=0.7, xgb__gamma=0.1, xgb__learning_rate=0.03, xgb__max_depth=6, xgb__n_estimators=50, xgb__reg_lambda=0.001;, score=(train=-4.635, test=-6.292) total time=   0.3s\n",
      "[CV 5/5; 1/2] START xgb__colsample_bytree=0.7, xgb__gamma=0.1, xgb__learning_rate=0.03, xgb__max_depth=6, xgb__n_estimators=50, xgb__reg_lambda=0.001\n"
     ]
    },
    {
     "name": "stderr",
     "output_type": "stream",
     "text": [
      "C:\\Users\\ATeklesadik\\Miniconda3\\envs\\geo_env\\lib\\site-packages\\xgboost\\data.py:112: UserWarning: Use subset (sliced data) of np.ndarray is not recommended because it will generate extra copies and increase memory consumption\n",
      "  warnings.warn(\n",
      "C:\\Users\\ATeklesadik\\Miniconda3\\envs\\geo_env\\lib\\site-packages\\xgboost\\data.py:112: UserWarning: Use subset (sliced data) of np.ndarray is not recommended because it will generate extra copies and increase memory consumption\n",
      "  warnings.warn(\n"
     ]
    },
    {
     "name": "stdout",
     "output_type": "stream",
     "text": [
      "[CV 5/5; 1/2] END xgb__colsample_bytree=0.7, xgb__gamma=0.1, xgb__learning_rate=0.03, xgb__max_depth=6, xgb__n_estimators=50, xgb__reg_lambda=0.001;, score=(train=-4.682, test=-6.079) total time=   0.3s\n",
      "[CV 1/5; 2/2] START xgb__colsample_bytree=0.7, xgb__gamma=0.1, xgb__learning_rate=0.03, xgb__max_depth=8, xgb__n_estimators=50, xgb__reg_lambda=0.001\n"
     ]
    },
    {
     "name": "stderr",
     "output_type": "stream",
     "text": [
      "C:\\Users\\ATeklesadik\\Miniconda3\\envs\\geo_env\\lib\\site-packages\\xgboost\\data.py:112: UserWarning: Use subset (sliced data) of np.ndarray is not recommended because it will generate extra copies and increase memory consumption\n",
      "  warnings.warn(\n",
      "C:\\Users\\ATeklesadik\\Miniconda3\\envs\\geo_env\\lib\\site-packages\\xgboost\\data.py:112: UserWarning: Use subset (sliced data) of np.ndarray is not recommended because it will generate extra copies and increase memory consumption\n",
      "  warnings.warn(\n"
     ]
    },
    {
     "name": "stdout",
     "output_type": "stream",
     "text": [
      "[CV 1/5; 2/2] END xgb__colsample_bytree=0.7, xgb__gamma=0.1, xgb__learning_rate=0.03, xgb__max_depth=8, xgb__n_estimators=50, xgb__reg_lambda=0.001;, score=(train=-3.584, test=-6.316) total time=   0.6s\n",
      "[CV 2/5; 2/2] START xgb__colsample_bytree=0.7, xgb__gamma=0.1, xgb__learning_rate=0.03, xgb__max_depth=8, xgb__n_estimators=50, xgb__reg_lambda=0.001\n"
     ]
    },
    {
     "name": "stderr",
     "output_type": "stream",
     "text": [
      "C:\\Users\\ATeklesadik\\Miniconda3\\envs\\geo_env\\lib\\site-packages\\xgboost\\data.py:112: UserWarning: Use subset (sliced data) of np.ndarray is not recommended because it will generate extra copies and increase memory consumption\n",
      "  warnings.warn(\n",
      "C:\\Users\\ATeklesadik\\Miniconda3\\envs\\geo_env\\lib\\site-packages\\xgboost\\data.py:112: UserWarning: Use subset (sliced data) of np.ndarray is not recommended because it will generate extra copies and increase memory consumption\n",
      "  warnings.warn(\n"
     ]
    },
    {
     "name": "stdout",
     "output_type": "stream",
     "text": [
      "[CV 2/5; 2/2] END xgb__colsample_bytree=0.7, xgb__gamma=0.1, xgb__learning_rate=0.03, xgb__max_depth=8, xgb__n_estimators=50, xgb__reg_lambda=0.001;, score=(train=-3.739, test=-5.977) total time=   0.6s\n",
      "[CV 3/5; 2/2] START xgb__colsample_bytree=0.7, xgb__gamma=0.1, xgb__learning_rate=0.03, xgb__max_depth=8, xgb__n_estimators=50, xgb__reg_lambda=0.001\n"
     ]
    },
    {
     "name": "stderr",
     "output_type": "stream",
     "text": [
      "C:\\Users\\ATeklesadik\\Miniconda3\\envs\\geo_env\\lib\\site-packages\\xgboost\\data.py:112: UserWarning: Use subset (sliced data) of np.ndarray is not recommended because it will generate extra copies and increase memory consumption\n",
      "  warnings.warn(\n",
      "C:\\Users\\ATeklesadik\\Miniconda3\\envs\\geo_env\\lib\\site-packages\\xgboost\\data.py:112: UserWarning: Use subset (sliced data) of np.ndarray is not recommended because it will generate extra copies and increase memory consumption\n",
      "  warnings.warn(\n"
     ]
    },
    {
     "name": "stdout",
     "output_type": "stream",
     "text": [
      "[CV 3/5; 2/2] END xgb__colsample_bytree=0.7, xgb__gamma=0.1, xgb__learning_rate=0.03, xgb__max_depth=8, xgb__n_estimators=50, xgb__reg_lambda=0.001;, score=(train=-3.709, test=-6.300) total time=   0.5s\n",
      "[CV 4/5; 2/2] START xgb__colsample_bytree=0.7, xgb__gamma=0.1, xgb__learning_rate=0.03, xgb__max_depth=8, xgb__n_estimators=50, xgb__reg_lambda=0.001\n"
     ]
    },
    {
     "name": "stderr",
     "output_type": "stream",
     "text": [
      "C:\\Users\\ATeklesadik\\Miniconda3\\envs\\geo_env\\lib\\site-packages\\xgboost\\data.py:112: UserWarning: Use subset (sliced data) of np.ndarray is not recommended because it will generate extra copies and increase memory consumption\n",
      "  warnings.warn(\n",
      "C:\\Users\\ATeklesadik\\Miniconda3\\envs\\geo_env\\lib\\site-packages\\xgboost\\data.py:112: UserWarning: Use subset (sliced data) of np.ndarray is not recommended because it will generate extra copies and increase memory consumption\n",
      "  warnings.warn(\n"
     ]
    },
    {
     "name": "stdout",
     "output_type": "stream",
     "text": [
      "[CV 4/5; 2/2] END xgb__colsample_bytree=0.7, xgb__gamma=0.1, xgb__learning_rate=0.03, xgb__max_depth=8, xgb__n_estimators=50, xgb__reg_lambda=0.001;, score=(train=-3.679, test=-6.309) total time=   0.5s\n",
      "[CV 5/5; 2/2] START xgb__colsample_bytree=0.7, xgb__gamma=0.1, xgb__learning_rate=0.03, xgb__max_depth=8, xgb__n_estimators=50, xgb__reg_lambda=0.001\n"
     ]
    },
    {
     "name": "stderr",
     "output_type": "stream",
     "text": [
      "C:\\Users\\ATeklesadik\\Miniconda3\\envs\\geo_env\\lib\\site-packages\\xgboost\\data.py:112: UserWarning: Use subset (sliced data) of np.ndarray is not recommended because it will generate extra copies and increase memory consumption\n",
      "  warnings.warn(\n",
      "C:\\Users\\ATeklesadik\\Miniconda3\\envs\\geo_env\\lib\\site-packages\\xgboost\\data.py:112: UserWarning: Use subset (sliced data) of np.ndarray is not recommended because it will generate extra copies and increase memory consumption\n",
      "  warnings.warn(\n"
     ]
    },
    {
     "name": "stdout",
     "output_type": "stream",
     "text": [
      "[CV 5/5; 2/2] END xgb__colsample_bytree=0.7, xgb__gamma=0.1, xgb__learning_rate=0.03, xgb__max_depth=8, xgb__n_estimators=50, xgb__reg_lambda=0.001;, score=(train=-3.751, test=-6.170) total time=   0.5s\n"
     ]
    },
    {
     "name": "stderr",
     "output_type": "stream",
     "text": [
      "C:\\Users\\ATeklesadik\\Miniconda3\\envs\\geo_env\\lib\\site-packages\\xgboost\\data.py:112: UserWarning: Use subset (sliced data) of np.ndarray is not recommended because it will generate extra copies and increase memory consumption\n",
      "  warnings.warn(\n",
      "C:\\Users\\ATeklesadik\\Miniconda3\\envs\\geo_env\\lib\\site-packages\\sklearn\\model_selection\\_search.py:285: UserWarning: The total space of parameters 2 is smaller than n_iter=500. Running 2 iterations. For exhaustive searches, use GridSearchCV.\n",
      "  warnings.warn(\n"
     ]
    },
    {
     "name": "stdout",
     "output_type": "stream",
     "text": [
      "Selected Parameters {'xgb__reg_lambda': 0.001, 'xgb__n_estimators': 50, 'xgb__max_depth': 8, 'xgb__learning_rate': 0.03, 'xgb__gamma': 0.1, 'xgb__colsample_bytree': 0.7}\n",
      "Train score: 1.3674446290704116\n",
      "Test score: 0.4824965459301297\n",
      "Running for 33 out of a total of 39\n",
      "Fitting 5 folds for each of 2 candidates, totalling 10 fits\n",
      "[CV 1/5; 1/2] START xgb__colsample_bytree=0.7, xgb__gamma=0.1, xgb__learning_rate=0.03, xgb__max_depth=6, xgb__n_estimators=50, xgb__reg_lambda=0.001\n"
     ]
    },
    {
     "name": "stderr",
     "output_type": "stream",
     "text": [
      "C:\\Users\\ATeklesadik\\Miniconda3\\envs\\geo_env\\lib\\site-packages\\xgboost\\data.py:112: UserWarning: Use subset (sliced data) of np.ndarray is not recommended because it will generate extra copies and increase memory consumption\n",
      "  warnings.warn(\n",
      "C:\\Users\\ATeklesadik\\Miniconda3\\envs\\geo_env\\lib\\site-packages\\xgboost\\data.py:112: UserWarning: Use subset (sliced data) of np.ndarray is not recommended because it will generate extra copies and increase memory consumption\n",
      "  warnings.warn(\n"
     ]
    },
    {
     "name": "stdout",
     "output_type": "stream",
     "text": [
      "[CV 1/5; 1/2] END xgb__colsample_bytree=0.7, xgb__gamma=0.1, xgb__learning_rate=0.03, xgb__max_depth=6, xgb__n_estimators=50, xgb__reg_lambda=0.001;, score=(train=-4.696, test=-6.484) total time=   0.3s\n",
      "[CV 2/5; 1/2] START xgb__colsample_bytree=0.7, xgb__gamma=0.1, xgb__learning_rate=0.03, xgb__max_depth=6, xgb__n_estimators=50, xgb__reg_lambda=0.001\n"
     ]
    },
    {
     "name": "stderr",
     "output_type": "stream",
     "text": [
      "C:\\Users\\ATeklesadik\\Miniconda3\\envs\\geo_env\\lib\\site-packages\\xgboost\\data.py:112: UserWarning: Use subset (sliced data) of np.ndarray is not recommended because it will generate extra copies and increase memory consumption\n",
      "  warnings.warn(\n",
      "C:\\Users\\ATeklesadik\\Miniconda3\\envs\\geo_env\\lib\\site-packages\\xgboost\\data.py:112: UserWarning: Use subset (sliced data) of np.ndarray is not recommended because it will generate extra copies and increase memory consumption\n",
      "  warnings.warn(\n"
     ]
    },
    {
     "name": "stdout",
     "output_type": "stream",
     "text": [
      "[CV 2/5; 1/2] END xgb__colsample_bytree=0.7, xgb__gamma=0.1, xgb__learning_rate=0.03, xgb__max_depth=6, xgb__n_estimators=50, xgb__reg_lambda=0.001;, score=(train=-4.728, test=-5.103) total time=   0.4s\n",
      "[CV 3/5; 1/2] START xgb__colsample_bytree=0.7, xgb__gamma=0.1, xgb__learning_rate=0.03, xgb__max_depth=6, xgb__n_estimators=50, xgb__reg_lambda=0.001\n"
     ]
    },
    {
     "name": "stderr",
     "output_type": "stream",
     "text": [
      "C:\\Users\\ATeklesadik\\Miniconda3\\envs\\geo_env\\lib\\site-packages\\xgboost\\data.py:112: UserWarning: Use subset (sliced data) of np.ndarray is not recommended because it will generate extra copies and increase memory consumption\n",
      "  warnings.warn(\n",
      "C:\\Users\\ATeklesadik\\Miniconda3\\envs\\geo_env\\lib\\site-packages\\xgboost\\data.py:112: UserWarning: Use subset (sliced data) of np.ndarray is not recommended because it will generate extra copies and increase memory consumption\n",
      "  warnings.warn(\n"
     ]
    },
    {
     "name": "stdout",
     "output_type": "stream",
     "text": [
      "[CV 3/5; 1/2] END xgb__colsample_bytree=0.7, xgb__gamma=0.1, xgb__learning_rate=0.03, xgb__max_depth=6, xgb__n_estimators=50, xgb__reg_lambda=0.001;, score=(train=-4.648, test=-6.049) total time=   0.3s\n",
      "[CV 4/5; 1/2] START xgb__colsample_bytree=0.7, xgb__gamma=0.1, xgb__learning_rate=0.03, xgb__max_depth=6, xgb__n_estimators=50, xgb__reg_lambda=0.001\n"
     ]
    },
    {
     "name": "stderr",
     "output_type": "stream",
     "text": [
      "C:\\Users\\ATeklesadik\\Miniconda3\\envs\\geo_env\\lib\\site-packages\\xgboost\\data.py:112: UserWarning: Use subset (sliced data) of np.ndarray is not recommended because it will generate extra copies and increase memory consumption\n",
      "  warnings.warn(\n",
      "C:\\Users\\ATeklesadik\\Miniconda3\\envs\\geo_env\\lib\\site-packages\\xgboost\\data.py:112: UserWarning: Use subset (sliced data) of np.ndarray is not recommended because it will generate extra copies and increase memory consumption\n",
      "  warnings.warn(\n"
     ]
    },
    {
     "name": "stdout",
     "output_type": "stream",
     "text": [
      "[CV 4/5; 1/2] END xgb__colsample_bytree=0.7, xgb__gamma=0.1, xgb__learning_rate=0.03, xgb__max_depth=6, xgb__n_estimators=50, xgb__reg_lambda=0.001;, score=(train=-4.536, test=-6.416) total time=   0.3s\n",
      "[CV 5/5; 1/2] START xgb__colsample_bytree=0.7, xgb__gamma=0.1, xgb__learning_rate=0.03, xgb__max_depth=6, xgb__n_estimators=50, xgb__reg_lambda=0.001\n"
     ]
    },
    {
     "name": "stderr",
     "output_type": "stream",
     "text": [
      "C:\\Users\\ATeklesadik\\Miniconda3\\envs\\geo_env\\lib\\site-packages\\xgboost\\data.py:112: UserWarning: Use subset (sliced data) of np.ndarray is not recommended because it will generate extra copies and increase memory consumption\n",
      "  warnings.warn(\n",
      "C:\\Users\\ATeklesadik\\Miniconda3\\envs\\geo_env\\lib\\site-packages\\xgboost\\data.py:112: UserWarning: Use subset (sliced data) of np.ndarray is not recommended because it will generate extra copies and increase memory consumption\n",
      "  warnings.warn(\n"
     ]
    },
    {
     "name": "stdout",
     "output_type": "stream",
     "text": [
      "[CV 5/5; 1/2] END xgb__colsample_bytree=0.7, xgb__gamma=0.1, xgb__learning_rate=0.03, xgb__max_depth=6, xgb__n_estimators=50, xgb__reg_lambda=0.001;, score=(train=-4.669, test=-6.507) total time=   0.4s\n",
      "[CV 1/5; 2/2] START xgb__colsample_bytree=0.7, xgb__gamma=0.1, xgb__learning_rate=0.03, xgb__max_depth=8, xgb__n_estimators=50, xgb__reg_lambda=0.001\n"
     ]
    },
    {
     "name": "stderr",
     "output_type": "stream",
     "text": [
      "C:\\Users\\ATeklesadik\\Miniconda3\\envs\\geo_env\\lib\\site-packages\\xgboost\\data.py:112: UserWarning: Use subset (sliced data) of np.ndarray is not recommended because it will generate extra copies and increase memory consumption\n",
      "  warnings.warn(\n",
      "C:\\Users\\ATeklesadik\\Miniconda3\\envs\\geo_env\\lib\\site-packages\\xgboost\\data.py:112: UserWarning: Use subset (sliced data) of np.ndarray is not recommended because it will generate extra copies and increase memory consumption\n",
      "  warnings.warn(\n"
     ]
    },
    {
     "name": "stdout",
     "output_type": "stream",
     "text": [
      "[CV 1/5; 2/2] END xgb__colsample_bytree=0.7, xgb__gamma=0.1, xgb__learning_rate=0.03, xgb__max_depth=8, xgb__n_estimators=50, xgb__reg_lambda=0.001;, score=(train=-3.683, test=-6.377) total time=   0.5s\n",
      "[CV 2/5; 2/2] START xgb__colsample_bytree=0.7, xgb__gamma=0.1, xgb__learning_rate=0.03, xgb__max_depth=8, xgb__n_estimators=50, xgb__reg_lambda=0.001\n"
     ]
    },
    {
     "name": "stderr",
     "output_type": "stream",
     "text": [
      "C:\\Users\\ATeklesadik\\Miniconda3\\envs\\geo_env\\lib\\site-packages\\xgboost\\data.py:112: UserWarning: Use subset (sliced data) of np.ndarray is not recommended because it will generate extra copies and increase memory consumption\n",
      "  warnings.warn(\n",
      "C:\\Users\\ATeklesadik\\Miniconda3\\envs\\geo_env\\lib\\site-packages\\xgboost\\data.py:112: UserWarning: Use subset (sliced data) of np.ndarray is not recommended because it will generate extra copies and increase memory consumption\n",
      "  warnings.warn(\n"
     ]
    },
    {
     "name": "stdout",
     "output_type": "stream",
     "text": [
      "[CV 2/5; 2/2] END xgb__colsample_bytree=0.7, xgb__gamma=0.1, xgb__learning_rate=0.03, xgb__max_depth=8, xgb__n_estimators=50, xgb__reg_lambda=0.001;, score=(train=-3.696, test=-5.042) total time=   0.5s\n",
      "[CV 3/5; 2/2] START xgb__colsample_bytree=0.7, xgb__gamma=0.1, xgb__learning_rate=0.03, xgb__max_depth=8, xgb__n_estimators=50, xgb__reg_lambda=0.001\n"
     ]
    },
    {
     "name": "stderr",
     "output_type": "stream",
     "text": [
      "C:\\Users\\ATeklesadik\\Miniconda3\\envs\\geo_env\\lib\\site-packages\\xgboost\\data.py:112: UserWarning: Use subset (sliced data) of np.ndarray is not recommended because it will generate extra copies and increase memory consumption\n",
      "  warnings.warn(\n",
      "C:\\Users\\ATeklesadik\\Miniconda3\\envs\\geo_env\\lib\\site-packages\\xgboost\\data.py:112: UserWarning: Use subset (sliced data) of np.ndarray is not recommended because it will generate extra copies and increase memory consumption\n",
      "  warnings.warn(\n"
     ]
    },
    {
     "name": "stdout",
     "output_type": "stream",
     "text": [
      "[CV 3/5; 2/2] END xgb__colsample_bytree=0.7, xgb__gamma=0.1, xgb__learning_rate=0.03, xgb__max_depth=8, xgb__n_estimators=50, xgb__reg_lambda=0.001;, score=(train=-3.620, test=-6.197) total time=   0.5s\n",
      "[CV 4/5; 2/2] START xgb__colsample_bytree=0.7, xgb__gamma=0.1, xgb__learning_rate=0.03, xgb__max_depth=8, xgb__n_estimators=50, xgb__reg_lambda=0.001\n"
     ]
    },
    {
     "name": "stderr",
     "output_type": "stream",
     "text": [
      "C:\\Users\\ATeklesadik\\Miniconda3\\envs\\geo_env\\lib\\site-packages\\xgboost\\data.py:112: UserWarning: Use subset (sliced data) of np.ndarray is not recommended because it will generate extra copies and increase memory consumption\n",
      "  warnings.warn(\n",
      "C:\\Users\\ATeklesadik\\Miniconda3\\envs\\geo_env\\lib\\site-packages\\xgboost\\data.py:112: UserWarning: Use subset (sliced data) of np.ndarray is not recommended because it will generate extra copies and increase memory consumption\n",
      "  warnings.warn(\n"
     ]
    },
    {
     "name": "stdout",
     "output_type": "stream",
     "text": [
      "[CV 4/5; 2/2] END xgb__colsample_bytree=0.7, xgb__gamma=0.1, xgb__learning_rate=0.03, xgb__max_depth=8, xgb__n_estimators=50, xgb__reg_lambda=0.001;, score=(train=-3.521, test=-6.242) total time=   0.6s\n",
      "[CV 5/5; 2/2] START xgb__colsample_bytree=0.7, xgb__gamma=0.1, xgb__learning_rate=0.03, xgb__max_depth=8, xgb__n_estimators=50, xgb__reg_lambda=0.001\n"
     ]
    },
    {
     "name": "stderr",
     "output_type": "stream",
     "text": [
      "C:\\Users\\ATeklesadik\\Miniconda3\\envs\\geo_env\\lib\\site-packages\\xgboost\\data.py:112: UserWarning: Use subset (sliced data) of np.ndarray is not recommended because it will generate extra copies and increase memory consumption\n",
      "  warnings.warn(\n",
      "C:\\Users\\ATeklesadik\\Miniconda3\\envs\\geo_env\\lib\\site-packages\\xgboost\\data.py:112: UserWarning: Use subset (sliced data) of np.ndarray is not recommended because it will generate extra copies and increase memory consumption\n",
      "  warnings.warn(\n"
     ]
    },
    {
     "name": "stdout",
     "output_type": "stream",
     "text": [
      "[CV 5/5; 2/2] END xgb__colsample_bytree=0.7, xgb__gamma=0.1, xgb__learning_rate=0.03, xgb__max_depth=8, xgb__n_estimators=50, xgb__reg_lambda=0.001;, score=(train=-3.631, test=-6.345) total time=   0.5s\n"
     ]
    },
    {
     "name": "stderr",
     "output_type": "stream",
     "text": [
      "C:\\Users\\ATeklesadik\\Miniconda3\\envs\\geo_env\\lib\\site-packages\\xgboost\\data.py:112: UserWarning: Use subset (sliced data) of np.ndarray is not recommended because it will generate extra copies and increase memory consumption\n",
      "  warnings.warn(\n",
      "C:\\Users\\ATeklesadik\\Miniconda3\\envs\\geo_env\\lib\\site-packages\\sklearn\\model_selection\\_search.py:285: UserWarning: The total space of parameters 2 is smaller than n_iter=500. Running 2 iterations. For exhaustive searches, use GridSearchCV.\n",
      "  warnings.warn(\n"
     ]
    },
    {
     "name": "stdout",
     "output_type": "stream",
     "text": [
      "Selected Parameters {'xgb__reg_lambda': 0.001, 'xgb__n_estimators': 50, 'xgb__max_depth': 8, 'xgb__learning_rate': 0.03, 'xgb__gamma': 0.1, 'xgb__colsample_bytree': 0.7}\n",
      "Train score: 1.3574618073820306\n",
      "Test score: 0.6128235102073736\n",
      "Running for 34 out of a total of 39\n",
      "Fitting 5 folds for each of 2 candidates, totalling 10 fits\n",
      "[CV 1/5; 1/2] START xgb__colsample_bytree=0.7, xgb__gamma=0.1, xgb__learning_rate=0.03, xgb__max_depth=6, xgb__n_estimators=50, xgb__reg_lambda=0.001\n"
     ]
    },
    {
     "name": "stderr",
     "output_type": "stream",
     "text": [
      "C:\\Users\\ATeklesadik\\Miniconda3\\envs\\geo_env\\lib\\site-packages\\xgboost\\data.py:112: UserWarning: Use subset (sliced data) of np.ndarray is not recommended because it will generate extra copies and increase memory consumption\n",
      "  warnings.warn(\n",
      "C:\\Users\\ATeklesadik\\Miniconda3\\envs\\geo_env\\lib\\site-packages\\xgboost\\data.py:112: UserWarning: Use subset (sliced data) of np.ndarray is not recommended because it will generate extra copies and increase memory consumption\n",
      "  warnings.warn(\n"
     ]
    },
    {
     "name": "stdout",
     "output_type": "stream",
     "text": [
      "[CV 1/5; 1/2] END xgb__colsample_bytree=0.7, xgb__gamma=0.1, xgb__learning_rate=0.03, xgb__max_depth=6, xgb__n_estimators=50, xgb__reg_lambda=0.001;, score=(train=-4.794, test=-6.056) total time=   0.4s\n",
      "[CV 2/5; 1/2] START xgb__colsample_bytree=0.7, xgb__gamma=0.1, xgb__learning_rate=0.03, xgb__max_depth=6, xgb__n_estimators=50, xgb__reg_lambda=0.001\n"
     ]
    },
    {
     "name": "stderr",
     "output_type": "stream",
     "text": [
      "C:\\Users\\ATeklesadik\\Miniconda3\\envs\\geo_env\\lib\\site-packages\\xgboost\\data.py:112: UserWarning: Use subset (sliced data) of np.ndarray is not recommended because it will generate extra copies and increase memory consumption\n",
      "  warnings.warn(\n",
      "C:\\Users\\ATeklesadik\\Miniconda3\\envs\\geo_env\\lib\\site-packages\\xgboost\\data.py:112: UserWarning: Use subset (sliced data) of np.ndarray is not recommended because it will generate extra copies and increase memory consumption\n",
      "  warnings.warn(\n"
     ]
    },
    {
     "name": "stdout",
     "output_type": "stream",
     "text": [
      "[CV 2/5; 1/2] END xgb__colsample_bytree=0.7, xgb__gamma=0.1, xgb__learning_rate=0.03, xgb__max_depth=6, xgb__n_estimators=50, xgb__reg_lambda=0.001;, score=(train=-4.770, test=-5.671) total time=   0.4s\n",
      "[CV 3/5; 1/2] START xgb__colsample_bytree=0.7, xgb__gamma=0.1, xgb__learning_rate=0.03, xgb__max_depth=6, xgb__n_estimators=50, xgb__reg_lambda=0.001\n"
     ]
    },
    {
     "name": "stderr",
     "output_type": "stream",
     "text": [
      "C:\\Users\\ATeklesadik\\Miniconda3\\envs\\geo_env\\lib\\site-packages\\xgboost\\data.py:112: UserWarning: Use subset (sliced data) of np.ndarray is not recommended because it will generate extra copies and increase memory consumption\n",
      "  warnings.warn(\n",
      "C:\\Users\\ATeklesadik\\Miniconda3\\envs\\geo_env\\lib\\site-packages\\xgboost\\data.py:112: UserWarning: Use subset (sliced data) of np.ndarray is not recommended because it will generate extra copies and increase memory consumption\n",
      "  warnings.warn(\n"
     ]
    },
    {
     "name": "stdout",
     "output_type": "stream",
     "text": [
      "[CV 3/5; 1/2] END xgb__colsample_bytree=0.7, xgb__gamma=0.1, xgb__learning_rate=0.03, xgb__max_depth=6, xgb__n_estimators=50, xgb__reg_lambda=0.001;, score=(train=-4.862, test=-4.558) total time=   0.3s\n",
      "[CV 4/5; 1/2] START xgb__colsample_bytree=0.7, xgb__gamma=0.1, xgb__learning_rate=0.03, xgb__max_depth=6, xgb__n_estimators=50, xgb__reg_lambda=0.001\n"
     ]
    },
    {
     "name": "stderr",
     "output_type": "stream",
     "text": [
      "C:\\Users\\ATeklesadik\\Miniconda3\\envs\\geo_env\\lib\\site-packages\\xgboost\\data.py:112: UserWarning: Use subset (sliced data) of np.ndarray is not recommended because it will generate extra copies and increase memory consumption\n",
      "  warnings.warn(\n",
      "C:\\Users\\ATeklesadik\\Miniconda3\\envs\\geo_env\\lib\\site-packages\\xgboost\\data.py:112: UserWarning: Use subset (sliced data) of np.ndarray is not recommended because it will generate extra copies and increase memory consumption\n",
      "  warnings.warn(\n"
     ]
    },
    {
     "name": "stdout",
     "output_type": "stream",
     "text": [
      "[CV 4/5; 1/2] END xgb__colsample_bytree=0.7, xgb__gamma=0.1, xgb__learning_rate=0.03, xgb__max_depth=6, xgb__n_estimators=50, xgb__reg_lambda=0.001;, score=(train=-4.531, test=-7.373) total time=   0.3s\n",
      "[CV 5/5; 1/2] START xgb__colsample_bytree=0.7, xgb__gamma=0.1, xgb__learning_rate=0.03, xgb__max_depth=6, xgb__n_estimators=50, xgb__reg_lambda=0.001\n"
     ]
    },
    {
     "name": "stderr",
     "output_type": "stream",
     "text": [
      "C:\\Users\\ATeklesadik\\Miniconda3\\envs\\geo_env\\lib\\site-packages\\xgboost\\data.py:112: UserWarning: Use subset (sliced data) of np.ndarray is not recommended because it will generate extra copies and increase memory consumption\n",
      "  warnings.warn(\n",
      "C:\\Users\\ATeklesadik\\Miniconda3\\envs\\geo_env\\lib\\site-packages\\xgboost\\data.py:112: UserWarning: Use subset (sliced data) of np.ndarray is not recommended because it will generate extra copies and increase memory consumption\n",
      "  warnings.warn(\n"
     ]
    },
    {
     "name": "stdout",
     "output_type": "stream",
     "text": [
      "[CV 5/5; 1/2] END xgb__colsample_bytree=0.7, xgb__gamma=0.1, xgb__learning_rate=0.03, xgb__max_depth=6, xgb__n_estimators=50, xgb__reg_lambda=0.001;, score=(train=-4.502, test=-6.833) total time=   0.3s\n",
      "[CV 1/5; 2/2] START xgb__colsample_bytree=0.7, xgb__gamma=0.1, xgb__learning_rate=0.03, xgb__max_depth=8, xgb__n_estimators=50, xgb__reg_lambda=0.001\n"
     ]
    },
    {
     "name": "stderr",
     "output_type": "stream",
     "text": [
      "C:\\Users\\ATeklesadik\\Miniconda3\\envs\\geo_env\\lib\\site-packages\\xgboost\\data.py:112: UserWarning: Use subset (sliced data) of np.ndarray is not recommended because it will generate extra copies and increase memory consumption\n",
      "  warnings.warn(\n",
      "C:\\Users\\ATeklesadik\\Miniconda3\\envs\\geo_env\\lib\\site-packages\\xgboost\\data.py:112: UserWarning: Use subset (sliced data) of np.ndarray is not recommended because it will generate extra copies and increase memory consumption\n",
      "  warnings.warn(\n"
     ]
    },
    {
     "name": "stdout",
     "output_type": "stream",
     "text": [
      "[CV 1/5; 2/2] END xgb__colsample_bytree=0.7, xgb__gamma=0.1, xgb__learning_rate=0.03, xgb__max_depth=8, xgb__n_estimators=50, xgb__reg_lambda=0.001;, score=(train=-3.869, test=-5.972) total time=   0.6s\n",
      "[CV 2/5; 2/2] START xgb__colsample_bytree=0.7, xgb__gamma=0.1, xgb__learning_rate=0.03, xgb__max_depth=8, xgb__n_estimators=50, xgb__reg_lambda=0.001\n"
     ]
    },
    {
     "name": "stderr",
     "output_type": "stream",
     "text": [
      "C:\\Users\\ATeklesadik\\Miniconda3\\envs\\geo_env\\lib\\site-packages\\xgboost\\data.py:112: UserWarning: Use subset (sliced data) of np.ndarray is not recommended because it will generate extra copies and increase memory consumption\n",
      "  warnings.warn(\n",
      "C:\\Users\\ATeklesadik\\Miniconda3\\envs\\geo_env\\lib\\site-packages\\xgboost\\data.py:112: UserWarning: Use subset (sliced data) of np.ndarray is not recommended because it will generate extra copies and increase memory consumption\n",
      "  warnings.warn(\n"
     ]
    },
    {
     "name": "stdout",
     "output_type": "stream",
     "text": [
      "[CV 2/5; 2/2] END xgb__colsample_bytree=0.7, xgb__gamma=0.1, xgb__learning_rate=0.03, xgb__max_depth=8, xgb__n_estimators=50, xgb__reg_lambda=0.001;, score=(train=-3.804, test=-5.700) total time=   0.6s\n",
      "[CV 3/5; 2/2] START xgb__colsample_bytree=0.7, xgb__gamma=0.1, xgb__learning_rate=0.03, xgb__max_depth=8, xgb__n_estimators=50, xgb__reg_lambda=0.001\n"
     ]
    },
    {
     "name": "stderr",
     "output_type": "stream",
     "text": [
      "C:\\Users\\ATeklesadik\\Miniconda3\\envs\\geo_env\\lib\\site-packages\\xgboost\\data.py:112: UserWarning: Use subset (sliced data) of np.ndarray is not recommended because it will generate extra copies and increase memory consumption\n",
      "  warnings.warn(\n",
      "C:\\Users\\ATeklesadik\\Miniconda3\\envs\\geo_env\\lib\\site-packages\\xgboost\\data.py:112: UserWarning: Use subset (sliced data) of np.ndarray is not recommended because it will generate extra copies and increase memory consumption\n",
      "  warnings.warn(\n"
     ]
    },
    {
     "name": "stdout",
     "output_type": "stream",
     "text": [
      "[CV 3/5; 2/2] END xgb__colsample_bytree=0.7, xgb__gamma=0.1, xgb__learning_rate=0.03, xgb__max_depth=8, xgb__n_estimators=50, xgb__reg_lambda=0.001;, score=(train=-3.795, test=-4.567) total time=   0.5s\n",
      "[CV 4/5; 2/2] START xgb__colsample_bytree=0.7, xgb__gamma=0.1, xgb__learning_rate=0.03, xgb__max_depth=8, xgb__n_estimators=50, xgb__reg_lambda=0.001\n"
     ]
    },
    {
     "name": "stderr",
     "output_type": "stream",
     "text": [
      "C:\\Users\\ATeklesadik\\Miniconda3\\envs\\geo_env\\lib\\site-packages\\xgboost\\data.py:112: UserWarning: Use subset (sliced data) of np.ndarray is not recommended because it will generate extra copies and increase memory consumption\n",
      "  warnings.warn(\n",
      "C:\\Users\\ATeklesadik\\Miniconda3\\envs\\geo_env\\lib\\site-packages\\xgboost\\data.py:112: UserWarning: Use subset (sliced data) of np.ndarray is not recommended because it will generate extra copies and increase memory consumption\n",
      "  warnings.warn(\n"
     ]
    },
    {
     "name": "stdout",
     "output_type": "stream",
     "text": [
      "[CV 4/5; 2/2] END xgb__colsample_bytree=0.7, xgb__gamma=0.1, xgb__learning_rate=0.03, xgb__max_depth=8, xgb__n_estimators=50, xgb__reg_lambda=0.001;, score=(train=-3.605, test=-7.267) total time=   0.5s\n",
      "[CV 5/5; 2/2] START xgb__colsample_bytree=0.7, xgb__gamma=0.1, xgb__learning_rate=0.03, xgb__max_depth=8, xgb__n_estimators=50, xgb__reg_lambda=0.001\n"
     ]
    },
    {
     "name": "stderr",
     "output_type": "stream",
     "text": [
      "C:\\Users\\ATeklesadik\\Miniconda3\\envs\\geo_env\\lib\\site-packages\\xgboost\\data.py:112: UserWarning: Use subset (sliced data) of np.ndarray is not recommended because it will generate extra copies and increase memory consumption\n",
      "  warnings.warn(\n",
      "C:\\Users\\ATeklesadik\\Miniconda3\\envs\\geo_env\\lib\\site-packages\\xgboost\\data.py:112: UserWarning: Use subset (sliced data) of np.ndarray is not recommended because it will generate extra copies and increase memory consumption\n",
      "  warnings.warn(\n"
     ]
    },
    {
     "name": "stdout",
     "output_type": "stream",
     "text": [
      "[CV 5/5; 2/2] END xgb__colsample_bytree=0.7, xgb__gamma=0.1, xgb__learning_rate=0.03, xgb__max_depth=8, xgb__n_estimators=50, xgb__reg_lambda=0.001;, score=(train=-3.598, test=-6.925) total time=   0.6s\n"
     ]
    },
    {
     "name": "stderr",
     "output_type": "stream",
     "text": [
      "C:\\Users\\ATeklesadik\\Miniconda3\\envs\\geo_env\\lib\\site-packages\\xgboost\\data.py:112: UserWarning: Use subset (sliced data) of np.ndarray is not recommended because it will generate extra copies and increase memory consumption\n",
      "  warnings.warn(\n",
      "C:\\Users\\ATeklesadik\\Miniconda3\\envs\\geo_env\\lib\\site-packages\\sklearn\\model_selection\\_search.py:285: UserWarning: The total space of parameters 2 is smaller than n_iter=500. Running 2 iterations. For exhaustive searches, use GridSearchCV.\n",
      "  warnings.warn(\n"
     ]
    },
    {
     "name": "stdout",
     "output_type": "stream",
     "text": [
      "Selected Parameters {'xgb__reg_lambda': 0.001, 'xgb__n_estimators': 50, 'xgb__max_depth': 8, 'xgb__learning_rate': 0.03, 'xgb__gamma': 0.1, 'xgb__colsample_bytree': 0.7}\n",
      "Train score: 1.3844169143681309\n",
      "Test score: 0.21126415291620274\n",
      "Running for 35 out of a total of 39\n",
      "Fitting 5 folds for each of 2 candidates, totalling 10 fits\n",
      "[CV 1/5; 1/2] START xgb__colsample_bytree=0.7, xgb__gamma=0.1, xgb__learning_rate=0.03, xgb__max_depth=6, xgb__n_estimators=50, xgb__reg_lambda=0.001\n"
     ]
    },
    {
     "name": "stderr",
     "output_type": "stream",
     "text": [
      "C:\\Users\\ATeklesadik\\Miniconda3\\envs\\geo_env\\lib\\site-packages\\xgboost\\data.py:112: UserWarning: Use subset (sliced data) of np.ndarray is not recommended because it will generate extra copies and increase memory consumption\n",
      "  warnings.warn(\n",
      "C:\\Users\\ATeklesadik\\Miniconda3\\envs\\geo_env\\lib\\site-packages\\xgboost\\data.py:112: UserWarning: Use subset (sliced data) of np.ndarray is not recommended because it will generate extra copies and increase memory consumption\n",
      "  warnings.warn(\n"
     ]
    },
    {
     "name": "stdout",
     "output_type": "stream",
     "text": [
      "[CV 1/5; 1/2] END xgb__colsample_bytree=0.7, xgb__gamma=0.1, xgb__learning_rate=0.03, xgb__max_depth=6, xgb__n_estimators=50, xgb__reg_lambda=0.001;, score=(train=-4.766, test=-4.814) total time=   0.3s\n",
      "[CV 2/5; 1/2] START xgb__colsample_bytree=0.7, xgb__gamma=0.1, xgb__learning_rate=0.03, xgb__max_depth=6, xgb__n_estimators=50, xgb__reg_lambda=0.001\n"
     ]
    },
    {
     "name": "stderr",
     "output_type": "stream",
     "text": [
      "C:\\Users\\ATeklesadik\\Miniconda3\\envs\\geo_env\\lib\\site-packages\\xgboost\\data.py:112: UserWarning: Use subset (sliced data) of np.ndarray is not recommended because it will generate extra copies and increase memory consumption\n",
      "  warnings.warn(\n",
      "C:\\Users\\ATeklesadik\\Miniconda3\\envs\\geo_env\\lib\\site-packages\\xgboost\\data.py:112: UserWarning: Use subset (sliced data) of np.ndarray is not recommended because it will generate extra copies and increase memory consumption\n",
      "  warnings.warn(\n"
     ]
    },
    {
     "name": "stdout",
     "output_type": "stream",
     "text": [
      "[CV 2/5; 1/2] END xgb__colsample_bytree=0.7, xgb__gamma=0.1, xgb__learning_rate=0.03, xgb__max_depth=6, xgb__n_estimators=50, xgb__reg_lambda=0.001;, score=(train=-4.604, test=-6.343) total time=   0.3s\n",
      "[CV 3/5; 1/2] START xgb__colsample_bytree=0.7, xgb__gamma=0.1, xgb__learning_rate=0.03, xgb__max_depth=6, xgb__n_estimators=50, xgb__reg_lambda=0.001\n"
     ]
    },
    {
     "name": "stderr",
     "output_type": "stream",
     "text": [
      "C:\\Users\\ATeklesadik\\Miniconda3\\envs\\geo_env\\lib\\site-packages\\xgboost\\data.py:112: UserWarning: Use subset (sliced data) of np.ndarray is not recommended because it will generate extra copies and increase memory consumption\n",
      "  warnings.warn(\n",
      "C:\\Users\\ATeklesadik\\Miniconda3\\envs\\geo_env\\lib\\site-packages\\xgboost\\data.py:112: UserWarning: Use subset (sliced data) of np.ndarray is not recommended because it will generate extra copies and increase memory consumption\n",
      "  warnings.warn(\n"
     ]
    },
    {
     "name": "stdout",
     "output_type": "stream",
     "text": [
      "[CV 3/5; 1/2] END xgb__colsample_bytree=0.7, xgb__gamma=0.1, xgb__learning_rate=0.03, xgb__max_depth=6, xgb__n_estimators=50, xgb__reg_lambda=0.001;, score=(train=-4.673, test=-6.187) total time=   0.4s\n",
      "[CV 4/5; 1/2] START xgb__colsample_bytree=0.7, xgb__gamma=0.1, xgb__learning_rate=0.03, xgb__max_depth=6, xgb__n_estimators=50, xgb__reg_lambda=0.001\n"
     ]
    },
    {
     "name": "stderr",
     "output_type": "stream",
     "text": [
      "C:\\Users\\ATeklesadik\\Miniconda3\\envs\\geo_env\\lib\\site-packages\\xgboost\\data.py:112: UserWarning: Use subset (sliced data) of np.ndarray is not recommended because it will generate extra copies and increase memory consumption\n",
      "  warnings.warn(\n",
      "C:\\Users\\ATeklesadik\\Miniconda3\\envs\\geo_env\\lib\\site-packages\\xgboost\\data.py:112: UserWarning: Use subset (sliced data) of np.ndarray is not recommended because it will generate extra copies and increase memory consumption\n",
      "  warnings.warn(\n"
     ]
    },
    {
     "name": "stdout",
     "output_type": "stream",
     "text": [
      "[CV 4/5; 1/2] END xgb__colsample_bytree=0.7, xgb__gamma=0.1, xgb__learning_rate=0.03, xgb__max_depth=6, xgb__n_estimators=50, xgb__reg_lambda=0.001;, score=(train=-4.546, test=-6.302) total time=   0.4s\n",
      "[CV 5/5; 1/2] START xgb__colsample_bytree=0.7, xgb__gamma=0.1, xgb__learning_rate=0.03, xgb__max_depth=6, xgb__n_estimators=50, xgb__reg_lambda=0.001\n"
     ]
    },
    {
     "name": "stderr",
     "output_type": "stream",
     "text": [
      "C:\\Users\\ATeklesadik\\Miniconda3\\envs\\geo_env\\lib\\site-packages\\xgboost\\data.py:112: UserWarning: Use subset (sliced data) of np.ndarray is not recommended because it will generate extra copies and increase memory consumption\n",
      "  warnings.warn(\n",
      "C:\\Users\\ATeklesadik\\Miniconda3\\envs\\geo_env\\lib\\site-packages\\xgboost\\data.py:112: UserWarning: Use subset (sliced data) of np.ndarray is not recommended because it will generate extra copies and increase memory consumption\n",
      "  warnings.warn(\n"
     ]
    },
    {
     "name": "stdout",
     "output_type": "stream",
     "text": [
      "[CV 5/5; 1/2] END xgb__colsample_bytree=0.7, xgb__gamma=0.1, xgb__learning_rate=0.03, xgb__max_depth=6, xgb__n_estimators=50, xgb__reg_lambda=0.001;, score=(train=-4.593, test=-6.705) total time=   0.4s\n",
      "[CV 1/5; 2/2] START xgb__colsample_bytree=0.7, xgb__gamma=0.1, xgb__learning_rate=0.03, xgb__max_depth=8, xgb__n_estimators=50, xgb__reg_lambda=0.001\n"
     ]
    },
    {
     "name": "stderr",
     "output_type": "stream",
     "text": [
      "C:\\Users\\ATeklesadik\\Miniconda3\\envs\\geo_env\\lib\\site-packages\\xgboost\\data.py:112: UserWarning: Use subset (sliced data) of np.ndarray is not recommended because it will generate extra copies and increase memory consumption\n",
      "  warnings.warn(\n",
      "C:\\Users\\ATeklesadik\\Miniconda3\\envs\\geo_env\\lib\\site-packages\\xgboost\\data.py:112: UserWarning: Use subset (sliced data) of np.ndarray is not recommended because it will generate extra copies and increase memory consumption\n",
      "  warnings.warn(\n"
     ]
    },
    {
     "name": "stdout",
     "output_type": "stream",
     "text": [
      "[CV 1/5; 2/2] END xgb__colsample_bytree=0.7, xgb__gamma=0.1, xgb__learning_rate=0.03, xgb__max_depth=8, xgb__n_estimators=50, xgb__reg_lambda=0.001;, score=(train=-3.774, test=-4.862) total time=   0.6s\n",
      "[CV 2/5; 2/2] START xgb__colsample_bytree=0.7, xgb__gamma=0.1, xgb__learning_rate=0.03, xgb__max_depth=8, xgb__n_estimators=50, xgb__reg_lambda=0.001\n"
     ]
    },
    {
     "name": "stderr",
     "output_type": "stream",
     "text": [
      "C:\\Users\\ATeklesadik\\Miniconda3\\envs\\geo_env\\lib\\site-packages\\xgboost\\data.py:112: UserWarning: Use subset (sliced data) of np.ndarray is not recommended because it will generate extra copies and increase memory consumption\n",
      "  warnings.warn(\n",
      "C:\\Users\\ATeklesadik\\Miniconda3\\envs\\geo_env\\lib\\site-packages\\xgboost\\data.py:112: UserWarning: Use subset (sliced data) of np.ndarray is not recommended because it will generate extra copies and increase memory consumption\n",
      "  warnings.warn(\n"
     ]
    },
    {
     "name": "stdout",
     "output_type": "stream",
     "text": [
      "[CV 2/5; 2/2] END xgb__colsample_bytree=0.7, xgb__gamma=0.1, xgb__learning_rate=0.03, xgb__max_depth=8, xgb__n_estimators=50, xgb__reg_lambda=0.001;, score=(train=-3.678, test=-6.304) total time=   0.6s\n",
      "[CV 3/5; 2/2] START xgb__colsample_bytree=0.7, xgb__gamma=0.1, xgb__learning_rate=0.03, xgb__max_depth=8, xgb__n_estimators=50, xgb__reg_lambda=0.001\n"
     ]
    },
    {
     "name": "stderr",
     "output_type": "stream",
     "text": [
      "C:\\Users\\ATeklesadik\\Miniconda3\\envs\\geo_env\\lib\\site-packages\\xgboost\\data.py:112: UserWarning: Use subset (sliced data) of np.ndarray is not recommended because it will generate extra copies and increase memory consumption\n",
      "  warnings.warn(\n",
      "C:\\Users\\ATeklesadik\\Miniconda3\\envs\\geo_env\\lib\\site-packages\\xgboost\\data.py:112: UserWarning: Use subset (sliced data) of np.ndarray is not recommended because it will generate extra copies and increase memory consumption\n",
      "  warnings.warn(\n"
     ]
    },
    {
     "name": "stdout",
     "output_type": "stream",
     "text": [
      "[CV 3/5; 2/2] END xgb__colsample_bytree=0.7, xgb__gamma=0.1, xgb__learning_rate=0.03, xgb__max_depth=8, xgb__n_estimators=50, xgb__reg_lambda=0.001;, score=(train=-3.721, test=-6.129) total time=   0.6s\n",
      "[CV 4/5; 2/2] START xgb__colsample_bytree=0.7, xgb__gamma=0.1, xgb__learning_rate=0.03, xgb__max_depth=8, xgb__n_estimators=50, xgb__reg_lambda=0.001\n"
     ]
    },
    {
     "name": "stderr",
     "output_type": "stream",
     "text": [
      "C:\\Users\\ATeklesadik\\Miniconda3\\envs\\geo_env\\lib\\site-packages\\xgboost\\data.py:112: UserWarning: Use subset (sliced data) of np.ndarray is not recommended because it will generate extra copies and increase memory consumption\n",
      "  warnings.warn(\n",
      "C:\\Users\\ATeklesadik\\Miniconda3\\envs\\geo_env\\lib\\site-packages\\xgboost\\data.py:112: UserWarning: Use subset (sliced data) of np.ndarray is not recommended because it will generate extra copies and increase memory consumption\n",
      "  warnings.warn(\n"
     ]
    },
    {
     "name": "stdout",
     "output_type": "stream",
     "text": [
      "[CV 4/5; 2/2] END xgb__colsample_bytree=0.7, xgb__gamma=0.1, xgb__learning_rate=0.03, xgb__max_depth=8, xgb__n_estimators=50, xgb__reg_lambda=0.001;, score=(train=-3.580, test=-6.222) total time=   0.5s\n",
      "[CV 5/5; 2/2] START xgb__colsample_bytree=0.7, xgb__gamma=0.1, xgb__learning_rate=0.03, xgb__max_depth=8, xgb__n_estimators=50, xgb__reg_lambda=0.001\n"
     ]
    },
    {
     "name": "stderr",
     "output_type": "stream",
     "text": [
      "C:\\Users\\ATeklesadik\\Miniconda3\\envs\\geo_env\\lib\\site-packages\\xgboost\\data.py:112: UserWarning: Use subset (sliced data) of np.ndarray is not recommended because it will generate extra copies and increase memory consumption\n",
      "  warnings.warn(\n",
      "C:\\Users\\ATeklesadik\\Miniconda3\\envs\\geo_env\\lib\\site-packages\\xgboost\\data.py:112: UserWarning: Use subset (sliced data) of np.ndarray is not recommended because it will generate extra copies and increase memory consumption\n",
      "  warnings.warn(\n"
     ]
    },
    {
     "name": "stdout",
     "output_type": "stream",
     "text": [
      "[CV 5/5; 2/2] END xgb__colsample_bytree=0.7, xgb__gamma=0.1, xgb__learning_rate=0.03, xgb__max_depth=8, xgb__n_estimators=50, xgb__reg_lambda=0.001;, score=(train=-3.643, test=-6.575) total time=   0.5s\n"
     ]
    },
    {
     "name": "stderr",
     "output_type": "stream",
     "text": [
      "C:\\Users\\ATeklesadik\\Miniconda3\\envs\\geo_env\\lib\\site-packages\\xgboost\\data.py:112: UserWarning: Use subset (sliced data) of np.ndarray is not recommended because it will generate extra copies and increase memory consumption\n",
      "  warnings.warn(\n",
      "C:\\Users\\ATeklesadik\\Miniconda3\\envs\\geo_env\\lib\\site-packages\\sklearn\\model_selection\\_search.py:285: UserWarning: The total space of parameters 2 is smaller than n_iter=500. Running 2 iterations. For exhaustive searches, use GridSearchCV.\n",
      "  warnings.warn(\n"
     ]
    },
    {
     "name": "stdout",
     "output_type": "stream",
     "text": [
      "Selected Parameters {'xgb__reg_lambda': 0.001, 'xgb__n_estimators': 50, 'xgb__max_depth': 8, 'xgb__learning_rate': 0.03, 'xgb__gamma': 0.1, 'xgb__colsample_bytree': 0.7}\n",
      "Train score: 1.351041114100184\n",
      "Test score: 1.8465873197192444\n",
      "Running for 36 out of a total of 39\n",
      "Fitting 5 folds for each of 2 candidates, totalling 10 fits\n",
      "[CV 1/5; 1/2] START xgb__colsample_bytree=0.7, xgb__gamma=0.1, xgb__learning_rate=0.03, xgb__max_depth=6, xgb__n_estimators=50, xgb__reg_lambda=0.001\n"
     ]
    },
    {
     "name": "stderr",
     "output_type": "stream",
     "text": [
      "C:\\Users\\ATeklesadik\\Miniconda3\\envs\\geo_env\\lib\\site-packages\\xgboost\\data.py:112: UserWarning: Use subset (sliced data) of np.ndarray is not recommended because it will generate extra copies and increase memory consumption\n",
      "  warnings.warn(\n",
      "C:\\Users\\ATeklesadik\\Miniconda3\\envs\\geo_env\\lib\\site-packages\\xgboost\\data.py:112: UserWarning: Use subset (sliced data) of np.ndarray is not recommended because it will generate extra copies and increase memory consumption\n",
      "  warnings.warn(\n"
     ]
    },
    {
     "name": "stdout",
     "output_type": "stream",
     "text": [
      "[CV 1/5; 1/2] END xgb__colsample_bytree=0.7, xgb__gamma=0.1, xgb__learning_rate=0.03, xgb__max_depth=6, xgb__n_estimators=50, xgb__reg_lambda=0.001;, score=(train=-4.584, test=-6.463) total time=   0.3s\n",
      "[CV 2/5; 1/2] START xgb__colsample_bytree=0.7, xgb__gamma=0.1, xgb__learning_rate=0.03, xgb__max_depth=6, xgb__n_estimators=50, xgb__reg_lambda=0.001\n"
     ]
    },
    {
     "name": "stderr",
     "output_type": "stream",
     "text": [
      "C:\\Users\\ATeklesadik\\Miniconda3\\envs\\geo_env\\lib\\site-packages\\xgboost\\data.py:112: UserWarning: Use subset (sliced data) of np.ndarray is not recommended because it will generate extra copies and increase memory consumption\n",
      "  warnings.warn(\n",
      "C:\\Users\\ATeklesadik\\Miniconda3\\envs\\geo_env\\lib\\site-packages\\xgboost\\data.py:112: UserWarning: Use subset (sliced data) of np.ndarray is not recommended because it will generate extra copies and increase memory consumption\n",
      "  warnings.warn(\n"
     ]
    },
    {
     "name": "stdout",
     "output_type": "stream",
     "text": [
      "[CV 2/5; 1/2] END xgb__colsample_bytree=0.7, xgb__gamma=0.1, xgb__learning_rate=0.03, xgb__max_depth=6, xgb__n_estimators=50, xgb__reg_lambda=0.001;, score=(train=-4.601, test=-6.496) total time=   0.3s\n",
      "[CV 3/5; 1/2] START xgb__colsample_bytree=0.7, xgb__gamma=0.1, xgb__learning_rate=0.03, xgb__max_depth=6, xgb__n_estimators=50, xgb__reg_lambda=0.001\n"
     ]
    },
    {
     "name": "stderr",
     "output_type": "stream",
     "text": [
      "C:\\Users\\ATeklesadik\\Miniconda3\\envs\\geo_env\\lib\\site-packages\\xgboost\\data.py:112: UserWarning: Use subset (sliced data) of np.ndarray is not recommended because it will generate extra copies and increase memory consumption\n",
      "  warnings.warn(\n",
      "C:\\Users\\ATeklesadik\\Miniconda3\\envs\\geo_env\\lib\\site-packages\\xgboost\\data.py:112: UserWarning: Use subset (sliced data) of np.ndarray is not recommended because it will generate extra copies and increase memory consumption\n",
      "  warnings.warn(\n"
     ]
    },
    {
     "name": "stdout",
     "output_type": "stream",
     "text": [
      "[CV 3/5; 1/2] END xgb__colsample_bytree=0.7, xgb__gamma=0.1, xgb__learning_rate=0.03, xgb__max_depth=6, xgb__n_estimators=50, xgb__reg_lambda=0.001;, score=(train=-4.802, test=-5.008) total time=   0.3s\n",
      "[CV 4/5; 1/2] START xgb__colsample_bytree=0.7, xgb__gamma=0.1, xgb__learning_rate=0.03, xgb__max_depth=6, xgb__n_estimators=50, xgb__reg_lambda=0.001\n"
     ]
    },
    {
     "name": "stderr",
     "output_type": "stream",
     "text": [
      "C:\\Users\\ATeklesadik\\Miniconda3\\envs\\geo_env\\lib\\site-packages\\xgboost\\data.py:112: UserWarning: Use subset (sliced data) of np.ndarray is not recommended because it will generate extra copies and increase memory consumption\n",
      "  warnings.warn(\n",
      "C:\\Users\\ATeklesadik\\Miniconda3\\envs\\geo_env\\lib\\site-packages\\xgboost\\data.py:112: UserWarning: Use subset (sliced data) of np.ndarray is not recommended because it will generate extra copies and increase memory consumption\n",
      "  warnings.warn(\n"
     ]
    },
    {
     "name": "stdout",
     "output_type": "stream",
     "text": [
      "[CV 4/5; 1/2] END xgb__colsample_bytree=0.7, xgb__gamma=0.1, xgb__learning_rate=0.03, xgb__max_depth=6, xgb__n_estimators=50, xgb__reg_lambda=0.001;, score=(train=-4.747, test=-6.286) total time=   0.3s\n",
      "[CV 5/5; 1/2] START xgb__colsample_bytree=0.7, xgb__gamma=0.1, xgb__learning_rate=0.03, xgb__max_depth=6, xgb__n_estimators=50, xgb__reg_lambda=0.001\n"
     ]
    },
    {
     "name": "stderr",
     "output_type": "stream",
     "text": [
      "C:\\Users\\ATeklesadik\\Miniconda3\\envs\\geo_env\\lib\\site-packages\\xgboost\\data.py:112: UserWarning: Use subset (sliced data) of np.ndarray is not recommended because it will generate extra copies and increase memory consumption\n",
      "  warnings.warn(\n",
      "C:\\Users\\ATeklesadik\\Miniconda3\\envs\\geo_env\\lib\\site-packages\\xgboost\\data.py:112: UserWarning: Use subset (sliced data) of np.ndarray is not recommended because it will generate extra copies and increase memory consumption\n",
      "  warnings.warn(\n"
     ]
    },
    {
     "name": "stdout",
     "output_type": "stream",
     "text": [
      "[CV 5/5; 1/2] END xgb__colsample_bytree=0.7, xgb__gamma=0.1, xgb__learning_rate=0.03, xgb__max_depth=6, xgb__n_estimators=50, xgb__reg_lambda=0.001;, score=(train=-4.533, test=-5.985) total time=   0.4s\n",
      "[CV 1/5; 2/2] START xgb__colsample_bytree=0.7, xgb__gamma=0.1, xgb__learning_rate=0.03, xgb__max_depth=8, xgb__n_estimators=50, xgb__reg_lambda=0.001\n"
     ]
    },
    {
     "name": "stderr",
     "output_type": "stream",
     "text": [
      "C:\\Users\\ATeklesadik\\Miniconda3\\envs\\geo_env\\lib\\site-packages\\xgboost\\data.py:112: UserWarning: Use subset (sliced data) of np.ndarray is not recommended because it will generate extra copies and increase memory consumption\n",
      "  warnings.warn(\n",
      "C:\\Users\\ATeklesadik\\Miniconda3\\envs\\geo_env\\lib\\site-packages\\xgboost\\data.py:112: UserWarning: Use subset (sliced data) of np.ndarray is not recommended because it will generate extra copies and increase memory consumption\n",
      "  warnings.warn(\n"
     ]
    },
    {
     "name": "stdout",
     "output_type": "stream",
     "text": [
      "[CV 1/5; 2/2] END xgb__colsample_bytree=0.7, xgb__gamma=0.1, xgb__learning_rate=0.03, xgb__max_depth=8, xgb__n_estimators=50, xgb__reg_lambda=0.001;, score=(train=-3.662, test=-6.439) total time=   0.5s\n",
      "[CV 2/5; 2/2] START xgb__colsample_bytree=0.7, xgb__gamma=0.1, xgb__learning_rate=0.03, xgb__max_depth=8, xgb__n_estimators=50, xgb__reg_lambda=0.001\n"
     ]
    },
    {
     "name": "stderr",
     "output_type": "stream",
     "text": [
      "C:\\Users\\ATeklesadik\\Miniconda3\\envs\\geo_env\\lib\\site-packages\\xgboost\\data.py:112: UserWarning: Use subset (sliced data) of np.ndarray is not recommended because it will generate extra copies and increase memory consumption\n",
      "  warnings.warn(\n",
      "C:\\Users\\ATeklesadik\\Miniconda3\\envs\\geo_env\\lib\\site-packages\\xgboost\\data.py:112: UserWarning: Use subset (sliced data) of np.ndarray is not recommended because it will generate extra copies and increase memory consumption\n",
      "  warnings.warn(\n"
     ]
    },
    {
     "name": "stdout",
     "output_type": "stream",
     "text": [
      "[CV 2/5; 2/2] END xgb__colsample_bytree=0.7, xgb__gamma=0.1, xgb__learning_rate=0.03, xgb__max_depth=8, xgb__n_estimators=50, xgb__reg_lambda=0.001;, score=(train=-3.600, test=-6.356) total time=   0.5s\n",
      "[CV 3/5; 2/2] START xgb__colsample_bytree=0.7, xgb__gamma=0.1, xgb__learning_rate=0.03, xgb__max_depth=8, xgb__n_estimators=50, xgb__reg_lambda=0.001\n"
     ]
    },
    {
     "name": "stderr",
     "output_type": "stream",
     "text": [
      "C:\\Users\\ATeklesadik\\Miniconda3\\envs\\geo_env\\lib\\site-packages\\xgboost\\data.py:112: UserWarning: Use subset (sliced data) of np.ndarray is not recommended because it will generate extra copies and increase memory consumption\n",
      "  warnings.warn(\n",
      "C:\\Users\\ATeklesadik\\Miniconda3\\envs\\geo_env\\lib\\site-packages\\xgboost\\data.py:112: UserWarning: Use subset (sliced data) of np.ndarray is not recommended because it will generate extra copies and increase memory consumption\n",
      "  warnings.warn(\n"
     ]
    },
    {
     "name": "stdout",
     "output_type": "stream",
     "text": [
      "[CV 3/5; 2/2] END xgb__colsample_bytree=0.7, xgb__gamma=0.1, xgb__learning_rate=0.03, xgb__max_depth=8, xgb__n_estimators=50, xgb__reg_lambda=0.001;, score=(train=-3.861, test=-4.962) total time=   0.5s\n",
      "[CV 4/5; 2/2] START xgb__colsample_bytree=0.7, xgb__gamma=0.1, xgb__learning_rate=0.03, xgb__max_depth=8, xgb__n_estimators=50, xgb__reg_lambda=0.001\n"
     ]
    },
    {
     "name": "stderr",
     "output_type": "stream",
     "text": [
      "C:\\Users\\ATeklesadik\\Miniconda3\\envs\\geo_env\\lib\\site-packages\\xgboost\\data.py:112: UserWarning: Use subset (sliced data) of np.ndarray is not recommended because it will generate extra copies and increase memory consumption\n",
      "  warnings.warn(\n",
      "C:\\Users\\ATeklesadik\\Miniconda3\\envs\\geo_env\\lib\\site-packages\\xgboost\\data.py:112: UserWarning: Use subset (sliced data) of np.ndarray is not recommended because it will generate extra copies and increase memory consumption\n",
      "  warnings.warn(\n"
     ]
    },
    {
     "name": "stdout",
     "output_type": "stream",
     "text": [
      "[CV 4/5; 2/2] END xgb__colsample_bytree=0.7, xgb__gamma=0.1, xgb__learning_rate=0.03, xgb__max_depth=8, xgb__n_estimators=50, xgb__reg_lambda=0.001;, score=(train=-3.818, test=-6.247) total time=   0.6s\n",
      "[CV 5/5; 2/2] START xgb__colsample_bytree=0.7, xgb__gamma=0.1, xgb__learning_rate=0.03, xgb__max_depth=8, xgb__n_estimators=50, xgb__reg_lambda=0.001\n"
     ]
    },
    {
     "name": "stderr",
     "output_type": "stream",
     "text": [
      "C:\\Users\\ATeklesadik\\Miniconda3\\envs\\geo_env\\lib\\site-packages\\xgboost\\data.py:112: UserWarning: Use subset (sliced data) of np.ndarray is not recommended because it will generate extra copies and increase memory consumption\n",
      "  warnings.warn(\n",
      "C:\\Users\\ATeklesadik\\Miniconda3\\envs\\geo_env\\lib\\site-packages\\xgboost\\data.py:112: UserWarning: Use subset (sliced data) of np.ndarray is not recommended because it will generate extra copies and increase memory consumption\n",
      "  warnings.warn(\n"
     ]
    },
    {
     "name": "stdout",
     "output_type": "stream",
     "text": [
      "[CV 5/5; 2/2] END xgb__colsample_bytree=0.7, xgb__gamma=0.1, xgb__learning_rate=0.03, xgb__max_depth=8, xgb__n_estimators=50, xgb__reg_lambda=0.001;, score=(train=-3.595, test=-5.952) total time=   0.5s\n"
     ]
    },
    {
     "name": "stderr",
     "output_type": "stream",
     "text": [
      "C:\\Users\\ATeklesadik\\Miniconda3\\envs\\geo_env\\lib\\site-packages\\xgboost\\data.py:112: UserWarning: Use subset (sliced data) of np.ndarray is not recommended because it will generate extra copies and increase memory consumption\n",
      "  warnings.warn(\n",
      "C:\\Users\\ATeklesadik\\Miniconda3\\envs\\geo_env\\lib\\site-packages\\sklearn\\model_selection\\_search.py:285: UserWarning: The total space of parameters 2 is smaller than n_iter=500. Running 2 iterations. For exhaustive searches, use GridSearchCV.\n",
      "  warnings.warn(\n"
     ]
    },
    {
     "name": "stdout",
     "output_type": "stream",
     "text": [
      "Selected Parameters {'xgb__reg_lambda': 0.001, 'xgb__n_estimators': 50, 'xgb__max_depth': 8, 'xgb__learning_rate': 0.03, 'xgb__gamma': 0.1, 'xgb__colsample_bytree': 0.7}\n",
      "Train score: 1.3670867289460726\n",
      "Test score: 2.066332289041859\n",
      "Running for 37 out of a total of 39\n",
      "Fitting 5 folds for each of 2 candidates, totalling 10 fits\n",
      "[CV 1/5; 1/2] START xgb__colsample_bytree=0.7, xgb__gamma=0.1, xgb__learning_rate=0.03, xgb__max_depth=6, xgb__n_estimators=50, xgb__reg_lambda=0.001\n"
     ]
    },
    {
     "name": "stderr",
     "output_type": "stream",
     "text": [
      "C:\\Users\\ATeklesadik\\Miniconda3\\envs\\geo_env\\lib\\site-packages\\xgboost\\data.py:112: UserWarning: Use subset (sliced data) of np.ndarray is not recommended because it will generate extra copies and increase memory consumption\n",
      "  warnings.warn(\n",
      "C:\\Users\\ATeklesadik\\Miniconda3\\envs\\geo_env\\lib\\site-packages\\xgboost\\data.py:112: UserWarning: Use subset (sliced data) of np.ndarray is not recommended because it will generate extra copies and increase memory consumption\n",
      "  warnings.warn(\n"
     ]
    },
    {
     "name": "stdout",
     "output_type": "stream",
     "text": [
      "[CV 1/5; 1/2] END xgb__colsample_bytree=0.7, xgb__gamma=0.1, xgb__learning_rate=0.03, xgb__max_depth=6, xgb__n_estimators=50, xgb__reg_lambda=0.001;, score=(train=-4.532, test=-6.292) total time=   0.4s\n",
      "[CV 2/5; 1/2] START xgb__colsample_bytree=0.7, xgb__gamma=0.1, xgb__learning_rate=0.03, xgb__max_depth=6, xgb__n_estimators=50, xgb__reg_lambda=0.001\n"
     ]
    },
    {
     "name": "stderr",
     "output_type": "stream",
     "text": [
      "C:\\Users\\ATeklesadik\\Miniconda3\\envs\\geo_env\\lib\\site-packages\\xgboost\\data.py:112: UserWarning: Use subset (sliced data) of np.ndarray is not recommended because it will generate extra copies and increase memory consumption\n",
      "  warnings.warn(\n",
      "C:\\Users\\ATeklesadik\\Miniconda3\\envs\\geo_env\\lib\\site-packages\\xgboost\\data.py:112: UserWarning: Use subset (sliced data) of np.ndarray is not recommended because it will generate extra copies and increase memory consumption\n",
      "  warnings.warn(\n"
     ]
    },
    {
     "name": "stdout",
     "output_type": "stream",
     "text": [
      "[CV 2/5; 1/2] END xgb__colsample_bytree=0.7, xgb__gamma=0.1, xgb__learning_rate=0.03, xgb__max_depth=6, xgb__n_estimators=50, xgb__reg_lambda=0.001;, score=(train=-4.816, test=-6.145) total time=   0.3s\n",
      "[CV 3/5; 1/2] START xgb__colsample_bytree=0.7, xgb__gamma=0.1, xgb__learning_rate=0.03, xgb__max_depth=6, xgb__n_estimators=50, xgb__reg_lambda=0.001\n"
     ]
    },
    {
     "name": "stderr",
     "output_type": "stream",
     "text": [
      "C:\\Users\\ATeklesadik\\Miniconda3\\envs\\geo_env\\lib\\site-packages\\xgboost\\data.py:112: UserWarning: Use subset (sliced data) of np.ndarray is not recommended because it will generate extra copies and increase memory consumption\n",
      "  warnings.warn(\n",
      "C:\\Users\\ATeklesadik\\Miniconda3\\envs\\geo_env\\lib\\site-packages\\xgboost\\data.py:112: UserWarning: Use subset (sliced data) of np.ndarray is not recommended because it will generate extra copies and increase memory consumption\n",
      "  warnings.warn(\n"
     ]
    },
    {
     "name": "stdout",
     "output_type": "stream",
     "text": [
      "[CV 3/5; 1/2] END xgb__colsample_bytree=0.7, xgb__gamma=0.1, xgb__learning_rate=0.03, xgb__max_depth=6, xgb__n_estimators=50, xgb__reg_lambda=0.001;, score=(train=-4.700, test=-6.958) total time=   0.3s\n",
      "[CV 4/5; 1/2] START xgb__colsample_bytree=0.7, xgb__gamma=0.1, xgb__learning_rate=0.03, xgb__max_depth=6, xgb__n_estimators=50, xgb__reg_lambda=0.001\n"
     ]
    },
    {
     "name": "stderr",
     "output_type": "stream",
     "text": [
      "C:\\Users\\ATeklesadik\\Miniconda3\\envs\\geo_env\\lib\\site-packages\\xgboost\\data.py:112: UserWarning: Use subset (sliced data) of np.ndarray is not recommended because it will generate extra copies and increase memory consumption\n",
      "  warnings.warn(\n",
      "C:\\Users\\ATeklesadik\\Miniconda3\\envs\\geo_env\\lib\\site-packages\\xgboost\\data.py:112: UserWarning: Use subset (sliced data) of np.ndarray is not recommended because it will generate extra copies and increase memory consumption\n",
      "  warnings.warn(\n"
     ]
    },
    {
     "name": "stdout",
     "output_type": "stream",
     "text": [
      "[CV 4/5; 1/2] END xgb__colsample_bytree=0.7, xgb__gamma=0.1, xgb__learning_rate=0.03, xgb__max_depth=6, xgb__n_estimators=50, xgb__reg_lambda=0.001;, score=(train=-4.693, test=-6.103) total time=   0.3s\n",
      "[CV 5/5; 1/2] START xgb__colsample_bytree=0.7, xgb__gamma=0.1, xgb__learning_rate=0.03, xgb__max_depth=6, xgb__n_estimators=50, xgb__reg_lambda=0.001\n"
     ]
    },
    {
     "name": "stderr",
     "output_type": "stream",
     "text": [
      "C:\\Users\\ATeklesadik\\Miniconda3\\envs\\geo_env\\lib\\site-packages\\xgboost\\data.py:112: UserWarning: Use subset (sliced data) of np.ndarray is not recommended because it will generate extra copies and increase memory consumption\n",
      "  warnings.warn(\n",
      "C:\\Users\\ATeklesadik\\Miniconda3\\envs\\geo_env\\lib\\site-packages\\xgboost\\data.py:112: UserWarning: Use subset (sliced data) of np.ndarray is not recommended because it will generate extra copies and increase memory consumption\n",
      "  warnings.warn(\n"
     ]
    },
    {
     "name": "stdout",
     "output_type": "stream",
     "text": [
      "[CV 5/5; 1/2] END xgb__colsample_bytree=0.7, xgb__gamma=0.1, xgb__learning_rate=0.03, xgb__max_depth=6, xgb__n_estimators=50, xgb__reg_lambda=0.001;, score=(train=-4.730, test=-6.125) total time=   0.3s\n",
      "[CV 1/5; 2/2] START xgb__colsample_bytree=0.7, xgb__gamma=0.1, xgb__learning_rate=0.03, xgb__max_depth=8, xgb__n_estimators=50, xgb__reg_lambda=0.001\n"
     ]
    },
    {
     "name": "stderr",
     "output_type": "stream",
     "text": [
      "C:\\Users\\ATeklesadik\\Miniconda3\\envs\\geo_env\\lib\\site-packages\\xgboost\\data.py:112: UserWarning: Use subset (sliced data) of np.ndarray is not recommended because it will generate extra copies and increase memory consumption\n",
      "  warnings.warn(\n",
      "C:\\Users\\ATeklesadik\\Miniconda3\\envs\\geo_env\\lib\\site-packages\\xgboost\\data.py:112: UserWarning: Use subset (sliced data) of np.ndarray is not recommended because it will generate extra copies and increase memory consumption\n",
      "  warnings.warn(\n"
     ]
    },
    {
     "name": "stdout",
     "output_type": "stream",
     "text": [
      "[CV 1/5; 2/2] END xgb__colsample_bytree=0.7, xgb__gamma=0.1, xgb__learning_rate=0.03, xgb__max_depth=8, xgb__n_estimators=50, xgb__reg_lambda=0.001;, score=(train=-3.558, test=-6.044) total time=   0.6s\n",
      "[CV 2/5; 2/2] START xgb__colsample_bytree=0.7, xgb__gamma=0.1, xgb__learning_rate=0.03, xgb__max_depth=8, xgb__n_estimators=50, xgb__reg_lambda=0.001\n"
     ]
    },
    {
     "name": "stderr",
     "output_type": "stream",
     "text": [
      "C:\\Users\\ATeklesadik\\Miniconda3\\envs\\geo_env\\lib\\site-packages\\xgboost\\data.py:112: UserWarning: Use subset (sliced data) of np.ndarray is not recommended because it will generate extra copies and increase memory consumption\n",
      "  warnings.warn(\n",
      "C:\\Users\\ATeklesadik\\Miniconda3\\envs\\geo_env\\lib\\site-packages\\xgboost\\data.py:112: UserWarning: Use subset (sliced data) of np.ndarray is not recommended because it will generate extra copies and increase memory consumption\n",
      "  warnings.warn(\n"
     ]
    },
    {
     "name": "stdout",
     "output_type": "stream",
     "text": [
      "[CV 2/5; 2/2] END xgb__colsample_bytree=0.7, xgb__gamma=0.1, xgb__learning_rate=0.03, xgb__max_depth=8, xgb__n_estimators=50, xgb__reg_lambda=0.001;, score=(train=-3.895, test=-6.008) total time=   0.5s\n",
      "[CV 3/5; 2/2] START xgb__colsample_bytree=0.7, xgb__gamma=0.1, xgb__learning_rate=0.03, xgb__max_depth=8, xgb__n_estimators=50, xgb__reg_lambda=0.001\n"
     ]
    },
    {
     "name": "stderr",
     "output_type": "stream",
     "text": [
      "C:\\Users\\ATeklesadik\\Miniconda3\\envs\\geo_env\\lib\\site-packages\\xgboost\\data.py:112: UserWarning: Use subset (sliced data) of np.ndarray is not recommended because it will generate extra copies and increase memory consumption\n",
      "  warnings.warn(\n",
      "C:\\Users\\ATeklesadik\\Miniconda3\\envs\\geo_env\\lib\\site-packages\\xgboost\\data.py:112: UserWarning: Use subset (sliced data) of np.ndarray is not recommended because it will generate extra copies and increase memory consumption\n",
      "  warnings.warn(\n"
     ]
    },
    {
     "name": "stdout",
     "output_type": "stream",
     "text": [
      "[CV 3/5; 2/2] END xgb__colsample_bytree=0.7, xgb__gamma=0.1, xgb__learning_rate=0.03, xgb__max_depth=8, xgb__n_estimators=50, xgb__reg_lambda=0.001;, score=(train=-3.837, test=-6.835) total time=   0.5s\n",
      "[CV 4/5; 2/2] START xgb__colsample_bytree=0.7, xgb__gamma=0.1, xgb__learning_rate=0.03, xgb__max_depth=8, xgb__n_estimators=50, xgb__reg_lambda=0.001\n"
     ]
    },
    {
     "name": "stderr",
     "output_type": "stream",
     "text": [
      "C:\\Users\\ATeklesadik\\Miniconda3\\envs\\geo_env\\lib\\site-packages\\xgboost\\data.py:112: UserWarning: Use subset (sliced data) of np.ndarray is not recommended because it will generate extra copies and increase memory consumption\n",
      "  warnings.warn(\n",
      "C:\\Users\\ATeklesadik\\Miniconda3\\envs\\geo_env\\lib\\site-packages\\xgboost\\data.py:112: UserWarning: Use subset (sliced data) of np.ndarray is not recommended because it will generate extra copies and increase memory consumption\n",
      "  warnings.warn(\n"
     ]
    },
    {
     "name": "stdout",
     "output_type": "stream",
     "text": [
      "[CV 4/5; 2/2] END xgb__colsample_bytree=0.7, xgb__gamma=0.1, xgb__learning_rate=0.03, xgb__max_depth=8, xgb__n_estimators=50, xgb__reg_lambda=0.001;, score=(train=-3.690, test=-6.052) total time=   0.5s\n",
      "[CV 5/5; 2/2] START xgb__colsample_bytree=0.7, xgb__gamma=0.1, xgb__learning_rate=0.03, xgb__max_depth=8, xgb__n_estimators=50, xgb__reg_lambda=0.001\n"
     ]
    },
    {
     "name": "stderr",
     "output_type": "stream",
     "text": [
      "C:\\Users\\ATeklesadik\\Miniconda3\\envs\\geo_env\\lib\\site-packages\\xgboost\\data.py:112: UserWarning: Use subset (sliced data) of np.ndarray is not recommended because it will generate extra copies and increase memory consumption\n",
      "  warnings.warn(\n",
      "C:\\Users\\ATeklesadik\\Miniconda3\\envs\\geo_env\\lib\\site-packages\\xgboost\\data.py:112: UserWarning: Use subset (sliced data) of np.ndarray is not recommended because it will generate extra copies and increase memory consumption\n",
      "  warnings.warn(\n"
     ]
    },
    {
     "name": "stdout",
     "output_type": "stream",
     "text": [
      "[CV 5/5; 2/2] END xgb__colsample_bytree=0.7, xgb__gamma=0.1, xgb__learning_rate=0.03, xgb__max_depth=8, xgb__n_estimators=50, xgb__reg_lambda=0.001;, score=(train=-3.693, test=-6.182) total time=   0.6s\n"
     ]
    },
    {
     "name": "stderr",
     "output_type": "stream",
     "text": [
      "C:\\Users\\ATeklesadik\\Miniconda3\\envs\\geo_env\\lib\\site-packages\\xgboost\\data.py:112: UserWarning: Use subset (sliced data) of np.ndarray is not recommended because it will generate extra copies and increase memory consumption\n",
      "  warnings.warn(\n",
      "C:\\Users\\ATeklesadik\\Miniconda3\\envs\\geo_env\\lib\\site-packages\\sklearn\\model_selection\\_search.py:285: UserWarning: The total space of parameters 2 is smaller than n_iter=500. Running 2 iterations. For exhaustive searches, use GridSearchCV.\n",
      "  warnings.warn(\n"
     ]
    },
    {
     "name": "stdout",
     "output_type": "stream",
     "text": [
      "Selected Parameters {'xgb__reg_lambda': 0.001, 'xgb__n_estimators': 50, 'xgb__max_depth': 8, 'xgb__learning_rate': 0.03, 'xgb__gamma': 0.1, 'xgb__colsample_bytree': 0.7}\n",
      "Train score: 1.3829265066204188\n",
      "Test score: 0.9333038713637731\n",
      "Running for 38 out of a total of 39\n",
      "Fitting 5 folds for each of 2 candidates, totalling 10 fits\n",
      "[CV 1/5; 1/2] START xgb__colsample_bytree=0.7, xgb__gamma=0.1, xgb__learning_rate=0.03, xgb__max_depth=6, xgb__n_estimators=50, xgb__reg_lambda=0.001\n"
     ]
    },
    {
     "name": "stderr",
     "output_type": "stream",
     "text": [
      "C:\\Users\\ATeklesadik\\Miniconda3\\envs\\geo_env\\lib\\site-packages\\xgboost\\data.py:112: UserWarning: Use subset (sliced data) of np.ndarray is not recommended because it will generate extra copies and increase memory consumption\n",
      "  warnings.warn(\n",
      "C:\\Users\\ATeklesadik\\Miniconda3\\envs\\geo_env\\lib\\site-packages\\xgboost\\data.py:112: UserWarning: Use subset (sliced data) of np.ndarray is not recommended because it will generate extra copies and increase memory consumption\n",
      "  warnings.warn(\n"
     ]
    },
    {
     "name": "stdout",
     "output_type": "stream",
     "text": [
      "[CV 1/5; 1/2] END xgb__colsample_bytree=0.7, xgb__gamma=0.1, xgb__learning_rate=0.03, xgb__max_depth=6, xgb__n_estimators=50, xgb__reg_lambda=0.001;, score=(train=-4.670, test=-6.724) total time=   0.3s\n",
      "[CV 2/5; 1/2] START xgb__colsample_bytree=0.7, xgb__gamma=0.1, xgb__learning_rate=0.03, xgb__max_depth=6, xgb__n_estimators=50, xgb__reg_lambda=0.001\n"
     ]
    },
    {
     "name": "stderr",
     "output_type": "stream",
     "text": [
      "C:\\Users\\ATeklesadik\\Miniconda3\\envs\\geo_env\\lib\\site-packages\\xgboost\\data.py:112: UserWarning: Use subset (sliced data) of np.ndarray is not recommended because it will generate extra copies and increase memory consumption\n",
      "  warnings.warn(\n",
      "C:\\Users\\ATeklesadik\\Miniconda3\\envs\\geo_env\\lib\\site-packages\\xgboost\\data.py:112: UserWarning: Use subset (sliced data) of np.ndarray is not recommended because it will generate extra copies and increase memory consumption\n",
      "  warnings.warn(\n"
     ]
    },
    {
     "name": "stdout",
     "output_type": "stream",
     "text": [
      "[CV 2/5; 1/2] END xgb__colsample_bytree=0.7, xgb__gamma=0.1, xgb__learning_rate=0.03, xgb__max_depth=6, xgb__n_estimators=50, xgb__reg_lambda=0.001;, score=(train=-4.638, test=-6.659) total time=   0.3s\n",
      "[CV 3/5; 1/2] START xgb__colsample_bytree=0.7, xgb__gamma=0.1, xgb__learning_rate=0.03, xgb__max_depth=6, xgb__n_estimators=50, xgb__reg_lambda=0.001\n"
     ]
    },
    {
     "name": "stderr",
     "output_type": "stream",
     "text": [
      "C:\\Users\\ATeklesadik\\Miniconda3\\envs\\geo_env\\lib\\site-packages\\xgboost\\data.py:112: UserWarning: Use subset (sliced data) of np.ndarray is not recommended because it will generate extra copies and increase memory consumption\n",
      "  warnings.warn(\n",
      "C:\\Users\\ATeklesadik\\Miniconda3\\envs\\geo_env\\lib\\site-packages\\xgboost\\data.py:112: UserWarning: Use subset (sliced data) of np.ndarray is not recommended because it will generate extra copies and increase memory consumption\n",
      "  warnings.warn(\n"
     ]
    },
    {
     "name": "stdout",
     "output_type": "stream",
     "text": [
      "[CV 3/5; 1/2] END xgb__colsample_bytree=0.7, xgb__gamma=0.1, xgb__learning_rate=0.03, xgb__max_depth=6, xgb__n_estimators=50, xgb__reg_lambda=0.001;, score=(train=-4.649, test=-6.027) total time=   0.4s\n",
      "[CV 4/5; 1/2] START xgb__colsample_bytree=0.7, xgb__gamma=0.1, xgb__learning_rate=0.03, xgb__max_depth=6, xgb__n_estimators=50, xgb__reg_lambda=0.001\n"
     ]
    },
    {
     "name": "stderr",
     "output_type": "stream",
     "text": [
      "C:\\Users\\ATeklesadik\\Miniconda3\\envs\\geo_env\\lib\\site-packages\\xgboost\\data.py:112: UserWarning: Use subset (sliced data) of np.ndarray is not recommended because it will generate extra copies and increase memory consumption\n",
      "  warnings.warn(\n",
      "C:\\Users\\ATeklesadik\\Miniconda3\\envs\\geo_env\\lib\\site-packages\\xgboost\\data.py:112: UserWarning: Use subset (sliced data) of np.ndarray is not recommended because it will generate extra copies and increase memory consumption\n",
      "  warnings.warn(\n"
     ]
    },
    {
     "name": "stdout",
     "output_type": "stream",
     "text": [
      "[CV 4/5; 1/2] END xgb__colsample_bytree=0.7, xgb__gamma=0.1, xgb__learning_rate=0.03, xgb__max_depth=6, xgb__n_estimators=50, xgb__reg_lambda=0.001;, score=(train=-4.714, test=-6.569) total time=   0.4s\n",
      "[CV 5/5; 1/2] START xgb__colsample_bytree=0.7, xgb__gamma=0.1, xgb__learning_rate=0.03, xgb__max_depth=6, xgb__n_estimators=50, xgb__reg_lambda=0.001\n"
     ]
    },
    {
     "name": "stderr",
     "output_type": "stream",
     "text": [
      "C:\\Users\\ATeklesadik\\Miniconda3\\envs\\geo_env\\lib\\site-packages\\xgboost\\data.py:112: UserWarning: Use subset (sliced data) of np.ndarray is not recommended because it will generate extra copies and increase memory consumption\n",
      "  warnings.warn(\n",
      "C:\\Users\\ATeklesadik\\Miniconda3\\envs\\geo_env\\lib\\site-packages\\xgboost\\data.py:112: UserWarning: Use subset (sliced data) of np.ndarray is not recommended because it will generate extra copies and increase memory consumption\n",
      "  warnings.warn(\n"
     ]
    },
    {
     "name": "stdout",
     "output_type": "stream",
     "text": [
      "[CV 5/5; 1/2] END xgb__colsample_bytree=0.7, xgb__gamma=0.1, xgb__learning_rate=0.03, xgb__max_depth=6, xgb__n_estimators=50, xgb__reg_lambda=0.001;, score=(train=-4.855, test=-5.263) total time=   0.3s\n",
      "[CV 1/5; 2/2] START xgb__colsample_bytree=0.7, xgb__gamma=0.1, xgb__learning_rate=0.03, xgb__max_depth=8, xgb__n_estimators=50, xgb__reg_lambda=0.001\n"
     ]
    },
    {
     "name": "stderr",
     "output_type": "stream",
     "text": [
      "C:\\Users\\ATeklesadik\\Miniconda3\\envs\\geo_env\\lib\\site-packages\\xgboost\\data.py:112: UserWarning: Use subset (sliced data) of np.ndarray is not recommended because it will generate extra copies and increase memory consumption\n",
      "  warnings.warn(\n",
      "C:\\Users\\ATeklesadik\\Miniconda3\\envs\\geo_env\\lib\\site-packages\\xgboost\\data.py:112: UserWarning: Use subset (sliced data) of np.ndarray is not recommended because it will generate extra copies and increase memory consumption\n",
      "  warnings.warn(\n"
     ]
    },
    {
     "name": "stdout",
     "output_type": "stream",
     "text": [
      "[CV 1/5; 2/2] END xgb__colsample_bytree=0.7, xgb__gamma=0.1, xgb__learning_rate=0.03, xgb__max_depth=8, xgb__n_estimators=50, xgb__reg_lambda=0.001;, score=(train=-3.704, test=-6.538) total time=   0.6s\n",
      "[CV 2/5; 2/2] START xgb__colsample_bytree=0.7, xgb__gamma=0.1, xgb__learning_rate=0.03, xgb__max_depth=8, xgb__n_estimators=50, xgb__reg_lambda=0.001\n"
     ]
    },
    {
     "name": "stderr",
     "output_type": "stream",
     "text": [
      "C:\\Users\\ATeklesadik\\Miniconda3\\envs\\geo_env\\lib\\site-packages\\xgboost\\data.py:112: UserWarning: Use subset (sliced data) of np.ndarray is not recommended because it will generate extra copies and increase memory consumption\n",
      "  warnings.warn(\n",
      "C:\\Users\\ATeklesadik\\Miniconda3\\envs\\geo_env\\lib\\site-packages\\xgboost\\data.py:112: UserWarning: Use subset (sliced data) of np.ndarray is not recommended because it will generate extra copies and increase memory consumption\n",
      "  warnings.warn(\n"
     ]
    },
    {
     "name": "stdout",
     "output_type": "stream",
     "text": [
      "[CV 2/5; 2/2] END xgb__colsample_bytree=0.7, xgb__gamma=0.1, xgb__learning_rate=0.03, xgb__max_depth=8, xgb__n_estimators=50, xgb__reg_lambda=0.001;, score=(train=-3.715, test=-6.735) total time=   0.5s\n",
      "[CV 3/5; 2/2] START xgb__colsample_bytree=0.7, xgb__gamma=0.1, xgb__learning_rate=0.03, xgb__max_depth=8, xgb__n_estimators=50, xgb__reg_lambda=0.001\n"
     ]
    },
    {
     "name": "stderr",
     "output_type": "stream",
     "text": [
      "C:\\Users\\ATeklesadik\\Miniconda3\\envs\\geo_env\\lib\\site-packages\\xgboost\\data.py:112: UserWarning: Use subset (sliced data) of np.ndarray is not recommended because it will generate extra copies and increase memory consumption\n",
      "  warnings.warn(\n",
      "C:\\Users\\ATeklesadik\\Miniconda3\\envs\\geo_env\\lib\\site-packages\\xgboost\\data.py:112: UserWarning: Use subset (sliced data) of np.ndarray is not recommended because it will generate extra copies and increase memory consumption\n",
      "  warnings.warn(\n"
     ]
    },
    {
     "name": "stdout",
     "output_type": "stream",
     "text": [
      "[CV 3/5; 2/2] END xgb__colsample_bytree=0.7, xgb__gamma=0.1, xgb__learning_rate=0.03, xgb__max_depth=8, xgb__n_estimators=50, xgb__reg_lambda=0.001;, score=(train=-3.703, test=-5.904) total time=   0.8s\n",
      "[CV 4/5; 2/2] START xgb__colsample_bytree=0.7, xgb__gamma=0.1, xgb__learning_rate=0.03, xgb__max_depth=8, xgb__n_estimators=50, xgb__reg_lambda=0.001\n"
     ]
    },
    {
     "name": "stderr",
     "output_type": "stream",
     "text": [
      "C:\\Users\\ATeklesadik\\Miniconda3\\envs\\geo_env\\lib\\site-packages\\xgboost\\data.py:112: UserWarning: Use subset (sliced data) of np.ndarray is not recommended because it will generate extra copies and increase memory consumption\n",
      "  warnings.warn(\n",
      "C:\\Users\\ATeklesadik\\Miniconda3\\envs\\geo_env\\lib\\site-packages\\xgboost\\data.py:112: UserWarning: Use subset (sliced data) of np.ndarray is not recommended because it will generate extra copies and increase memory consumption\n",
      "  warnings.warn(\n"
     ]
    },
    {
     "name": "stdout",
     "output_type": "stream",
     "text": [
      "[CV 4/5; 2/2] END xgb__colsample_bytree=0.7, xgb__gamma=0.1, xgb__learning_rate=0.03, xgb__max_depth=8, xgb__n_estimators=50, xgb__reg_lambda=0.001;, score=(train=-3.675, test=-6.667) total time=   0.7s\n",
      "[CV 5/5; 2/2] START xgb__colsample_bytree=0.7, xgb__gamma=0.1, xgb__learning_rate=0.03, xgb__max_depth=8, xgb__n_estimators=50, xgb__reg_lambda=0.001\n"
     ]
    },
    {
     "name": "stderr",
     "output_type": "stream",
     "text": [
      "C:\\Users\\ATeklesadik\\Miniconda3\\envs\\geo_env\\lib\\site-packages\\xgboost\\data.py:112: UserWarning: Use subset (sliced data) of np.ndarray is not recommended because it will generate extra copies and increase memory consumption\n",
      "  warnings.warn(\n",
      "C:\\Users\\ATeklesadik\\Miniconda3\\envs\\geo_env\\lib\\site-packages\\xgboost\\data.py:112: UserWarning: Use subset (sliced data) of np.ndarray is not recommended because it will generate extra copies and increase memory consumption\n",
      "  warnings.warn(\n"
     ]
    },
    {
     "name": "stdout",
     "output_type": "stream",
     "text": [
      "[CV 5/5; 2/2] END xgb__colsample_bytree=0.7, xgb__gamma=0.1, xgb__learning_rate=0.03, xgb__max_depth=8, xgb__n_estimators=50, xgb__reg_lambda=0.001;, score=(train=-3.842, test=-5.328) total time=   0.7s\n"
     ]
    },
    {
     "name": "stderr",
     "output_type": "stream",
     "text": [
      "C:\\Users\\ATeklesadik\\Miniconda3\\envs\\geo_env\\lib\\site-packages\\xgboost\\data.py:112: UserWarning: Use subset (sliced data) of np.ndarray is not recommended because it will generate extra copies and increase memory consumption\n",
      "  warnings.warn(\n",
      "C:\\Users\\ATeklesadik\\Miniconda3\\envs\\geo_env\\lib\\site-packages\\sklearn\\model_selection\\_search.py:285: UserWarning: The total space of parameters 2 is smaller than n_iter=500. Running 2 iterations. For exhaustive searches, use GridSearchCV.\n",
      "  warnings.warn(\n"
     ]
    },
    {
     "name": "stdout",
     "output_type": "stream",
     "text": [
      "Selected Parameters {'xgb__reg_lambda': 0.001, 'xgb__n_estimators': 50, 'xgb__max_depth': 8, 'xgb__learning_rate': 0.03, 'xgb__gamma': 0.1, 'xgb__colsample_bytree': 0.7}\n",
      "Train score: 1.3875534902947242\n",
      "Test score: 0.9566859744192273\n",
      "Running for 39 out of a total of 39\n",
      "Fitting 5 folds for each of 2 candidates, totalling 10 fits\n",
      "[CV 1/5; 1/2] START xgb__colsample_bytree=0.7, xgb__gamma=0.1, xgb__learning_rate=0.03, xgb__max_depth=6, xgb__n_estimators=50, xgb__reg_lambda=0.001\n"
     ]
    },
    {
     "name": "stderr",
     "output_type": "stream",
     "text": [
      "C:\\Users\\ATeklesadik\\Miniconda3\\envs\\geo_env\\lib\\site-packages\\xgboost\\data.py:112: UserWarning: Use subset (sliced data) of np.ndarray is not recommended because it will generate extra copies and increase memory consumption\n",
      "  warnings.warn(\n",
      "C:\\Users\\ATeklesadik\\Miniconda3\\envs\\geo_env\\lib\\site-packages\\xgboost\\data.py:112: UserWarning: Use subset (sliced data) of np.ndarray is not recommended because it will generate extra copies and increase memory consumption\n",
      "  warnings.warn(\n"
     ]
    },
    {
     "name": "stdout",
     "output_type": "stream",
     "text": [
      "[CV 1/5; 1/2] END xgb__colsample_bytree=0.7, xgb__gamma=0.1, xgb__learning_rate=0.03, xgb__max_depth=6, xgb__n_estimators=50, xgb__reg_lambda=0.001;, score=(train=-4.369, test=-7.829) total time=   0.4s\n",
      "[CV 2/5; 1/2] START xgb__colsample_bytree=0.7, xgb__gamma=0.1, xgb__learning_rate=0.03, xgb__max_depth=6, xgb__n_estimators=50, xgb__reg_lambda=0.001\n"
     ]
    },
    {
     "name": "stderr",
     "output_type": "stream",
     "text": [
      "C:\\Users\\ATeklesadik\\Miniconda3\\envs\\geo_env\\lib\\site-packages\\xgboost\\data.py:112: UserWarning: Use subset (sliced data) of np.ndarray is not recommended because it will generate extra copies and increase memory consumption\n",
      "  warnings.warn(\n",
      "C:\\Users\\ATeklesadik\\Miniconda3\\envs\\geo_env\\lib\\site-packages\\xgboost\\data.py:112: UserWarning: Use subset (sliced data) of np.ndarray is not recommended because it will generate extra copies and increase memory consumption\n",
      "  warnings.warn(\n"
     ]
    },
    {
     "name": "stdout",
     "output_type": "stream",
     "text": [
      "[CV 2/5; 1/2] END xgb__colsample_bytree=0.7, xgb__gamma=0.1, xgb__learning_rate=0.03, xgb__max_depth=6, xgb__n_estimators=50, xgb__reg_lambda=0.001;, score=(train=-4.775, test=-5.302) total time=   0.4s\n",
      "[CV 3/5; 1/2] START xgb__colsample_bytree=0.7, xgb__gamma=0.1, xgb__learning_rate=0.03, xgb__max_depth=6, xgb__n_estimators=50, xgb__reg_lambda=0.001\n"
     ]
    },
    {
     "name": "stderr",
     "output_type": "stream",
     "text": [
      "C:\\Users\\ATeklesadik\\Miniconda3\\envs\\geo_env\\lib\\site-packages\\xgboost\\data.py:112: UserWarning: Use subset (sliced data) of np.ndarray is not recommended because it will generate extra copies and increase memory consumption\n",
      "  warnings.warn(\n",
      "C:\\Users\\ATeklesadik\\Miniconda3\\envs\\geo_env\\lib\\site-packages\\xgboost\\data.py:112: UserWarning: Use subset (sliced data) of np.ndarray is not recommended because it will generate extra copies and increase memory consumption\n",
      "  warnings.warn(\n"
     ]
    },
    {
     "name": "stdout",
     "output_type": "stream",
     "text": [
      "[CV 3/5; 1/2] END xgb__colsample_bytree=0.7, xgb__gamma=0.1, xgb__learning_rate=0.03, xgb__max_depth=6, xgb__n_estimators=50, xgb__reg_lambda=0.001;, score=(train=-4.825, test=-5.386) total time=   0.4s\n",
      "[CV 4/5; 1/2] START xgb__colsample_bytree=0.7, xgb__gamma=0.1, xgb__learning_rate=0.03, xgb__max_depth=6, xgb__n_estimators=50, xgb__reg_lambda=0.001\n"
     ]
    },
    {
     "name": "stderr",
     "output_type": "stream",
     "text": [
      "C:\\Users\\ATeklesadik\\Miniconda3\\envs\\geo_env\\lib\\site-packages\\xgboost\\data.py:112: UserWarning: Use subset (sliced data) of np.ndarray is not recommended because it will generate extra copies and increase memory consumption\n",
      "  warnings.warn(\n",
      "C:\\Users\\ATeklesadik\\Miniconda3\\envs\\geo_env\\lib\\site-packages\\xgboost\\data.py:112: UserWarning: Use subset (sliced data) of np.ndarray is not recommended because it will generate extra copies and increase memory consumption\n",
      "  warnings.warn(\n"
     ]
    },
    {
     "name": "stdout",
     "output_type": "stream",
     "text": [
      "[CV 4/5; 1/2] END xgb__colsample_bytree=0.7, xgb__gamma=0.1, xgb__learning_rate=0.03, xgb__max_depth=6, xgb__n_estimators=50, xgb__reg_lambda=0.001;, score=(train=-4.881, test=-5.432) total time=   0.4s\n",
      "[CV 5/5; 1/2] START xgb__colsample_bytree=0.7, xgb__gamma=0.1, xgb__learning_rate=0.03, xgb__max_depth=6, xgb__n_estimators=50, xgb__reg_lambda=0.001\n"
     ]
    },
    {
     "name": "stderr",
     "output_type": "stream",
     "text": [
      "C:\\Users\\ATeklesadik\\Miniconda3\\envs\\geo_env\\lib\\site-packages\\xgboost\\data.py:112: UserWarning: Use subset (sliced data) of np.ndarray is not recommended because it will generate extra copies and increase memory consumption\n",
      "  warnings.warn(\n",
      "C:\\Users\\ATeklesadik\\Miniconda3\\envs\\geo_env\\lib\\site-packages\\xgboost\\data.py:112: UserWarning: Use subset (sliced data) of np.ndarray is not recommended because it will generate extra copies and increase memory consumption\n",
      "  warnings.warn(\n"
     ]
    },
    {
     "name": "stdout",
     "output_type": "stream",
     "text": [
      "[CV 5/5; 1/2] END xgb__colsample_bytree=0.7, xgb__gamma=0.1, xgb__learning_rate=0.03, xgb__max_depth=6, xgb__n_estimators=50, xgb__reg_lambda=0.001;, score=(train=-4.625, test=-6.711) total time=   0.3s\n",
      "[CV 1/5; 2/2] START xgb__colsample_bytree=0.7, xgb__gamma=0.1, xgb__learning_rate=0.03, xgb__max_depth=8, xgb__n_estimators=50, xgb__reg_lambda=0.001\n"
     ]
    },
    {
     "name": "stderr",
     "output_type": "stream",
     "text": [
      "C:\\Users\\ATeklesadik\\Miniconda3\\envs\\geo_env\\lib\\site-packages\\xgboost\\data.py:112: UserWarning: Use subset (sliced data) of np.ndarray is not recommended because it will generate extra copies and increase memory consumption\n",
      "  warnings.warn(\n",
      "C:\\Users\\ATeklesadik\\Miniconda3\\envs\\geo_env\\lib\\site-packages\\xgboost\\data.py:112: UserWarning: Use subset (sliced data) of np.ndarray is not recommended because it will generate extra copies and increase memory consumption\n",
      "  warnings.warn(\n"
     ]
    },
    {
     "name": "stdout",
     "output_type": "stream",
     "text": [
      "[CV 1/5; 2/2] END xgb__colsample_bytree=0.7, xgb__gamma=0.1, xgb__learning_rate=0.03, xgb__max_depth=8, xgb__n_estimators=50, xgb__reg_lambda=0.001;, score=(train=-3.502, test=-7.663) total time=   0.5s\n",
      "[CV 2/5; 2/2] START xgb__colsample_bytree=0.7, xgb__gamma=0.1, xgb__learning_rate=0.03, xgb__max_depth=8, xgb__n_estimators=50, xgb__reg_lambda=0.001\n"
     ]
    },
    {
     "name": "stderr",
     "output_type": "stream",
     "text": [
      "C:\\Users\\ATeklesadik\\Miniconda3\\envs\\geo_env\\lib\\site-packages\\xgboost\\data.py:112: UserWarning: Use subset (sliced data) of np.ndarray is not recommended because it will generate extra copies and increase memory consumption\n",
      "  warnings.warn(\n",
      "C:\\Users\\ATeklesadik\\Miniconda3\\envs\\geo_env\\lib\\site-packages\\xgboost\\data.py:112: UserWarning: Use subset (sliced data) of np.ndarray is not recommended because it will generate extra copies and increase memory consumption\n",
      "  warnings.warn(\n"
     ]
    },
    {
     "name": "stdout",
     "output_type": "stream",
     "text": [
      "[CV 2/5; 2/2] END xgb__colsample_bytree=0.7, xgb__gamma=0.1, xgb__learning_rate=0.03, xgb__max_depth=8, xgb__n_estimators=50, xgb__reg_lambda=0.001;, score=(train=-3.845, test=-5.167) total time=   0.5s\n",
      "[CV 3/5; 2/2] START xgb__colsample_bytree=0.7, xgb__gamma=0.1, xgb__learning_rate=0.03, xgb__max_depth=8, xgb__n_estimators=50, xgb__reg_lambda=0.001\n"
     ]
    },
    {
     "name": "stderr",
     "output_type": "stream",
     "text": [
      "C:\\Users\\ATeklesadik\\Miniconda3\\envs\\geo_env\\lib\\site-packages\\xgboost\\data.py:112: UserWarning: Use subset (sliced data) of np.ndarray is not recommended because it will generate extra copies and increase memory consumption\n",
      "  warnings.warn(\n",
      "C:\\Users\\ATeklesadik\\Miniconda3\\envs\\geo_env\\lib\\site-packages\\xgboost\\data.py:112: UserWarning: Use subset (sliced data) of np.ndarray is not recommended because it will generate extra copies and increase memory consumption\n",
      "  warnings.warn(\n"
     ]
    },
    {
     "name": "stdout",
     "output_type": "stream",
     "text": [
      "[CV 3/5; 2/2] END xgb__colsample_bytree=0.7, xgb__gamma=0.1, xgb__learning_rate=0.03, xgb__max_depth=8, xgb__n_estimators=50, xgb__reg_lambda=0.001;, score=(train=-3.776, test=-5.291) total time=   0.6s\n",
      "[CV 4/5; 2/2] START xgb__colsample_bytree=0.7, xgb__gamma=0.1, xgb__learning_rate=0.03, xgb__max_depth=8, xgb__n_estimators=50, xgb__reg_lambda=0.001\n"
     ]
    },
    {
     "name": "stderr",
     "output_type": "stream",
     "text": [
      "C:\\Users\\ATeklesadik\\Miniconda3\\envs\\geo_env\\lib\\site-packages\\xgboost\\data.py:112: UserWarning: Use subset (sliced data) of np.ndarray is not recommended because it will generate extra copies and increase memory consumption\n",
      "  warnings.warn(\n",
      "C:\\Users\\ATeklesadik\\Miniconda3\\envs\\geo_env\\lib\\site-packages\\xgboost\\data.py:112: UserWarning: Use subset (sliced data) of np.ndarray is not recommended because it will generate extra copies and increase memory consumption\n",
      "  warnings.warn(\n"
     ]
    },
    {
     "name": "stdout",
     "output_type": "stream",
     "text": [
      "[CV 4/5; 2/2] END xgb__colsample_bytree=0.7, xgb__gamma=0.1, xgb__learning_rate=0.03, xgb__max_depth=8, xgb__n_estimators=50, xgb__reg_lambda=0.001;, score=(train=-3.928, test=-5.307) total time=   0.5s\n",
      "[CV 5/5; 2/2] START xgb__colsample_bytree=0.7, xgb__gamma=0.1, xgb__learning_rate=0.03, xgb__max_depth=8, xgb__n_estimators=50, xgb__reg_lambda=0.001\n"
     ]
    },
    {
     "name": "stderr",
     "output_type": "stream",
     "text": [
      "C:\\Users\\ATeklesadik\\Miniconda3\\envs\\geo_env\\lib\\site-packages\\xgboost\\data.py:112: UserWarning: Use subset (sliced data) of np.ndarray is not recommended because it will generate extra copies and increase memory consumption\n",
      "  warnings.warn(\n",
      "C:\\Users\\ATeklesadik\\Miniconda3\\envs\\geo_env\\lib\\site-packages\\xgboost\\data.py:112: UserWarning: Use subset (sliced data) of np.ndarray is not recommended because it will generate extra copies and increase memory consumption\n",
      "  warnings.warn(\n"
     ]
    },
    {
     "name": "stdout",
     "output_type": "stream",
     "text": [
      "[CV 5/5; 2/2] END xgb__colsample_bytree=0.7, xgb__gamma=0.1, xgb__learning_rate=0.03, xgb__max_depth=8, xgb__n_estimators=50, xgb__reg_lambda=0.001;, score=(train=-3.618, test=-6.594) total time=   0.5s\n",
      "Selected Parameters {'xgb__reg_lambda': 0.001, 'xgb__n_estimators': 50, 'xgb__max_depth': 8, 'xgb__learning_rate': 0.03, 'xgb__gamma': 0.1, 'xgb__colsample_bytree': 0.7}\n",
      "Train score: 1.3814006585938126\n",
      "Test score: 0.7051355851229445\n"
     ]
    },
    {
     "name": "stderr",
     "output_type": "stream",
     "text": [
      "C:\\Users\\ATeklesadik\\Miniconda3\\envs\\geo_env\\lib\\site-packages\\xgboost\\data.py:112: UserWarning: Use subset (sliced data) of np.ndarray is not recommended because it will generate extra copies and increase memory consumption\n",
      "  warnings.warn(\n"
     ]
    }
   ],
   "source": [
    "xgb_search_space = [\n",
    "    {\n",
    "        \"xgb__learning_rate\": [0.03],\n",
    "        \"xgb__gamma\": [0.1],\n",
    "        \"xgb__max_depth\": [6,8],\n",
    "        \"xgb__reg_lambda\": [0.001],\n",
    "        \"xgb__n_estimators\": [50],\n",
    "        \"xgb__colsample_bytree\": [0.7],\n",
    "    }\n",
    "]\n",
    "\n",
    "\n",
    "\n",
    "df_predicted_xgb_regr, selected_params_xgb_regr = xgb_regression_performance(\n",
    "    df_train_list=df_train_list,\n",
    "    df_test_list=df_test_list,\n",
    "    y_var='DAM_perc_dmg',\n",
    "    features=features,#selected_features_xgb_regr,\n",
    "    search_space=xgb_search_space,\n",
    "    cv_splits=5,\n",
    "    objective=\"reg:squarederror\",\n",
    "    GS_score=\"neg_root_mean_squared_error\",\n",
    "    GS_randomized=True,\n",
    "    GS_n_iter=500,\n",
    "    verbose=10,\n",
    ")\n"
   ]
  },
  {
   "cell_type": "code",
   "execution_count": 79,
   "id": "6689ed85",
   "metadata": {},
   "outputs": [
    {
     "name": "stderr",
     "output_type": "stream",
     "text": [
      "C:\\Users\\ATEKLE~1\\AppData\\Local\\Temp/ipykernel_23440/3789417887.py:3: ResourceWarning: unclosed file <_io.BufferedWriter name='C:\\\\Users\\\\ATeklesadik\\\\OneDrive - Rode Kruis\\\\Documents\\\\documents\\\\Typhoon-Impact-based-forecasting-model\\\\IBF-Typhoon-model\\\\models/output/v1/selected_params_xgb_regr_.p'>\n",
      "  pickle.dump(selected_params_xgb_regr, open(path, \"wb\"))\n",
      "ResourceWarning: Enable tracemalloc to get the object allocation traceback\n"
     ]
    }
   ],
   "source": [
    "file_name = \"models/output/v1/selected_params_xgb_regr_.p\"\n",
    "path = os.path.join(cdir, file_name)\n",
    "pickle.dump(selected_params_xgb_regr, open(path, \"wb\"))\n",
    "\n",
    "file_name = \"models/output/v1/df_predicted_xgb_regr_.csv\"\n",
    "path = os.path.join(cdir, file_name)\n",
    "df_predicted_xgb_regr.to_csv(path)"
   ]
  },
  {
   "cell_type": "code",
   "execution_count": 80,
   "id": "3350e62f",
   "metadata": {},
   "outputs": [
    {
     "data": {
      "text/html": [
       "<div>\n",
       "<style scoped>\n",
       "    .dataframe tbody tr th:only-of-type {\n",
       "        vertical-align: middle;\n",
       "    }\n",
       "\n",
       "    .dataframe tbody tr th {\n",
       "        vertical-align: top;\n",
       "    }\n",
       "\n",
       "    .dataframe thead th {\n",
       "        text-align: right;\n",
       "    }\n",
       "</style>\n",
       "<table border=\"1\" class=\"dataframe\">\n",
       "  <thead>\n",
       "    <tr style=\"text-align: right;\">\n",
       "      <th></th>\n",
       "      <th>year</th>\n",
       "      <th>actual</th>\n",
       "      <th>predicted</th>\n",
       "      <th>typhoon</th>\n",
       "    </tr>\n",
       "  </thead>\n",
       "  <tbody>\n",
       "    <tr>\n",
       "      <th>1925</th>\n",
       "      <td>NaN</td>\n",
       "      <td>0.000000</td>\n",
       "      <td>0.204817</td>\n",
       "      <td>bopha2012</td>\n",
       "    </tr>\n",
       "    <tr>\n",
       "      <th>1927</th>\n",
       "      <td>NaN</td>\n",
       "      <td>0.000000</td>\n",
       "      <td>0.120829</td>\n",
       "      <td>bopha2012</td>\n",
       "    </tr>\n",
       "    <tr>\n",
       "      <th>1928</th>\n",
       "      <td>NaN</td>\n",
       "      <td>0.000000</td>\n",
       "      <td>0.117936</td>\n",
       "      <td>bopha2012</td>\n",
       "    </tr>\n",
       "    <tr>\n",
       "      <th>1929</th>\n",
       "      <td>NaN</td>\n",
       "      <td>0.000000</td>\n",
       "      <td>0.142789</td>\n",
       "      <td>bopha2012</td>\n",
       "    </tr>\n",
       "    <tr>\n",
       "      <th>1930</th>\n",
       "      <td>NaN</td>\n",
       "      <td>0.000000</td>\n",
       "      <td>0.137798</td>\n",
       "      <td>bopha2012</td>\n",
       "    </tr>\n",
       "    <tr>\n",
       "      <th>...</th>\n",
       "      <td>...</td>\n",
       "      <td>...</td>\n",
       "      <td>...</td>\n",
       "      <td>...</td>\n",
       "    </tr>\n",
       "    <tr>\n",
       "      <th>24605</th>\n",
       "      <td>NaN</td>\n",
       "      <td>0.000000</td>\n",
       "      <td>0.132859</td>\n",
       "      <td>yutu2018</td>\n",
       "    </tr>\n",
       "    <tr>\n",
       "      <th>24613</th>\n",
       "      <td>NaN</td>\n",
       "      <td>0.000000</td>\n",
       "      <td>0.121405</td>\n",
       "      <td>yutu2018</td>\n",
       "    </tr>\n",
       "    <tr>\n",
       "      <th>24617</th>\n",
       "      <td>NaN</td>\n",
       "      <td>0.000000</td>\n",
       "      <td>0.121640</td>\n",
       "      <td>yutu2018</td>\n",
       "    </tr>\n",
       "    <tr>\n",
       "      <th>24619</th>\n",
       "      <td>NaN</td>\n",
       "      <td>0.247804</td>\n",
       "      <td>0.976097</td>\n",
       "      <td>yutu2018</td>\n",
       "    </tr>\n",
       "    <tr>\n",
       "      <th>24622</th>\n",
       "      <td>NaN</td>\n",
       "      <td>0.000000</td>\n",
       "      <td>0.123939</td>\n",
       "      <td>yutu2018</td>\n",
       "    </tr>\n",
       "  </tbody>\n",
       "</table>\n",
       "<p>8073 rows × 4 columns</p>\n",
       "</div>"
      ],
      "text/plain": [
       "      year    actual  predicted    typhoon\n",
       "1925   NaN  0.000000   0.204817  bopha2012\n",
       "1927   NaN  0.000000   0.120829  bopha2012\n",
       "1928   NaN  0.000000   0.117936  bopha2012\n",
       "1929   NaN  0.000000   0.142789  bopha2012\n",
       "1930   NaN  0.000000   0.137798  bopha2012\n",
       "...    ...       ...        ...        ...\n",
       "24605  NaN  0.000000   0.132859   yutu2018\n",
       "24613  NaN  0.000000   0.121405   yutu2018\n",
       "24617  NaN  0.000000   0.121640   yutu2018\n",
       "24619  NaN  0.247804   0.976097   yutu2018\n",
       "24622  NaN  0.000000   0.123939   yutu2018\n",
       "\n",
       "[8073 rows x 4 columns]"
      ]
     },
     "execution_count": 80,
     "metadata": {},
     "output_type": "execute_result"
    }
   ],
   "source": [
    "df_predicted_xgb_regr"
   ]
  },
  {
   "cell_type": "markdown",
   "id": "5eb54f47",
   "metadata": {},
   "source": [
    "### Baseline models\n",
    "\n",
    "The Baseline model is based on this information (check how to relate result) \n",
    "\n",
    "\n",
    "https://ndrrmc.gov.ph/attachments/article/1509/Component_4_Tropical_Cyclone_Severe_Wind_Technical_Report_-_Final_Draft_by_GA_and_PAGASA.pdf"
   ]
  },
  {
   "cell_type": "code",
   "execution_count": 74,
   "id": "8929f86e",
   "metadata": {},
   "outputs": [],
   "source": [
    "file_name = \"models/baseline/BASILE_MODEL.xlsx\"\n",
    "\n",
    "path = os.path.join(wor_dir, file_name)\n",
    "VUL_StrongRoof_StrongWall = pd.read_excel(path, sheet_name=\"C1_M\", engine=\"openpyxl\")  #DAM_Strong.Roof.Strong.Wall 80 \n",
    "VUL_StrongRoof_LightWall = pd.read_excel(path, sheet_name=\"CHB_L_W\", engine=\"openpyxl\") #DAM_Strong.Roof.Light.Wall 80 \n",
    "VUL_StrongRoof_SalvageWall = pd.read_excel(path, sheet_name=\"CWS_L_W\", engine=\"openpyxl\") #DAM_Strong.Roof.Salvage.Wall  80\n",
    "VUL_LightRoof_StrongWall = pd.read_excel(path, sheet_name=\"C1_L_S\", engine=\"openpyxl\") #DAM_Light.Roof.Strong.Wall 80\n",
    "VUL_LightRoof_LightWall = pd.read_excel(path, sheet_name=\"W1_L\", engine=\"openpyxl\") #DAM_Light.Roof.Light.Wall 80\n",
    "VUL_SalvagedRoof_LightWall = pd.read_excel(path, sheet_name=\"W3_L\", engine=\"openpyxl\")#DAM_Salvaged.Roof.Light.Wall 50\n",
    "VUL_SalvagedRoof_SalvageWall = pd.read_excel(path, sheet_name=\"N_L\", engine=\"openpyxl\")#DAM_Salvaged.Roof.Salvaged.Wall 80\n",
    "\n",
    "df_damagecurve=[VUL_StrongRoof_StrongWall,\n",
    "VUL_StrongRoof_LightWall ,\n",
    "VUL_StrongRoof_SalvageWall ,\n",
    "VUL_LightRoof_StrongWall ,\n",
    "VUL_LightRoof_LightWall,\n",
    "VUL_SalvagedRoof_LightWall ,\n",
    "VUL_SalvagedRoof_SalvageWall ]\n",
    "\n",
    "vul_list=[\n",
    "    'VUL_StrongRoof_StrongWall',\n",
    "    'VUL_StrongRoof_LightWall' ,\n",
    "    'VUL_StrongRoof_SalvageWall' ,\n",
    "    'VUL_LightRoof_StrongWall' ,\n",
    "    'VUL_LightRoof_LightWall',\n",
    "    'VUL_SalvagedRoof_LightWall' ,\n",
    "    'VUL_SalvagedRoof_SalvageWall' ]\n",
    "\n",
    "df_damagecurve=[df.rename(columns={\"Unnamed: 0\": \"damage_ratio\", \"Unnamed: 1\": \"wind_kmh\"}) for df in df_damagecurve]\n",
    "\n",
    "from sklearn.preprocessing import PolynomialFeatures\n",
    "poly_reg = PolynomialFeatures(degree=5)\n",
    "\n",
    "train = combined_input_data\n",
    "input_variable = \"HAZ_v_max\"\n",
    "x_train = 3.6*train[input_variable].values.reshape(-1, 1)\n",
    "y_train = 100*train[\"DAM_perc_dmg\"].values.reshape(-1, 1)\n",
    "\n",
    "\n",
    "train_dm={}\n",
    "train_dml=[]\n",
    "\n",
    "for j in range(len(df_damagecurve)):\n",
    "    train_ = df_damagecurve[j]\n",
    "    x_train1 = train_['wind_kmh'].values.reshape(-1, 1)\n",
    "    y_train1 = train_[\"damage_ratio\"].values.reshape(-1, 1)\n",
    "    model = LinearRegression()        \n",
    "    lr_fitted= model.fit(poly_reg.fit_transform(x_train1), y_train1) \n",
    "    y_pred_train =lr_fitted.predict(poly_reg.fit_transform(x_train))\n",
    "\n",
    "\n",
    "    y_pred_train =y_pred_train.flatten()* train[vul_list[j]].values\n",
    "    train_dm[j]=y_pred_train\n",
    "for value in (zip(*list(train_dm.values()))):\n",
    "       train_dml.append(sum(value))\n",
    "        \n",
    "train[\"predicted\"]=train_dml\n",
    "\n",
    "def wind_check(x):\n",
    "    v_max = x[0]  \n",
    "    damage = x[1]\n",
    "    if v_max < 22: ### remove prediction below windspeed 80km/h \n",
    "        value = 0\n",
    "    elif damage>100:\n",
    "        value = 100\n",
    "    else:\n",
    "        value = damage\n",
    "    return value\n",
    "\n",
    "df_predicted_damagecurve = pd.DataFrame({\"typhoon\": train[\"typhoon\"], \"actual\": train[\"DAM_perc_dmg\"].values} )\n",
    "\n",
    "df_predicted_damagecurve[\"predicted\"] = train[[\"predicted\",\"HAZ_v_max\"]].apply(wind_check, axis=\"columns\")\n",
    "\n",
    "file_name = \"models/output/v1/df_predicted_damagecurve.csv\"\n",
    "path = os.path.join(cdir, file_name)\n",
    "df_predicted_damagecurve.to_csv(path)"
   ]
  },
  {
   "cell_type": "code",
   "execution_count": 75,
   "id": "3ab03cdb",
   "metadata": {},
   "outputs": [
    {
     "data": {
      "text/html": [
       "<div>\n",
       "<style scoped>\n",
       "    .dataframe tbody tr th:only-of-type {\n",
       "        vertical-align: middle;\n",
       "    }\n",
       "\n",
       "    .dataframe tbody tr th {\n",
       "        vertical-align: top;\n",
       "    }\n",
       "\n",
       "    .dataframe thead th {\n",
       "        text-align: right;\n",
       "    }\n",
       "</style>\n",
       "<table border=\"1\" class=\"dataframe\">\n",
       "  <thead>\n",
       "    <tr style=\"text-align: right;\">\n",
       "      <th></th>\n",
       "      <th>typhoon</th>\n",
       "      <th>actual</th>\n",
       "      <th>predicted</th>\n",
       "    </tr>\n",
       "  </thead>\n",
       "  <tbody>\n",
       "    <tr>\n",
       "      <th>0</th>\n",
       "      <td>durian2006</td>\n",
       "      <td>3.632568</td>\n",
       "      <td>0.0</td>\n",
       "    </tr>\n",
       "    <tr>\n",
       "      <th>2</th>\n",
       "      <td>durian2006</td>\n",
       "      <td>0.000000</td>\n",
       "      <td>0.0</td>\n",
       "    </tr>\n",
       "    <tr>\n",
       "      <th>4</th>\n",
       "      <td>durian2006</td>\n",
       "      <td>0.000000</td>\n",
       "      <td>0.0</td>\n",
       "    </tr>\n",
       "    <tr>\n",
       "      <th>6</th>\n",
       "      <td>durian2006</td>\n",
       "      <td>0.000000</td>\n",
       "      <td>0.0</td>\n",
       "    </tr>\n",
       "    <tr>\n",
       "      <th>7</th>\n",
       "      <td>durian2006</td>\n",
       "      <td>0.000000</td>\n",
       "      <td>0.0</td>\n",
       "    </tr>\n",
       "    <tr>\n",
       "      <th>...</th>\n",
       "      <td>...</td>\n",
       "      <td>...</td>\n",
       "      <td>...</td>\n",
       "    </tr>\n",
       "    <tr>\n",
       "      <th>25835</th>\n",
       "      <td>noul2015</td>\n",
       "      <td>0.000000</td>\n",
       "      <td>0.0</td>\n",
       "    </tr>\n",
       "    <tr>\n",
       "      <th>25837</th>\n",
       "      <td>noul2015</td>\n",
       "      <td>0.000000</td>\n",
       "      <td>0.0</td>\n",
       "    </tr>\n",
       "    <tr>\n",
       "      <th>25838</th>\n",
       "      <td>noul2015</td>\n",
       "      <td>0.000000</td>\n",
       "      <td>0.0</td>\n",
       "    </tr>\n",
       "    <tr>\n",
       "      <th>25839</th>\n",
       "      <td>noul2015</td>\n",
       "      <td>0.000000</td>\n",
       "      <td>0.0</td>\n",
       "    </tr>\n",
       "    <tr>\n",
       "      <th>25841</th>\n",
       "      <td>noul2015</td>\n",
       "      <td>0.000000</td>\n",
       "      <td>0.0</td>\n",
       "    </tr>\n",
       "  </tbody>\n",
       "</table>\n",
       "<p>8073 rows × 3 columns</p>\n",
       "</div>"
      ],
      "text/plain": [
       "          typhoon    actual  predicted\n",
       "0      durian2006  3.632568        0.0\n",
       "2      durian2006  0.000000        0.0\n",
       "4      durian2006  0.000000        0.0\n",
       "6      durian2006  0.000000        0.0\n",
       "7      durian2006  0.000000        0.0\n",
       "...           ...       ...        ...\n",
       "25835    noul2015  0.000000        0.0\n",
       "25837    noul2015  0.000000        0.0\n",
       "25838    noul2015  0.000000        0.0\n",
       "25839    noul2015  0.000000        0.0\n",
       "25841    noul2015  0.000000        0.0\n",
       "\n",
       "[8073 rows x 3 columns]"
      ]
     },
     "execution_count": 75,
     "metadata": {},
     "output_type": "execute_result"
    }
   ],
   "source": [
    "df_predicted_damagecurve"
   ]
  },
  {
   "cell_type": "code",
   "execution_count": 72,
   "id": "4856aca4",
   "metadata": {},
   "outputs": [],
   "source": [
    "# Predict the average\n",
    "df_predicted_mean = pd.DataFrame(columns=[\"typhoon\", \"actual\", \"predicted\"])\n",
    "\n",
    "for i in range(len(df_train_list)):\n",
    "\n",
    "    train = df_train_list[i]\n",
    "    test = df_test_list[i]\n",
    "\n",
    "    y_train = train[\"DAM_perc_dmg\"]\n",
    "    y_test = test[\"DAM_perc_dmg\"]\n",
    "\n",
    "    y_test_pred = [np.mean(y_train)] * len(y_test)\n",
    "\n",
    "    df_predicted_temp = pd.DataFrame(\n",
    "        {\"typhoon\": test[\"typhoon\"], \"actual\": y_test, \"predicted\": y_test_pred}\n",
    "    )\n",
    "\n",
    "    df_predicted_mean = pd.concat([df_predicted_mean, df_predicted_temp])\n",
    "\n",
    "file_name = \"models/output/v1/df_predicted_mean.csv\"\n",
    "path = os.path.join(cdir, file_name)\n",
    "df_predicted_mean.to_csv(path)"
   ]
  },
  {
   "cell_type": "code",
   "execution_count": 73,
   "id": "60834879",
   "metadata": {},
   "outputs": [
    {
     "data": {
      "text/html": [
       "<div>\n",
       "<style scoped>\n",
       "    .dataframe tbody tr th:only-of-type {\n",
       "        vertical-align: middle;\n",
       "    }\n",
       "\n",
       "    .dataframe tbody tr th {\n",
       "        vertical-align: top;\n",
       "    }\n",
       "\n",
       "    .dataframe thead th {\n",
       "        text-align: right;\n",
       "    }\n",
       "</style>\n",
       "<table border=\"1\" class=\"dataframe\">\n",
       "  <thead>\n",
       "    <tr style=\"text-align: right;\">\n",
       "      <th></th>\n",
       "      <th>typhoon</th>\n",
       "      <th>actual</th>\n",
       "      <th>predicted</th>\n",
       "    </tr>\n",
       "  </thead>\n",
       "  <tbody>\n",
       "    <tr>\n",
       "      <th>1925</th>\n",
       "      <td>bopha2012</td>\n",
       "      <td>0.000000</td>\n",
       "      <td>2.527205</td>\n",
       "    </tr>\n",
       "    <tr>\n",
       "      <th>1927</th>\n",
       "      <td>bopha2012</td>\n",
       "      <td>0.000000</td>\n",
       "      <td>2.527205</td>\n",
       "    </tr>\n",
       "    <tr>\n",
       "      <th>1928</th>\n",
       "      <td>bopha2012</td>\n",
       "      <td>0.000000</td>\n",
       "      <td>2.527205</td>\n",
       "    </tr>\n",
       "    <tr>\n",
       "      <th>1929</th>\n",
       "      <td>bopha2012</td>\n",
       "      <td>0.000000</td>\n",
       "      <td>2.527205</td>\n",
       "    </tr>\n",
       "    <tr>\n",
       "      <th>1930</th>\n",
       "      <td>bopha2012</td>\n",
       "      <td>0.000000</td>\n",
       "      <td>2.527205</td>\n",
       "    </tr>\n",
       "    <tr>\n",
       "      <th>...</th>\n",
       "      <td>...</td>\n",
       "      <td>...</td>\n",
       "      <td>...</td>\n",
       "    </tr>\n",
       "    <tr>\n",
       "      <th>24605</th>\n",
       "      <td>yutu2018</td>\n",
       "      <td>0.000000</td>\n",
       "      <td>2.501063</td>\n",
       "    </tr>\n",
       "    <tr>\n",
       "      <th>24613</th>\n",
       "      <td>yutu2018</td>\n",
       "      <td>0.000000</td>\n",
       "      <td>2.501063</td>\n",
       "    </tr>\n",
       "    <tr>\n",
       "      <th>24617</th>\n",
       "      <td>yutu2018</td>\n",
       "      <td>0.000000</td>\n",
       "      <td>2.501063</td>\n",
       "    </tr>\n",
       "    <tr>\n",
       "      <th>24619</th>\n",
       "      <td>yutu2018</td>\n",
       "      <td>0.247804</td>\n",
       "      <td>2.501063</td>\n",
       "    </tr>\n",
       "    <tr>\n",
       "      <th>24622</th>\n",
       "      <td>yutu2018</td>\n",
       "      <td>0.000000</td>\n",
       "      <td>2.501063</td>\n",
       "    </tr>\n",
       "  </tbody>\n",
       "</table>\n",
       "<p>8073 rows × 3 columns</p>\n",
       "</div>"
      ],
      "text/plain": [
       "         typhoon    actual  predicted\n",
       "1925   bopha2012  0.000000   2.527205\n",
       "1927   bopha2012  0.000000   2.527205\n",
       "1928   bopha2012  0.000000   2.527205\n",
       "1929   bopha2012  0.000000   2.527205\n",
       "1930   bopha2012  0.000000   2.527205\n",
       "...          ...       ...        ...\n",
       "24605   yutu2018  0.000000   2.501063\n",
       "24613   yutu2018  0.000000   2.501063\n",
       "24617   yutu2018  0.000000   2.501063\n",
       "24619   yutu2018  0.247804   2.501063\n",
       "24622   yutu2018  0.000000   2.501063\n",
       "\n",
       "[8073 rows x 3 columns]"
      ]
     },
     "execution_count": 73,
     "metadata": {},
     "output_type": "execute_result"
    }
   ],
   "source": [
    "df_predicted_mean"
   ]
  },
  {
   "cell_type": "code",
   "execution_count": 70,
   "id": "8ea26a12",
   "metadata": {},
   "outputs": [],
   "source": [
    "# Simle Linear Regression with Wind Speed\n",
    "input_variable = \"HAZ_v_max\"\n",
    "df_predicted_lr = pd.DataFrame(columns=[\"typhoon\", \"actual\", \"predicted\"])\n",
    "\n",
    "for i in range(len(df_train_list)):\n",
    "\n",
    "    train = df_train_list[i]\n",
    "    test = df_test_list[i]\n",
    "\n",
    "    x_train = train[input_variable].values.reshape(-1, 1)\n",
    "    y_train = train[\"DAM_perc_dmg\"].values.reshape(-1, 1)\n",
    "\n",
    "    x_test = test[input_variable].values.reshape(-1, 1)\n",
    "    y_test = test[\"DAM_perc_dmg\"]\n",
    "\n",
    "    model = LinearRegression()\n",
    "    lr_fitted = model.fit(x_train, y_train)\n",
    "\n",
    "    y_pred_train = lr_fitted.predict(x_train)\n",
    "    y_pred_test = lr_fitted.predict(x_test)\n",
    "    y_pred_test = y_pred_test.tolist()\n",
    "    y_pred_test = [val for sublist in y_pred_test for val in sublist]\n",
    "\n",
    "    df_predicted_temp = pd.DataFrame(\n",
    "        {\"typhoon\": test[\"typhoon\"], \"actual\": y_test, \"predicted\": y_pred_test}\n",
    "    )\n",
    "\n",
    "    df_predicted_lr = pd.concat([df_predicted_lr, df_predicted_temp])\n",
    "    \n",
    "file_name = \"models/output/v1/df_predicted_lr.csv\"\n",
    "path = os.path.join(cdir, file_name)\n",
    "df_predicted_lr.to_csv(path)"
   ]
  },
  {
   "cell_type": "code",
   "execution_count": 71,
   "id": "2ee401b9",
   "metadata": {},
   "outputs": [
    {
     "data": {
      "text/html": [
       "<div>\n",
       "<style scoped>\n",
       "    .dataframe tbody tr th:only-of-type {\n",
       "        vertical-align: middle;\n",
       "    }\n",
       "\n",
       "    .dataframe tbody tr th {\n",
       "        vertical-align: top;\n",
       "    }\n",
       "\n",
       "    .dataframe thead th {\n",
       "        text-align: right;\n",
       "    }\n",
       "</style>\n",
       "<table border=\"1\" class=\"dataframe\">\n",
       "  <thead>\n",
       "    <tr style=\"text-align: right;\">\n",
       "      <th></th>\n",
       "      <th>typhoon</th>\n",
       "      <th>actual</th>\n",
       "      <th>predicted</th>\n",
       "    </tr>\n",
       "  </thead>\n",
       "  <tbody>\n",
       "    <tr>\n",
       "      <th>1925</th>\n",
       "      <td>bopha2012</td>\n",
       "      <td>0.000000</td>\n",
       "      <td>-0.424228</td>\n",
       "    </tr>\n",
       "    <tr>\n",
       "      <th>1927</th>\n",
       "      <td>bopha2012</td>\n",
       "      <td>0.000000</td>\n",
       "      <td>0.625034</td>\n",
       "    </tr>\n",
       "    <tr>\n",
       "      <th>1928</th>\n",
       "      <td>bopha2012</td>\n",
       "      <td>0.000000</td>\n",
       "      <td>-3.101625</td>\n",
       "    </tr>\n",
       "    <tr>\n",
       "      <th>1929</th>\n",
       "      <td>bopha2012</td>\n",
       "      <td>0.000000</td>\n",
       "      <td>1.309613</td>\n",
       "    </tr>\n",
       "    <tr>\n",
       "      <th>1930</th>\n",
       "      <td>bopha2012</td>\n",
       "      <td>0.000000</td>\n",
       "      <td>0.715445</td>\n",
       "    </tr>\n",
       "    <tr>\n",
       "      <th>...</th>\n",
       "      <td>...</td>\n",
       "      <td>...</td>\n",
       "      <td>...</td>\n",
       "    </tr>\n",
       "    <tr>\n",
       "      <th>24605</th>\n",
       "      <td>yutu2018</td>\n",
       "      <td>0.000000</td>\n",
       "      <td>-0.312999</td>\n",
       "    </tr>\n",
       "    <tr>\n",
       "      <th>24613</th>\n",
       "      <td>yutu2018</td>\n",
       "      <td>0.000000</td>\n",
       "      <td>-0.805677</td>\n",
       "    </tr>\n",
       "    <tr>\n",
       "      <th>24617</th>\n",
       "      <td>yutu2018</td>\n",
       "      <td>0.000000</td>\n",
       "      <td>-1.435063</td>\n",
       "    </tr>\n",
       "    <tr>\n",
       "      <th>24619</th>\n",
       "      <td>yutu2018</td>\n",
       "      <td>0.247804</td>\n",
       "      <td>6.050320</td>\n",
       "    </tr>\n",
       "    <tr>\n",
       "      <th>24622</th>\n",
       "      <td>yutu2018</td>\n",
       "      <td>0.000000</td>\n",
       "      <td>-0.832602</td>\n",
       "    </tr>\n",
       "  </tbody>\n",
       "</table>\n",
       "<p>8073 rows × 3 columns</p>\n",
       "</div>"
      ],
      "text/plain": [
       "         typhoon    actual  predicted\n",
       "1925   bopha2012  0.000000  -0.424228\n",
       "1927   bopha2012  0.000000   0.625034\n",
       "1928   bopha2012  0.000000  -3.101625\n",
       "1929   bopha2012  0.000000   1.309613\n",
       "1930   bopha2012  0.000000   0.715445\n",
       "...          ...       ...        ...\n",
       "24605   yutu2018  0.000000  -0.312999\n",
       "24613   yutu2018  0.000000  -0.805677\n",
       "24617   yutu2018  0.000000  -1.435063\n",
       "24619   yutu2018  0.247804   6.050320\n",
       "24622   yutu2018  0.000000  -0.832602\n",
       "\n",
       "[8073 rows x 3 columns]"
      ]
     },
     "execution_count": 71,
     "metadata": {},
     "output_type": "execute_result"
    }
   ],
   "source": [
    "df_predicted_lr"
   ]
  },
  {
   "cell_type": "markdown",
   "id": "365a68e8",
   "metadata": {},
   "source": [
    "### Training the optimal model"
   ]
  },
  {
   "cell_type": "code",
   "execution_count": 444,
   "id": "80dc46f7",
   "metadata": {},
   "outputs": [
    {
     "name": "stderr",
     "output_type": "stream",
     "text": [
      "C:\\Users\\ATEKLE~1\\AppData\\Local\\Temp/ipykernel_27196/2912949275.py:18: ResourceWarning: unclosed file <_io.BufferedWriter name='C:\\\\Users\\\\ATeklesadik\\\\OneDrive - Rode Kruis\\\\Documents\\\\documents\\\\Typhoon-Impact-based-forecasting-model\\\\IBF-typhoon-model\\\\models\\\\saved_models\\\\trained_regr_rf.sav'>\n",
      "  pickle.dump(rf_fitted, open(path, \"wb\"))\n",
      "ResourceWarning: Enable tracemalloc to get the object allocation traceback\n"
     ]
    }
   ],
   "source": [
    "rf = RandomForestRegressor(max_depth=18,\n",
    "                           min_samples_leaf=5, \n",
    "                           min_samples_split=8, \n",
    "                           n_estimators=250,)\n",
    "\n",
    "\n",
    "#Selected_Parameters={'rf__max_depth': 22, \n",
    "# 'rf__min_samples_leaf': 3,\n",
    "# 'rf__min_samples_split': 2,\n",
    "# 'rf__n_estimators': 100}\n",
    "\n",
    "\n",
    "\n",
    "rf_fitted = rf.fit(X, y)\n",
    "\n",
    "file_name = \"models/saved_models/trained_regr_rf.sav\"\n",
    "path = os.path.join(wor_dir, file_name)\n",
    "pickle.dump(rf_fitted, open(path, \"wb\"))"
   ]
  },
  {
   "cell_type": "code",
   "execution_count": 445,
   "id": "d7e28431",
   "metadata": {},
   "outputs": [
    {
     "name": "stderr",
     "output_type": "stream",
     "text": [
      "C:\\Users\\ATEKLE~1\\AppData\\Local\\Temp/ipykernel_27196/1591229010.py:2: ResourceWarning: unclosed file <_io.BufferedReader name='C:\\\\Users\\\\ATeklesadik\\\\OneDrive - Rode Kruis\\\\Documents\\\\documents\\\\Typhoon-Impact-based-forecasting-model\\\\IBF-typhoon-model\\\\models\\\\saved_models\\\\trained_regr_rf.sav'>\n",
      "  rf_model_loaded = pickle.load(open(path, \"rb\"))\n",
      "ResourceWarning: Enable tracemalloc to get the object allocation traceback\n"
     ]
    }
   ],
   "source": [
    "# load\n",
    "rf_model_loaded = pickle.load(open(path, \"rb\"))"
   ]
  },
  {
   "cell_type": "code",
   "execution_count": 446,
   "id": "28b85149",
   "metadata": {},
   "outputs": [
    {
     "data": {
      "image/png": "[encoded data removed]",
      "text/plain": [
       "<Figure size 1800x720 with 1 Axes>"
      ]
     },
     "metadata": {
      "needs_background": "light"
     },
     "output_type": "display_data"
    },
    {
     "data": {
      "text/plain": [
       "2.5560112861742557"
      ]
     },
     "execution_count": 446,
     "metadata": {},
     "output_type": "execute_result"
    }
   ],
   "source": [
    "df_f=pd.DataFrame()\n",
    "df_f['y2']=rf_model_loaded.predict(X)\n",
    "df_f['y']=y.values\n",
    "x = df_f['y2']\n",
    "y = df_f['y']\n",
    "\n",
    "from sklearn.metrics import mean_absolute_error\n",
    "plt.scatter(x, y)\n",
    "\n",
    "z = np.polyfit(x, y, 1)\n",
    "p = np.poly1d(z)\n",
    "plt.plot(x,p(x),\"r--\")\n",
    "plt.show()\n",
    "mean_absolute_error(x, y)"
   ]
  },
  {
   "cell_type": "code",
   "execution_count": null,
   "id": "525f8fbd",
   "metadata": {},
   "outputs": [],
   "source": [
    "## XGboost "
   ]
  },
  {
   "cell_type": "code",
   "execution_count": 447,
   "id": "0c3c094a",
   "metadata": {},
   "outputs": [
    {
     "name": "stderr",
     "output_type": "stream",
     "text": [
      "C:\\Users\\ATEKLE~1\\AppData\\Local\\Temp/ipykernel_27196/573272359.py:16: ResourceWarning: unclosed file <_io.BufferedWriter name='C:\\\\Users\\\\ATeklesadik\\\\OneDrive - Rode Kruis\\\\Documents\\\\documents\\\\Typhoon-Impact-based-forecasting-model\\\\IBF-typhoon-model\\\\models\\\\saved_models\\\\trained_regr_xg.sav'>\n",
      "  pickle.dump(xg_fitted, open(path, \"wb\"))\n",
      "ResourceWarning: Enable tracemalloc to get the object allocation traceback\n"
     ]
    }
   ],
   "source": [
    "# create an xgboost regression model\n",
    "xg = XGBRegressor(eta=0.004,\n",
    "                gamma=0.1,\n",
    "                learning_rate= 0.03,\n",
    "                max_depth= 8,\n",
    "                min_child_weight=3,\n",
    "                alpha= 20,\n",
    "                n_estimators=50,\n",
    "                subsample=0.7,\n",
    "                colsample_bytree=0.7)\n",
    "\n",
    "xg_fitted = xg.fit(X, y)\n",
    "\n",
    "file_name = \"models/saved_models/trained_regr_xg.sav\"\n",
    "path = os.path.join(wor_dir, file_name)\n",
    "pickle.dump(xg_fitted, open(path, \"wb\"))  \n"
   ]
  },
  {
   "cell_type": "markdown",
   "id": "2a5f4670",
   "metadata": {},
   "source": [
    "### load model "
   ]
  },
  {
   "cell_type": "code",
   "execution_count": 448,
   "id": "2f32c777",
   "metadata": {},
   "outputs": [
    {
     "name": "stderr",
     "output_type": "stream",
     "text": [
      "C:\\Users\\ATEKLE~1\\AppData\\Local\\Temp/ipykernel_27196/3317275933.py:2: ResourceWarning: unclosed file <_io.BufferedReader name='C:\\\\Users\\\\ATeklesadik\\\\OneDrive - Rode Kruis\\\\Documents\\\\documents\\\\Typhoon-Impact-based-forecasting-model\\\\IBF-typhoon-model\\\\models\\\\saved_models\\\\trained_regr_xg.sav'>\n",
      "  xgb_model_loaded = pickle.load(open(path, \"rb\"))\n",
      "ResourceWarning: Enable tracemalloc to get the object allocation traceback\n"
     ]
    }
   ],
   "source": [
    "\n",
    "# load\n",
    "xgb_model_loaded = pickle.load(open(path, \"rb\"))"
   ]
  },
  {
   "cell_type": "code",
   "execution_count": 449,
   "id": "ad08990e",
   "metadata": {},
   "outputs": [
    {
     "name": "stderr",
     "output_type": "stream",
     "text": [
      "C:\\Users\\ATeklesadik\\Miniconda3\\envs\\geo_env\\lib\\site-packages\\xgboost\\data.py:112: UserWarning: Use subset (sliced data) of np.ndarray is not recommended because it will generate extra copies and increase memory consumption\n",
      "  warnings.warn(\n"
     ]
    },
    {
     "data": {
      "image/png": "[encoded data removed]",
      "text/plain": [
       "<Figure size 1800x720 with 1 Axes>"
      ]
     },
     "metadata": {
      "needs_background": "light"
     },
     "output_type": "display_data"
    },
    {
     "data": {
      "text/plain": [
       "3.018205672812931"
      ]
     },
     "execution_count": 449,
     "metadata": {},
     "output_type": "execute_result"
    }
   ],
   "source": [
    "df_f=pd.DataFrame()\n",
    "df_f['y2']=xgb_model_loaded.predict(X)\n",
    "df_f['y']=y.values\n",
    "x = df_f['y2']\n",
    "y = df_f['y']\n",
    "\n",
    "from sklearn.metrics import mean_absolute_error\n",
    "plt.scatter(x, y)\n",
    "\n",
    "z = np.polyfit(x, y, 1)\n",
    "p = np.poly1d(z)\n",
    "plt.plot(x,p(x),\"r--\")\n",
    "plt.show()\n",
    "mean_absolute_error(x, y)"
   ]
  },
  {
   "cell_type": "markdown",
   "id": "043ebc73",
   "metadata": {},
   "source": [
    "### Extra information on model parameter Tunning "
   ]
  },
  {
   "cell_type": "code",
   "execution_count": 410,
   "id": "b61a6010",
   "metadata": {},
   "outputs": [
    {
     "data": {
      "text/plain": [
       "<AxesSubplot:>"
      ]
     },
     "execution_count": 410,
     "metadata": {},
     "output_type": "execute_result"
    },
    {
     "data": {
      "image/png": "[encoded data removed]",
      "text/plain": [
       "<Figure size 864x288 with 1 Axes>"
      ]
     },
     "metadata": {
      "needs_background": "light"
     },
     "output_type": "display_data"
    }
   ],
   "source": [
    "# fit a final xgboost model on the housing dataset and make a prediction\n",
    "from numpy import asarray\n",
    "from pandas import read_csv\n",
    "from xgboost import XGBRegressor\n",
    "from sklearn.model_selection import train_test_split\n",
    "import numpy\n",
    "\n",
    "        \n",
    "data_dmatrix = xgb.DMatrix(data=X,label=y)\n",
    "\n",
    "\n",
    "\n",
    "cv_results = xgb.cv(dtrain=data_dmatrix,\n",
    "                    params=params,\n",
    "                    nfold=5,\n",
    "                    num_boost_round=50,\n",
    "                    #early_stopping_rounds=10,\n",
    "                    metrics=\"mae\",\n",
    "                    as_pandas=True,\n",
    "                    seed=123)\n",
    "\n",
    " \n",
    "cv_results['id']=cv_results.index\n",
    "df=cv_results.filter(['train-mae-mean','test-mae-mean'])\n",
    "fig, axs = plt.subplots(figsize=(12, 4))\n",
    "\n",
    "df.plot.line(ax=axs)"
   ]
  },
  {
   "cell_type": "code",
   "execution_count": 411,
   "id": "b95bb331",
   "metadata": {},
   "outputs": [
    {
     "data": {
      "text/html": [
       "<div>\n",
       "<style scoped>\n",
       "    .dataframe tbody tr th:only-of-type {\n",
       "        vertical-align: middle;\n",
       "    }\n",
       "\n",
       "    .dataframe tbody tr th {\n",
       "        vertical-align: top;\n",
       "    }\n",
       "\n",
       "    .dataframe thead th {\n",
       "        text-align: right;\n",
       "    }\n",
       "</style>\n",
       "<table border=\"1\" class=\"dataframe\">\n",
       "  <thead>\n",
       "    <tr style=\"text-align: right;\">\n",
       "      <th></th>\n",
       "      <th>train-mae-mean</th>\n",
       "      <th>test-mae-mean</th>\n",
       "    </tr>\n",
       "  </thead>\n",
       "  <tbody>\n",
       "    <tr>\n",
       "      <th>0</th>\n",
       "      <td>5.279998</td>\n",
       "      <td>5.292797</td>\n",
       "    </tr>\n",
       "    <tr>\n",
       "      <th>1</th>\n",
       "      <td>5.173980</td>\n",
       "      <td>5.202274</td>\n",
       "    </tr>\n",
       "    <tr>\n",
       "      <th>2</th>\n",
       "      <td>5.084126</td>\n",
       "      <td>5.123594</td>\n",
       "    </tr>\n",
       "    <tr>\n",
       "      <th>3</th>\n",
       "      <td>4.988893</td>\n",
       "      <td>5.048012</td>\n",
       "    </tr>\n",
       "    <tr>\n",
       "      <th>4</th>\n",
       "      <td>4.900338</td>\n",
       "      <td>4.977403</td>\n",
       "    </tr>\n",
       "    <tr>\n",
       "      <th>5</th>\n",
       "      <td>4.809921</td>\n",
       "      <td>4.906150</td>\n",
       "    </tr>\n",
       "    <tr>\n",
       "      <th>6</th>\n",
       "      <td>4.723523</td>\n",
       "      <td>4.837747</td>\n",
       "    </tr>\n",
       "    <tr>\n",
       "      <th>7</th>\n",
       "      <td>4.640562</td>\n",
       "      <td>4.777812</td>\n",
       "    </tr>\n",
       "    <tr>\n",
       "      <th>8</th>\n",
       "      <td>4.578064</td>\n",
       "      <td>4.739257</td>\n",
       "    </tr>\n",
       "    <tr>\n",
       "      <th>9</th>\n",
       "      <td>4.503392</td>\n",
       "      <td>4.683845</td>\n",
       "    </tr>\n",
       "    <tr>\n",
       "      <th>10</th>\n",
       "      <td>4.429930</td>\n",
       "      <td>4.631341</td>\n",
       "    </tr>\n",
       "    <tr>\n",
       "      <th>11</th>\n",
       "      <td>4.364936</td>\n",
       "      <td>4.586004</td>\n",
       "    </tr>\n",
       "    <tr>\n",
       "      <th>12</th>\n",
       "      <td>4.296104</td>\n",
       "      <td>4.540831</td>\n",
       "    </tr>\n",
       "    <tr>\n",
       "      <th>13</th>\n",
       "      <td>4.238832</td>\n",
       "      <td>4.506057</td>\n",
       "    </tr>\n",
       "    <tr>\n",
       "      <th>14</th>\n",
       "      <td>4.173817</td>\n",
       "      <td>4.462848</td>\n",
       "    </tr>\n",
       "    <tr>\n",
       "      <th>15</th>\n",
       "      <td>4.111148</td>\n",
       "      <td>4.425447</td>\n",
       "    </tr>\n",
       "    <tr>\n",
       "      <th>16</th>\n",
       "      <td>4.051568</td>\n",
       "      <td>4.391784</td>\n",
       "    </tr>\n",
       "    <tr>\n",
       "      <th>17</th>\n",
       "      <td>3.993165</td>\n",
       "      <td>4.356655</td>\n",
       "    </tr>\n",
       "    <tr>\n",
       "      <th>18</th>\n",
       "      <td>3.936553</td>\n",
       "      <td>4.320778</td>\n",
       "    </tr>\n",
       "    <tr>\n",
       "      <th>19</th>\n",
       "      <td>3.884589</td>\n",
       "      <td>4.295186</td>\n",
       "    </tr>\n",
       "    <tr>\n",
       "      <th>20</th>\n",
       "      <td>3.832112</td>\n",
       "      <td>4.262831</td>\n",
       "    </tr>\n",
       "    <tr>\n",
       "      <th>21</th>\n",
       "      <td>3.782109</td>\n",
       "      <td>4.233245</td>\n",
       "    </tr>\n",
       "    <tr>\n",
       "      <th>22</th>\n",
       "      <td>3.733131</td>\n",
       "      <td>4.204892</td>\n",
       "    </tr>\n",
       "    <tr>\n",
       "      <th>23</th>\n",
       "      <td>3.684723</td>\n",
       "      <td>4.178835</td>\n",
       "    </tr>\n",
       "    <tr>\n",
       "      <th>24</th>\n",
       "      <td>3.638702</td>\n",
       "      <td>4.157296</td>\n",
       "    </tr>\n",
       "    <tr>\n",
       "      <th>25</th>\n",
       "      <td>3.599566</td>\n",
       "      <td>4.137387</td>\n",
       "    </tr>\n",
       "    <tr>\n",
       "      <th>26</th>\n",
       "      <td>3.555682</td>\n",
       "      <td>4.113289</td>\n",
       "    </tr>\n",
       "    <tr>\n",
       "      <th>27</th>\n",
       "      <td>3.512479</td>\n",
       "      <td>4.088927</td>\n",
       "    </tr>\n",
       "    <tr>\n",
       "      <th>28</th>\n",
       "      <td>3.473589</td>\n",
       "      <td>4.069352</td>\n",
       "    </tr>\n",
       "    <tr>\n",
       "      <th>29</th>\n",
       "      <td>3.434982</td>\n",
       "      <td>4.050592</td>\n",
       "    </tr>\n",
       "    <tr>\n",
       "      <th>30</th>\n",
       "      <td>3.397318</td>\n",
       "      <td>4.031289</td>\n",
       "    </tr>\n",
       "    <tr>\n",
       "      <th>31</th>\n",
       "      <td>3.360751</td>\n",
       "      <td>4.015506</td>\n",
       "    </tr>\n",
       "    <tr>\n",
       "      <th>32</th>\n",
       "      <td>3.324119</td>\n",
       "      <td>3.998579</td>\n",
       "    </tr>\n",
       "    <tr>\n",
       "      <th>33</th>\n",
       "      <td>3.293465</td>\n",
       "      <td>3.987153</td>\n",
       "    </tr>\n",
       "    <tr>\n",
       "      <th>34</th>\n",
       "      <td>3.258642</td>\n",
       "      <td>3.970264</td>\n",
       "    </tr>\n",
       "    <tr>\n",
       "      <th>35</th>\n",
       "      <td>3.224422</td>\n",
       "      <td>3.954361</td>\n",
       "    </tr>\n",
       "    <tr>\n",
       "      <th>36</th>\n",
       "      <td>3.193822</td>\n",
       "      <td>3.944536</td>\n",
       "    </tr>\n",
       "    <tr>\n",
       "      <th>37</th>\n",
       "      <td>3.166649</td>\n",
       "      <td>3.935976</td>\n",
       "    </tr>\n",
       "    <tr>\n",
       "      <th>38</th>\n",
       "      <td>3.136932</td>\n",
       "      <td>3.924938</td>\n",
       "    </tr>\n",
       "    <tr>\n",
       "      <th>39</th>\n",
       "      <td>3.109941</td>\n",
       "      <td>3.917915</td>\n",
       "    </tr>\n",
       "    <tr>\n",
       "      <th>40</th>\n",
       "      <td>3.079642</td>\n",
       "      <td>3.904791</td>\n",
       "    </tr>\n",
       "    <tr>\n",
       "      <th>41</th>\n",
       "      <td>3.049632</td>\n",
       "      <td>3.897498</td>\n",
       "    </tr>\n",
       "    <tr>\n",
       "      <th>42</th>\n",
       "      <td>3.021132</td>\n",
       "      <td>3.888090</td>\n",
       "    </tr>\n",
       "    <tr>\n",
       "      <th>43</th>\n",
       "      <td>2.994289</td>\n",
       "      <td>3.877867</td>\n",
       "    </tr>\n",
       "    <tr>\n",
       "      <th>44</th>\n",
       "      <td>2.967311</td>\n",
       "      <td>3.868974</td>\n",
       "    </tr>\n",
       "    <tr>\n",
       "      <th>45</th>\n",
       "      <td>2.941785</td>\n",
       "      <td>3.862609</td>\n",
       "    </tr>\n",
       "    <tr>\n",
       "      <th>46</th>\n",
       "      <td>2.918316</td>\n",
       "      <td>3.854672</td>\n",
       "    </tr>\n",
       "    <tr>\n",
       "      <th>47</th>\n",
       "      <td>2.894665</td>\n",
       "      <td>3.848679</td>\n",
       "    </tr>\n",
       "    <tr>\n",
       "      <th>48</th>\n",
       "      <td>2.869123</td>\n",
       "      <td>3.841335</td>\n",
       "    </tr>\n",
       "    <tr>\n",
       "      <th>49</th>\n",
       "      <td>2.844954</td>\n",
       "      <td>3.832124</td>\n",
       "    </tr>\n",
       "  </tbody>\n",
       "</table>\n",
       "</div>"
      ],
      "text/plain": [
       "    train-mae-mean  test-mae-mean\n",
       "0         5.279998       5.292797\n",
       "1         5.173980       5.202274\n",
       "2         5.084126       5.123594\n",
       "3         4.988893       5.048012\n",
       "4         4.900338       4.977403\n",
       "5         4.809921       4.906150\n",
       "6         4.723523       4.837747\n",
       "7         4.640562       4.777812\n",
       "8         4.578064       4.739257\n",
       "9         4.503392       4.683845\n",
       "10        4.429930       4.631341\n",
       "11        4.364936       4.586004\n",
       "12        4.296104       4.540831\n",
       "13        4.238832       4.506057\n",
       "14        4.173817       4.462848\n",
       "15        4.111148       4.425447\n",
       "16        4.051568       4.391784\n",
       "17        3.993165       4.356655\n",
       "18        3.936553       4.320778\n",
       "19        3.884589       4.295186\n",
       "20        3.832112       4.262831\n",
       "21        3.782109       4.233245\n",
       "22        3.733131       4.204892\n",
       "23        3.684723       4.178835\n",
       "24        3.638702       4.157296\n",
       "25        3.599566       4.137387\n",
       "26        3.555682       4.113289\n",
       "27        3.512479       4.088927\n",
       "28        3.473589       4.069352\n",
       "29        3.434982       4.050592\n",
       "30        3.397318       4.031289\n",
       "31        3.360751       4.015506\n",
       "32        3.324119       3.998579\n",
       "33        3.293465       3.987153\n",
       "34        3.258642       3.970264\n",
       "35        3.224422       3.954361\n",
       "36        3.193822       3.944536\n",
       "37        3.166649       3.935976\n",
       "38        3.136932       3.924938\n",
       "39        3.109941       3.917915\n",
       "40        3.079642       3.904791\n",
       "41        3.049632       3.897498\n",
       "42        3.021132       3.888090\n",
       "43        2.994289       3.877867\n",
       "44        2.967311       3.868974\n",
       "45        2.941785       3.862609\n",
       "46        2.918316       3.854672\n",
       "47        2.894665       3.848679\n",
       "48        2.869123       3.841335\n",
       "49        2.844954       3.832124"
      ]
     },
     "execution_count": 411,
     "metadata": {},
     "output_type": "execute_result"
    }
   ],
   "source": [
    "df"
   ]
  },
  {
   "cell_type": "code",
   "execution_count": 409,
   "id": "21bd231e",
   "metadata": {},
   "outputs": [
    {
     "data": {
      "text/plain": [
       "<AxesSubplot:title={'center':'Feature importance'}, xlabel='F score', ylabel='Features'>"
      ]
     },
     "execution_count": 409,
     "metadata": {},
     "output_type": "execute_result"
    },
    {
     "data": {
      "image/png": "[encoded data removed]",
      "text/plain": [
       "<Figure size 1800x720 with 1 Axes>"
      ]
     },
     "metadata": {
      "needs_background": "light"
     },
     "output_type": "display_data"
    }
   ],
   "source": [
    "xgb.plot_importance(model_xgb)\n",
    "#plt.rcParams['figure.figsize'] = [25, 10]\n",
    "#plt.show()"
   ]
  },
  {
   "cell_type": "code",
   "execution_count": null,
   "id": "88548c33",
   "metadata": {},
   "outputs": [],
   "source": []
  }
 ],
 "metadata": {
  "kernelspec": {
   "display_name": "Python 3 (ipykernel)",
   "language": "python",
   "name": "python3"
  },
  "language_info": {
   "codemirror_mode": {
    "name": "ipython",
    "version": 3
   },
   "file_extension": ".py",
   "mimetype": "text/x-python",
   "name": "python",
   "nbconvert_exporter": "python",
   "pygments_lexer": "ipython3",
   "version": "3.8.10"
  }
 },
 "nbformat": 4,
 "nbformat_minor": 5
}
